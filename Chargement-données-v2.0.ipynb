{
 "cells": [
  {
   "cell_type": "markdown",
   "metadata": {},
   "source": [
    "### *Localisation optimale des capacités de production éoliennes en Europe*"
   ]
  },
  {
   "cell_type": "markdown",
   "metadata": {
    "pycharm": {
     "name": "#%% md\n"
    }
   },
   "source": [
    "Notebook pour le  chargement des données du projet (partie I) -- version 1.2 (màj le 31/3/2020)"
   ]
  },
  {
   "cell_type": "code",
   "execution_count": 27,
   "metadata": {
    "pycharm": {
     "is_executing": false
    }
   },
   "outputs": [],
   "source": [
    "## imports classiques\n",
    "import numpy as np\n",
    "\n",
    "from cylp.cy import CyClpSimplex\n",
    "from cylp.py.modeling.CyLPModel import CyLPArray, CyLPModel\n",
    "\n",
    "import matplotlib.pyplot as plt\n",
    "import math \n",
    "import pandas as pd\n",
    "import plotly.graph_objects as go\n",
    "import matplotlib.colors as colors\n",
    "import random\n",
    "\n",
    "\n",
    "colors_list = list(colors._colors_full_map.values())\n",
    "random.shuffle(colors_list)\n",
    "\n",
    "%matplotlib notebook"
   ]
  },
  {
   "cell_type": "code",
   "execution_count": 28,
   "metadata": {
    "pycharm": {
     "is_executing": false
    }
   },
   "outputs": [],
   "source": [
    "## paramètres\n",
    "\n",
    "liste_pays = ['Allemagne','Autriche','Belgique','Danemark','Espagne','France','Irlande','Italie','Luxembourg',\\\n",
    "             'Norvège','Pays-Bas','Portugal','Royaume-Uni','Suède','Suisse']\n",
    "\n",
    "liste_pays_index_dic = {'Allemagne':0,'Autriche':1,'Belgique':2,'Danemark':3,'Espagne':4,'France':5,'Irlande':6,'Italie':7,'Luxembourg':8,\\\n",
    "             'Norvège':9,'Pays-Bas':10,'Portugal':11,'Royaume-Uni':12,'Suède':13,'Suisse':14}\n",
    "\n",
    "list_colors_dic = {'Allemagne':colors_list[0],'Autriche':colors_list[1],'Belgique':colors_list[2],'Danemark':colors_list[3],'Espagne':colors_list[4],\\\n",
    "                         'France':colors_list[5],'Irlande':colors_list[6],'Italie':colors_list[7],'Luxembourg':colors_list[8],\\\n",
    "             'Norvège':colors_list[9],'Pays-Bas':colors_list[10],'Portugal':colors_list[11],'Royaume-Uni':colors_list[12],'Suède':colors_list[13],'Suisse':colors_list[14]} \n",
    "\n",
    "TURB = np.array([8587 , 12009 , 1417 , 9 , 18372 , 25132 , 527 , 21117 , 1140 , 28941 , 37 , 5052 , 4269 , 16637 , 15101])\n",
    "POMP = np.array([5223 , 3580 , 1307 , 0 , 5347 , 4303 , 292 , 7544 , 1100 , 1396 , 0 , 1029 , 2744 , 45 , 1636 ])\n",
    "RES = np.array([0.3*1e6 , 3.2*1e6 , 0.01*1e6 , 0 , 18.4*1e6 , 9.8*1e6 , 0.24*1e6 , 7.9*1e6 , 0.005*1e6 , 84.147*1e6 , 0 , 2.6*1e6 , 1.2*1e6 , 33.756*1e6 , 8.4*1e6])\n",
    "\n",
    "N_pays = 15                  # plus petit ou égal à N_pays_max = 15\n",
    "N_sites = 642                # plus petit ou égal à sites_max = 642\n",
    "N_heures_par_annee = 24*365  # nombre d'heures par année\n",
    "N_annees = 1/12              # fraction de l'annee à utiliser ; prendre par exemple 1/12 pour tester sur un mois (calculs \n",
    "                             # plus rapides) ; dans le rapport il faut utiliser l'année complète N_annees = 1\n",
    "N_heures = int(np.ceil(N_heures_par_annee*N_annees)) # nombre d'heures à extraire des fichiers de rendements\n",
    "\n",
    "vecteur_temps = np.arange(1,N_heures+1) / N_heures_par_annee"
   ]
  },
  {
   "cell_type": "code",
   "execution_count": 29,
   "metadata": {
    "pycharm": {
     "is_executing": false
    },
    "scrolled": false
   },
   "outputs": [],
   "source": [
    "## chargement et traitement des données brutes (I)\n",
    " \n",
    "sites = pd.read_csv('Sites.csv')\n",
    "\n",
    "onshore = sites[sites['capacite offshore']=='Non'].copy()\n",
    "offshore = sites[sites['capacite offshore']=='Oui'].copy()"
   ]
  },
  {
   "cell_type": "code",
   "execution_count": 30,
   "metadata": {
    "pycharm": {
     "is_executing": false
    }
   },
   "outputs": [
    {
     "data": {
      "text/html": [
       "<div>\n",
       "<style scoped>\n",
       "    .dataframe tbody tr th:only-of-type {\n",
       "        vertical-align: middle;\n",
       "    }\n",
       "\n",
       "    .dataframe tbody tr th {\n",
       "        vertical-align: top;\n",
       "    }\n",
       "\n",
       "    .dataframe thead th {\n",
       "        text-align: right;\n",
       "    }\n",
       "</style>\n",
       "<table border=\"1\" class=\"dataframe\">\n",
       "  <thead>\n",
       "    <tr style=\"text-align: right;\">\n",
       "      <th></th>\n",
       "      <th>index site</th>\n",
       "      <th>latitude</th>\n",
       "      <th>longitude</th>\n",
       "      <th>pays</th>\n",
       "      <th>couleur</th>\n",
       "      <th>capacite offshore</th>\n",
       "      <th>scores</th>\n",
       "      <th>capacites</th>\n",
       "    </tr>\n",
       "  </thead>\n",
       "  <tbody>\n",
       "    <tr>\n",
       "      <td>0</td>\n",
       "      <td>1</td>\n",
       "      <td>54.0</td>\n",
       "      <td>8.0</td>\n",
       "      <td>Allemagne</td>\n",
       "      <td>#7b0323</td>\n",
       "      <td>Non</td>\n",
       "      <td>0.003291</td>\n",
       "      <td>7509.607003</td>\n",
       "    </tr>\n",
       "    <tr>\n",
       "      <td>1</td>\n",
       "      <td>2</td>\n",
       "      <td>54.0</td>\n",
       "      <td>9.0</td>\n",
       "      <td>Allemagne</td>\n",
       "      <td>#7b0323</td>\n",
       "      <td>Non</td>\n",
       "      <td>0.002193</td>\n",
       "      <td>5003.709632</td>\n",
       "    </tr>\n",
       "    <tr>\n",
       "      <td>2</td>\n",
       "      <td>3</td>\n",
       "      <td>54.0</td>\n",
       "      <td>10.0</td>\n",
       "      <td>Allemagne</td>\n",
       "      <td>#7b0323</td>\n",
       "      <td>Non</td>\n",
       "      <td>0.001852</td>\n",
       "      <td>4225.781588</td>\n",
       "    </tr>\n",
       "    <tr>\n",
       "      <td>3</td>\n",
       "      <td>4</td>\n",
       "      <td>54.0</td>\n",
       "      <td>11.0</td>\n",
       "      <td>Allemagne</td>\n",
       "      <td>#7b0323</td>\n",
       "      <td>Non</td>\n",
       "      <td>0.001852</td>\n",
       "      <td>4225.781588</td>\n",
       "    </tr>\n",
       "    <tr>\n",
       "      <td>4</td>\n",
       "      <td>5</td>\n",
       "      <td>54.0</td>\n",
       "      <td>12.0</td>\n",
       "      <td>Allemagne</td>\n",
       "      <td>#7b0323</td>\n",
       "      <td>Non</td>\n",
       "      <td>0.002193</td>\n",
       "      <td>5003.709632</td>\n",
       "    </tr>\n",
       "  </tbody>\n",
       "</table>\n",
       "</div>"
      ],
      "text/plain": [
       "   index site  latitude  longitude       pays  couleur capacite offshore  \\\n",
       "0           1      54.0        8.0  Allemagne  #7b0323               Non   \n",
       "1           2      54.0        9.0  Allemagne  #7b0323               Non   \n",
       "2           3      54.0       10.0  Allemagne  #7b0323               Non   \n",
       "3           4      54.0       11.0  Allemagne  #7b0323               Non   \n",
       "4           5      54.0       12.0  Allemagne  #7b0323               Non   \n",
       "\n",
       "     scores    capacites  \n",
       "0  0.003291  7509.607003  \n",
       "1  0.002193  5003.709632  \n",
       "2  0.001852  4225.781588  \n",
       "3  0.001852  4225.781588  \n",
       "4  0.002193  5003.709632  "
      ]
     },
     "execution_count": 30,
     "metadata": {},
     "output_type": "execute_result"
    }
   ],
   "source": [
    "sites.head()"
   ]
  },
  {
   "cell_type": "code",
   "execution_count": 31,
   "metadata": {},
   "outputs": [
    {
     "data": {
      "text/html": [
       "<div>\n",
       "<style scoped>\n",
       "    .dataframe tbody tr th:only-of-type {\n",
       "        vertical-align: middle;\n",
       "    }\n",
       "\n",
       "    .dataframe tbody tr th {\n",
       "        vertical-align: top;\n",
       "    }\n",
       "\n",
       "    .dataframe thead th {\n",
       "        text-align: right;\n",
       "    }\n",
       "</style>\n",
       "<table border=\"1\" class=\"dataframe\">\n",
       "  <thead>\n",
       "    <tr style=\"text-align: right;\">\n",
       "      <th></th>\n",
       "      <th>index site</th>\n",
       "      <th>latitude</th>\n",
       "      <th>longitude</th>\n",
       "      <th>pays</th>\n",
       "      <th>couleur</th>\n",
       "      <th>capacite offshore</th>\n",
       "      <th>scores</th>\n",
       "      <th>capacites</th>\n",
       "    </tr>\n",
       "  </thead>\n",
       "  <tbody>\n",
       "    <tr>\n",
       "      <td>0</td>\n",
       "      <td>1</td>\n",
       "      <td>54.0</td>\n",
       "      <td>8.0</td>\n",
       "      <td>Allemagne</td>\n",
       "      <td>#7b0323</td>\n",
       "      <td>Non</td>\n",
       "      <td>0.003291</td>\n",
       "      <td>7509.607003</td>\n",
       "    </tr>\n",
       "    <tr>\n",
       "      <td>1</td>\n",
       "      <td>2</td>\n",
       "      <td>54.0</td>\n",
       "      <td>9.0</td>\n",
       "      <td>Allemagne</td>\n",
       "      <td>#7b0323</td>\n",
       "      <td>Non</td>\n",
       "      <td>0.002193</td>\n",
       "      <td>5003.709632</td>\n",
       "    </tr>\n",
       "    <tr>\n",
       "      <td>2</td>\n",
       "      <td>3</td>\n",
       "      <td>54.0</td>\n",
       "      <td>10.0</td>\n",
       "      <td>Allemagne</td>\n",
       "      <td>#7b0323</td>\n",
       "      <td>Non</td>\n",
       "      <td>0.001852</td>\n",
       "      <td>4225.781588</td>\n",
       "    </tr>\n",
       "    <tr>\n",
       "      <td>3</td>\n",
       "      <td>4</td>\n",
       "      <td>54.0</td>\n",
       "      <td>11.0</td>\n",
       "      <td>Allemagne</td>\n",
       "      <td>#7b0323</td>\n",
       "      <td>Non</td>\n",
       "      <td>0.001852</td>\n",
       "      <td>4225.781588</td>\n",
       "    </tr>\n",
       "    <tr>\n",
       "      <td>4</td>\n",
       "      <td>5</td>\n",
       "      <td>54.0</td>\n",
       "      <td>12.0</td>\n",
       "      <td>Allemagne</td>\n",
       "      <td>#7b0323</td>\n",
       "      <td>Non</td>\n",
       "      <td>0.002193</td>\n",
       "      <td>5003.709632</td>\n",
       "    </tr>\n",
       "  </tbody>\n",
       "</table>\n",
       "</div>"
      ],
      "text/plain": [
       "   index site  latitude  longitude       pays  couleur capacite offshore  \\\n",
       "0           1      54.0        8.0  Allemagne  #7b0323               Non   \n",
       "1           2      54.0        9.0  Allemagne  #7b0323               Non   \n",
       "2           3      54.0       10.0  Allemagne  #7b0323               Non   \n",
       "3           4      54.0       11.0  Allemagne  #7b0323               Non   \n",
       "4           5      54.0       12.0  Allemagne  #7b0323               Non   \n",
       "\n",
       "     scores    capacites  \n",
       "0  0.003291  7509.607003  \n",
       "1  0.002193  5003.709632  \n",
       "2  0.001852  4225.781588  \n",
       "3  0.001852  4225.781588  \n",
       "4  0.002193  5003.709632  "
      ]
     },
     "execution_count": 31,
     "metadata": {},
     "output_type": "execute_result"
    }
   ],
   "source": [
    "onshore.head()"
   ]
  },
  {
   "cell_type": "code",
   "execution_count": 32,
   "metadata": {},
   "outputs": [
    {
     "data": {
      "text/html": [
       "<div>\n",
       "<style scoped>\n",
       "    .dataframe tbody tr th:only-of-type {\n",
       "        vertical-align: middle;\n",
       "    }\n",
       "\n",
       "    .dataframe tbody tr th {\n",
       "        vertical-align: top;\n",
       "    }\n",
       "\n",
       "    .dataframe thead th {\n",
       "        text-align: right;\n",
       "    }\n",
       "</style>\n",
       "<table border=\"1\" class=\"dataframe\">\n",
       "  <thead>\n",
       "    <tr style=\"text-align: right;\">\n",
       "      <th></th>\n",
       "      <th>index site</th>\n",
       "      <th>latitude</th>\n",
       "      <th>longitude</th>\n",
       "      <th>pays</th>\n",
       "      <th>couleur</th>\n",
       "      <th>capacite offshore</th>\n",
       "      <th>scores</th>\n",
       "      <th>capacites</th>\n",
       "    </tr>\n",
       "  </thead>\n",
       "  <tbody>\n",
       "    <tr>\n",
       "      <td>487</td>\n",
       "      <td>0</td>\n",
       "      <td>54.0</td>\n",
       "      <td>7.0</td>\n",
       "      <td>Allemagne</td>\n",
       "      <td>#7b0323</td>\n",
       "      <td>Oui</td>\n",
       "      <td>0.006342</td>\n",
       "      <td>8364.150000</td>\n",
       "    </tr>\n",
       "    <tr>\n",
       "      <td>488</td>\n",
       "      <td>48</td>\n",
       "      <td>56.0</td>\n",
       "      <td>5.0</td>\n",
       "      <td>Danemark</td>\n",
       "      <td>#A9A9A9</td>\n",
       "      <td>Oui</td>\n",
       "      <td>0.010571</td>\n",
       "      <td>15478.589744</td>\n",
       "    </tr>\n",
       "    <tr>\n",
       "      <td>489</td>\n",
       "      <td>49</td>\n",
       "      <td>55.0</td>\n",
       "      <td>6.0</td>\n",
       "      <td>Allemagne</td>\n",
       "      <td>#7b0323</td>\n",
       "      <td>Oui</td>\n",
       "      <td>0.010571</td>\n",
       "      <td>13940.250000</td>\n",
       "    </tr>\n",
       "    <tr>\n",
       "      <td>490</td>\n",
       "      <td>61</td>\n",
       "      <td>52.0</td>\n",
       "      <td>3.0</td>\n",
       "      <td>Pays-Bas</td>\n",
       "      <td>#04d8b2</td>\n",
       "      <td>Oui</td>\n",
       "      <td>0.006342</td>\n",
       "      <td>2349.264706</td>\n",
       "    </tr>\n",
       "    <tr>\n",
       "      <td>491</td>\n",
       "      <td>66</td>\n",
       "      <td>58.0</td>\n",
       "      <td>10.0</td>\n",
       "      <td>Suède</td>\n",
       "      <td>#758da3</td>\n",
       "      <td>Oui</td>\n",
       "      <td>0.006342</td>\n",
       "      <td>8577.125000</td>\n",
       "    </tr>\n",
       "  </tbody>\n",
       "</table>\n",
       "</div>"
      ],
      "text/plain": [
       "     index site  latitude  longitude       pays  couleur capacite offshore  \\\n",
       "487           0      54.0        7.0  Allemagne  #7b0323               Oui   \n",
       "488          48      56.0        5.0   Danemark  #A9A9A9               Oui   \n",
       "489          49      55.0        6.0  Allemagne  #7b0323               Oui   \n",
       "490          61      52.0        3.0   Pays-Bas  #04d8b2               Oui   \n",
       "491          66      58.0       10.0      Suède  #758da3               Oui   \n",
       "\n",
       "       scores     capacites  \n",
       "487  0.006342   8364.150000  \n",
       "488  0.010571  15478.589744  \n",
       "489  0.010571  13940.250000  \n",
       "490  0.006342   2349.264706  \n",
       "491  0.006342   8577.125000  "
      ]
     },
     "execution_count": 32,
     "metadata": {},
     "output_type": "execute_result"
    }
   ],
   "source": [
    "offshore.head()"
   ]
  },
  {
   "cell_type": "code",
   "execution_count": 33,
   "metadata": {
    "pycharm": {
     "is_executing": false
    }
   },
   "outputs": [
    {
     "data": {
      "text/plain": [
       "\"# Visualisations des données pour les sites \\n\\nfig = go.Figure(data=go.Scattergeo(\\n        lon = offshore['longitude'],\\n        lat = offshore['latitude'],\\n        text = offshore['pays'],\\n        mode = 'markers',\\n        marker=dict(\\n        color = offshore['couleur'],\\n        size = offshore['scores']*1000)\\n        ))\\n\\nfig.update_layout(\\n        title = 'Sites offshore, et leur importance',\\n        geo_scope = 'europe'\\n    )\\nfig.show();\""
      ]
     },
     "execution_count": 33,
     "metadata": {},
     "output_type": "execute_result"
    }
   ],
   "source": [
    "\"\"\"# Visualisations des données pour les sites \n",
    "\n",
    "fig = go.Figure(data=go.Scattergeo(\n",
    "        lon = offshore['longitude'],\n",
    "        lat = offshore['latitude'],\n",
    "        text = offshore['pays'],\n",
    "        mode = 'markers',\n",
    "        marker=dict(\n",
    "        color = offshore['couleur'],\n",
    "        size = offshore['scores']*1000)\n",
    "        ))\n",
    "\n",
    "fig.update_layout(\n",
    "        title = 'Sites offshore, et leur importance',\n",
    "        geo_scope = 'europe'\n",
    "    )\n",
    "fig.show();\"\"\""
   ]
  },
  {
   "cell_type": "code",
   "execution_count": 34,
   "metadata": {
    "pycharm": {
     "is_executing": false
    }
   },
   "outputs": [
    {
     "data": {
      "text/plain": [
       "\"fig = go.Figure(data=go.Scattergeo(\\n        lon = onshore['longitude'],\\n        lat = onshore['latitude'],\\n        text = onshore['pays'],\\n        mode = 'markers',\\n        marker=dict(\\n        color = onshore['couleur'],\\n        size = onshore['scores']*3000)\\n        ))\\n\\nfig.update_layout(\\n        title = 'Sites onshore, et leur importance',\\n        geo_scope = 'europe'\\n    )\\nfig.show();\""
      ]
     },
     "execution_count": 34,
     "metadata": {},
     "output_type": "execute_result"
    }
   ],
   "source": [
    "\"\"\"fig = go.Figure(data=go.Scattergeo(\n",
    "        lon = onshore['longitude'],\n",
    "        lat = onshore['latitude'],\n",
    "        text = onshore['pays'],\n",
    "        mode = 'markers',\n",
    "        marker=dict(\n",
    "        color = onshore['couleur'],\n",
    "        size = onshore['scores']*3000)\n",
    "        ))\n",
    "\n",
    "fig.update_layout(\n",
    "        title = 'Sites onshore, et leur importance',\n",
    "        geo_scope = 'europe'\n",
    "    )\n",
    "fig.show();\"\"\""
   ]
  },
  {
   "cell_type": "code",
   "execution_count": 35,
   "metadata": {
    "pycharm": {
     "is_executing": false
    }
   },
   "outputs": [
    {
     "data": {
      "text/plain": [
       "\"fig = go.Figure(data=go.Scattergeo(\\n        lon = sites['longitude'],\\n        lat = sites['latitude'],\\n        text = sites['pays'],\\n        mode = 'markers',\\n        marker_color = sites['couleur'],\\n        marker = dict(size = 2),\\n        ))\\n\\nfig.update_layout(\\n        title = 'Affectation par pays des sites éoliens',\\n        geo_scope = 'europe'\\n    )\\nfig.show();\""
      ]
     },
     "execution_count": 35,
     "metadata": {},
     "output_type": "execute_result"
    }
   ],
   "source": [
    "\"\"\"fig = go.Figure(data=go.Scattergeo(\n",
    "        lon = sites['longitude'],\n",
    "        lat = sites['latitude'],\n",
    "        text = sites['pays'],\n",
    "        mode = 'markers',\n",
    "        marker_color = sites['couleur'],\n",
    "        marker = dict(size = 2),\n",
    "        ))\n",
    "\n",
    "fig.update_layout(\n",
    "        title = 'Affectation par pays des sites éoliens',\n",
    "        geo_scope = 'europe'\n",
    "    )\n",
    "fig.show();\"\"\""
   ]
  },
  {
   "cell_type": "code",
   "execution_count": 36,
   "metadata": {
    "pycharm": {
     "is_executing": false
    }
   },
   "outputs": [
    {
     "data": {
      "text/plain": [
       "\"fig = go.Figure(data=go.Scattergeo(\\n        lon = sites['longitude'],\\n        lat = sites['latitude'],\\n        text = 'pays: '+sites['pays']+', offshore: '+sites['capacite offshore']+' | capacite [MW] = '+        sites['capacites'].astype(str),\\n        mode = 'markers',\\n        marker = dict(\\n            color = sites['couleur'],\\n            size = sites['capacites']/sites['capacites'].max() * 30)\\n        ))\\n\\nfig.update_layout(\\n        title = 'Capacites des sites éoliens',\\n        geo_scope = 'europe'\\n    )\\nfig.show();\""
      ]
     },
     "execution_count": 36,
     "metadata": {},
     "output_type": "execute_result"
    }
   ],
   "source": [
    "\"\"\"fig = go.Figure(data=go.Scattergeo(\n",
    "        lon = sites['longitude'],\n",
    "        lat = sites['latitude'],\n",
    "        text = 'pays: '+sites['pays']+', offshore: '+sites['capacite offshore']+' | capacite [MW] = '+\\\n",
    "        sites['capacites'].astype(str),\n",
    "        mode = 'markers',\n",
    "        marker = dict(\n",
    "            color = sites['couleur'],\n",
    "            size = sites['capacites']/sites['capacites'].max() * 30)\n",
    "        ))\n",
    "\n",
    "fig.update_layout(\n",
    "        title = 'Capacites des sites éoliens',\n",
    "        geo_scope = 'europe'\n",
    "    )\n",
    "fig.show();\"\"\""
   ]
  },
  {
   "cell_type": "code",
   "execution_count": 37,
   "metadata": {
    "pycharm": {
     "is_executing": false
    }
   },
   "outputs": [
    {
     "name": "stdout",
     "output_type": "stream",
     "text": [
      "(642, 730)\n",
      "(642, 730)\n"
     ]
    }
   ],
   "source": [
    "# chargement et traitement des données brutes (II)\n",
    "rend_offshore_brut = np.genfromtxt('Rendements_offshore.csv', delimiter=',')[:,:N_heures]\n",
    "rend_onshore_brut = np.genfromtxt('Rendements_onshore.csv', delimiter=',')[:,:N_heures]\n",
    "\n",
    "print(rend_offshore_brut.shape)\n",
    "print(rend_onshore_brut.shape)"
   ]
  },
  {
   "cell_type": "code",
   "execution_count": 38,
   "metadata": {},
   "outputs": [
    {
     "name": "stdout",
     "output_type": "stream",
     "text": [
      "Max offshore = 515.386574  at  index = 5 in offshore submatrix\n",
      "Max onshore = 499.81911360000004  at  index = 62 in onshore submatrix\n",
      "\n",
      "Max offshore = 515.386574  at  index = 67 in total matrix\n",
      "Max onshore = 499.81911360000004  at  index = 69 in total matrix\n"
     ]
    }
   ],
   "source": [
    "indice_offshore= offshore[\"index site\"]\n",
    "rend_offshore_matrix = rend_offshore_brut[indice_offshore]\n",
    "rend_offshore_array = np.array([np.sum(rend_offshore_matrix[i]) for i in range(len(indice_offshore))])\n",
    "\n",
    "\n",
    "indice_onshore= onshore[\"index site\"]\n",
    "rend_onshore_matrix = rend_onshore_brut[indice_onshore]\n",
    "rend_onshore_array = np.array([np.sum(rend_onshore_matrix[i]) for i in range(len(indice_onshore))])\n",
    "\n",
    "maxoff= max(rend_offshore_array)\n",
    "maxon = max(rend_onshore_array)\n",
    "\n",
    "for i in range(len(rend_offshore_array)):\n",
    "    if (rend_offshore_array[i] == max(rend_offshore_array) ) :\n",
    "        print(\"Max offshore = {}  at  index = {} in offshore submatrix\".format(maxoff,i))\n",
    "\n",
    "for i in range(len(rend_onshore_array)):\n",
    "    if (rend_onshore_array[i] == max(rend_onshore_array) ) : \n",
    "        print(\"Max onshore = {}  at  index = {} in onshore submatrix\\n\".format(maxon,i))\n",
    "        \n",
    "for i in range(642):\n",
    "    if (rend_offshore_brut[i].sum() == maxoff):\n",
    "        print(\"Max offshore = {}  at  index = {} in total matrix\".format(maxoff,i))\n",
    "    elif (rend_onshore_brut[i].sum() == maxon):\n",
    "        print(\"Max onshore = {}  at  index = {} in total matrix\".format(maxon,i))"
   ]
  },
  {
   "cell_type": "code",
   "execution_count": 39,
   "metadata": {},
   "outputs": [
    {
     "name": "stdout",
     "output_type": "stream",
     "text": [
      "True\n"
     ]
    }
   ],
   "source": [
    "rend_sites_matrix = rend_onshore_brut.copy()   # matrix combinant les valeurs réelles onshore/offshore -> souci de visibilité ci-dessous\n",
    "for i in np.array(indice_offshore):\n",
    "    rend_sites_matrix[i] = rend_offshore_brut[i]\n",
    "\n",
    "print(rend_sites_matrix[443][0] == rend_offshore_brut[443][0])"
   ]
  },
  {
   "cell_type": "markdown",
   "metadata": {},
   "source": [
    "# Début du programme de résolution simplex"
   ]
  },
  {
   "cell_type": "markdown",
   "metadata": {},
   "source": [
    "Création du problème simplex."
   ]
  },
  {
   "cell_type": "markdown",
   "metadata": {},
   "source": [
    "\n",
    "Attribution des paramètres.\n",
    "\n",
    "Paramètres généraux: \n",
    "    \n",
    "$$ N \\text{ Repésente ici le nombre de sites sur lesquels se porte notre étude.}$$\n",
    "\n",
    "$$ H  \\text{ Repésente la période sur laquelle se porte notre étude en heure.} $$\n",
    "\n",
    "$$ P  \\text{ Représente la puissance totale à installer en MW.}$$\n",
    "\n",
    "Paramètres pour la variabilité: \n",
    "\n",
    "$$ T  \\text{ Définit un pas de temps pour l'étude de la variabilité.}$$\n",
    "\n",
    "$$ \\delta  \\text{ Définit le ratio toléré entre deux périodes de temps T consécutives.}$$\n",
    "\n",
    "Paramètres pour la répartition des sites:\n",
    "\n",
    "$$ \\kappa  \\text{ Est la proportion de production se faisant en site offshore.}$$\n",
    "\n"
   ]
  },
  {
   "cell_type": "markdown",
   "metadata": {},
   "source": [
    "Ajout du vecteur variable $ x $.\n",
    "\n",
    "Chaque élément $x_{i}$ de ce vecteur représente la puissance installée sur un site."
   ]
  },
  {
   "cell_type": "markdown",
   "metadata": {},
   "source": [
    "Ajout de la contrainte de positivité :\n",
    "\n",
    "$$ x \\geq 0 $$"
   ]
  },
  {
   "cell_type": "markdown",
   "metadata": {},
   "source": [
    "Ajout de la contrainte sur la puissance totale installée:\n",
    "$$ \\sum_{i=1}^{N} x_{i} = P $$"
   ]
  },
  {
   "cell_type": "markdown",
   "metadata": {},
   "source": [
    "Ajout de la contrainte sur la répartition offshore/onshore des sites.\n",
    "\n",
    "$$\n",
    "\\sum_{i=1}^{N} \\alpha_{i} x_{i} = \\kappa P \\\\\n",
    "\\text{Avec : } \\\\\n",
    "\\begin{align}\n",
    "\\begin{cases}\n",
    "\\alpha_{i} = 1 & \\text{ si $i$ est l'indice d'un site offshore}\\\\\n",
    "\\alpha_{i} = 0 & \\text{ si $i$ est l'indice d'un site onshore}\n",
    "\\end{cases}\n",
    "\\end{align}\n",
    "$$"
   ]
  },
  {
   "cell_type": "markdown",
   "metadata": {},
   "source": [
    "\n",
    "Ajout de la contrainte sur la variabilité.\n",
    "Initialement :\n",
    "$$\n",
    "\\sum_{i=1}^{\\frac{H}{T}-1} \\frac{\\sum_{j=1}^{N}x_{j}|\\sum_{k=Ti+1}^{Ti+T} \\eta_{jk}-\\sum_{k=Ti+T+1}^{Ti+2T}\\eta_{jk}|}{\\frac{H}{T}-1} \\leq \\delta P\\\\\n",
    "\\text{où la matrice $\\eta$ est la matrice des rendements dans laquelle chaque ligne correspond à un site et chaque colonne à une heure}\n",
    "$$\n",
    "\n",
    "Pour linéariser la contrainte nous avons introduit un nouveau vecteur de variables l et imposé les contraintes comme suit : \n",
    "\n",
    "$$\n",
    "\\sum_{j=1}^{N}x_{j}\\sum_{k=Ti+1}^{Ti+T} \\eta_{jk}-\\sum_{k=Ti+T+1}^{Ti+2T}\\eta_{jk} - l\\leq 0\\\\\n",
    "\\sum_{j=1}^{N}x_{j}(-\\sum_{k=Ti+1}^{Ti+T} \\eta_{jk}+\\sum_{k=Ti+T+1}^{Ti+2T}\\eta_{jk}) - l \\leq 0\\\\\n",
    "\\sum_{i=1}^{\\frac{H}{T}-1} l_{i} \\leq \\delta P n_{interval}\\\\\n",
    "\\text{et}\\\\\n",
    "n_{interval} = {\\frac{H}{T}-1}\n",
    "$$\n",
    "\n",
    "Nous avons bien sûr également adapté les indices pour qu'ils satisfassent les attentes de Python.\n"
   ]
  },
  {
   "cell_type": "markdown",
   "metadata": {},
   "source": [
    "Enfin, nous cherchons à maximiser notre fonction objectif:\n",
    "$$\n",
    "\\text{max } \\sum_{i=1}^{N}x_{i}\\sum_{j=1}^{H}\\eta_{ij}\\\\\n",
    "\\text{où la matrice $\\eta$ est la matrice des rendements dans laquelle chaque ligne correspond à un site et chaque colonne à une heure}\n",
    "$$\n",
    "\n",
    "Pour nous adapter aux spécifications du module CyLP nous avons transformé notre max en min comme suit:\n",
    "\n",
    "$$\n",
    "\\text{min } \\sum_{i=1}^{N}x_{i}(-\\sum_{j=1}^{H}\\eta_{ij})\\\\\n",
    "\\text{où la matrice $\\eta$ est la matrice des rendements dans laquelle chaque ligne correspond à un site et chaque colonne à une heure}\n",
    "$$"
   ]
  },
  {
   "cell_type": "markdown",
   "metadata": {},
   "source": [
    "Nous résolvons par la méthode du simplex et imprimons les valeurs de nos variables ainsi que de notre fonction objectif à l'optimum. "
   ]
  },
  {
   "cell_type": "code",
   "execution_count": 49,
   "metadata": {
    "scrolled": true
   },
   "outputs": [
    {
     "name": "stdout",
     "output_type": "stream",
     "text": [
      "\n",
      "Puissance installée =  [ 7509.60700334  5003.70963209  4225.78158788  4225.78158788\n",
      "  5003.70963209  5459.41685647     0.          4985.22427206\n",
      "  4190.58679533  3553.77157501     0.             0.\n",
      "     0.             0.             0.          3509.47553708\n",
      "  3283.08502695     0.             0.             0.\n",
      "     0.             0.             0.             0.\n",
      "     0.             0.             0.             0.\n",
      "     0.             0.             0.             0.\n",
      "     0.             0.             0.             0.\n",
      "     0.             0.             0.             0.\n",
      "     0.             0.          2393.60016048     0.\n",
      "     0.             0.             0.             0.\n",
      "     0.             0.          1251.50206685     0.\n",
      "     0.             0.             0.             0.\n",
      "     0.             0.             0.             0.\n",
      "     0.          2859.47089366  2981.22096054  2070.41353668\n",
      "  2070.41353668  2070.41353668     0.          1936.02607983\n",
      "  2934.42072216  2934.42072216     0.             0.\n",
      "  2070.41353668  2890.04454669  2812.84800083  3193.17120661\n",
      "  3193.17120661  3193.17120661     0.          2812.84800083\n",
      "     0.             0.          2361.68750463     0.\n",
      "     0.             0.             0.             0.\n",
      "     0.          1662.28448505     0.             0.\n",
      "     0.          3193.17120661  2803.29157394     0.\n",
      "  1651.76953458     0.             0.             0.\n",
      "     0.             0.             0.             0.\n",
      "  1651.76953458     0.             0.             0.\n",
      "     0.             0.             0.             0.\n",
      "     0.             0.             0.             0.\n",
      "     0.          2775.65325169     0.             0.\n",
      "     0.             0.             0.             0.\n",
      "     0.             0.             0.             0.\n",
      "     0.             0.             0.             0.\n",
      "     0.          4560.71681043     0.             0.\n",
      "     0.             0.             0.             0.\n",
      "     0.          4560.71681043     0.             0.\n",
      "     0.             0.             0.             0.\n",
      "     0.             0.             0.             0.\n",
      "     0.          3008.95095508  2918.14186099  2702.7052699\n",
      "  2455.951558    2228.56815188     0.             0.\n",
      "  1836.80021247  5738.05725246  4059.7928566   3315.41353809\n",
      "  2771.08950613     0.          2120.59680089  1985.16729418\n",
      "  1985.16729418  1966.95484334  5675.08085958     0.\n",
      "     0.             0.             0.          2359.17606538\n",
      "     0.             0.          4045.48801624  3291.81164263\n",
      "  2746.76533727  2655.21764373  2901.15575486     0.\n",
      "     0.             0.             0.             0.\n",
      "     0.             0.          4017.51185029  4560.71681043\n",
      "  4560.71681043     0.             0.             0.\n",
      "     0.             0.             0.          5502.47611908\n",
      "  4560.71681043     0.             0.             0.\n",
      "     0.             0.             0.           231.13029738\n",
      "     0.             0.             0.           267.96892062\n",
      "     0.             0.             0.             0.\n",
      "     0.             0.             0.          1689.90696562\n",
      "     0.             0.             0.             0.\n",
      "     0.             0.             0.          2561.41998365\n",
      "     0.             0.             0.             0.\n",
      "     0.             0.             0.             0.\n",
      "  1324.97608819  1568.7471027   2000.7856912   3032.59419471\n",
      "  1481.49291586  1788.26046699  2561.41998365  1471.36835321\n",
      "  1621.93188303     0.          2212.46152123  1756.3679556\n",
      "  1449.98679295     0.             0.             0.\n",
      "     0.             0.             0.             0.\n",
      "     0.             0.             0.             0.\n",
      "     0.             0.             0.           331.42485751\n",
      "   321.76528138     0.             0.             0.\n",
      "   169.03135466   163.76140132   151.34641174     0.\n",
      "   774.86224417   163.76140132     0.             0.\n",
      "   312.87629311   206.4254824    169.03135466   163.26870441\n",
      "     0.             0.           122.0555423    111.51910482\n",
      "   110.56118567   304.66661336   201.0089512    162.76256922\n",
      "   297.05937806   195.98989379   153.67136021   289.98935251\n",
      "   191.32527038   283.40077466   186.97829094     0.\n",
      "   277.24566669   182.91730122     0.             0.\n",
      "   179.11490158     0.           141.79874823   124.23487111\n",
      "     0.             0.             0.             0.\n",
      "     0.             0.             0.             0.\n",
      "     0.             0.             0.           113.61326099\n",
      "     0.             0.             0.             0.\n",
      "   169.0352166    132.53630024     0.             0.\n",
      "   111.51910482   109.39344559   251.69008095   169.03135466\n",
      "   169.03135466   169.03135466   169.03135466     0.\n",
      "     0.          1974.36127315  2641.33502527     0.\n",
      "     0.             0.             0.          1265.17267569\n",
      "  1287.61006884  1287.61006884     0.             0.\n",
      "  1197.94297402  1129.43836151  1263.45072572     0.\n",
      "  1416.36494758  1399.65482716     0.             0.\n",
      "   429.50953563   797.82252539     0.           783.76279595\n",
      "   367.53515435   770.48177411     0.           526.36356042\n",
      "     0.             0.             0.             0.\n",
      "   526.36356042     0.             0.           492.19808622\n",
      "   492.19808622   746.02107826   734.73927329   734.73927329\n",
      "   526.36356042   484.75457345     0.             0.\n",
      "     0.             0.           526.36356042   724.03034674\n",
      "     0.             0.             0.             0.\n",
      "     0.             0.             0.           464.59105797\n",
      "     0.             0.             0.             0.\n",
      "     0.             0.           526.36356042     0.\n",
      "     0.             0.           760.71186817   682.3657928\n",
      "     0.             0.             0.             0.\n",
      "     0.           602.62558345     0.           545.36483749\n",
      "   564.06627175   570.95469154     0.             0.\n",
      "     0.             0.             0.             0.\n",
      "     0.           825.18730601   865.40548469     0.\n",
      "   825.18730601     0.             0.             0.\n",
      "     0.           750.58932957   957.29007689     0.\n",
      "     0.           644.77107996     0.             0.\n",
      "   725.98018685     0.           936.49865164     0.\n",
      "   563.32785526   554.51095098     0.           719.26832367\n",
      "   917.03115395  1389.93410082   518.72423626     0.\n",
      "   704.70040849     0.             0.             0.\n",
      "     0.           691.23691732   881.59481802  1336.22451682\n",
      "     0.             0.             0.           706.16572996\n",
      "     0.             0.           169.03135466   804.9659823\n",
      "     0.             0.           693.53837397     0.\n",
      "   865.40548469  1288.60102279     0.           835.76722486\n",
      "     0.           835.76722486     0.             0.\n",
      "     0.             0.             0.             0.\n",
      "     0.             0.           865.40548469     0.\n",
      "     0.          4625.12061623     0.             0.\n",
      "  4709.2039626      0.             0.             0.\n",
      "     0.             0.             0.             0.\n",
      "     0.             0.         15478.58974359     0.\n",
      "     0.         13940.25        5576.1         6191.43589744\n",
      "   877.74725275     0.           859.22727273     0.\n",
      "     0.          1718.45454545  2577.68181818     0.\n",
      "  2577.68181818  1718.45454545   859.22727273  8439.45\n",
      "     0.          5626.3         5626.3         2813.15\n",
      "     0.          1243.88322944  5626.3            0.\n",
      "  1422.51724138     0.             0.          1881.69230769\n",
      "     0.          2845.03448276     0.             0.\n",
      "     0.          5690.06896552  1422.51724138  1422.51724138\n",
      "  2845.03448276  2845.03448276     0.          2845.03448276\n",
      "  2845.03448276   877.74725275   585.16483516     0.\n",
      "     0.             0.             0.           585.16483516\n",
      "   877.74725275   585.16483516     0.             0.\n",
      "     0.             0.             0.           585.16483516\n",
      "   585.16483516   877.74725275     0.             0.\n",
      "     0.             0.             0.           585.16483516\n",
      "     0.             0.          1170.32967033     0.\n",
      "     0.             0.             0.             0.\n",
      "  3915.44117647  3132.35294118  3132.35294118  3915.44117647\n",
      "     0.         15478.58974359     0.             0.\n",
      "    76.87218045    76.87218045     0.           115.30827068\n",
      "     0.             0.             0.             0.\n",
      "     0.           115.30827068   153.7443609      0.\n",
      "     0.             0.             0.             0.\n",
      "     0.             0.             0.           153.7443609\n",
      "     0.           153.7443609    115.30827068     0.\n",
      "     0.           153.7443609    153.7443609      0.\n",
      "     0.           192.18045113     0.           877.74725275\n",
      "   192.18045113     0.             0.             0.\n",
      "  8439.45         153.7443609      0.             0.\n",
      "     0.             0.             0.             0.\n",
      "     0.             0.         11436.16666667  8577.125\n",
      "     0.          5718.08333333  8577.125          0.\n",
      "     0.             0.             0.          8577.125\n",
      "     0.             0.             0.             0.\n",
      "     0.             0.             0.             0.\n",
      "     0.             0.        ]\n",
      "\n",
      "Energie totale =  192778811.702094 MWh\n",
      "\n",
      "Etat de la solution ? =  optimal\n",
      "\n",
      "\n",
      "Vérifications : \n",
      "\n",
      "Somme des puissances installées =  500000.00000000035\n",
      "Somme des puissances installées (offshore) =  85000.0\n"
     ]
    }
   ],
   "source": [
    "#TODO contraince active, variable =0\n",
    "#TODO signature de la fonction\n",
    "\n",
    "def attribution_puissance(P = 500000, kappa = 0.17, delta = 0.02, T = 3):\n",
    "    \"\"\"Signature de a function\"\"\"\n",
    "    s = CyClpSimplex()\n",
    "    \n",
    "    # Add variables\n",
    "    x = s.addVariable('x', N_sites)\n",
    "    \n",
    "    # Add constraints\n",
    "    s.addConstraint(x.sum() == P,\"contrainte puissance max\")\n",
    "    \n",
    "    p_max = CyLPArray(sites[\"capacites\"])\n",
    "    s += x >= 0\n",
    "    for i in range(len(p_max)):\n",
    "        #s.addConstraint(x <= p_max,\"capacite\")\n",
    "        s += x[i] <= p_max[i]\n",
    "    \n",
    "\n",
    "    \n",
    "    \n",
    "    offshorearray = np.zeros(N_sites)\n",
    "    offshorearray[indice_offshore] = 1             # set à 1 les sites offshore\n",
    "    s.addConstraint((CyLPArray(offshorearray)*x) == kappa*P,\"contrainte offshore\")\n",
    "    \n",
    "    n_interval = int(N_heures/T) - 1  # nombre d'intervalle sur les heures imparties\n",
    "    L = s.addVariable('l', n_interval)  # vecteur T de longeur n_interval pour gérer valeurs absolues \n",
    "    sum1 = np.zeros(N_sites)\n",
    "    sum2 = np.zeros(N_sites)\n",
    "    diff = np.zeros(N_sites)\n",
    "    for n in range (n_interval):\n",
    "        if (n == 0):\n",
    "            for k in range(N_sites):\n",
    "                for i in range (T*n, T*n+T):\n",
    "                    sum1[k] += rend_sites_matrix[k][i]\n",
    "\n",
    "        for k in range(N_sites):\n",
    "            for i in range (T*n, T*n+T):\n",
    "                sum2[k] += rend_sites_matrix[k][i+T]\n",
    "            diff[k] = CyLPArray(sum1[k]) - CyLPArray(sum2[k])\n",
    "\n",
    "        diff= CyLPArray(diff)\n",
    "        s += diff*x - L[n] <= 0\n",
    "        s += -diff*x - L[n] <= 0\n",
    "        sum1 = sum2\n",
    "        \n",
    "    s.addConstraint( L.sum() <= delta*P*n_interval,\"variabilité\")  # contrainte de variabilité\n",
    "    \n",
    "    #print (\"\\nConstraintMatrix :\\n\", s.coefMatrix)\n",
    "    \n",
    "    # Set the objective function\n",
    "    c_off= -CyLPArray(rend_offshore_array)   # rendements associés aux sites offshore\n",
    "    c_on = -CyLPArray(rend_onshore_array)    # rendements associés aux sites onshore\n",
    "\n",
    "    s.objective = c_off * x[np.array(indice_offshore)] + c_on * x[np.array(indice_onshore)]\n",
    "    #print(\"\\nc = \",s.objective)\n",
    "    \n",
    "    # Solve using primal Simplex\n",
    "    s.primal()\n",
    "    \n",
    "    #print(\"l :\" ,s.primalVariableSolution[\"l\"])\n",
    "    dual_variable = s.dualVariableSolution[\"x\"]\n",
    "\n",
    "    dual_constraint = s.dualConstraintSolution\n",
    "    \n",
    "    # Return values\n",
    "    return s.primalVariableSolution[\"x\"], -s.objectiveValue, s.getStatusString(), dual_constraint,dual_variable\n",
    "    \n",
    "## Solutions ##\n",
    "\n",
    "PUISSANCE_INSTALLEE, ENERGIE_TOTALE, type_sol, dual_constraint,dual_variable = attribution_puissance()\n",
    "\n",
    "#print (\"\\nlsol = \",s.primalVariableSolution['l']) \n",
    "print (\"\\nPuissance installée = \",PUISSANCE_INSTALLEE) \n",
    "print(\"\\nEnergie totale = \", ENERGIE_TOTALE, \"MWh\")\n",
    "print(\"\\nEtat de la solution ? = \", type_sol)\n",
    "print(\"\\n\\nVérifications : \")\n",
    "print(\"\\nSomme des puissances installées = \", PUISSANCE_INSTALLEE.sum())\n",
    "print(\"Somme des puissances installées (offshore) = \", PUISSANCE_INSTALLEE[indice_offshore].sum())"
   ]
  },
  {
   "cell_type": "code",
   "execution_count": null,
   "metadata": {},
   "outputs": [],
   "source": [
    "rend_moyen = ENERGIE_TOTALE/(N_heures*500000)\n",
    "print(\"Rendement moyen sur une année :\", rend_moyen )"
   ]
  },
  {
   "cell_type": "code",
   "execution_count": 16,
   "metadata": {
    "scrolled": false
   },
   "outputs": [],
   "source": [
    "#TODO faire un dataframe panda pour classer les 10 meilleurs sites selon leurs rendements moyen sur l'année\n",
    "#TODO variabilité des best sites (Est -ce que les best sites sont compatible savec la notion de variabilité \n",
    "#     ou alor est-ce qu'ils sont tres tres bons sur toutes l'année mais produisent beaucoup de maniere tres instable )\n",
    "\n",
    "dict = {}\n",
    "for i in range(len(rend_sites_matrix)):\n",
    "    dict[i] = rend_sites_matrix[i].sum()\n",
    "\n",
    "dict_sorted = sorted(dict.items(), key=lambda x: x[1],reverse=True)\n",
    "dict_best = dict_sorted[:10]\n",
    "\n",
    "index_best = np.zeros(10)\n",
    "rendement_best = np.zeros(10)\n",
    "for i in range(10):\n",
    "    index_best[i] = dict_best[i][0]\n",
    "    rendement_best[i]=(dict_best[i][1])/N_heures\n",
    "\n",
    "classement = pd.DataFrame([],columns = sites.columns)\n",
    "\n",
    "for i in range(10):\n",
    "    ligne = sites[sites[\"index site\"]==index_best[i]]\n",
    "    classement= classement.append(ligne)\n",
    "del classement[\"couleur\"]\n",
    "del classement[\"scores\"]\n",
    "del classement[\"capacites\"]\n",
    "classement[\"rendement moyen\"] = rendement_best\n",
    "classement[\"différence\"] = rendement_best - rend_moyen\n",
    "\n",
    "classement.reset_index(drop=True, inplace=True) "
   ]
  },
  {
   "cell_type": "markdown",
   "metadata": {},
   "source": [
    "# Classement des meilleurs sites suivant leur rendement moyen"
   ]
  },
  {
   "cell_type": "code",
   "execution_count": 17,
   "metadata": {},
   "outputs": [
    {
     "data": {
      "text/html": [
       "<div>\n",
       "<style scoped>\n",
       "    .dataframe tbody tr th:only-of-type {\n",
       "        vertical-align: middle;\n",
       "    }\n",
       "\n",
       "    .dataframe tbody tr th {\n",
       "        vertical-align: top;\n",
       "    }\n",
       "\n",
       "    .dataframe thead th {\n",
       "        text-align: right;\n",
       "    }\n",
       "</style>\n",
       "<table border=\"1\" class=\"dataframe\">\n",
       "  <thead>\n",
       "    <tr style=\"text-align: right;\">\n",
       "      <th></th>\n",
       "      <th>index site</th>\n",
       "      <th>latitude</th>\n",
       "      <th>longitude</th>\n",
       "      <th>pays</th>\n",
       "      <th>capacite offshore</th>\n",
       "      <th>rendement moyen</th>\n",
       "      <th>différence</th>\n",
       "    </tr>\n",
       "  </thead>\n",
       "  <tbody>\n",
       "    <tr>\n",
       "      <td>0</td>\n",
       "      <td>67</td>\n",
       "      <td>57.0</td>\n",
       "      <td>6.0</td>\n",
       "      <td>Danemark</td>\n",
       "      <td>Oui</td>\n",
       "      <td>0.706009</td>\n",
       "      <td>0.177848</td>\n",
       "    </tr>\n",
       "    <tr>\n",
       "      <td>1</td>\n",
       "      <td>68</td>\n",
       "      <td>57.0</td>\n",
       "      <td>7.0</td>\n",
       "      <td>Danemark</td>\n",
       "      <td>Oui</td>\n",
       "      <td>0.693260</td>\n",
       "      <td>0.165099</td>\n",
       "    </tr>\n",
       "    <tr>\n",
       "      <td>2</td>\n",
       "      <td>69</td>\n",
       "      <td>57.0</td>\n",
       "      <td>8.0</td>\n",
       "      <td>Danemark</td>\n",
       "      <td>Non</td>\n",
       "      <td>0.684684</td>\n",
       "      <td>0.156523</td>\n",
       "    </tr>\n",
       "    <tr>\n",
       "      <td>3</td>\n",
       "      <td>2</td>\n",
       "      <td>54.0</td>\n",
       "      <td>9.0</td>\n",
       "      <td>Allemagne</td>\n",
       "      <td>Non</td>\n",
       "      <td>0.671767</td>\n",
       "      <td>0.143606</td>\n",
       "    </tr>\n",
       "    <tr>\n",
       "      <td>4</td>\n",
       "      <td>408</td>\n",
       "      <td>57.0</td>\n",
       "      <td>5.0</td>\n",
       "      <td>Norvège</td>\n",
       "      <td>Oui</td>\n",
       "      <td>0.663799</td>\n",
       "      <td>0.135637</td>\n",
       "    </tr>\n",
       "    <tr>\n",
       "      <td>5</td>\n",
       "      <td>75</td>\n",
       "      <td>56.0</td>\n",
       "      <td>8.0</td>\n",
       "      <td>Danemark</td>\n",
       "      <td>Non</td>\n",
       "      <td>0.660393</td>\n",
       "      <td>0.132231</td>\n",
       "    </tr>\n",
       "    <tr>\n",
       "      <td>6</td>\n",
       "      <td>399</td>\n",
       "      <td>58.0</td>\n",
       "      <td>6.0</td>\n",
       "      <td>Norvège</td>\n",
       "      <td>Oui</td>\n",
       "      <td>0.657541</td>\n",
       "      <td>0.129379</td>\n",
       "    </tr>\n",
       "    <tr>\n",
       "      <td>7</td>\n",
       "      <td>73</td>\n",
       "      <td>56.0</td>\n",
       "      <td>6.0</td>\n",
       "      <td>Danemark</td>\n",
       "      <td>Oui</td>\n",
       "      <td>0.656717</td>\n",
       "      <td>0.128556</td>\n",
       "    </tr>\n",
       "    <tr>\n",
       "      <td>8</td>\n",
       "      <td>74</td>\n",
       "      <td>56.0</td>\n",
       "      <td>7.0</td>\n",
       "      <td>Danemark</td>\n",
       "      <td>Oui</td>\n",
       "      <td>0.655898</td>\n",
       "      <td>0.127737</td>\n",
       "    </tr>\n",
       "    <tr>\n",
       "      <td>9</td>\n",
       "      <td>0</td>\n",
       "      <td>54.0</td>\n",
       "      <td>7.0</td>\n",
       "      <td>Allemagne</td>\n",
       "      <td>Oui</td>\n",
       "      <td>0.654595</td>\n",
       "      <td>0.126434</td>\n",
       "    </tr>\n",
       "  </tbody>\n",
       "</table>\n",
       "</div>"
      ],
      "text/plain": [
       "  index site  latitude  longitude       pays capacite offshore  \\\n",
       "0         67      57.0        6.0   Danemark               Oui   \n",
       "1         68      57.0        7.0   Danemark               Oui   \n",
       "2         69      57.0        8.0   Danemark               Non   \n",
       "3          2      54.0        9.0  Allemagne               Non   \n",
       "4        408      57.0        5.0    Norvège               Oui   \n",
       "5         75      56.0        8.0   Danemark               Non   \n",
       "6        399      58.0        6.0    Norvège               Oui   \n",
       "7         73      56.0        6.0   Danemark               Oui   \n",
       "8         74      56.0        7.0   Danemark               Oui   \n",
       "9          0      54.0        7.0  Allemagne               Oui   \n",
       "\n",
       "   rendement moyen  différence  \n",
       "0         0.706009    0.177848  \n",
       "1         0.693260    0.165099  \n",
       "2         0.684684    0.156523  \n",
       "3         0.671767    0.143606  \n",
       "4         0.663799    0.135637  \n",
       "5         0.660393    0.132231  \n",
       "6         0.657541    0.129379  \n",
       "7         0.656717    0.128556  \n",
       "8         0.655898    0.127737  \n",
       "9         0.654595    0.126434  "
      ]
     },
     "execution_count": 17,
     "metadata": {},
     "output_type": "execute_result"
    }
   ],
   "source": [
    "classement"
   ]
  },
  {
   "cell_type": "markdown",
   "metadata": {},
   "source": [
    "# Question I.3. "
   ]
  },
  {
   "cell_type": "markdown",
   "metadata": {},
   "source": [
    "### a)\n",
    "TODO : à réecrire \n",
    "\n",
    "Il est facilement observable que cette modificiation correspond à une modification de $ \\vec b$ dans le modèle type de l'optimisation linéaire.\n",
    "Sous l'hypothèse que cette $ \\Delta P $  est petite par rapport à P, l'énergie produite évoluerait selon la formule : \n",
    "                  $$ EnergieTotale = Energieinitiale + \\Delta P * contrainte_{puissance max} $$\n",
    "Avec $contrainte_{puissance max} = 302,59$"
   ]
  },
  {
   "cell_type": "markdown",
   "metadata": {},
   "source": [
    "### b) \n",
    "TODO : A rédiger, mais les dix meilleurs sites sont bien ceux avec les meilleurs rendements moyen sur l'année\n"
   ]
  },
  {
   "cell_type": "markdown",
   "metadata": {},
   "source": [
    "# Analyse du dual"
   ]
  },
  {
   "cell_type": "code",
   "execution_count": 18,
   "metadata": {},
   "outputs": [
    {
     "name": "stdout",
     "output_type": "stream",
     "text": [
      "coefficient de la solution du dual associée à la contrainte de la puissance P :  [-302.59495459]\n",
      "Liste des 10 meilleurs sites après analyse du problème dual :  [(67, 515.386574), (68, 506.07995579999994), (69, 499.81911360000004), (2, 490.3897225), (408, 484.57294), (75, 482.08661199), (399, 480.0045807), (73, 479.4033521), (74, 478.80543563000003), (0, 477.8543873)]\n"
     ]
    }
   ],
   "source": [
    "\n",
    "print(\"coefficient de la solution du dual associée à la contrainte de la puissance P : \", dual_constraint[\"contrainte puissance max\"])\n",
    "\n",
    "\n",
    "result = {}\n",
    "for i in range(len(dual_variable)):\n",
    "    result[i]=dual_variable[i]\n",
    "result_sorted = sorted(dict.items(), key=lambda x: x[1],reverse=True)\n",
    "print(\"Liste des 10 meilleurs sites après analyse du problème dual : \",result_sorted[:10])\n"
   ]
  },
  {
   "cell_type": "code",
   "execution_count": 19,
   "metadata": {},
   "outputs": [
    {
     "data": {
      "text/plain": [
       "\"## Visualisation des rendements pour un pays\\n\\npays_test = 'France'\\nindex_test = liste_pays_index_dic[pays_test]\\n\\n# nombre de sites éoliens\\nindex_sites_eoliens = sites[sites.pays==pays_test]['index site']\\nn_eoliens = len(index_sites_eoliens)\\nprint('il y a '+str(n_eoliens)+' sites éoliens en '+str(pays_test))\\n\\n# rendements eolien au hasard\\nrandom_site = np.random.choice(index_sites_eoliens)\\nplt.figure(figsize=(9,6))\\nplt.grid()\\nplt.title('rendement éolien: '+str(pays_test))\\nif sites.loc[random_site]['capacite offshore']=='Oui':\\n    plt.plot(vecteur_temps,matrice_rendements_offshore[random_site])\\n    plt.legend(['offshore'])\\nelse:\\n    plt.plot(vecteur_temps,matrice_rendements_onshore[random_site])\\n    plt.legend(['onshore'])\\nplt.xlabel('temps : [années]')\\nplt.ylabel('rendement éolien: [/]')\\n\\nprint('rendement moyen offshore pour le pays: '+str(np.mean(matrice_rendements_offshore[index_sites_eoliens])))\\nprint('rendement moyen onshore pour le pays: '+str(np.mean(matrice_rendements_onshore[index_sites_eoliens])))\\n\\n# capacité éoliennes maximales tolérables\\nbuf_ok_offshore = (sites.pays==pays_test) & (sites['capacite offshore']=='Oui')\\nbuf_ok_onshore = (sites.pays==pays_test) & (sites['capacite offshore']=='Non')\\n\\nprint(' => capacité éolienne totale offshore : [MW] '+str(sites[buf_ok_offshore]['capacites'].sum()))\\nprint(' => capacité éolienne totale offshore : [MW] '+str(sites[buf_ok_onshore]['capacites'].sum()))\\n\\n# latitude/longitude\\nprint('le pays '+str(pays_test)+' se trouve  à une latitude de '+str(sites.loc[random_site]['latitude'])+' et une longitude de '+      str(sites.loc[random_site]['longitude']))\""
      ]
     },
     "execution_count": 19,
     "metadata": {},
     "output_type": "execute_result"
    }
   ],
   "source": [
    "\"\"\"## Visualisation des rendements pour un pays\n",
    "\n",
    "pays_test = 'France'\n",
    "index_test = liste_pays_index_dic[pays_test]\n",
    "\n",
    "# nombre de sites éoliens\n",
    "index_sites_eoliens = sites[sites.pays==pays_test]['index site']\n",
    "n_eoliens = len(index_sites_eoliens)\n",
    "print('il y a '+str(n_eoliens)+' sites éoliens en '+str(pays_test))\n",
    "\n",
    "# rendements eolien au hasard\n",
    "random_site = np.random.choice(index_sites_eoliens)\n",
    "plt.figure(figsize=(9,6))\n",
    "plt.grid()\n",
    "plt.title('rendement éolien: '+str(pays_test))\n",
    "if sites.loc[random_site]['capacite offshore']=='Oui':\n",
    "    plt.plot(vecteur_temps,matrice_rendements_offshore[random_site])\n",
    "    plt.legend(['offshore'])\n",
    "else:\n",
    "    plt.plot(vecteur_temps,matrice_rendements_onshore[random_site])\n",
    "    plt.legend(['onshore'])\n",
    "plt.xlabel('temps : [années]')\n",
    "plt.ylabel('rendement éolien: [/]')\n",
    "\n",
    "print('rendement moyen offshore pour le pays: '+str(np.mean(matrice_rendements_offshore[index_sites_eoliens])))\n",
    "print('rendement moyen onshore pour le pays: '+str(np.mean(matrice_rendements_onshore[index_sites_eoliens])))\n",
    "\n",
    "# capacité éoliennes maximales tolérables\n",
    "buf_ok_offshore = (sites.pays==pays_test) & (sites['capacite offshore']=='Oui')\n",
    "buf_ok_onshore = (sites.pays==pays_test) & (sites['capacite offshore']=='Non')\n",
    "\n",
    "print(' => capacité éolienne totale offshore : [MW] '+str(sites[buf_ok_offshore]['capacites'].sum()))\n",
    "print(' => capacité éolienne totale offshore : [MW] '+str(sites[buf_ok_onshore]['capacites'].sum()))\n",
    "\n",
    "# latitude/longitude\n",
    "print('le pays '+str(pays_test)+' se trouve  à une latitude de '+str(sites.loc[random_site]['latitude'])+' et une longitude de '+\\\n",
    "      str(sites.loc[random_site]['longitude']))\"\"\""
   ]
  },
  {
   "cell_type": "code",
   "execution_count": null,
   "metadata": {},
   "outputs": [],
   "source": []
  },
  {
   "cell_type": "code",
   "execution_count": null,
   "metadata": {},
   "outputs": [],
   "source": []
  }
 ],
 "metadata": {
  "kernelspec": {
   "display_name": "Python 3",
   "language": "python",
   "name": "python3"
  },
  "language_info": {
   "codemirror_mode": {
    "name": "ipython",
    "version": 3
   },
   "file_extension": ".py",
   "mimetype": "text/x-python",
   "name": "python",
   "nbconvert_exporter": "python",
   "pygments_lexer": "ipython3",
   "version": "3.7.4"
  },
  "pycharm": {
   "stem_cell": {
    "cell_type": "raw",
    "metadata": {
     "collapsed": false
    },
    "source": []
   }
  }
 },
 "nbformat": 4,
 "nbformat_minor": 4
}
