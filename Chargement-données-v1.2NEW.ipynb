{
 "cells": [
  {
   "cell_type": "markdown",
   "metadata": {},
   "source": [
    "### *Localisation optimale des capacités de production éoliennes en Europe*"
   ]
  },
  {
   "cell_type": "markdown",
   "metadata": {},
   "source": [
    "Notebook pour le  chargement des données du projet (partie I) -- version 1.2 (màj le 31/3/2020)"
   ]
  },
  {
   "cell_type": "code",
   "execution_count": 2,
   "metadata": {
    "pycharm": {
     "is_executing": false
    }
   },
   "outputs": [],
   "source": [
    "## imports classiques\n",
    "import numpy as np\n",
    "\n",
    "from cylp.cy import CyClpSimplex\n",
    "from cylp.py.modeling.CyLPModel import CyLPArray, CyLPModel\n",
    "\n",
    "import matplotlib.pyplot as plt\n",
    "import math \n",
    "import pandas as pd\n",
    "import plotly.graph_objects as go\n",
    "import matplotlib.colors as colors\n",
    "import random\n",
    "\n",
    "\n",
    "colors_list = list(colors._colors_full_map.values())\n",
    "random.shuffle(colors_list)\n",
    "\n",
    "%matplotlib notebook"
   ]
  },
  {
   "cell_type": "code",
   "execution_count": 3,
   "metadata": {
    "pycharm": {
     "is_executing": false
    }
   },
   "outputs": [],
   "source": [
    "## paramètres\n",
    "\n",
    "liste_pays = ['Allemagne','Autriche','Belgique','Danemark','Espagne','France','Irlande','Italie','Luxembourg',\\\n",
    "             'Norvège','Pays-Bas','Portugal','Royaume-Uni','Suède','Suisse']\n",
    "\n",
    "liste_pays_index_dic = {'Allemagne':0,'Autriche':1,'Belgique':2,'Danemark':3,'Espagne':4,'France':5,'Irlande':6,'Italie':7,'Luxembourg':8,\\\n",
    "             'Norvège':9,'Pays-Bas':10,'Portugal':11,'Royaume-Uni':12,'Suède':13,'Suisse':14}\n",
    "\n",
    "list_colors_dic = {'Allemagne':colors_list[0],'Autriche':colors_list[1],'Belgique':colors_list[2],'Danemark':colors_list[3],'Espagne':colors_list[4],\\\n",
    "                         'France':colors_list[5],'Irlande':colors_list[6],'Italie':colors_list[7],'Luxembourg':colors_list[8],\\\n",
    "             'Norvège':colors_list[9],'Pays-Bas':colors_list[10],'Portugal':colors_list[11],'Royaume-Uni':colors_list[12],'Suède':colors_list[13],'Suisse':colors_list[14]} \n",
    "\n",
    "TURB = np.array([8587 , 12009 , 1417 , 9 , 18372 , 25132 , 527 , 21117 , 1140 , 28941 , 37 , 5052 , 4269 , 16637 , 15101])\n",
    "POMP = np.array([5223 , 3580 , 1307 , 0 , 5347 , 4303 , 292 , 7544 , 1100 , 1396 , 0 , 1029 , 2744 , 45 , 1636 ])\n",
    "RES = np.array([0.3*1e6 , 3.2*1e6 , 0.01*1e6 , 0 , 18.4*1e6 , 9.8*1e6 , 0.24*1e6 , 7.9*1e6 , 0.005*1e6 , 84.147*1e6 , 0 , 2.6*1e6 , 1.2*1e6 , 33.756*1e6 , 8.4*1e6])\n",
    "\n",
    "N_pays = 15                  # plus petit ou égal à N_pays_max = 15\n",
    "N_sites = 642                # plus petit ou égal à sites_max = 642\n",
    "N_heures_par_annee = 24*365  # nombre d'heures par année\n",
    "N_annees = 1/12                # fraction de l'annee à utiliser ; prendre par exemple 1/12 pour tester sur un mois (calculs \n",
    "                             # plus rapides) ; dans le rapport il faut utiliser l'année complète N_annees = 1\n",
    "N_heures = int(np.ceil(N_heures_par_annee*N_annees)) # nombre d'heures à extraire des fichiers de rendements\n",
    "\n",
    "vecteur_temps = np.arange(1,N_heures+1) / N_heures_par_annee"
   ]
  },
  {
   "cell_type": "code",
   "execution_count": 4,
   "metadata": {
    "pycharm": {
     "is_executing": false
    },
    "scrolled": false
   },
   "outputs": [],
   "source": [
    "## chargement et traitement des données brutes (I)\n",
    " \n",
    "sites = pd.read_csv('Sites.csv')\n",
    "\n",
    "onshore = sites[sites['capacite offshore']=='Non'].copy()\n",
    "offshore = sites[sites['capacite offshore']=='Oui'].copy()"
   ]
  },
  {
   "cell_type": "code",
   "execution_count": 5,
   "metadata": {
    "pycharm": {
     "is_executing": false
    }
   },
   "outputs": [
    {
     "data": {
      "text/html": [
       "<div>\n",
       "<style scoped>\n",
       "    .dataframe tbody tr th:only-of-type {\n",
       "        vertical-align: middle;\n",
       "    }\n",
       "\n",
       "    .dataframe tbody tr th {\n",
       "        vertical-align: top;\n",
       "    }\n",
       "\n",
       "    .dataframe thead th {\n",
       "        text-align: right;\n",
       "    }\n",
       "</style>\n",
       "<table border=\"1\" class=\"dataframe\">\n",
       "  <thead>\n",
       "    <tr style=\"text-align: right;\">\n",
       "      <th></th>\n",
       "      <th>index site</th>\n",
       "      <th>latitude</th>\n",
       "      <th>longitude</th>\n",
       "      <th>pays</th>\n",
       "      <th>couleur</th>\n",
       "      <th>capacite offshore</th>\n",
       "      <th>scores</th>\n",
       "      <th>capacites</th>\n",
       "    </tr>\n",
       "  </thead>\n",
       "  <tbody>\n",
       "    <tr>\n",
       "      <td>0</td>\n",
       "      <td>1</td>\n",
       "      <td>54.0</td>\n",
       "      <td>8.0</td>\n",
       "      <td>Allemagne</td>\n",
       "      <td>#7b0323</td>\n",
       "      <td>Non</td>\n",
       "      <td>0.003291</td>\n",
       "      <td>7509.607003</td>\n",
       "    </tr>\n",
       "    <tr>\n",
       "      <td>1</td>\n",
       "      <td>2</td>\n",
       "      <td>54.0</td>\n",
       "      <td>9.0</td>\n",
       "      <td>Allemagne</td>\n",
       "      <td>#7b0323</td>\n",
       "      <td>Non</td>\n",
       "      <td>0.002193</td>\n",
       "      <td>5003.709632</td>\n",
       "    </tr>\n",
       "    <tr>\n",
       "      <td>2</td>\n",
       "      <td>3</td>\n",
       "      <td>54.0</td>\n",
       "      <td>10.0</td>\n",
       "      <td>Allemagne</td>\n",
       "      <td>#7b0323</td>\n",
       "      <td>Non</td>\n",
       "      <td>0.001852</td>\n",
       "      <td>4225.781588</td>\n",
       "    </tr>\n",
       "    <tr>\n",
       "      <td>3</td>\n",
       "      <td>4</td>\n",
       "      <td>54.0</td>\n",
       "      <td>11.0</td>\n",
       "      <td>Allemagne</td>\n",
       "      <td>#7b0323</td>\n",
       "      <td>Non</td>\n",
       "      <td>0.001852</td>\n",
       "      <td>4225.781588</td>\n",
       "    </tr>\n",
       "    <tr>\n",
       "      <td>4</td>\n",
       "      <td>5</td>\n",
       "      <td>54.0</td>\n",
       "      <td>12.0</td>\n",
       "      <td>Allemagne</td>\n",
       "      <td>#7b0323</td>\n",
       "      <td>Non</td>\n",
       "      <td>0.002193</td>\n",
       "      <td>5003.709632</td>\n",
       "    </tr>\n",
       "  </tbody>\n",
       "</table>\n",
       "</div>"
      ],
      "text/plain": [
       "   index site  latitude  longitude       pays  couleur capacite offshore  \\\n",
       "0           1      54.0        8.0  Allemagne  #7b0323               Non   \n",
       "1           2      54.0        9.0  Allemagne  #7b0323               Non   \n",
       "2           3      54.0       10.0  Allemagne  #7b0323               Non   \n",
       "3           4      54.0       11.0  Allemagne  #7b0323               Non   \n",
       "4           5      54.0       12.0  Allemagne  #7b0323               Non   \n",
       "\n",
       "     scores    capacites  \n",
       "0  0.003291  7509.607003  \n",
       "1  0.002193  5003.709632  \n",
       "2  0.001852  4225.781588  \n",
       "3  0.001852  4225.781588  \n",
       "4  0.002193  5003.709632  "
      ]
     },
     "execution_count": 5,
     "metadata": {},
     "output_type": "execute_result"
    }
   ],
   "source": [
    "sites.head()"
   ]
  },
  {
   "cell_type": "code",
   "execution_count": 6,
   "metadata": {},
   "outputs": [
    {
     "data": {
      "text/html": [
       "<div>\n",
       "<style scoped>\n",
       "    .dataframe tbody tr th:only-of-type {\n",
       "        vertical-align: middle;\n",
       "    }\n",
       "\n",
       "    .dataframe tbody tr th {\n",
       "        vertical-align: top;\n",
       "    }\n",
       "\n",
       "    .dataframe thead th {\n",
       "        text-align: right;\n",
       "    }\n",
       "</style>\n",
       "<table border=\"1\" class=\"dataframe\">\n",
       "  <thead>\n",
       "    <tr style=\"text-align: right;\">\n",
       "      <th></th>\n",
       "      <th>index site</th>\n",
       "      <th>latitude</th>\n",
       "      <th>longitude</th>\n",
       "      <th>pays</th>\n",
       "      <th>couleur</th>\n",
       "      <th>capacite offshore</th>\n",
       "      <th>scores</th>\n",
       "      <th>capacites</th>\n",
       "    </tr>\n",
       "  </thead>\n",
       "  <tbody>\n",
       "    <tr>\n",
       "      <td>0</td>\n",
       "      <td>1</td>\n",
       "      <td>54.0</td>\n",
       "      <td>8.0</td>\n",
       "      <td>Allemagne</td>\n",
       "      <td>#7b0323</td>\n",
       "      <td>Non</td>\n",
       "      <td>0.003291</td>\n",
       "      <td>7509.607003</td>\n",
       "    </tr>\n",
       "    <tr>\n",
       "      <td>1</td>\n",
       "      <td>2</td>\n",
       "      <td>54.0</td>\n",
       "      <td>9.0</td>\n",
       "      <td>Allemagne</td>\n",
       "      <td>#7b0323</td>\n",
       "      <td>Non</td>\n",
       "      <td>0.002193</td>\n",
       "      <td>5003.709632</td>\n",
       "    </tr>\n",
       "    <tr>\n",
       "      <td>2</td>\n",
       "      <td>3</td>\n",
       "      <td>54.0</td>\n",
       "      <td>10.0</td>\n",
       "      <td>Allemagne</td>\n",
       "      <td>#7b0323</td>\n",
       "      <td>Non</td>\n",
       "      <td>0.001852</td>\n",
       "      <td>4225.781588</td>\n",
       "    </tr>\n",
       "    <tr>\n",
       "      <td>3</td>\n",
       "      <td>4</td>\n",
       "      <td>54.0</td>\n",
       "      <td>11.0</td>\n",
       "      <td>Allemagne</td>\n",
       "      <td>#7b0323</td>\n",
       "      <td>Non</td>\n",
       "      <td>0.001852</td>\n",
       "      <td>4225.781588</td>\n",
       "    </tr>\n",
       "    <tr>\n",
       "      <td>4</td>\n",
       "      <td>5</td>\n",
       "      <td>54.0</td>\n",
       "      <td>12.0</td>\n",
       "      <td>Allemagne</td>\n",
       "      <td>#7b0323</td>\n",
       "      <td>Non</td>\n",
       "      <td>0.002193</td>\n",
       "      <td>5003.709632</td>\n",
       "    </tr>\n",
       "  </tbody>\n",
       "</table>\n",
       "</div>"
      ],
      "text/plain": [
       "   index site  latitude  longitude       pays  couleur capacite offshore  \\\n",
       "0           1      54.0        8.0  Allemagne  #7b0323               Non   \n",
       "1           2      54.0        9.0  Allemagne  #7b0323               Non   \n",
       "2           3      54.0       10.0  Allemagne  #7b0323               Non   \n",
       "3           4      54.0       11.0  Allemagne  #7b0323               Non   \n",
       "4           5      54.0       12.0  Allemagne  #7b0323               Non   \n",
       "\n",
       "     scores    capacites  \n",
       "0  0.003291  7509.607003  \n",
       "1  0.002193  5003.709632  \n",
       "2  0.001852  4225.781588  \n",
       "3  0.001852  4225.781588  \n",
       "4  0.002193  5003.709632  "
      ]
     },
     "execution_count": 6,
     "metadata": {},
     "output_type": "execute_result"
    }
   ],
   "source": [
    "onshore.head()"
   ]
  },
  {
   "cell_type": "code",
   "execution_count": 7,
   "metadata": {},
   "outputs": [
    {
     "data": {
      "text/html": [
       "<div>\n",
       "<style scoped>\n",
       "    .dataframe tbody tr th:only-of-type {\n",
       "        vertical-align: middle;\n",
       "    }\n",
       "\n",
       "    .dataframe tbody tr th {\n",
       "        vertical-align: top;\n",
       "    }\n",
       "\n",
       "    .dataframe thead th {\n",
       "        text-align: right;\n",
       "    }\n",
       "</style>\n",
       "<table border=\"1\" class=\"dataframe\">\n",
       "  <thead>\n",
       "    <tr style=\"text-align: right;\">\n",
       "      <th></th>\n",
       "      <th>index site</th>\n",
       "      <th>latitude</th>\n",
       "      <th>longitude</th>\n",
       "      <th>pays</th>\n",
       "      <th>couleur</th>\n",
       "      <th>capacite offshore</th>\n",
       "      <th>scores</th>\n",
       "      <th>capacites</th>\n",
       "    </tr>\n",
       "  </thead>\n",
       "  <tbody>\n",
       "    <tr>\n",
       "      <td>487</td>\n",
       "      <td>0</td>\n",
       "      <td>54.0</td>\n",
       "      <td>7.0</td>\n",
       "      <td>Allemagne</td>\n",
       "      <td>#7b0323</td>\n",
       "      <td>Oui</td>\n",
       "      <td>0.006342</td>\n",
       "      <td>8364.150000</td>\n",
       "    </tr>\n",
       "    <tr>\n",
       "      <td>488</td>\n",
       "      <td>48</td>\n",
       "      <td>56.0</td>\n",
       "      <td>5.0</td>\n",
       "      <td>Danemark</td>\n",
       "      <td>#A9A9A9</td>\n",
       "      <td>Oui</td>\n",
       "      <td>0.010571</td>\n",
       "      <td>15478.589744</td>\n",
       "    </tr>\n",
       "    <tr>\n",
       "      <td>489</td>\n",
       "      <td>49</td>\n",
       "      <td>55.0</td>\n",
       "      <td>6.0</td>\n",
       "      <td>Allemagne</td>\n",
       "      <td>#7b0323</td>\n",
       "      <td>Oui</td>\n",
       "      <td>0.010571</td>\n",
       "      <td>13940.250000</td>\n",
       "    </tr>\n",
       "    <tr>\n",
       "      <td>490</td>\n",
       "      <td>61</td>\n",
       "      <td>52.0</td>\n",
       "      <td>3.0</td>\n",
       "      <td>Pays-Bas</td>\n",
       "      <td>#04d8b2</td>\n",
       "      <td>Oui</td>\n",
       "      <td>0.006342</td>\n",
       "      <td>2349.264706</td>\n",
       "    </tr>\n",
       "    <tr>\n",
       "      <td>491</td>\n",
       "      <td>66</td>\n",
       "      <td>58.0</td>\n",
       "      <td>10.0</td>\n",
       "      <td>Suède</td>\n",
       "      <td>#758da3</td>\n",
       "      <td>Oui</td>\n",
       "      <td>0.006342</td>\n",
       "      <td>8577.125000</td>\n",
       "    </tr>\n",
       "  </tbody>\n",
       "</table>\n",
       "</div>"
      ],
      "text/plain": [
       "     index site  latitude  longitude       pays  couleur capacite offshore  \\\n",
       "487           0      54.0        7.0  Allemagne  #7b0323               Oui   \n",
       "488          48      56.0        5.0   Danemark  #A9A9A9               Oui   \n",
       "489          49      55.0        6.0  Allemagne  #7b0323               Oui   \n",
       "490          61      52.0        3.0   Pays-Bas  #04d8b2               Oui   \n",
       "491          66      58.0       10.0      Suède  #758da3               Oui   \n",
       "\n",
       "       scores     capacites  \n",
       "487  0.006342   8364.150000  \n",
       "488  0.010571  15478.589744  \n",
       "489  0.010571  13940.250000  \n",
       "490  0.006342   2349.264706  \n",
       "491  0.006342   8577.125000  "
      ]
     },
     "execution_count": 7,
     "metadata": {},
     "output_type": "execute_result"
    }
   ],
   "source": [
    "offshore.head()"
   ]
  },
  {
   "cell_type": "code",
   "execution_count": 8,
   "metadata": {},
   "outputs": [
    {
     "name": "stdout",
     "output_type": "stream",
     "text": [
      "18.0\n"
     ]
    }
   ],
   "source": [
    "p= 3*np.ones(2)\n",
    "n = np.array([[1,1],[2,2]])\n",
    "print((np.dot(n,p)).sum())"
   ]
  },
  {
   "cell_type": "code",
   "execution_count": 9,
   "metadata": {
    "pycharm": {
     "is_executing": false
    }
   },
   "outputs": [
    {
     "data": {
      "text/plain": [
       "\"# Visualisations des données pour les sites \\n\\nfig = go.Figure(data=go.Scattergeo(\\n        lon = offshore['longitude'],\\n        lat = offshore['latitude'],\\n        text = offshore['pays'],\\n        mode = 'markers',\\n        marker=dict(\\n        color = offshore['couleur'],\\n        size = offshore['scores']*1000)\\n        ))\\n\\nfig.update_layout(\\n        title = 'Sites offshore, et leur importance',\\n        geo_scope = 'europe'\\n    )\\nfig.show();\""
      ]
     },
     "execution_count": 9,
     "metadata": {},
     "output_type": "execute_result"
    }
   ],
   "source": [
    "\"\"\"# Visualisations des données pour les sites \n",
    "\n",
    "fig = go.Figure(data=go.Scattergeo(\n",
    "        lon = offshore['longitude'],\n",
    "        lat = offshore['latitude'],\n",
    "        text = offshore['pays'],\n",
    "        mode = 'markers',\n",
    "        marker=dict(\n",
    "        color = offshore['couleur'],\n",
    "        size = offshore['scores']*1000)\n",
    "        ))\n",
    "\n",
    "fig.update_layout(\n",
    "        title = 'Sites offshore, et leur importance',\n",
    "        geo_scope = 'europe'\n",
    "    )\n",
    "fig.show();\"\"\""
   ]
  },
  {
   "cell_type": "code",
   "execution_count": 10,
   "metadata": {
    "pycharm": {
     "is_executing": false
    }
   },
   "outputs": [
    {
     "data": {
      "text/plain": [
       "\"fig = go.Figure(data=go.Scattergeo(\\n        lon = onshore['longitude'],\\n        lat = onshore['latitude'],\\n        text = onshore['pays'],\\n        mode = 'markers',\\n        marker=dict(\\n        color = onshore['couleur'],\\n        size = onshore['scores']*3000)\\n        ))\\n\\nfig.update_layout(\\n        title = 'Sites onshore, et leur importance',\\n        geo_scope = 'europe'\\n    )\\nfig.show();\""
      ]
     },
     "execution_count": 10,
     "metadata": {},
     "output_type": "execute_result"
    }
   ],
   "source": [
    "\"\"\"fig = go.Figure(data=go.Scattergeo(\n",
    "        lon = onshore['longitude'],\n",
    "        lat = onshore['latitude'],\n",
    "        text = onshore['pays'],\n",
    "        mode = 'markers',\n",
    "        marker=dict(\n",
    "        color = onshore['couleur'],\n",
    "        size = onshore['scores']*3000)\n",
    "        ))\n",
    "\n",
    "fig.update_layout(\n",
    "        title = 'Sites onshore, et leur importance',\n",
    "        geo_scope = 'europe'\n",
    "    )\n",
    "fig.show();\"\"\""
   ]
  },
  {
   "cell_type": "code",
   "execution_count": 11,
   "metadata": {
    "pycharm": {
     "is_executing": false
    }
   },
   "outputs": [
    {
     "data": {
      "text/plain": [
       "\"fig = go.Figure(data=go.Scattergeo(\\n        lon = sites['longitude'],\\n        lat = sites['latitude'],\\n        text = sites['pays'],\\n        mode = 'markers',\\n        marker_color = sites['couleur'],\\n        marker = dict(size = 2),\\n        ))\\n\\nfig.update_layout(\\n        title = 'Affectation par pays des sites éoliens',\\n        geo_scope = 'europe'\\n    )\\nfig.show();\""
      ]
     },
     "execution_count": 11,
     "metadata": {},
     "output_type": "execute_result"
    }
   ],
   "source": [
    "\"\"\"fig = go.Figure(data=go.Scattergeo(\n",
    "        lon = sites['longitude'],\n",
    "        lat = sites['latitude'],\n",
    "        text = sites['pays'],\n",
    "        mode = 'markers',\n",
    "        marker_color = sites['couleur'],\n",
    "        marker = dict(size = 2),\n",
    "        ))\n",
    "\n",
    "fig.update_layout(\n",
    "        title = 'Affectation par pays des sites éoliens',\n",
    "        geo_scope = 'europe'\n",
    "    )\n",
    "fig.show();\"\"\""
   ]
  },
  {
   "cell_type": "code",
   "execution_count": 12,
   "metadata": {
    "pycharm": {
     "is_executing": false
    }
   },
   "outputs": [
    {
     "data": {
      "text/plain": [
       "\"fig = go.Figure(data=go.Scattergeo(\\n        lon = sites['longitude'],\\n        lat = sites['latitude'],\\n        text = 'pays: '+sites['pays']+', offshore: '+sites['capacite offshore']+' | capacite [MW] = '+        sites['capacites'].astype(str),\\n        mode = 'markers',\\n        marker = dict(\\n            color = sites['couleur'],\\n            size = sites['capacites']/sites['capacites'].max() * 30)\\n        ))\\n\\nfig.update_layout(\\n        title = 'Capacites des sites éoliens',\\n        geo_scope = 'europe'\\n    )\\nfig.show();\""
      ]
     },
     "execution_count": 12,
     "metadata": {},
     "output_type": "execute_result"
    }
   ],
   "source": [
    "\"\"\"fig = go.Figure(data=go.Scattergeo(\n",
    "        lon = sites['longitude'],\n",
    "        lat = sites['latitude'],\n",
    "        text = 'pays: '+sites['pays']+', offshore: '+sites['capacite offshore']+' | capacite [MW] = '+\\\n",
    "        sites['capacites'].astype(str),\n",
    "        mode = 'markers',\n",
    "        marker = dict(\n",
    "            color = sites['couleur'],\n",
    "            size = sites['capacites']/sites['capacites'].max() * 30)\n",
    "        ))\n",
    "\n",
    "fig.update_layout(\n",
    "        title = 'Capacites des sites éoliens',\n",
    "        geo_scope = 'europe'\n",
    "    )\n",
    "fig.show();\"\"\""
   ]
  },
  {
   "cell_type": "code",
   "execution_count": 13,
   "metadata": {
    "pycharm": {
     "is_executing": false
    }
   },
   "outputs": [
    {
     "data": {
      "text/plain": [
       "\"## chargement et traitement des données brutes (II)\\nmatrice_rendements_offshore = np.genfromtxt('Rendements_offshore.csv', delimiter=',')[:,:N_heures]\\nmatrice_rendements_onshore = np.genfromtxt('Rendements_onshore.csv', delimiter=',')[:,:N_heures]\\nprint(matrice_rendements_onshore.shape)\\nprint(matrice_rendements_offshore.shape)\""
      ]
     },
     "execution_count": 13,
     "metadata": {},
     "output_type": "execute_result"
    }
   ],
   "source": [
    "\"\"\"## chargement et traitement des données brutes (II)\n",
    "matrice_rendements_offshore = np.genfromtxt('Rendements_offshore.csv', delimiter=',')[:,:N_heures]\n",
    "matrice_rendements_onshore = np.genfromtxt('Rendements_onshore.csv', delimiter=',')[:,:N_heures]\n",
    "print(matrice_rendements_onshore.shape)\n",
    "print(matrice_rendements_offshore.shape)\"\"\""
   ]
  },
  {
   "cell_type": "code",
   "execution_count": 20,
   "metadata": {},
   "outputs": [
    {
     "name": "stdout",
     "output_type": "stream",
     "text": [
      "[1. 0. 1. 0.]\n",
      "optimal\n"
     ]
    }
   ],
   "source": [
    "# Exemple CyLP\n",
    "\n",
    "s = CyClpSimplex()\n",
    "\n",
    "# Add variables\n",
    "x = s.addVariable('x', 4)\n",
    "\n",
    "# Create coefficients and bounds\n",
    "A = np.matrix([[0.5, -5.5, -2.5, 9],[0.5, -1.5, -0.5, 1]])\n",
    "#B = np.matrix([[1., 0, 0], [0, 0, 1.]])\n",
    "#D = np.matrix([[1., 2.],[0, 1]])\n",
    "a = CyLPArray([0, 0])\n",
    "#b = CyLPArray([4.2, 3])\n",
    "x_u= CyLPArray([1])\n",
    "\n",
    "# Add constraints\n",
    "s += A * x <= a\n",
    "#s += 2 <= B * x + D * y <= b\n",
    "#s += y >= 0\n",
    "s += 0 <= x[0] <= x_u\n",
    "s += 0 <= x[1:4]\n",
    "\n",
    "# Set the objective function\n",
    "c = -CyLPArray([10, -57, -9, -24])\n",
    "s.objective = c * x \n",
    "\n",
    "# Solve using primal Simplex\n",
    "s.primal()\n",
    "print (s.primalVariableSolution['x'])\n",
    "print(s.getStatusString())"
   ]
  },
  {
   "cell_type": "code",
   "execution_count": 17,
   "metadata": {},
   "outputs": [
    {
     "name": "stdout",
     "output_type": "stream",
     "text": [
      "\n",
      "Constraints :\n",
      " [\n",
      "constraint R_11:\n",
      "variable names:\n",
      "['x']\n",
      "coefficients:\n",
      "{x: CyLPArray([1., 1., 1., 1.])}\n",
      "lower = [100.]\n",
      "upper = [100.]\n",
      "normal Constarint\n",
      ", \n",
      "constraint R_12:\n",
      "variable names:\n",
      "['x']\n",
      "coefficients:\n",
      "{x: CyLPArray([0., 0., 1., 1.])}\n",
      "lower = [17.]\n",
      "upper = [17.]\n",
      "normal Constarint\n",
      "]\n",
      "\n",
      "ConstraintMatrix :\n",
      "   (0, 0)\t1.0\n",
      "  (0, 1)\t1.0\n",
      "  (0, 2)\t1.0\n",
      "  (1, 2)\t1.0\n",
      "  (0, 3)\t1.0\n",
      "  (1, 3)\t1.0\n",
      "\n",
      "c =  [ 0.        -0.2256623 -0.4513246 -0.6769869]\n",
      "\n",
      "sol =  [ 0. 83.  0. 17.]\n",
      "\n",
      "ObjVal =  30.238748118668575\n",
      "\n",
      "SOL OPTIMALE ? =  dual infeasible\n"
     ]
    }
   ],
   "source": [
    "#version un peu stylé, mais pas trop\n",
    "\n",
    "s = CyClpSimplex()\n",
    "\n",
    "N = 4 # nombre de sites\n",
    "H = 10 # heures\n",
    "T = 2 # pas de temps\n",
    "offshore = 2  # index à partir duquel on commence à avoir des offshore\n",
    "kappa = 0.17\n",
    "\n",
    "\n",
    "# Add variables\n",
    "x = s.addVariable('x', N)\n",
    "\n",
    "# Create coefficients and bounds\n",
    "#p = CyLPArray([100])\n",
    "p=100\n",
    "\n",
    "\n",
    "# Add constraints\n",
    "s += CyLPArray(np.ones(N))*x == p\n",
    "\n",
    "offshorearray = np.zeros(N)\n",
    "offshorearray[offshore:] = 1\n",
    "s += CyLPArray(offshorearray)*x == kappa*p\n",
    "\n",
    "print (\"\\nConstraints :\\n\", s.constraints)\n",
    "print (\"\\nConstraintMatrix :\\n\", s.coefMatrix)\n",
    "\n",
    "# Set the objective function\n",
    "#c= -CyLPArray([ i%2 for i in range(N)])\n",
    "rend = np.array([[i/(j+40) for j in range(H)] for i in range(N)])\n",
    "rend_array = np.array([np.sum(rend[i]) for i in range(N)])\n",
    "c= -CyLPArray(rend_array)\n",
    "s.objective = c * x\n",
    "print(\"\\nc = \",s.objective)\n",
    "\n",
    "# Solve using primal Simplex\n",
    "s.primal()\n",
    "\n",
    "print (\"\\nsol = \",s.primalVariableSolution['x'])\n",
    "print(\"\\nObjVal = \", -s.objectiveValue)\n",
    "print(\"\\nSOL OPTIMALE ? = \", s.getStatusString())"
   ]
  },
  {
   "cell_type": "code",
   "execution_count": 25,
   "metadata": {},
   "outputs": [
    {
     "name": "stdout",
     "output_type": "stream",
     "text": [
      "[ 5 11]\n"
     ]
    }
   ],
   "source": [
    "n = np.array([[1,1,3],\n",
    "              [2,3,6]])\n",
    "array = np.array([np.sum(n[i]) for i in range(2)])\n",
    "print(array)"
   ]
  },
  {
   "cell_type": "code",
   "execution_count": 15,
   "metadata": {},
   "outputs": [
    {
     "data": {
      "text/plain": [
       "\"#Données\\n\\nPP = CyLPArray([2])\\nP = CyLPArray([1]) # puissance totale voulue\\nN = 3                     # nombre de sites\\nH = 10                    # nombres d'heures condidérées\\nk = 0.17                  # ratio de offshore\\n\\n\\ns = CyClpSimplex()\\n\\n# Add variables\\nx = s.addVariable('x',N)\\n\\nn= CyLPArray(np.transpose(np.array( [[random.random() for i in range(H)] for j in range(N)]  ))) \\n#n= CyLPArray(np.transpose(np.zeros((N,H)) )) #rendements fictis\\n\\n\\n# Add constraints\\ns += np.sum(x*np.ones(N)) >=  P\\ns += np.sum(x*np.ones(N)) <=  PP\\n\\n#s += x[2:]*np.ones(3-2+1) <= k*P\\n#s += x[2:]*np.ones(3-2+1) >= k*P\\n\\n\\n# Set the objective function\\ns.objective = -(x*n)\\n#s.objective = x\\n\\n\\n\\n\\n# Solve using primal Simplex\\ns.primal()\\nprint( s.primalVariableSolution['x'])\""
      ]
     },
     "execution_count": 15,
     "metadata": {},
     "output_type": "execute_result"
    }
   ],
   "source": [
    "#Version merdique\n",
    "\n",
    "\"\"\"#Données\n",
    "\n",
    "PP = CyLPArray([2])\n",
    "P = CyLPArray([1]) # puissance totale voulue\n",
    "N = 3                     # nombre de sites\n",
    "H = 10                    # nombres d'heures condidérées\n",
    "k = 0.17                  # ratio de offshore\n",
    "\n",
    "\n",
    "s = CyClpSimplex()\n",
    "\n",
    "# Add variables\n",
    "x = s.addVariable('x',N)\n",
    "\n",
    "n= CyLPArray(np.transpose(np.array( [[random.random() for i in range(H)] for j in range(N)]  ))) \n",
    "#n= CyLPArray(np.transpose(np.zeros((N,H)) )) #rendements fictis\n",
    "\n",
    "\n",
    "# Add constraints\n",
    "s += np.sum(x*np.ones(N)) >=  P\n",
    "s += np.sum(x*np.ones(N)) <=  PP\n",
    "\n",
    "#s += x[2:]*np.ones(3-2+1) <= k*P\n",
    "#s += x[2:]*np.ones(3-2+1) >= k*P\n",
    "\n",
    "\n",
    "# Set the objective function\n",
    "s.objective = -(x*n)\n",
    "#s.objective = x\n",
    "\n",
    "\n",
    "\n",
    "\n",
    "# Solve using primal Simplex\n",
    "s.primal()\n",
    "print( s.primalVariableSolution['x'])\"\"\""
   ]
  },
  {
   "cell_type": "code",
   "execution_count": 16,
   "metadata": {},
   "outputs": [
    {
     "name": "stdout",
     "output_type": "stream",
     "text": [
      "6\n",
      "[[1. 2. 3.]\n",
      " [1. 2. 3.]\n",
      " [1. 2. 3.]]\n"
     ]
    }
   ],
   "source": [
    "print(np.sum(CyLPArray(np.array([1,2,3]))*np.array([1,1,1])))\n",
    "\n",
    "a = np.ones((3,3))\n",
    "b = np.array([1,2,3])\n",
    "\n",
    "print(b*a)\n"
   ]
  },
  {
   "cell_type": "code",
   "execution_count": 17,
   "metadata": {
    "scrolled": false
   },
   "outputs": [
    {
     "name": "stdout",
     "output_type": "stream",
     "text": [
      "il y a 80 sites éoliens en France\n"
     ]
    },
    {
     "ename": "NameError",
     "evalue": "name 'matrice_rendements_onshore' is not defined",
     "output_type": "error",
     "traceback": [
      "\u001b[1;31m---------------------------------------------------------------------------\u001b[0m",
      "\u001b[1;31mNameError\u001b[0m                                 Traceback (most recent call last)",
      "\u001b[1;32m<ipython-input-17-8f0b7db6c375>\u001b[0m in \u001b[0;36m<module>\u001b[1;34m\u001b[0m\n\u001b[0;32m     18\u001b[0m     \u001b[0mplt\u001b[0m\u001b[1;33m.\u001b[0m\u001b[0mlegend\u001b[0m\u001b[1;33m(\u001b[0m\u001b[1;33m[\u001b[0m\u001b[1;34m'offshore'\u001b[0m\u001b[1;33m]\u001b[0m\u001b[1;33m)\u001b[0m\u001b[1;33m\u001b[0m\u001b[1;33m\u001b[0m\u001b[0m\n\u001b[0;32m     19\u001b[0m \u001b[1;32melse\u001b[0m\u001b[1;33m:\u001b[0m\u001b[1;33m\u001b[0m\u001b[1;33m\u001b[0m\u001b[0m\n\u001b[1;32m---> 20\u001b[1;33m     \u001b[0mplt\u001b[0m\u001b[1;33m.\u001b[0m\u001b[0mplot\u001b[0m\u001b[1;33m(\u001b[0m\u001b[0mvecteur_temps\u001b[0m\u001b[1;33m,\u001b[0m\u001b[0mmatrice_rendements_onshore\u001b[0m\u001b[1;33m[\u001b[0m\u001b[0mrandom_site\u001b[0m\u001b[1;33m]\u001b[0m\u001b[1;33m)\u001b[0m\u001b[1;33m\u001b[0m\u001b[1;33m\u001b[0m\u001b[0m\n\u001b[0m\u001b[0;32m     21\u001b[0m     \u001b[0mplt\u001b[0m\u001b[1;33m.\u001b[0m\u001b[0mlegend\u001b[0m\u001b[1;33m(\u001b[0m\u001b[1;33m[\u001b[0m\u001b[1;34m'onshore'\u001b[0m\u001b[1;33m]\u001b[0m\u001b[1;33m)\u001b[0m\u001b[1;33m\u001b[0m\u001b[1;33m\u001b[0m\u001b[0m\n\u001b[0;32m     22\u001b[0m \u001b[0mplt\u001b[0m\u001b[1;33m.\u001b[0m\u001b[0mxlabel\u001b[0m\u001b[1;33m(\u001b[0m\u001b[1;34m'temps : [années]'\u001b[0m\u001b[1;33m)\u001b[0m\u001b[1;33m\u001b[0m\u001b[1;33m\u001b[0m\u001b[0m\n",
      "\u001b[1;31mNameError\u001b[0m: name 'matrice_rendements_onshore' is not defined"
     ]
    },
    {
     "data": {
      "image/png": "[encoded data removed]",
      "text/plain": [
       "<Figure size 648x432 with 1 Axes>"
      ]
     },
     "metadata": {
      "needs_background": "light"
     },
     "output_type": "display_data"
    }
   ],
   "source": [
    "## Visualisation des rendements pour un pays\n",
    "\n",
    "pays_test = 'France'\n",
    "index_test = liste_pays_index_dic[pays_test]\n",
    "\n",
    "# nombre de sites éoliens\n",
    "index_sites_eoliens = sites[sites.pays==pays_test]['index site']\n",
    "n_eoliens = len(index_sites_eoliens)\n",
    "print('il y a '+str(n_eoliens)+' sites éoliens en '+str(pays_test))\n",
    "\n",
    "# rendements eolien au hasard\n",
    "random_site = np.random.choice(index_sites_eoliens)\n",
    "plt.figure(figsize=(9,6))\n",
    "plt.grid()\n",
    "plt.title('rendement éolien: '+str(pays_test))\n",
    "if sites.loc[random_site]['capacite offshore']=='Oui':\n",
    "    plt.plot(vecteur_temps,matrice_rendements_offshore[random_site])\n",
    "    plt.legend(['offshore'])\n",
    "else:\n",
    "    plt.plot(vecteur_temps,matrice_rendements_onshore[random_site])\n",
    "    plt.legend(['onshore'])\n",
    "plt.xlabel('temps : [années]')\n",
    "plt.ylabel('rendement éolien: [/]')\n",
    "\n",
    "print('rendement moyen offshore pour le pays: '+str(np.mean(matrice_rendements_offshore[index_sites_eoliens])))\n",
    "print('rendement moyen onshore pour le pays: '+str(np.mean(matrice_rendements_onshore[index_sites_eoliens])))\n",
    "\n",
    "# capacité éoliennes maximales tolérables\n",
    "buf_ok_offshore = (sites.pays==pays_test) & (sites['capacite offshore']=='Oui')\n",
    "buf_ok_onshore = (sites.pays==pays_test) & (sites['capacite offshore']=='Non')\n",
    "\n",
    "print(' => capacité éolienne totale offshore : [MW] '+str(sites[buf_ok_offshore]['capacites'].sum()))\n",
    "print(' => capacité éolienne totale offshore : [MW] '+str(sites[buf_ok_onshore]['capacites'].sum()))\n",
    "\n",
    "# latitude/longitude\n",
    "print('le pays '+str(pays_test)+' se trouve  à une latitude de '+str(sites.loc[random_site]['latitude'])+' et une longitude de '+\\\n",
    "      str(sites.loc[random_site]['longitude']))"
   ]
  },
  {
   "cell_type": "code",
   "execution_count": null,
   "metadata": {},
   "outputs": [],
   "source": []
  }
 ],
 "metadata": {
  "kernelspec": {
   "display_name": "Python 3",
   "language": "python",
   "name": "python3"
  },
  "language_info": {
   "codemirror_mode": {
    "name": "ipython",
    "version": 3
   },
   "file_extension": ".py",
   "mimetype": "text/x-python",
   "name": "python",
   "nbconvert_exporter": "python",
   "pygments_lexer": "ipython3",
   "version": "3.7.4"
  },
  "pycharm": {
   "stem_cell": {
    "cell_type": "raw",
    "metadata": {
     "collapsed": false
    },
    "source": []
   }
  }
 },
 "nbformat": 4,
 "nbformat_minor": 4
}
