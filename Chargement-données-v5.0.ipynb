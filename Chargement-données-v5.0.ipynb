{
 "cells": [
  {
   "cell_type": "markdown",
   "metadata": {},
   "source": [
    "<h1 align=\"center\">Localisation optimale des capacités de production éoliennes en Europe</h1> \n",
    "<h2 align =\"center\"> LINMA1702 : Modèles et méthodes d'optimisation </h2>\n",
    "<h3 align = \"center\">  Boucquey Matthieu - Chung Anthony - Lovat Louis </h3>\n",
    "<h3 align= \"center\"> Avril 2020 </h3>"
   ]
  },
  {
   "cell_type": "markdown",
   "metadata": {},
   "source": [
    "<h1> Introduction </h1>"
   ]
  },
  {
   "cell_type": "markdown",
   "metadata": {},
   "source": [
    "<p>Dans le contexte de la transition énergétique, on souhaite étudier un scénario où une partie significative de la production d’électricité en Europe serait assurée par de l’<b>énergie éolienne</b>, produite sur des sites onshore ou offshore. Vu la relative instabilité de ce type de production, nous allons étudier, sous certaines hypothèses, les données à notre disposition afin d'être en mesure de déterminer parmi les sites éoliens à quels endroits et avec quelle capacité il faudrait installer des éoliennes pour obtenir la plus grande production d’énergie possible. </p>"
   ]
  },
  {
   "cell_type": "code",
   "execution_count": 7,
   "metadata": {
    "pycharm": {
     "is_executing": false
    }
   },
   "outputs": [],
   "source": [
    "import numpy as np\n",
    "\n",
    "from cylp.cy import CyClpSimplex\n",
    "from cylp.py.modeling.CyLPModel import CyLPArray\n",
    "\n",
    "import matplotlib.pyplot as plt\n",
    "import math \n",
    "import pandas as pd\n",
    "import plotly.graph_objects as go\n",
    "import matplotlib.colors as colors\n",
    "import random\n",
    "\n",
    "colors_list = list(colors._colors_full_map.values())\n",
    "random.shuffle(colors_list)\n",
    "\n",
    "%matplotlib notebook"
   ]
  },
  {
   "cell_type": "markdown",
   "metadata": {},
   "source": [
    "<h1> Partie I. Analyse d'un modèle européen intégré </h1>\n",
    "\n",
    "Dans une première phase, nous allons chercher à <b>maximiser l’énergie totale </b>qui sera produite par les différentes installations de production d'électricité éolienne au cours d’une année. Pour ce faire, nous procédrons successivement à une clarification des données à notre disposition et des hypothèses à établir, à une modélisation linéaire du problème posé et enfin à sa résolution. Nous tâcherons également d'envisager certaines variantes et comparerons celles-ci au modèle initial."
   ]
  },
  {
   "cell_type": "markdown",
   "metadata": {},
   "source": [
    "<h2> Données et Hypothèses </h2> \n",
    "\n",
    "Tout d'abord, clarifions les outils mis à notre disposition et les hypothèses nécessaire à la formulation d'un modèle raisonnablement soluble. Les voici donc listés ci-après.\n",
    "\n",
    "Données fournies :\n",
    "><ul>\n",
    ">    <li> 642 sites éoliens (onshore ou offshore) avec une instalation de puissance comprise entre 0 et leur capacité maximale fixée.\n",
    ">    <li> Sur une année complète, le rendement heure par heure pour chacun des sites.\n",
    "></ul>\n",
    "\n",
    "<i>Nous extrayons également dans les données des éléments nécessaires, dans un second temps, à la l'implémentation du modèle.</i>\n",
    "\n",
    "Hypothèses posées :\n",
    "><ul>\n",
    ">    <li> La production d'énergie supposée constante heure par heure.\n",
    ">    <li> Une puissance $P$ est à installer à travers l'Europe sans distinguer les pays.\n",
    ">    <li> Une fraction $\\kappa$ de la puissance installable $P$ doit être de type offshore.\n",
    ">    <li> La variabilité moyenne de la puissance produite est inférieure à une proportion $\\delta$ de la puissance installable $P$.\n",
    ">    <li> La variabilité moyenne est supposée non cyclique. <i>(En effet, les années ne se ressemble pas nécessairement)</i>\n",
    ">    <li> On considère la variabilité sur des intervalles de temps de $T$ heures.    \n",
    "></ul>\n",
    "\n"
   ]
  },
  {
   "cell_type": "code",
   "execution_count": 8,
   "metadata": {
    "pycharm": {
     "is_executing": false
    }
   },
   "outputs": [],
   "source": [
    "### Paramètres globaux ###\n",
    "\n",
    "N_sites = 642            # Nombre de sites considérés\n",
    "#N_heures = 24*365       # Période considérée (en [heure])\n",
    "N_heures = 732\n",
    "\n",
    "P = 500000               # Puissance à répartir parmi les sites (en [MW])\n",
    "κ = 0.17                 # Proportion de la contribution des sites offshore\n",
    "δ = 0.02                 # Coefficient borne la variabilité de la production d'énergie\n",
    "T = 3                    # Pas de temps considéré pour la contrainte de variabilité (en [heure])"
   ]
  },
  {
   "cell_type": "code",
   "execution_count": 9,
   "metadata": {
    "pycharm": {
     "is_executing": false
    },
    "scrolled": false
   },
   "outputs": [],
   "source": [
    "### Chargement et traitement des données brutes (I) : Identité des sites ###\n",
    "\n",
    "sites = pd.read_csv('Sites.csv', index_col = \"index site\").sort_index()\n",
    "sites_onshore = sites[sites['capacite offshore']=='Non'].copy()\n",
    "sites_offshore = sites[sites['capacite offshore']=='Oui'].copy()\n",
    "\n",
    "indice_onshore= np.array(sites_onshore.index)\n",
    "indice_offshore= np.array(sites_offshore.index)"
   ]
  },
  {
   "cell_type": "code",
   "execution_count": 10,
   "metadata": {
    "pycharm": {
     "is_executing": false
    }
   },
   "outputs": [],
   "source": [
    "### Chargement et traitement des données brutes (II)  : Rendements des sites ###\n",
    "\n",
    "rend_offshore_brut = np.genfromtxt('Rendements_offshore.csv', delimiter=',')[:,:N_heures]\n",
    "rend_onshore_brut = np.genfromtxt('Rendements_onshore.csv', delimiter=',')[:,:N_heures]\n",
    "\n",
    "rend_sites_matrix = rend_onshore_brut.copy()   \n",
    "rend_sites_matrix[indice_offshore] = rend_offshore_brut[indice_offshore]"
   ]
  },
  {
   "cell_type": "markdown",
   "metadata": {},
   "source": [
    "Voici par exemple les sites éoliens selon leur capacité maximale installable."
   ]
  },
  {
   "cell_type": "code",
   "execution_count": 11,
   "metadata": {},
   "outputs": [
    {
     "data": {
      "application/vnd.plotly.v1+json": {
       "config": {
        "plotlyServerURL": "https://plot.ly"
       },
       "data": [
        {
         "lat": [
          54,
          54,
          54,
          54,
          54,
          54,
          54,
          54,
          53,
          53,
          53,
          53,
          53,
          53,
          53,
          52,
          52,
          52,
          52,
          52,
          52,
          52,
          52,
          51,
          51,
          51,
          51,
          51,
          51,
          51,
          51,
          50,
          50,
          50,
          50,
          50,
          50,
          49,
          49,
          49,
          49,
          49,
          49,
          48,
          48,
          48,
          48,
          48,
          56,
          55,
          49,
          48,
          48,
          48,
          48,
          48,
          47,
          47,
          47,
          47,
          47,
          52,
          51,
          51,
          51,
          50,
          58,
          57,
          57,
          57,
          57,
          57,
          57,
          56,
          56,
          56,
          56,
          56,
          56,
          56,
          55,
          55,
          55,
          55,
          55,
          55,
          55,
          58,
          44,
          43,
          43,
          43,
          43,
          43,
          43,
          43,
          43,
          43,
          42,
          42,
          42,
          42,
          42,
          42,
          42,
          42,
          42,
          42,
          42,
          42,
          41,
          41,
          41,
          41,
          41,
          41,
          41,
          41,
          41,
          40,
          40,
          40,
          40,
          40,
          40,
          40,
          39,
          39,
          39,
          39,
          39,
          39,
          39,
          39,
          38,
          38,
          38,
          38,
          38,
          38,
          38,
          37,
          37,
          37,
          37,
          37,
          37,
          36,
          36,
          44,
          44,
          44,
          40,
          39,
          40,
          40,
          39,
          51,
          50,
          50,
          50,
          50,
          50,
          50,
          50,
          49,
          49,
          49,
          49,
          49,
          49,
          49,
          49,
          49,
          49,
          49,
          49,
          48,
          48,
          48,
          48,
          48,
          48,
          48,
          48,
          48,
          48,
          48,
          48,
          48,
          47,
          47,
          47,
          47,
          47,
          47,
          47,
          47,
          47,
          46,
          46,
          46,
          46,
          46,
          46,
          46,
          46,
          45,
          45,
          45,
          45,
          45,
          45,
          45,
          45,
          44,
          44,
          44,
          44,
          44,
          44,
          44,
          44,
          44,
          43,
          43,
          43,
          43,
          43,
          47,
          46,
          43,
          43,
          43,
          42,
          55,
          55,
          54,
          54,
          54,
          54,
          53,
          53,
          53,
          53,
          53,
          52,
          52,
          52,
          52,
          52,
          47,
          46,
          46,
          46,
          46,
          45,
          45,
          45,
          45,
          45,
          45,
          45,
          44,
          44,
          44,
          44,
          44,
          43,
          43,
          43,
          43,
          43,
          42,
          42,
          42,
          42,
          42,
          41,
          41,
          41,
          41,
          41,
          40,
          40,
          40,
          39,
          39,
          38,
          38,
          38,
          38,
          37,
          37,
          38,
          37,
          37,
          40,
          41,
          44,
          41,
          40,
          39,
          41,
          40,
          39,
          41,
          40,
          50,
          71,
          71,
          71,
          71,
          71,
          71,
          71,
          71,
          70,
          70,
          70,
          70,
          70,
          70,
          70,
          70,
          70,
          70,
          70,
          70,
          70,
          70,
          69,
          69,
          69,
          69,
          69,
          69,
          69,
          69,
          69,
          69,
          69,
          68,
          68,
          68,
          68,
          68,
          67,
          67,
          67,
          67,
          66,
          66,
          66,
          65,
          65,
          65,
          65,
          64,
          64,
          64,
          64,
          63,
          63,
          63,
          63,
          63,
          63,
          63,
          62,
          62,
          62,
          62,
          62,
          62,
          62,
          62,
          61,
          61,
          61,
          61,
          61,
          61,
          61,
          61,
          60,
          60,
          60,
          60,
          60,
          60,
          60,
          60,
          59,
          59,
          59,
          59,
          59,
          59,
          58,
          58,
          58,
          71,
          70,
          67,
          58,
          58,
          58,
          57,
          57,
          55,
          55,
          54,
          54,
          54,
          53,
          53,
          53,
          53,
          53,
          52,
          52,
          52,
          51,
          56,
          42,
          41,
          41,
          41,
          40,
          40,
          40,
          39,
          39,
          38,
          38,
          37,
          37,
          62,
          61,
          60,
          60,
          59,
          59,
          59,
          59,
          59,
          58,
          58,
          58,
          58,
          58,
          58,
          58,
          57,
          57,
          57,
          57,
          57,
          57,
          57,
          56,
          56,
          56,
          56,
          56,
          56,
          55,
          55,
          55,
          55,
          55,
          55,
          55,
          55,
          55,
          55,
          55,
          54,
          54,
          54,
          54,
          54,
          54,
          54,
          54,
          54,
          54,
          53,
          53,
          53,
          53,
          53,
          53,
          53,
          53,
          52,
          52,
          52,
          52,
          52,
          52,
          52,
          52,
          51,
          51,
          51,
          51,
          51,
          51,
          51,
          50,
          50,
          50,
          56,
          57,
          56,
          57,
          58,
          56,
          57,
          56,
          57,
          50,
          56,
          56,
          57,
          60,
          68,
          68,
          68,
          68,
          68,
          68,
          67,
          67,
          67,
          67,
          67,
          67,
          67,
          66,
          66,
          66,
          66,
          66,
          66,
          66,
          66,
          66,
          66,
          65,
          65,
          65,
          65,
          65,
          65,
          65,
          65,
          64,
          64,
          64,
          64,
          64,
          64,
          64,
          64,
          64,
          63,
          63,
          63,
          63,
          63,
          63,
          63,
          62,
          62,
          62,
          62,
          62,
          62,
          61,
          61,
          61,
          61,
          61,
          61,
          61,
          60,
          60,
          60,
          60,
          60,
          60,
          60,
          59,
          59,
          59,
          59,
          59,
          59,
          59,
          59,
          59,
          58,
          58,
          58,
          58,
          58,
          58,
          58,
          58,
          57,
          57,
          57,
          57,
          57,
          57,
          57,
          57,
          56,
          56,
          56,
          56,
          56,
          55,
          55,
          65,
          64,
          63,
          62,
          55,
          59,
          56,
          58,
          47,
          47,
          47,
          47,
          46,
          46,
          46
         ],
         "lon": [
          7,
          8,
          9,
          10,
          11,
          12,
          13,
          14,
          8,
          9,
          10,
          11,
          12,
          13,
          14,
          7,
          8,
          9,
          10,
          11,
          12,
          13,
          14,
          7,
          8,
          9,
          10,
          11,
          12,
          13,
          14,
          7,
          8,
          9,
          10,
          11,
          12,
          8,
          9,
          10,
          11,
          12,
          13,
          8,
          9,
          10,
          11,
          12,
          5,
          6,
          15,
          13,
          14,
          15,
          16,
          17,
          11,
          13,
          14,
          15,
          16,
          3,
          3,
          4,
          5,
          5,
          10,
          6,
          7,
          8,
          9,
          10,
          11,
          6,
          7,
          8,
          9,
          10,
          11,
          12,
          7,
          8,
          9,
          10,
          11,
          12,
          13,
          9,
          -8,
          -9,
          -8,
          -7,
          -6,
          -5,
          -4,
          -3,
          -2,
          -1,
          -8,
          -7,
          -6,
          -5,
          -4,
          -3,
          -2,
          -1,
          0,
          1,
          2,
          3,
          -6,
          -5,
          -4,
          -3,
          -2,
          -1,
          0,
          1,
          2,
          -6,
          -5,
          -4,
          -3,
          -2,
          -1,
          0,
          -7,
          -6,
          -5,
          -4,
          -3,
          -2,
          -1,
          0,
          -7,
          -6,
          -5,
          -4,
          -3,
          -2,
          -1,
          -7,
          -6,
          -5,
          -4,
          -3,
          -2,
          -6,
          -5,
          -7,
          -6,
          -5,
          1,
          1,
          3,
          4,
          3,
          2,
          -2,
          -1,
          0,
          1,
          2,
          3,
          4,
          -4,
          -3,
          -2,
          -1,
          0,
          1,
          2,
          3,
          4,
          5,
          6,
          7,
          -5,
          -4,
          -3,
          -2,
          -1,
          0,
          1,
          2,
          3,
          4,
          5,
          6,
          7,
          -2,
          -1,
          0,
          1,
          2,
          3,
          4,
          5,
          6,
          -1,
          0,
          1,
          2,
          3,
          4,
          5,
          6,
          -1,
          0,
          1,
          2,
          3,
          4,
          5,
          6,
          -1,
          0,
          1,
          2,
          3,
          4,
          5,
          6,
          7,
          0,
          1,
          2,
          3,
          6,
          -3,
          -2,
          4,
          5,
          9,
          9,
          -9,
          -8,
          -10,
          -9,
          -8,
          -7,
          -10,
          -9,
          -8,
          -7,
          -6,
          -10,
          -9,
          -8,
          -7,
          -6,
          12,
          10,
          11,
          12,
          13,
          7,
          8,
          9,
          10,
          11,
          12,
          13,
          8,
          10,
          11,
          12,
          13,
          10,
          11,
          12,
          13,
          14,
          12,
          13,
          14,
          15,
          16,
          13,
          14,
          15,
          16,
          17,
          15,
          16,
          18,
          16,
          17,
          13,
          14,
          15,
          16,
          14,
          15,
          12,
          13,
          12,
          17,
          18,
          14,
          9,
          9,
          9,
          8,
          8,
          8,
          10,
          10,
          6,
          23,
          24,
          25,
          26,
          27,
          28,
          29,
          30,
          18,
          19,
          20,
          21,
          22,
          23,
          24,
          25,
          26,
          27,
          28,
          29,
          30,
          31,
          15,
          16,
          17,
          18,
          19,
          20,
          21,
          22,
          23,
          24,
          25,
          13,
          14,
          15,
          16,
          17,
          13,
          14,
          15,
          16,
          12,
          13,
          14,
          11,
          12,
          13,
          14,
          9,
          10,
          11,
          12,
          6,
          7,
          8,
          9,
          10,
          11,
          12,
          5,
          6,
          7,
          8,
          9,
          10,
          11,
          12,
          5,
          6,
          7,
          8,
          9,
          10,
          11,
          12,
          5,
          6,
          7,
          8,
          9,
          10,
          11,
          12,
          5,
          6,
          7,
          8,
          9,
          10,
          6,
          7,
          8,
          22,
          17,
          12,
          5,
          4,
          3,
          5,
          4,
          4,
          5,
          4,
          5,
          6,
          3,
          4,
          5,
          6,
          7,
          4,
          5,
          6,
          6,
          4,
          -9,
          -9,
          -8,
          -7,
          -9,
          -8,
          -7,
          -9,
          -8,
          -9,
          -8,
          -9,
          -8,
          -7,
          -1,
          -2,
          -1,
          -6,
          -5,
          -4,
          -3,
          -2,
          -8,
          -7,
          -6,
          -5,
          -4,
          -3,
          -2,
          -7,
          -6,
          -5,
          -4,
          -3,
          -2,
          -1,
          -6,
          -5,
          -4,
          -3,
          -2,
          -1,
          -7,
          -6,
          -5,
          -4,
          -3,
          -2,
          -1,
          0,
          1,
          2,
          3,
          -6,
          -5,
          -4,
          -3,
          -2,
          -1,
          0,
          1,
          2,
          3,
          -5,
          -4,
          -3,
          -2,
          -1,
          0,
          1,
          2,
          -5,
          -4,
          -3,
          -2,
          -1,
          0,
          1,
          2,
          -5,
          -4,
          -3,
          -2,
          -1,
          0,
          1,
          -6,
          -5,
          -4,
          3,
          3,
          2,
          2,
          2,
          1,
          1,
          0,
          0,
          -3,
          -7,
          -8,
          -8,
          -3,
          18,
          19,
          20,
          21,
          22,
          23,
          17,
          18,
          19,
          20,
          21,
          22,
          23,
          15,
          16,
          17,
          18,
          19,
          20,
          21,
          22,
          23,
          24,
          15,
          16,
          17,
          18,
          19,
          20,
          21,
          22,
          13,
          14,
          15,
          16,
          17,
          18,
          19,
          20,
          21,
          13,
          14,
          15,
          16,
          17,
          18,
          19,
          13,
          14,
          15,
          16,
          17,
          18,
          13,
          14,
          15,
          16,
          17,
          18,
          19,
          13,
          14,
          15,
          16,
          17,
          18,
          19,
          11,
          12,
          13,
          14,
          15,
          16,
          17,
          18,
          19,
          11,
          12,
          13,
          14,
          15,
          16,
          17,
          19,
          12,
          13,
          14,
          15,
          16,
          17,
          18,
          19,
          13,
          14,
          15,
          16,
          17,
          14,
          15,
          23,
          22,
          20,
          19,
          16,
          20,
          18,
          18,
          7,
          8,
          9,
          10,
          7,
          8,
          9
         ],
         "marker": {
          "color": [
           "#7b0323",
           "#7b0323",
           "#7b0323",
           "#7b0323",
           "#7b0323",
           "#7b0323",
           "#7b0323",
           "#7b0323",
           "#7b0323",
           "#7b0323",
           "#7b0323",
           "#7b0323",
           "#7b0323",
           "#7b0323",
           "#7b0323",
           "#7b0323",
           "#7b0323",
           "#7b0323",
           "#7b0323",
           "#7b0323",
           "#7b0323",
           "#7b0323",
           "#7b0323",
           "#7b0323",
           "#7b0323",
           "#7b0323",
           "#7b0323",
           "#7b0323",
           "#7b0323",
           "#7b0323",
           "#7b0323",
           "#7b0323",
           "#7b0323",
           "#7b0323",
           "#7b0323",
           "#7b0323",
           "#7b0323",
           "#808080",
           "#7b0323",
           "#7b0323",
           "#7b0323",
           "#7b0323",
           "#7b0323",
           "#7b0323",
           "#7b0323",
           "#7b0323",
           "#7b0323",
           "#7b0323",
           "#A9A9A9",
           "#7b0323",
           "#ADD8E6",
           "#ADD8E6",
           "#ADD8E6",
           "#ADD8E6",
           "#ADD8E6",
           "#ADD8E6",
           "#ADD8E6",
           "#ADD8E6",
           "#ADD8E6",
           "#ADD8E6",
           "#ADD8E6",
           "#04d8b2",
           "#FFFAF0",
           "#FFFAF0",
           "#FFFAF0",
           "#FFFAF0",
           "#758da3",
           "#A9A9A9",
           "#A9A9A9",
           "#A9A9A9",
           "#A9A9A9",
           "#A9A9A9",
           "#A9A9A9",
           "#A9A9A9",
           "#A9A9A9",
           "#A9A9A9",
           "#A9A9A9",
           "#A9A9A9",
           "#A9A9A9",
           "#A9A9A9",
           "#7b0323",
           "#7b0323",
           "#A9A9A9",
           "#A9A9A9",
           "#A9A9A9",
           "#A9A9A9",
           "#A9A9A9",
           "#c69f59",
           "#cf524e",
           "#cf524e",
           "#cf524e",
           "#cf524e",
           "#cf524e",
           "#cf524e",
           "#cf524e",
           "#cf524e",
           "#cf524e",
           "#808080",
           "#cf524e",
           "#cf524e",
           "#cf524e",
           "#cf524e",
           "#cf524e",
           "#cf524e",
           "#cf524e",
           "#cf524e",
           "#cf524e",
           "#cf524e",
           "#cf524e",
           "#cf524e",
           "#cf524e",
           "#cf524e",
           "#cf524e",
           "#cf524e",
           "#cf524e",
           "#cf524e",
           "#cf524e",
           "#cf524e",
           "#cf524e",
           "#cf524e",
           "#cf524e",
           "#cf524e",
           "#cf524e",
           "#cf524e",
           "#cf524e",
           "#cf524e",
           "#FF00FF",
           "#cf524e",
           "#cf524e",
           "#cf524e",
           "#cf524e",
           "#cf524e",
           "#cf524e",
           "#cf524e",
           "#cf524e",
           "#cf524e",
           "#cf524e",
           "#cf524e",
           "#cf524e",
           "#cf524e",
           "#cf524e",
           "#cf524e",
           "#cf524e",
           "#cf524e",
           "#cf524e",
           "#cf524e",
           "#cf524e",
           "#cf524e",
           "#cf524e",
           "#cf524e",
           "#cf524e",
           "#cf524e",
           "#cf524e",
           "#cf524e",
           "#cf524e",
           "#cf524e",
           "#cf524e",
           "#808080",
           "#808080",
           "#808080",
           "#808080",
           "#808080",
           "#808080",
           "#808080",
           "#808080",
           "#808080",
           "#808080",
           "#808080",
           "#808080",
           "#808080",
           "#808080",
           "#808080",
           "#808080",
           "#808080",
           "#808080",
           "#808080",
           "#808080",
           "#808080",
           "#808080",
           "#808080",
           "#808080",
           "#808080",
           "#808080",
           "#808080",
           "#808080",
           "#808080",
           "#808080",
           "#808080",
           "#808080",
           "#808080",
           "#808080",
           "#808080",
           "#808080",
           "#808080",
           "#808080",
           "#808080",
           "#808080",
           "#808080",
           "#808080",
           "#808080",
           "#808080",
           "#808080",
           "#808080",
           "#808080",
           "#808080",
           "#808080",
           "#808080",
           "#808080",
           "#808080",
           "#808080",
           "#808080",
           "#808080",
           "#808080",
           "#808080",
           "#808080",
           "#808080",
           "#808080",
           "#808080",
           "#808080",
           "#808080",
           "#808080",
           "#808080",
           "#808080",
           "#808080",
           "#808080",
           "#808080",
           "#808080",
           "#808080",
           "#808080",
           "#808080",
           "#808080",
           "#808080",
           "#808080",
           "#ffe5ad",
           "#808080",
           "#8c0034",
           "#8c0034",
           "#8c0034",
           "#8c0034",
           "#8c0034",
           "#8c0034",
           "#8c0034",
           "#8c0034",
           "#8c0034",
           "#8c0034",
           "#8c0034",
           "#8c0034",
           "#8c0034",
           "#8c0034",
           "#8c0034",
           "#8c0034",
           "#ffe5ad",
           "#ffe5ad",
           "#ffe5ad",
           "#ffe5ad",
           "#ffe5ad",
           "#ffe5ad",
           "#ffe5ad",
           "#ffe5ad",
           "#ffe5ad",
           "#ffe5ad",
           "#ffe5ad",
           "#ffe5ad",
           "#ffe5ad",
           "#ffe5ad",
           "#ffe5ad",
           "#ffe5ad",
           "#ffe5ad",
           "#ffe5ad",
           "#ffe5ad",
           "#ffe5ad",
           "#ffe5ad",
           "#ffe5ad",
           "#ffe5ad",
           "#ffe5ad",
           "#ffe5ad",
           "#ffe5ad",
           "#ffe5ad",
           "#ffe5ad",
           "#ffe5ad",
           "#ffe5ad",
           "#ffe5ad",
           "#ffe5ad",
           "#ffe5ad",
           "#ffe5ad",
           "#ffe5ad",
           "#ffe5ad",
           "#ffe5ad",
           "#ffe5ad",
           "#ffe5ad",
           "#ffe5ad",
           "#ffe5ad",
           "#ffe5ad",
           "#ffe5ad",
           "#ffe5ad",
           "#ffe5ad",
           "#ffe5ad",
           "#ffe5ad",
           "#ffe5ad",
           "#ffe5ad",
           "#ffe5ad",
           "#ffe5ad",
           "#ffe5ad",
           "#ffe5ad",
           "#ffe5ad",
           "#ffe5ad",
           "#ffe5ad",
           "#ffe5ad",
           "#21c36f",
           "#c69f59",
           "#c69f59",
           "#c69f59",
           "#c69f59",
           "#c69f59",
           "#c69f59",
           "#c69f59",
           "#c69f59",
           "#c69f59",
           "#c69f59",
           "#c69f59",
           "#c69f59",
           "#c69f59",
           "#c69f59",
           "#c69f59",
           "#c69f59",
           "#c69f59",
           "#c69f59",
           "#758da3",
           "#c69f59",
           "#c69f59",
           "#c69f59",
           "#c69f59",
           "#c69f59",
           "#c69f59",
           "#c69f59",
           "#c69f59",
           "#c69f59",
           "#758da3",
           "#758da3",
           "#c69f59",
           "#c69f59",
           "#c69f59",
           "#c69f59",
           "#c69f59",
           "#c69f59",
           "#c69f59",
           "#c69f59",
           "#c69f59",
           "#c69f59",
           "#c69f59",
           "#c69f59",
           "#c69f59",
           "#c69f59",
           "#c69f59",
           "#c69f59",
           "#c69f59",
           "#c69f59",
           "#c69f59",
           "#c69f59",
           "#c69f59",
           "#c69f59",
           "#c69f59",
           "#c69f59",
           "#c69f59",
           "#c69f59",
           "#c69f59",
           "#c69f59",
           "#c69f59",
           "#c69f59",
           "#c69f59",
           "#c69f59",
           "#c69f59",
           "#c69f59",
           "#c69f59",
           "#c69f59",
           "#c69f59",
           "#c69f59",
           "#c69f59",
           "#c69f59",
           "#c69f59",
           "#c69f59",
           "#c69f59",
           "#c69f59",
           "#c69f59",
           "#c69f59",
           "#c69f59",
           "#c69f59",
           "#c69f59",
           "#c69f59",
           "#c69f59",
           "#c69f59",
           "#c69f59",
           "#c69f59",
           "#c69f59",
           "#c69f59",
           "#c69f59",
           "#c69f59",
           "#c69f59",
           "#c69f59",
           "#c69f59",
           "#c69f59",
           "#c69f59",
           "#c69f59",
           "#c69f59",
           "#c69f59",
           "#c69f59",
           "#c69f59",
           "#c69f59",
           "#c69f59",
           "#c69f59",
           "#04d8b2",
           "#7b0323",
           "#04d8b2",
           "#04d8b2",
           "#04d8b2",
           "#04d8b2",
           "#04d8b2",
           "#04d8b2",
           "#04d8b2",
           "#04d8b2",
           "#04d8b2",
           "#04d8b2",
           "#04d8b2",
           "#7b0323",
           "#A9A9A9",
           "#cf524e",
           "#FF00FF",
           "#FF00FF",
           "#FF00FF",
           "#FF00FF",
           "#FF00FF",
           "#FF00FF",
           "#FF00FF",
           "#FF00FF",
           "#FF00FF",
           "#FF00FF",
           "#FF00FF",
           "#FF00FF",
           "#419c03",
           "#419c03",
           "#419c03",
           "#419c03",
           "#419c03",
           "#419c03",
           "#419c03",
           "#419c03",
           "#419c03",
           "#419c03",
           "#419c03",
           "#419c03",
           "#419c03",
           "#419c03",
           "#419c03",
           "#419c03",
           "#419c03",
           "#419c03",
           "#419c03",
           "#419c03",
           "#419c03",
           "#419c03",
           "#419c03",
           "#419c03",
           "#419c03",
           "#419c03",
           "#419c03",
           "#419c03",
           "#419c03",
           "#419c03",
           "#419c03",
           "#419c03",
           "#419c03",
           "#419c03",
           "#419c03",
           "#419c03",
           "#419c03",
           "#419c03",
           "#419c03",
           "#419c03",
           "#419c03",
           "#419c03",
           "#419c03",
           "#419c03",
           "#419c03",
           "#419c03",
           "#419c03",
           "#419c03",
           "#419c03",
           "#04d8b2",
           "#419c03",
           "#419c03",
           "#419c03",
           "#419c03",
           "#419c03",
           "#419c03",
           "#419c03",
           "#419c03",
           "#419c03",
           "#419c03",
           "#419c03",
           "#419c03",
           "#419c03",
           "#419c03",
           "#419c03",
           "#419c03",
           "#419c03",
           "#419c03",
           "#419c03",
           "#419c03",
           "#419c03",
           "#419c03",
           "#419c03",
           "#419c03",
           "#419c03",
           "#419c03",
           "#419c03",
           "#c69f59",
           "#419c03",
           "#419c03",
           "#c69f59",
           "#419c03",
           "#419c03",
           "#419c03",
           "#419c03",
           "#808080",
           "#419c03",
           "#8c0034",
           "#419c03",
           "#419c03",
           "#758da3",
           "#758da3",
           "#758da3",
           "#758da3",
           "#758da3",
           "#758da3",
           "#758da3",
           "#758da3",
           "#758da3",
           "#758da3",
           "#758da3",
           "#758da3",
           "#758da3",
           "#758da3",
           "#758da3",
           "#758da3",
           "#758da3",
           "#758da3",
           "#758da3",
           "#758da3",
           "#758da3",
           "#758da3",
           "#758da3",
           "#758da3",
           "#758da3",
           "#758da3",
           "#758da3",
           "#758da3",
           "#758da3",
           "#758da3",
           "#758da3",
           "#758da3",
           "#758da3",
           "#758da3",
           "#758da3",
           "#758da3",
           "#758da3",
           "#758da3",
           "#758da3",
           "#758da3",
           "#758da3",
           "#758da3",
           "#758da3",
           "#758da3",
           "#758da3",
           "#758da3",
           "#758da3",
           "#758da3",
           "#758da3",
           "#758da3",
           "#758da3",
           "#758da3",
           "#758da3",
           "#758da3",
           "#758da3",
           "#758da3",
           "#758da3",
           "#758da3",
           "#758da3",
           "#758da3",
           "#758da3",
           "#758da3",
           "#758da3",
           "#758da3",
           "#758da3",
           "#758da3",
           "#758da3",
           "#c69f59",
           "#758da3",
           "#758da3",
           "#758da3",
           "#758da3",
           "#758da3",
           "#758da3",
           "#758da3",
           "#758da3",
           "#758da3",
           "#758da3",
           "#758da3",
           "#758da3",
           "#758da3",
           "#758da3",
           "#758da3",
           "#758da3",
           "#758da3",
           "#758da3",
           "#758da3",
           "#758da3",
           "#758da3",
           "#758da3",
           "#758da3",
           "#758da3",
           "#758da3",
           "#758da3",
           "#758da3",
           "#758da3",
           "#758da3",
           "#A9A9A9",
           "#A9A9A9",
           "#758da3",
           "#758da3",
           "#758da3",
           "#758da3",
           "#A9A9A9",
           "#758da3",
           "#758da3",
           "#758da3",
           "#9ACD32",
           "#9ACD32",
           "#9ACD32",
           "#ADD8E6",
           "#9ACD32",
           "#9ACD32",
           "#9ACD32"
          ],
          "size": [
           13.940249999999999,
           12.516011672237045,
           8.339516053481244,
           7.042969313140788,
           7.042969313140788,
           8.339516053481244,
           9.09902809411748,
           9.09902809411748,
           8.30870712010732,
           6.984311325548292,
           5.922952625012351,
           5.492090067665382,
           5.855857999833478,
           6.003119775266415,
           6.003119775266415,
           6.003119775266427,
           5.849125895131989,
           5.47180837825388,
           5.020725548477238,
           4.5894870816983415,
           4.652707623604469,
           4.70676215826258,
           4.70676215826258,
           5.033063865360483,
           4.650205843790555,
           4.496598408848754,
           4.282566149780505,
           4.0445220178262,
           3.9341422118199536,
           3.9605820163906196,
           3.9605820163906196,
           4.515908903679973,
           4.13207645607516,
           3.8547052720980695,
           3.737976413305979,
           3.83672878029994,
           3.9279865577979916,
           3.137485492805735,
           3.9390419019346896,
           4.20517249870516,
           4.453305837682898,
           4.637496647787968,
           4.70676215826258,
           3.9893336008069977,
           4.380278532036827,
           4.842952520430066,
           5.353475642955934,
           5.808330647663728,
           25.79764957264957,
           23.23375,
           1.735109995780299,
           2.338953017731818,
           2.2630587102910775,
           2.0858367780759246,
           1.8869252715999836,
           1.7066568841796512,
           2.5771761041366696,
           3.5451898372656037,
           3.1558057592354385,
           2.577176104136671,
           2.154055768783435,
           3.915441176470588,
           7.983603882473354,
           7.236568119213354,
           6.029043175552917,
           4.765784822760371,
           14.295208333333333,
           25.79764957264957,
           20.63811965811966,
           4.968701600898387,
           3.4506892278017305,
           3.4506892278017305,
           3.4506892278017305,
           25.79764957264957,
           20.63811965811966,
           4.890701203598724,
           3.226710133050094,
           4.890701203598724,
           5.159529914529915,
           4.890701203598721,
           23.23375,
           9.2935,
           4.81674091115232,
           3.1779125884104573,
           3.4506892278017305,
           4.81674091115232,
           10.31905982905983,
           1.4629120879120878,
           2.8640909090909092,
           4.68808000137605,
           5.321952011012807,
           5.321952011012807,
           5.321952011012807,
           5.321952011012807,
           4.68808000137605,
           3.788600305005129,
           3.151527178634046,
           3.93614584105748,
           3.51117888964255,
           3.51117888964255,
           3.51117888964255,
           3.51117888964255,
           3.381481984321466,
           3.087802840084798,
           2.7704741417544065,
           3.1016921972579414,
           3.7391154479260247,
           4.656504611022764,
           5.321952011012787,
           4.6721526232401205,
           2.752949224293383,
           2.752949224293383,
           2.7049773999433806,
           2.6476751821456883,
           3.078149718986955,
           3.7155314041594414,
           4.641146682600629,
           6.300927171695228,
           1.4320454545454546,
           2.6991434060150823,
           2.752949224293383,
           2.752949224293383,
           2.718344221729521,
           3.2304135412440114,
           4.120083741680472,
           6.244820228566602,
           2.3679491677196425,
           3.36245489113611,
           3.51117888964255,
           3.51117888964255,
           3.362454891136111,
           3.055485972438738,
           3.692703506971295,
           4.626088752814696,
           3.6492672162472886,
           4.596908791740445,
           5.321952011012787,
           5.321952011012787,
           4.596908791740445,
           3.64926721624729,
           3.0472773977197005,
           4.582802959627194,
           6.0906407254663515,
           4.296136363636363,
           2.8640909090909092,
           6.090640725466355,
           4.018357562631473,
           2.8640909090909092,
           4.296136363636363,
           4.296136363636363,
           4.296136363636363,
           2.8640909090909092,
           1.4320454545454546,
           5.321952011012787,
           4.641146682600629,
           3.7155314041594414,
           3.6927035069712946,
           7.601194684056552,
           14.065749999999998,
           14.065749999999998,
           9.377166666666668,
           9.909307348448708,
           6.537792374493126,
           5.126088203605365,
           4.874948895337095,
           9.377166666666668,
           9.788541573891193,
           7.601194684056552,
           7.601194684056552,
           7.601194684056552,
           6.83970649839785,
           5.650808909295017,
           4.749456268820646,
           4.1129889338322005,
           3.741882320888404,
           3.551364674978723,
           3.3426099115965324,
           4.688583333333334,
           9.67335542932151,
           7.601194684056552,
           6.7904878820481125,
           5.566202332683115,
           5.014918258468756,
           4.863569768322171,
           4.50450878316254,
           4.09325259666464,
           3.7142802531410273,
           3.390277721804618,
           3.118974846214168,
           3.061333687457426,
           9.563428754100324,
           6.766321427660774,
           5.525689230157181,
           4.618482510224828,
           3.9888986887692446,
           3.534328001484377,
           3.3086121569644713,
           3.3086121569644713,
           3.278258072230517,
           9.458468099305685,
           6.2403355179795055,
           4.892848220509597,
           4.11728079361898,
           3.867688129894285,
           3.931960108974047,
           3.931960108974047,
           3.867688129894285,
           6.7424800270723475,
           5.486352737711287,
           4.57794222877554,
           4.4253627395434005,
           4.835259591441541,
           5.014918258468756,
           5.014918258468756,
           4.835259591441541,
           4.8408783144984575,
           4.440750033434178,
           4.501237814118143,
           5.411151479537613,
           6.695853083821778,
           7.601194684056584,
           7.601194684056584,
           6.695853083821775,
           5.411151479537613,
           4.395339518613906,
           4.824133369105994,
           6.050531606763009,
           9.170793531797855,
           9.170793531797848,
           4.688583333333334,
           4.688583333333334,
           9.377166666666668,
           9.377166666666668,
           2.370862068965517,
           7.601194684056552,
           1.5680769230769227,
           0.706310372763849,
           0.46376074911228293,
           0.5059972374967887,
           0.46376074911228293,
           0.46376074911228293,
           0.32589064607424895,
           0.3852171622921435,
           0.46034332109200743,
           0.6862343297466561,
           4.704230769230769,
           0.3501778657752209,
           0.4466148677015722,
           0.6769319497206644,
           3.136153846153846,
           6.272307692307692,
           3.8001462579232066,
           3.0812817642138066,
           3.786756292607724,
           5.31212750347995,
           4.741724137931034,
           2.48540153382021,
           2.715610518795038,
           2.816511609366341,
           3.4675853504212517,
           5.255816518128386,
           7.112586206896552,
           9.483448275862068,
           3.7605693598989585,
           3.7605693598989585,
           5.202004038921022,
           7.112586206896552,
           9.483448275862068,
           5.150561807421596,
           3.760569359898957,
           4.2690333060854355,
           4.2690333060854355,
           4.2690333060854355,
           2.999352183083099,
           2.816511609366341,
           2.816511609366341,
           2.7124745178318492,
           2.9993521830830994,
           2.6145785044962575,
           2.2082934803153056,
           2.6145785044962575,
           3.334642818665504,
           5.054323657846474,
           2.46915485977335,
           2.980434111645518,
           4.269033306085418,
           2.4522805886880805,
           2.7032198050549807,
           4.269033306085418,
           3.6874358687128135,
           2.927279925998542,
           2.4166446549244673,
           4.885641219351772,
           3.223347793278847,
           3.6874358687128135,
           2.370862068965517,
           4.885641219351772,
           3.7229215380841847,
           2.370862068965517,
           4.741724137931034,
           5.054323657846471,
           5.009317162405867,
           4.9662582129787305,
           4.269033306085418,
           4.741724137931034,
           4.741724137931034,
           4.741724137931034,
           4.741724137931034,
           3.1066666666666665,
           1.4629120879120878,
           0.9752747252747255,
           0.5523747625151009,
           0.36443887811594516,
           0.28574900746558785,
           0.3644388781159455,
           0.552374762515102,
           0.48763736263736274,
           1.4629120879120878,
           0.9752747252747255,
           0.5362754689641736,
           0.35381699979308745,
           0.28171892443642504,
           0.28171892443642504,
           0.28171892443642504,
           0.272935668868651,
           0.2522440195658217,
           0.22875808896416128,
           1.291437073613965,
           0.272935668868651,
           0.28171892443642504,
           0.272935668868651,
           0.9752747252747255,
           0.9752747252747255,
           0.5214604885111905,
           0.34404247066066945,
           0.28171892443642504,
           0.27211450735066084,
           1.2796464708559454,
           1.1540358829673372,
           0.20342590383956655,
           0.18586517470414704,
           0.18426864278264576,
           1.4629120879120878,
           0.9752747252747255,
           0.5077776889272503,
           0.33501491866203237,
           0.2712709486999017,
           1.4629120879120878,
           0.4950989634384353,
           0.32664982298914563,
           0.25611893367990884,
           0.9752747252747255,
           0.48331558752202947,
           0.31887545064083583,
           0.48763736263736274,
           0.47233462444128305,
           0.3116304849061936,
           0.24434236015210498,
           0.48763736263736274,
           0.46207611114328084,
           0.3048621687073381,
           0.2677138988835007,
           0.9752747252747255,
           0.9752747252747255,
           0.45247083228253265,
           0.29852483596929086,
           0.2667889472757145,
           0.23633124705129735,
           0.20705811852207295,
           0.28171892443642504,
           0.28171892443642504,
           0.28171892443642504,
           0.26585357778622737,
           0.23414630726147942,
           0.20431094450077456,
           0.18051217777125037,
           0.16581309387108006,
           0.9752747252747255,
           0.43498653560896033,
           0.28698910315797166,
           0.22502113092870546,
           0.18935543499080598,
           0.1656359281142044,
           0.15379073567450904,
           0.14848194340882864,
           1.4629120879120878,
           0.4270084797756822,
           0.2817253609919198,
           0.2208938337347169,
           0.1858821633986143,
           0.18586517470414776,
           0.18586517470414776,
           0.1823224093209518,
           1.4629120879120878,
           0.41948346825758687,
           0.28171892443642504,
           0.28171892443642504,
           0.28171892443642504,
           0.28171892443642504,
           1.950549450549451,
           1.950549450549451,
           1.4629120879120878,
           0.9752747252747255,
           0.9752747252747255,
           1.4629120879120878,
           2.4381868131868125,
           1.950549450549451,
           1.950549450549451,
           2.4381868131868125,
           2.4381868131868125,
           6.525735294117647,
           23.23375,
           6.525735294117647,
           5.220588235294117,
           5.220588235294117,
           6.525735294117647,
           3.915441176470588,
           4.462720296203175,
           3.2906021219214012,
           3.2906021219214012,
           4.402225042110722,
           2.9937054927247857,
           2.5051449251185143,
           5.799842530228508,
           25.79764957264957,
           3.381481984321466,
           2.108621126156862,
           2.1460167813984996,
           2.1460167813984996,
           1.7875358255938798,
           1.859611976195111,
           1.9965716233660096,
           1.8823972691766342,
           2.1057512095272757,
           2.09585239430981,
           2.360608245966974,
           2.332758045265314,
           2.828642887258816,
           0.47451926062266436,
           0.7158492260580247,
           1.3297042089775064,
           0.8772926441260732,
           1.3062713265825898,
           0.1281203007518797,
           0.1281203007518797,
           1.3062713265825905,
           0.1281203007518797,
           0.1281203007518797,
           1.2841362901873663,
           0.84722791789107,
           0.8772726006952325,
           1.2841362901873663,
           0.1281203007518797,
           0.19218045112781953,
           0.19218045112781953,
           1.2631985924375881,
           0.8334136608473292,
           0.8130114927992034,
           0.8772726006952325,
           1.2631985924375881,
           0.19218045112781953,
           0.19218045112781953,
           1.2433684637656037,
           0.820330143701124,
           0.820330143701124,
           1.2433684637656042,
           0.2562406015037594,
           1.224565455491234,
           0.1281203007518797,
           1.2245654554912333,
           0.8772726006952325,
           0.8079242890826756,
           1.224565455491234,
           0.19218045112781953,
           0.2562406015037594,
           0.32030075187969925,
           0.32030075187969925,
           0.32030075187969925,
           1.2067172445740453,
           0.19218045112781953,
           0.1281203007518797,
           1.2067172445740464,
           0.8040450981250343,
           0.8772726006952325,
           1.2067172445740462,
           0.19218045112781953,
           0.32030075187969925,
           6.525735294117647,
           0.2562406015037594,
           1.1897586202672097,
           0.8010746893268613,
           0.6733845524216058,
           0.6733845524216058,
           0.8010746893268613,
           1.1897586202672097,
           0.2562406015037594,
           0.2562406015037594,
           1.1736306209160094,
           0.7743184299503253,
           0.6071207987899021,
           0.6071207987899021,
           0.7743184299503253,
           1.1736306209160094,
           0.19218045112781953,
           0.19218045112781953,
           1.1582797953651587,
           0.8772726006952325,
           0.8772726006952325,
           0.8772726006952325,
           0.8772726006952325,
           0.7951851103218478,
           0.1281203007518797,
           0.2562406015037594,
           0.2562406015037594,
           0.32030075187969925,
           2.4381868131868125,
           0.32030075187969925,
           0.32030075187969925,
           1.4629120879120878,
           0.32030075187969925,
           0.2562406015037594,
           0.32030075187969925,
           0.2562406015037594,
           14.065749999999998,
           0.2562406015037594,
           4.704230769230769,
           0.2562406015037594,
           0.06406015037593984,
           1.2678531136088749,
           1.1372763213252008,
           1.0225550848607905,
           0.9276557901176776,
           0.8819572429776324,
           0.8405221011854018,
           1.1209402941229212,
           1.0043759724102845,
           0.9091248159229525,
           0.9089413958249658,
           0.9401104529153673,
           0.9515911525665992,
           0.9515911525665992,
           1.280066415828951,
           1.1050453174762302,
           0.986942376718772,
           0.9702319091914666,
           1.0896026670184304,
           1.2327955455603297,
           1.3753121766770102,
           1.4423424744899176,
           1.4423424744899176,
           1.3753121766770096,
           1.0896026670184304,
           0.9702319091914666,
           0.9542197790260252,
           1.0746184666027252,
           1.2509822159427744,
           1.5954834614865399,
           2.4182553315038215,
           14.295208333333333,
           1.2213115022855303,
           1.0746184666027252,
           0.9542197790260252,
           1.060094630241103,
           1.2099669780905324,
           1.3659040873807238,
           1.5608310860598027,
           2.3657338706739193,
           9.53013888888889,
           0.9388797587706913,
           0.9241849182939935,
           1.0460296689195994,
           1.198780539446548,
           1.5283852565815501,
           2.3165568347048517,
           14.295208333333333,
           0.8645403937697567,
           0.9883438940493825,
           1.1745006808110787,
           1.4979424724515769,
           2.2704157809093912,
           14.295208333333333,
           0.848021604862362,
           0.9694605614767187,
           1.1520615288642813,
           1.4693246966940032,
           2.2270408613660937,
           14.295208333333333,
           19.06027777777778,
           0.8867963355460097,
           0.8966227048607319,
           1.0192574034559188,
           1.1769428832679543,
           1.4423754283193346,
           2.1861948698686815,
           14.295208333333333,
           0.28171892443642504,
           1.3416099704970397,
           1.1558972899540232,
           0.9942451495995986,
           1.155897289954023,
           1.3416099704970397,
           1.4423424744899176,
           2.1476683713195075,
           19.06027777777778,
           9.53013888888889,
           2.111275688883158,
           1.3929453747666631,
           1.092172468809098,
           1.392945374766662,
           2.111275688883158,
           14.295208333333333,
           19.06027777777778,
           1.3366894251381318,
           1.1456934477710696,
           1.0743636843648372,
           1.3702330620010317,
           2.0768515762885054,
           19.06027777777778,
           23.825347222222227,
           14.295208333333333,
           1.4423424744899176,
           1.4423424744899176,
           1.4423424744899176,
           2.0442484414869218,
           14.295208333333333,
           15.478589743589742,
           15.478589743589742,
           9.53013888888889,
           14.295208333333333,
           9.53013888888889,
           19.06027777777778,
           10.31905982905983,
           9.53013888888889,
           14.295208333333333,
           19.06027777777778,
           7.0133280908570415,
           7.708534360383907,
           8.535822402926984,
           2.154055768783434,
           7.8486732710008695,
           8.383096325771753,
           9.71387888239278
          ]
         },
         "mode": "markers",
         "text": [
          "Allemagne",
          "Allemagne",
          "Allemagne",
          "Allemagne",
          "Allemagne",
          "Allemagne",
          "Allemagne",
          "Allemagne",
          "Allemagne",
          "Allemagne",
          "Allemagne",
          "Allemagne",
          "Allemagne",
          "Allemagne",
          "Allemagne",
          "Allemagne",
          "Allemagne",
          "Allemagne",
          "Allemagne",
          "Allemagne",
          "Allemagne",
          "Allemagne",
          "Allemagne",
          "Allemagne",
          "Allemagne",
          "Allemagne",
          "Allemagne",
          "Allemagne",
          "Allemagne",
          "Allemagne",
          "Allemagne",
          "Allemagne",
          "Allemagne",
          "Allemagne",
          "Allemagne",
          "Allemagne",
          "Allemagne",
          "France",
          "Allemagne",
          "Allemagne",
          "Allemagne",
          "Allemagne",
          "Allemagne",
          "Allemagne",
          "Allemagne",
          "Allemagne",
          "Allemagne",
          "Allemagne",
          "Danemark",
          "Allemagne",
          "Autriche",
          "Autriche",
          "Autriche",
          "Autriche",
          "Autriche",
          "Autriche",
          "Autriche",
          "Autriche",
          "Autriche",
          "Autriche",
          "Autriche",
          "Pays-Bas",
          "Belgique",
          "Belgique",
          "Belgique",
          "Belgique",
          "Suède",
          "Danemark",
          "Danemark",
          "Danemark",
          "Danemark",
          "Danemark",
          "Danemark",
          "Danemark",
          "Danemark",
          "Danemark",
          "Danemark",
          "Danemark",
          "Danemark",
          "Danemark",
          "Allemagne",
          "Allemagne",
          "Danemark",
          "Danemark",
          "Danemark",
          "Danemark",
          "Danemark",
          "Norvège",
          "Espagne",
          "Espagne",
          "Espagne",
          "Espagne",
          "Espagne",
          "Espagne",
          "Espagne",
          "Espagne",
          "Espagne",
          "France",
          "Espagne",
          "Espagne",
          "Espagne",
          "Espagne",
          "Espagne",
          "Espagne",
          "Espagne",
          "Espagne",
          "Espagne",
          "Espagne",
          "Espagne",
          "Espagne",
          "Espagne",
          "Espagne",
          "Espagne",
          "Espagne",
          "Espagne",
          "Espagne",
          "Espagne",
          "Espagne",
          "Espagne",
          "Espagne",
          "Espagne",
          "Espagne",
          "Espagne",
          "Espagne",
          "Espagne",
          "Espagne",
          "Portugal",
          "Espagne",
          "Espagne",
          "Espagne",
          "Espagne",
          "Espagne",
          "Espagne",
          "Espagne",
          "Espagne",
          "Espagne",
          "Espagne",
          "Espagne",
          "Espagne",
          "Espagne",
          "Espagne",
          "Espagne",
          "Espagne",
          "Espagne",
          "Espagne",
          "Espagne",
          "Espagne",
          "Espagne",
          "Espagne",
          "Espagne",
          "Espagne",
          "Espagne",
          "Espagne",
          "Espagne",
          "Espagne",
          "Espagne",
          "Espagne",
          "France",
          "France",
          "France",
          "France",
          "France",
          "France",
          "France",
          "France",
          "France",
          "France",
          "France",
          "France",
          "France",
          "France",
          "France",
          "France",
          "France",
          "France",
          "France",
          "France",
          "France",
          "France",
          "France",
          "France",
          "France",
          "France",
          "France",
          "France",
          "France",
          "France",
          "France",
          "France",
          "France",
          "France",
          "France",
          "France",
          "France",
          "France",
          "France",
          "France",
          "France",
          "France",
          "France",
          "France",
          "France",
          "France",
          "France",
          "France",
          "France",
          "France",
          "France",
          "France",
          "France",
          "France",
          "France",
          "France",
          "France",
          "France",
          "France",
          "France",
          "France",
          "France",
          "France",
          "France",
          "France",
          "France",
          "France",
          "France",
          "France",
          "France",
          "France",
          "France",
          "France",
          "France",
          "France",
          "France",
          "Italie",
          "France",
          "Irlande",
          "Irlande",
          "Irlande",
          "Irlande",
          "Irlande",
          "Irlande",
          "Irlande",
          "Irlande",
          "Irlande",
          "Irlande",
          "Irlande",
          "Irlande",
          "Irlande",
          "Irlande",
          "Irlande",
          "Irlande",
          "Italie",
          "Italie",
          "Italie",
          "Italie",
          "Italie",
          "Italie",
          "Italie",
          "Italie",
          "Italie",
          "Italie",
          "Italie",
          "Italie",
          "Italie",
          "Italie",
          "Italie",
          "Italie",
          "Italie",
          "Italie",
          "Italie",
          "Italie",
          "Italie",
          "Italie",
          "Italie",
          "Italie",
          "Italie",
          "Italie",
          "Italie",
          "Italie",
          "Italie",
          "Italie",
          "Italie",
          "Italie",
          "Italie",
          "Italie",
          "Italie",
          "Italie",
          "Italie",
          "Italie",
          "Italie",
          "Italie",
          "Italie",
          "Italie",
          "Italie",
          "Italie",
          "Italie",
          "Italie",
          "Italie",
          "Italie",
          "Italie",
          "Italie",
          "Italie",
          "Italie",
          "Italie",
          "Italie",
          "Italie",
          "Italie",
          "Italie",
          "Luxembourg",
          "Norvège",
          "Norvège",
          "Norvège",
          "Norvège",
          "Norvège",
          "Norvège",
          "Norvège",
          "Norvège",
          "Norvège",
          "Norvège",
          "Norvège",
          "Norvège",
          "Norvège",
          "Norvège",
          "Norvège",
          "Norvège",
          "Norvège",
          "Norvège",
          "Suède",
          "Norvège",
          "Norvège",
          "Norvège",
          "Norvège",
          "Norvège",
          "Norvège",
          "Norvège",
          "Norvège",
          "Norvège",
          "Suède",
          "Suède",
          "Norvège",
          "Norvège",
          "Norvège",
          "Norvège",
          "Norvège",
          "Norvège",
          "Norvège",
          "Norvège",
          "Norvège",
          "Norvège",
          "Norvège",
          "Norvège",
          "Norvège",
          "Norvège",
          "Norvège",
          "Norvège",
          "Norvège",
          "Norvège",
          "Norvège",
          "Norvège",
          "Norvège",
          "Norvège",
          "Norvège",
          "Norvège",
          "Norvège",
          "Norvège",
          "Norvège",
          "Norvège",
          "Norvège",
          "Norvège",
          "Norvège",
          "Norvège",
          "Norvège",
          "Norvège",
          "Norvège",
          "Norvège",
          "Norvège",
          "Norvège",
          "Norvège",
          "Norvège",
          "Norvège",
          "Norvège",
          "Norvège",
          "Norvège",
          "Norvège",
          "Norvège",
          "Norvège",
          "Norvège",
          "Norvège",
          "Norvège",
          "Norvège",
          "Norvège",
          "Norvège",
          "Norvège",
          "Norvège",
          "Norvège",
          "Norvège",
          "Norvège",
          "Norvège",
          "Norvège",
          "Norvège",
          "Norvège",
          "Norvège",
          "Norvège",
          "Norvège",
          "Norvège",
          "Norvège",
          "Norvège",
          "Norvège",
          "Norvège",
          "Norvège",
          "Pays-Bas",
          "Allemagne",
          "Pays-Bas",
          "Pays-Bas",
          "Pays-Bas",
          "Pays-Bas",
          "Pays-Bas",
          "Pays-Bas",
          "Pays-Bas",
          "Pays-Bas",
          "Pays-Bas",
          "Pays-Bas",
          "Pays-Bas",
          "Allemagne",
          "Danemark",
          "Espagne",
          "Portugal",
          "Portugal",
          "Portugal",
          "Portugal",
          "Portugal",
          "Portugal",
          "Portugal",
          "Portugal",
          "Portugal",
          "Portugal",
          "Portugal",
          "Portugal",
          "Royaume-Uni",
          "Royaume-Uni",
          "Royaume-Uni",
          "Royaume-Uni",
          "Royaume-Uni",
          "Royaume-Uni",
          "Royaume-Uni",
          "Royaume-Uni",
          "Royaume-Uni",
          "Royaume-Uni",
          "Royaume-Uni",
          "Royaume-Uni",
          "Royaume-Uni",
          "Royaume-Uni",
          "Royaume-Uni",
          "Royaume-Uni",
          "Royaume-Uni",
          "Royaume-Uni",
          "Royaume-Uni",
          "Royaume-Uni",
          "Royaume-Uni",
          "Royaume-Uni",
          "Royaume-Uni",
          "Royaume-Uni",
          "Royaume-Uni",
          "Royaume-Uni",
          "Royaume-Uni",
          "Royaume-Uni",
          "Royaume-Uni",
          "Royaume-Uni",
          "Royaume-Uni",
          "Royaume-Uni",
          "Royaume-Uni",
          "Royaume-Uni",
          "Royaume-Uni",
          "Royaume-Uni",
          "Royaume-Uni",
          "Royaume-Uni",
          "Royaume-Uni",
          "Royaume-Uni",
          "Royaume-Uni",
          "Royaume-Uni",
          "Royaume-Uni",
          "Royaume-Uni",
          "Royaume-Uni",
          "Royaume-Uni",
          "Royaume-Uni",
          "Royaume-Uni",
          "Royaume-Uni",
          "Pays-Bas",
          "Royaume-Uni",
          "Royaume-Uni",
          "Royaume-Uni",
          "Royaume-Uni",
          "Royaume-Uni",
          "Royaume-Uni",
          "Royaume-Uni",
          "Royaume-Uni",
          "Royaume-Uni",
          "Royaume-Uni",
          "Royaume-Uni",
          "Royaume-Uni",
          "Royaume-Uni",
          "Royaume-Uni",
          "Royaume-Uni",
          "Royaume-Uni",
          "Royaume-Uni",
          "Royaume-Uni",
          "Royaume-Uni",
          "Royaume-Uni",
          "Royaume-Uni",
          "Royaume-Uni",
          "Royaume-Uni",
          "Royaume-Uni",
          "Royaume-Uni",
          "Royaume-Uni",
          "Royaume-Uni",
          "Norvège",
          "Royaume-Uni",
          "Royaume-Uni",
          "Norvège",
          "Royaume-Uni",
          "Royaume-Uni",
          "Royaume-Uni",
          "Royaume-Uni",
          "France",
          "Royaume-Uni",
          "Irlande",
          "Royaume-Uni",
          "Royaume-Uni",
          "Suède",
          "Suède",
          "Suède",
          "Suède",
          "Suède",
          "Suède",
          "Suède",
          "Suède",
          "Suède",
          "Suède",
          "Suède",
          "Suède",
          "Suède",
          "Suède",
          "Suède",
          "Suède",
          "Suède",
          "Suède",
          "Suède",
          "Suède",
          "Suède",
          "Suède",
          "Suède",
          "Suède",
          "Suède",
          "Suède",
          "Suède",
          "Suède",
          "Suède",
          "Suède",
          "Suède",
          "Suède",
          "Suède",
          "Suède",
          "Suède",
          "Suède",
          "Suède",
          "Suède",
          "Suède",
          "Suède",
          "Suède",
          "Suède",
          "Suède",
          "Suède",
          "Suède",
          "Suède",
          "Suède",
          "Suède",
          "Suède",
          "Suède",
          "Suède",
          "Suède",
          "Suède",
          "Suède",
          "Suède",
          "Suède",
          "Suède",
          "Suède",
          "Suède",
          "Suède",
          "Suède",
          "Suède",
          "Suède",
          "Suède",
          "Suède",
          "Suède",
          "Suède",
          "Norvège",
          "Suède",
          "Suède",
          "Suède",
          "Suède",
          "Suède",
          "Suède",
          "Suède",
          "Suède",
          "Suède",
          "Suède",
          "Suède",
          "Suède",
          "Suède",
          "Suède",
          "Suède",
          "Suède",
          "Suède",
          "Suède",
          "Suède",
          "Suède",
          "Suède",
          "Suède",
          "Suède",
          "Suède",
          "Suède",
          "Suède",
          "Suède",
          "Suède",
          "Suède",
          "Danemark",
          "Danemark",
          "Suède",
          "Suède",
          "Suède",
          "Suède",
          "Danemark",
          "Suède",
          "Suède",
          "Suède",
          "Suisse",
          "Suisse",
          "Suisse",
          "Autriche",
          "Suisse",
          "Suisse",
          "Suisse"
         ],
         "type": "scattergeo"
        }
       ],
       "layout": {
        "geo": {
         "scope": "europe"
        },
        "template": {
         "data": {
          "bar": [
           {
            "error_x": {
             "color": "#2a3f5f"
            },
            "error_y": {
             "color": "#2a3f5f"
            },
            "marker": {
             "line": {
              "color": "#E5ECF6",
              "width": 0.5
             }
            },
            "type": "bar"
           }
          ],
          "barpolar": [
           {
            "marker": {
             "line": {
              "color": "#E5ECF6",
              "width": 0.5
             }
            },
            "type": "barpolar"
           }
          ],
          "carpet": [
           {
            "aaxis": {
             "endlinecolor": "#2a3f5f",
             "gridcolor": "white",
             "linecolor": "white",
             "minorgridcolor": "white",
             "startlinecolor": "#2a3f5f"
            },
            "baxis": {
             "endlinecolor": "#2a3f5f",
             "gridcolor": "white",
             "linecolor": "white",
             "minorgridcolor": "white",
             "startlinecolor": "#2a3f5f"
            },
            "type": "carpet"
           }
          ],
          "choropleth": [
           {
            "colorbar": {
             "outlinewidth": 0,
             "ticks": ""
            },
            "type": "choropleth"
           }
          ],
          "contour": [
           {
            "colorbar": {
             "outlinewidth": 0,
             "ticks": ""
            },
            "colorscale": [
             [
              0,
              "#0d0887"
             ],
             [
              0.1111111111111111,
              "#46039f"
             ],
             [
              0.2222222222222222,
              "#7201a8"
             ],
             [
              0.3333333333333333,
              "#9c179e"
             ],
             [
              0.4444444444444444,
              "#bd3786"
             ],
             [
              0.5555555555555556,
              "#d8576b"
             ],
             [
              0.6666666666666666,
              "#ed7953"
             ],
             [
              0.7777777777777778,
              "#fb9f3a"
             ],
             [
              0.8888888888888888,
              "#fdca26"
             ],
             [
              1,
              "#f0f921"
             ]
            ],
            "type": "contour"
           }
          ],
          "contourcarpet": [
           {
            "colorbar": {
             "outlinewidth": 0,
             "ticks": ""
            },
            "type": "contourcarpet"
           }
          ],
          "heatmap": [
           {
            "colorbar": {
             "outlinewidth": 0,
             "ticks": ""
            },
            "colorscale": [
             [
              0,
              "#0d0887"
             ],
             [
              0.1111111111111111,
              "#46039f"
             ],
             [
              0.2222222222222222,
              "#7201a8"
             ],
             [
              0.3333333333333333,
              "#9c179e"
             ],
             [
              0.4444444444444444,
              "#bd3786"
             ],
             [
              0.5555555555555556,
              "#d8576b"
             ],
             [
              0.6666666666666666,
              "#ed7953"
             ],
             [
              0.7777777777777778,
              "#fb9f3a"
             ],
             [
              0.8888888888888888,
              "#fdca26"
             ],
             [
              1,
              "#f0f921"
             ]
            ],
            "type": "heatmap"
           }
          ],
          "heatmapgl": [
           {
            "colorbar": {
             "outlinewidth": 0,
             "ticks": ""
            },
            "colorscale": [
             [
              0,
              "#0d0887"
             ],
             [
              0.1111111111111111,
              "#46039f"
             ],
             [
              0.2222222222222222,
              "#7201a8"
             ],
             [
              0.3333333333333333,
              "#9c179e"
             ],
             [
              0.4444444444444444,
              "#bd3786"
             ],
             [
              0.5555555555555556,
              "#d8576b"
             ],
             [
              0.6666666666666666,
              "#ed7953"
             ],
             [
              0.7777777777777778,
              "#fb9f3a"
             ],
             [
              0.8888888888888888,
              "#fdca26"
             ],
             [
              1,
              "#f0f921"
             ]
            ],
            "type": "heatmapgl"
           }
          ],
          "histogram": [
           {
            "marker": {
             "colorbar": {
              "outlinewidth": 0,
              "ticks": ""
             }
            },
            "type": "histogram"
           }
          ],
          "histogram2d": [
           {
            "colorbar": {
             "outlinewidth": 0,
             "ticks": ""
            },
            "colorscale": [
             [
              0,
              "#0d0887"
             ],
             [
              0.1111111111111111,
              "#46039f"
             ],
             [
              0.2222222222222222,
              "#7201a8"
             ],
             [
              0.3333333333333333,
              "#9c179e"
             ],
             [
              0.4444444444444444,
              "#bd3786"
             ],
             [
              0.5555555555555556,
              "#d8576b"
             ],
             [
              0.6666666666666666,
              "#ed7953"
             ],
             [
              0.7777777777777778,
              "#fb9f3a"
             ],
             [
              0.8888888888888888,
              "#fdca26"
             ],
             [
              1,
              "#f0f921"
             ]
            ],
            "type": "histogram2d"
           }
          ],
          "histogram2dcontour": [
           {
            "colorbar": {
             "outlinewidth": 0,
             "ticks": ""
            },
            "colorscale": [
             [
              0,
              "#0d0887"
             ],
             [
              0.1111111111111111,
              "#46039f"
             ],
             [
              0.2222222222222222,
              "#7201a8"
             ],
             [
              0.3333333333333333,
              "#9c179e"
             ],
             [
              0.4444444444444444,
              "#bd3786"
             ],
             [
              0.5555555555555556,
              "#d8576b"
             ],
             [
              0.6666666666666666,
              "#ed7953"
             ],
             [
              0.7777777777777778,
              "#fb9f3a"
             ],
             [
              0.8888888888888888,
              "#fdca26"
             ],
             [
              1,
              "#f0f921"
             ]
            ],
            "type": "histogram2dcontour"
           }
          ],
          "mesh3d": [
           {
            "colorbar": {
             "outlinewidth": 0,
             "ticks": ""
            },
            "type": "mesh3d"
           }
          ],
          "parcoords": [
           {
            "line": {
             "colorbar": {
              "outlinewidth": 0,
              "ticks": ""
             }
            },
            "type": "parcoords"
           }
          ],
          "pie": [
           {
            "automargin": true,
            "type": "pie"
           }
          ],
          "scatter": [
           {
            "marker": {
             "colorbar": {
              "outlinewidth": 0,
              "ticks": ""
             }
            },
            "type": "scatter"
           }
          ],
          "scatter3d": [
           {
            "line": {
             "colorbar": {
              "outlinewidth": 0,
              "ticks": ""
             }
            },
            "marker": {
             "colorbar": {
              "outlinewidth": 0,
              "ticks": ""
             }
            },
            "type": "scatter3d"
           }
          ],
          "scattercarpet": [
           {
            "marker": {
             "colorbar": {
              "outlinewidth": 0,
              "ticks": ""
             }
            },
            "type": "scattercarpet"
           }
          ],
          "scattergeo": [
           {
            "marker": {
             "colorbar": {
              "outlinewidth": 0,
              "ticks": ""
             }
            },
            "type": "scattergeo"
           }
          ],
          "scattergl": [
           {
            "marker": {
             "colorbar": {
              "outlinewidth": 0,
              "ticks": ""
             }
            },
            "type": "scattergl"
           }
          ],
          "scattermapbox": [
           {
            "marker": {
             "colorbar": {
              "outlinewidth": 0,
              "ticks": ""
             }
            },
            "type": "scattermapbox"
           }
          ],
          "scatterpolar": [
           {
            "marker": {
             "colorbar": {
              "outlinewidth": 0,
              "ticks": ""
             }
            },
            "type": "scatterpolar"
           }
          ],
          "scatterpolargl": [
           {
            "marker": {
             "colorbar": {
              "outlinewidth": 0,
              "ticks": ""
             }
            },
            "type": "scatterpolargl"
           }
          ],
          "scatterternary": [
           {
            "marker": {
             "colorbar": {
              "outlinewidth": 0,
              "ticks": ""
             }
            },
            "type": "scatterternary"
           }
          ],
          "surface": [
           {
            "colorbar": {
             "outlinewidth": 0,
             "ticks": ""
            },
            "colorscale": [
             [
              0,
              "#0d0887"
             ],
             [
              0.1111111111111111,
              "#46039f"
             ],
             [
              0.2222222222222222,
              "#7201a8"
             ],
             [
              0.3333333333333333,
              "#9c179e"
             ],
             [
              0.4444444444444444,
              "#bd3786"
             ],
             [
              0.5555555555555556,
              "#d8576b"
             ],
             [
              0.6666666666666666,
              "#ed7953"
             ],
             [
              0.7777777777777778,
              "#fb9f3a"
             ],
             [
              0.8888888888888888,
              "#fdca26"
             ],
             [
              1,
              "#f0f921"
             ]
            ],
            "type": "surface"
           }
          ],
          "table": [
           {
            "cells": {
             "fill": {
              "color": "#EBF0F8"
             },
             "line": {
              "color": "white"
             }
            },
            "header": {
             "fill": {
              "color": "#C8D4E3"
             },
             "line": {
              "color": "white"
             }
            },
            "type": "table"
           }
          ]
         },
         "layout": {
          "annotationdefaults": {
           "arrowcolor": "#2a3f5f",
           "arrowhead": 0,
           "arrowwidth": 1
          },
          "coloraxis": {
           "colorbar": {
            "outlinewidth": 0,
            "ticks": ""
           }
          },
          "colorscale": {
           "diverging": [
            [
             0,
             "#8e0152"
            ],
            [
             0.1,
             "#c51b7d"
            ],
            [
             0.2,
             "#de77ae"
            ],
            [
             0.3,
             "#f1b6da"
            ],
            [
             0.4,
             "#fde0ef"
            ],
            [
             0.5,
             "#f7f7f7"
            ],
            [
             0.6,
             "#e6f5d0"
            ],
            [
             0.7,
             "#b8e186"
            ],
            [
             0.8,
             "#7fbc41"
            ],
            [
             0.9,
             "#4d9221"
            ],
            [
             1,
             "#276419"
            ]
           ],
           "sequential": [
            [
             0,
             "#0d0887"
            ],
            [
             0.1111111111111111,
             "#46039f"
            ],
            [
             0.2222222222222222,
             "#7201a8"
            ],
            [
             0.3333333333333333,
             "#9c179e"
            ],
            [
             0.4444444444444444,
             "#bd3786"
            ],
            [
             0.5555555555555556,
             "#d8576b"
            ],
            [
             0.6666666666666666,
             "#ed7953"
            ],
            [
             0.7777777777777778,
             "#fb9f3a"
            ],
            [
             0.8888888888888888,
             "#fdca26"
            ],
            [
             1,
             "#f0f921"
            ]
           ],
           "sequentialminus": [
            [
             0,
             "#0d0887"
            ],
            [
             0.1111111111111111,
             "#46039f"
            ],
            [
             0.2222222222222222,
             "#7201a8"
            ],
            [
             0.3333333333333333,
             "#9c179e"
            ],
            [
             0.4444444444444444,
             "#bd3786"
            ],
            [
             0.5555555555555556,
             "#d8576b"
            ],
            [
             0.6666666666666666,
             "#ed7953"
            ],
            [
             0.7777777777777778,
             "#fb9f3a"
            ],
            [
             0.8888888888888888,
             "#fdca26"
            ],
            [
             1,
             "#f0f921"
            ]
           ]
          },
          "colorway": [
           "#636efa",
           "#EF553B",
           "#00cc96",
           "#ab63fa",
           "#FFA15A",
           "#19d3f3",
           "#FF6692",
           "#B6E880",
           "#FF97FF",
           "#FECB52"
          ],
          "font": {
           "color": "#2a3f5f"
          },
          "geo": {
           "bgcolor": "white",
           "lakecolor": "white",
           "landcolor": "#E5ECF6",
           "showlakes": true,
           "showland": true,
           "subunitcolor": "white"
          },
          "hoverlabel": {
           "align": "left"
          },
          "hovermode": "closest",
          "mapbox": {
           "style": "light"
          },
          "paper_bgcolor": "white",
          "plot_bgcolor": "#E5ECF6",
          "polar": {
           "angularaxis": {
            "gridcolor": "white",
            "linecolor": "white",
            "ticks": ""
           },
           "bgcolor": "#E5ECF6",
           "radialaxis": {
            "gridcolor": "white",
            "linecolor": "white",
            "ticks": ""
           }
          },
          "scene": {
           "xaxis": {
            "backgroundcolor": "#E5ECF6",
            "gridcolor": "white",
            "gridwidth": 2,
            "linecolor": "white",
            "showbackground": true,
            "ticks": "",
            "zerolinecolor": "white"
           },
           "yaxis": {
            "backgroundcolor": "#E5ECF6",
            "gridcolor": "white",
            "gridwidth": 2,
            "linecolor": "white",
            "showbackground": true,
            "ticks": "",
            "zerolinecolor": "white"
           },
           "zaxis": {
            "backgroundcolor": "#E5ECF6",
            "gridcolor": "white",
            "gridwidth": 2,
            "linecolor": "white",
            "showbackground": true,
            "ticks": "",
            "zerolinecolor": "white"
           }
          },
          "shapedefaults": {
           "line": {
            "color": "#2a3f5f"
           }
          },
          "ternary": {
           "aaxis": {
            "gridcolor": "white",
            "linecolor": "white",
            "ticks": ""
           },
           "baxis": {
            "gridcolor": "white",
            "linecolor": "white",
            "ticks": ""
           },
           "bgcolor": "#E5ECF6",
           "caxis": {
            "gridcolor": "white",
            "linecolor": "white",
            "ticks": ""
           }
          },
          "title": {
           "x": 0.05
          },
          "xaxis": {
           "automargin": true,
           "gridcolor": "white",
           "linecolor": "white",
           "ticks": "",
           "title": {
            "standoff": 15
           },
           "zerolinecolor": "white",
           "zerolinewidth": 2
          },
          "yaxis": {
           "automargin": true,
           "gridcolor": "white",
           "linecolor": "white",
           "ticks": "",
           "title": {
            "standoff": 15
           },
           "zerolinecolor": "white",
           "zerolinewidth": 2
          }
         }
        },
        "title": {
         "text": "Sites éoliens selon leur capacité maximale installable"
        }
       }
      },
      "text/html": [
       "<div>\n",
       "        \n",
       "        \n",
       "            <div id=\"9b0cf76b-fdac-4c7d-b657-4c76d228ad11\" class=\"plotly-graph-div\" style=\"height:525px; width:100%;\"></div>\n",
       "            <script type=\"text/javascript\">\n",
       "                require([\"plotly\"], function(Plotly) {\n",
       "                    window.PLOTLYENV=window.PLOTLYENV || {};\n",
       "                    \n",
       "                if (document.getElementById(\"9b0cf76b-fdac-4c7d-b657-4c76d228ad11\")) {\n",
       "                    Plotly.newPlot(\n",
       "                        '9b0cf76b-fdac-4c7d-b657-4c76d228ad11',\n",
       "                        [{\"lat\": [54.0, 54.0, 54.0, 54.0, 54.0, 54.0, 54.0, 54.0, 53.0, 53.0, 53.0, 53.0, 53.0, 53.0, 53.0, 52.0, 52.0, 52.0, 52.0, 52.0, 52.0, 52.0, 52.0, 51.0, 51.0, 51.0, 51.0, 51.0, 51.0, 51.0, 51.0, 50.0, 50.0, 50.0, 50.0, 50.0, 50.0, 49.0, 49.0, 49.0, 49.0, 49.0, 49.0, 48.0, 48.0, 48.0, 48.0, 48.0, 56.0, 55.0, 49.0, 48.0, 48.0, 48.0, 48.0, 48.0, 47.0, 47.0, 47.0, 47.0, 47.0, 52.0, 51.0, 51.0, 51.0, 50.0, 58.0, 57.0, 57.0, 57.0, 57.0, 57.0, 57.0, 56.0, 56.0, 56.0, 56.0, 56.0, 56.0, 56.0, 55.0, 55.0, 55.0, 55.0, 55.0, 55.0, 55.0, 58.0, 44.0, 43.0, 43.0, 43.0, 43.0, 43.0, 43.0, 43.0, 43.0, 43.0, 42.0, 42.0, 42.0, 42.0, 42.0, 42.0, 42.0, 42.0, 42.0, 42.0, 42.0, 42.0, 41.0, 41.0, 41.0, 41.0, 41.0, 41.0, 41.0, 41.0, 41.0, 40.0, 40.0, 40.0, 40.0, 40.0, 40.0, 40.0, 39.0, 39.0, 39.0, 39.0, 39.0, 39.0, 39.0, 39.0, 38.0, 38.0, 38.0, 38.0, 38.0, 38.0, 38.0, 37.0, 37.0, 37.0, 37.0, 37.0, 37.0, 36.0, 36.0, 44.0, 44.0, 44.0, 40.0, 39.0, 40.0, 40.0, 39.0, 51.0, 50.0, 50.0, 50.0, 50.0, 50.0, 50.0, 50.0, 49.0, 49.0, 49.0, 49.0, 49.0, 49.0, 49.0, 49.0, 49.0, 49.0, 49.0, 49.0, 48.0, 48.0, 48.0, 48.0, 48.0, 48.0, 48.0, 48.0, 48.0, 48.0, 48.0, 48.0, 48.0, 47.0, 47.0, 47.0, 47.0, 47.0, 47.0, 47.0, 47.0, 47.0, 46.0, 46.0, 46.0, 46.0, 46.0, 46.0, 46.0, 46.0, 45.0, 45.0, 45.0, 45.0, 45.0, 45.0, 45.0, 45.0, 44.0, 44.0, 44.0, 44.0, 44.0, 44.0, 44.0, 44.0, 44.0, 43.0, 43.0, 43.0, 43.0, 43.0, 47.0, 46.0, 43.0, 43.0, 43.0, 42.0, 55.0, 55.0, 54.0, 54.0, 54.0, 54.0, 53.0, 53.0, 53.0, 53.0, 53.0, 52.0, 52.0, 52.0, 52.0, 52.0, 47.0, 46.0, 46.0, 46.0, 46.0, 45.0, 45.0, 45.0, 45.0, 45.0, 45.0, 45.0, 44.0, 44.0, 44.0, 44.0, 44.0, 43.0, 43.0, 43.0, 43.0, 43.0, 42.0, 42.0, 42.0, 42.0, 42.0, 41.0, 41.0, 41.0, 41.0, 41.0, 40.0, 40.0, 40.0, 39.0, 39.0, 38.0, 38.0, 38.0, 38.0, 37.0, 37.0, 38.0, 37.0, 37.0, 40.0, 41.0, 44.0, 41.0, 40.0, 39.0, 41.0, 40.0, 39.0, 41.0, 40.0, 50.0, 71.0, 71.0, 71.0, 71.0, 71.0, 71.0, 71.0, 71.0, 70.0, 70.0, 70.0, 70.0, 70.0, 70.0, 70.0, 70.0, 70.0, 70.0, 70.0, 70.0, 70.0, 70.0, 69.0, 69.0, 69.0, 69.0, 69.0, 69.0, 69.0, 69.0, 69.0, 69.0, 69.0, 68.0, 68.0, 68.0, 68.0, 68.0, 67.0, 67.0, 67.0, 67.0, 66.0, 66.0, 66.0, 65.0, 65.0, 65.0, 65.0, 64.0, 64.0, 64.0, 64.0, 63.0, 63.0, 63.0, 63.0, 63.0, 63.0, 63.0, 62.0, 62.0, 62.0, 62.0, 62.0, 62.0, 62.0, 62.0, 61.0, 61.0, 61.0, 61.0, 61.0, 61.0, 61.0, 61.0, 60.0, 60.0, 60.0, 60.0, 60.0, 60.0, 60.0, 60.0, 59.0, 59.0, 59.0, 59.0, 59.0, 59.0, 58.0, 58.0, 58.0, 71.0, 70.0, 67.0, 58.0, 58.0, 58.0, 57.0, 57.0, 55.0, 55.0, 54.0, 54.0, 54.0, 53.0, 53.0, 53.0, 53.0, 53.0, 52.0, 52.0, 52.0, 51.0, 56.0, 42.0, 41.0, 41.0, 41.0, 40.0, 40.0, 40.0, 39.0, 39.0, 38.0, 38.0, 37.0, 37.0, 62.0, 61.0, 60.0, 60.0, 59.0, 59.0, 59.0, 59.0, 59.0, 58.0, 58.0, 58.0, 58.0, 58.0, 58.0, 58.0, 57.0, 57.0, 57.0, 57.0, 57.0, 57.0, 57.0, 56.0, 56.0, 56.0, 56.0, 56.0, 56.0, 55.0, 55.0, 55.0, 55.0, 55.0, 55.0, 55.0, 55.0, 55.0, 55.0, 55.0, 54.0, 54.0, 54.0, 54.0, 54.0, 54.0, 54.0, 54.0, 54.0, 54.0, 53.0, 53.0, 53.0, 53.0, 53.0, 53.0, 53.0, 53.0, 52.0, 52.0, 52.0, 52.0, 52.0, 52.0, 52.0, 52.0, 51.0, 51.0, 51.0, 51.0, 51.0, 51.0, 51.0, 50.0, 50.0, 50.0, 56.0, 57.0, 56.0, 57.0, 58.0, 56.0, 57.0, 56.0, 57.0, 50.0, 56.0, 56.0, 57.0, 60.0, 68.0, 68.0, 68.0, 68.0, 68.0, 68.0, 67.0, 67.0, 67.0, 67.0, 67.0, 67.0, 67.0, 66.0, 66.0, 66.0, 66.0, 66.0, 66.0, 66.0, 66.0, 66.0, 66.0, 65.0, 65.0, 65.0, 65.0, 65.0, 65.0, 65.0, 65.0, 64.0, 64.0, 64.0, 64.0, 64.0, 64.0, 64.0, 64.0, 64.0, 63.0, 63.0, 63.0, 63.0, 63.0, 63.0, 63.0, 62.0, 62.0, 62.0, 62.0, 62.0, 62.0, 61.0, 61.0, 61.0, 61.0, 61.0, 61.0, 61.0, 60.0, 60.0, 60.0, 60.0, 60.0, 60.0, 60.0, 59.0, 59.0, 59.0, 59.0, 59.0, 59.0, 59.0, 59.0, 59.0, 58.0, 58.0, 58.0, 58.0, 58.0, 58.0, 58.0, 58.0, 57.0, 57.0, 57.0, 57.0, 57.0, 57.0, 57.0, 57.0, 56.0, 56.0, 56.0, 56.0, 56.0, 55.0, 55.0, 65.0, 64.0, 63.0, 62.0, 55.0, 59.0, 56.0, 58.0, 47.0, 47.0, 47.0, 47.0, 46.0, 46.0, 46.0], \"lon\": [7.0, 8.0, 9.0, 10.0, 11.0, 12.0, 13.0, 14.0, 8.0, 9.0, 10.0, 11.0, 12.0, 13.0, 14.0, 7.0, 8.0, 9.0, 10.0, 11.0, 12.0, 13.0, 14.0, 7.0, 8.0, 9.0, 10.0, 11.0, 12.0, 13.0, 14.0, 7.0, 8.0, 9.0, 10.0, 11.0, 12.0, 8.0, 9.0, 10.0, 11.0, 12.0, 13.0, 8.0, 9.0, 10.0, 11.0, 12.0, 5.0, 6.0, 15.0, 13.0, 14.0, 15.0, 16.0, 17.0, 11.0, 13.0, 14.0, 15.0, 16.0, 3.0, 3.0, 4.0, 5.0, 5.0, 10.0, 6.0, 7.0, 8.0, 9.0, 10.0, 11.0, 6.0, 7.0, 8.0, 9.0, 10.0, 11.0, 12.0, 7.0, 8.0, 9.0, 10.0, 11.0, 12.0, 13.0, 9.0, -8.0, -9.0, -8.0, -7.0, -6.0, -5.0, -4.0, -3.0, -2.0, -1.0, -8.0, -7.0, -6.0, -5.0, -4.0, -3.0, -2.0, -1.0, 0.0, 1.0, 2.0, 3.0, -6.0, -5.0, -4.0, -3.0, -2.0, -1.0, 0.0, 1.0, 2.0, -6.0, -5.0, -4.0, -3.0, -2.0, -1.0, 0.0, -7.0, -6.0, -5.0, -4.0, -3.0, -2.0, -1.0, 0.0, -7.0, -6.0, -5.0, -4.0, -3.0, -2.0, -1.0, -7.0, -6.0, -5.0, -4.0, -3.0, -2.0, -6.0, -5.0, -7.0, -6.0, -5.0, 1.0, 1.0, 3.0, 4.0, 3.0, 2.0, -2.0, -1.0, 0.0, 1.0, 2.0, 3.0, 4.0, -4.0, -3.0, -2.0, -1.0, 0.0, 1.0, 2.0, 3.0, 4.0, 5.0, 6.0, 7.0, -5.0, -4.0, -3.0, -2.0, -1.0, 0.0, 1.0, 2.0, 3.0, 4.0, 5.0, 6.0, 7.0, -2.0, -1.0, 0.0, 1.0, 2.0, 3.0, 4.0, 5.0, 6.0, -1.0, 0.0, 1.0, 2.0, 3.0, 4.0, 5.0, 6.0, -1.0, 0.0, 1.0, 2.0, 3.0, 4.0, 5.0, 6.0, -1.0, 0.0, 1.0, 2.0, 3.0, 4.0, 5.0, 6.0, 7.0, 0.0, 1.0, 2.0, 3.0, 6.0, -3.0, -2.0, 4.0, 5.0, 9.0, 9.0, -9.0, -8.0, -10.0, -9.0, -8.0, -7.0, -10.0, -9.0, -8.0, -7.0, -6.0, -10.0, -9.0, -8.0, -7.0, -6.0, 12.0, 10.0, 11.0, 12.0, 13.0, 7.0, 8.0, 9.0, 10.0, 11.0, 12.0, 13.0, 8.0, 10.0, 11.0, 12.0, 13.0, 10.0, 11.0, 12.0, 13.0, 14.0, 12.0, 13.0, 14.0, 15.0, 16.0, 13.0, 14.0, 15.0, 16.0, 17.0, 15.0, 16.0, 18.0, 16.0, 17.0, 13.0, 14.0, 15.0, 16.0, 14.0, 15.0, 12.0, 13.0, 12.0, 17.0, 18.0, 14.0, 9.0, 9.0, 9.0, 8.0, 8.0, 8.0, 10.0, 10.0, 6.0, 23.0, 24.0, 25.0, 26.0, 27.0, 28.0, 29.0, 30.0, 18.0, 19.0, 20.0, 21.0, 22.0, 23.0, 24.0, 25.0, 26.0, 27.0, 28.0, 29.0, 30.0, 31.0, 15.0, 16.0, 17.0, 18.0, 19.0, 20.0, 21.0, 22.0, 23.0, 24.0, 25.0, 13.0, 14.0, 15.0, 16.0, 17.0, 13.0, 14.0, 15.0, 16.0, 12.0, 13.0, 14.0, 11.0, 12.0, 13.0, 14.0, 9.0, 10.0, 11.0, 12.0, 6.0, 7.0, 8.0, 9.0, 10.0, 11.0, 12.0, 5.0, 6.0, 7.0, 8.0, 9.0, 10.0, 11.0, 12.0, 5.0, 6.0, 7.0, 8.0, 9.0, 10.0, 11.0, 12.0, 5.0, 6.0, 7.0, 8.0, 9.0, 10.0, 11.0, 12.0, 5.0, 6.0, 7.0, 8.0, 9.0, 10.0, 6.0, 7.0, 8.0, 22.0, 17.0, 12.0, 5.0, 4.0, 3.0, 5.0, 4.0, 4.0, 5.0, 4.0, 5.0, 6.0, 3.0, 4.0, 5.0, 6.0, 7.0, 4.0, 5.0, 6.0, 6.0, 4.0, -9.0, -9.0, -8.0, -7.0, -9.0, -8.0, -7.0, -9.0, -8.0, -9.0, -8.0, -9.0, -8.0, -7.0, -1.0, -2.0, -1.0, -6.0, -5.0, -4.0, -3.0, -2.0, -8.0, -7.0, -6.0, -5.0, -4.0, -3.0, -2.0, -7.0, -6.0, -5.0, -4.0, -3.0, -2.0, -1.0, -6.0, -5.0, -4.0, -3.0, -2.0, -1.0, -7.0, -6.0, -5.0, -4.0, -3.0, -2.0, -1.0, 0.0, 1.0, 2.0, 3.0, -6.0, -5.0, -4.0, -3.0, -2.0, -1.0, 0.0, 1.0, 2.0, 3.0, -5.0, -4.0, -3.0, -2.0, -1.0, 0.0, 1.0, 2.0, -5.0, -4.0, -3.0, -2.0, -1.0, 0.0, 1.0, 2.0, -5.0, -4.0, -3.0, -2.0, -1.0, 0.0, 1.0, -6.0, -5.0, -4.0, 3.0, 3.0, 2.0, 2.0, 2.0, 1.0, 1.0, 0.0, 0.0, -3.0, -7.0, -8.0, -8.0, -3.0, 18.0, 19.0, 20.0, 21.0, 22.0, 23.0, 17.0, 18.0, 19.0, 20.0, 21.0, 22.0, 23.0, 15.0, 16.0, 17.0, 18.0, 19.0, 20.0, 21.0, 22.0, 23.0, 24.0, 15.0, 16.0, 17.0, 18.0, 19.0, 20.0, 21.0, 22.0, 13.0, 14.0, 15.0, 16.0, 17.0, 18.0, 19.0, 20.0, 21.0, 13.0, 14.0, 15.0, 16.0, 17.0, 18.0, 19.0, 13.0, 14.0, 15.0, 16.0, 17.0, 18.0, 13.0, 14.0, 15.0, 16.0, 17.0, 18.0, 19.0, 13.0, 14.0, 15.0, 16.0, 17.0, 18.0, 19.0, 11.0, 12.0, 13.0, 14.0, 15.0, 16.0, 17.0, 18.0, 19.0, 11.0, 12.0, 13.0, 14.0, 15.0, 16.0, 17.0, 19.0, 12.0, 13.0, 14.0, 15.0, 16.0, 17.0, 18.0, 19.0, 13.0, 14.0, 15.0, 16.0, 17.0, 14.0, 15.0, 23.0, 22.0, 20.0, 19.0, 16.0, 20.0, 18.0, 18.0, 7.0, 8.0, 9.0, 10.0, 7.0, 8.0, 9.0], \"marker\": {\"color\": [\"#7b0323\", \"#7b0323\", \"#7b0323\", \"#7b0323\", \"#7b0323\", \"#7b0323\", \"#7b0323\", \"#7b0323\", \"#7b0323\", \"#7b0323\", \"#7b0323\", \"#7b0323\", \"#7b0323\", \"#7b0323\", \"#7b0323\", \"#7b0323\", \"#7b0323\", \"#7b0323\", \"#7b0323\", \"#7b0323\", \"#7b0323\", \"#7b0323\", \"#7b0323\", \"#7b0323\", \"#7b0323\", \"#7b0323\", \"#7b0323\", \"#7b0323\", \"#7b0323\", \"#7b0323\", \"#7b0323\", \"#7b0323\", \"#7b0323\", \"#7b0323\", \"#7b0323\", \"#7b0323\", \"#7b0323\", \"#808080\", \"#7b0323\", \"#7b0323\", \"#7b0323\", \"#7b0323\", \"#7b0323\", \"#7b0323\", \"#7b0323\", \"#7b0323\", \"#7b0323\", \"#7b0323\", \"#A9A9A9\", \"#7b0323\", \"#ADD8E6\", \"#ADD8E6\", \"#ADD8E6\", \"#ADD8E6\", \"#ADD8E6\", \"#ADD8E6\", \"#ADD8E6\", \"#ADD8E6\", \"#ADD8E6\", \"#ADD8E6\", \"#ADD8E6\", \"#04d8b2\", \"#FFFAF0\", \"#FFFAF0\", \"#FFFAF0\", \"#FFFAF0\", \"#758da3\", \"#A9A9A9\", \"#A9A9A9\", \"#A9A9A9\", \"#A9A9A9\", \"#A9A9A9\", \"#A9A9A9\", \"#A9A9A9\", \"#A9A9A9\", \"#A9A9A9\", \"#A9A9A9\", \"#A9A9A9\", \"#A9A9A9\", \"#A9A9A9\", \"#7b0323\", \"#7b0323\", \"#A9A9A9\", \"#A9A9A9\", \"#A9A9A9\", \"#A9A9A9\", \"#A9A9A9\", \"#c69f59\", \"#cf524e\", \"#cf524e\", \"#cf524e\", \"#cf524e\", \"#cf524e\", \"#cf524e\", \"#cf524e\", \"#cf524e\", \"#cf524e\", \"#808080\", \"#cf524e\", \"#cf524e\", \"#cf524e\", \"#cf524e\", \"#cf524e\", \"#cf524e\", \"#cf524e\", \"#cf524e\", \"#cf524e\", \"#cf524e\", \"#cf524e\", \"#cf524e\", \"#cf524e\", \"#cf524e\", \"#cf524e\", \"#cf524e\", \"#cf524e\", \"#cf524e\", \"#cf524e\", \"#cf524e\", \"#cf524e\", \"#cf524e\", \"#cf524e\", \"#cf524e\", \"#cf524e\", \"#cf524e\", \"#cf524e\", \"#cf524e\", \"#FF00FF\", \"#cf524e\", \"#cf524e\", \"#cf524e\", \"#cf524e\", \"#cf524e\", \"#cf524e\", \"#cf524e\", \"#cf524e\", \"#cf524e\", \"#cf524e\", \"#cf524e\", \"#cf524e\", \"#cf524e\", \"#cf524e\", \"#cf524e\", \"#cf524e\", \"#cf524e\", \"#cf524e\", \"#cf524e\", \"#cf524e\", \"#cf524e\", \"#cf524e\", \"#cf524e\", \"#cf524e\", \"#cf524e\", \"#cf524e\", \"#cf524e\", \"#cf524e\", \"#cf524e\", \"#cf524e\", \"#808080\", \"#808080\", \"#808080\", \"#808080\", \"#808080\", \"#808080\", \"#808080\", \"#808080\", \"#808080\", \"#808080\", \"#808080\", \"#808080\", \"#808080\", \"#808080\", \"#808080\", \"#808080\", \"#808080\", \"#808080\", \"#808080\", \"#808080\", \"#808080\", \"#808080\", \"#808080\", \"#808080\", \"#808080\", \"#808080\", \"#808080\", \"#808080\", \"#808080\", \"#808080\", \"#808080\", \"#808080\", \"#808080\", \"#808080\", \"#808080\", \"#808080\", \"#808080\", \"#808080\", \"#808080\", \"#808080\", \"#808080\", \"#808080\", \"#808080\", \"#808080\", \"#808080\", \"#808080\", \"#808080\", \"#808080\", \"#808080\", \"#808080\", \"#808080\", \"#808080\", \"#808080\", \"#808080\", \"#808080\", \"#808080\", \"#808080\", \"#808080\", \"#808080\", \"#808080\", \"#808080\", \"#808080\", \"#808080\", \"#808080\", \"#808080\", \"#808080\", \"#808080\", \"#808080\", \"#808080\", \"#808080\", \"#808080\", \"#808080\", \"#808080\", \"#808080\", \"#808080\", \"#808080\", \"#ffe5ad\", \"#808080\", \"#8c0034\", \"#8c0034\", \"#8c0034\", \"#8c0034\", \"#8c0034\", \"#8c0034\", \"#8c0034\", \"#8c0034\", \"#8c0034\", \"#8c0034\", \"#8c0034\", \"#8c0034\", \"#8c0034\", \"#8c0034\", \"#8c0034\", \"#8c0034\", \"#ffe5ad\", \"#ffe5ad\", \"#ffe5ad\", \"#ffe5ad\", \"#ffe5ad\", \"#ffe5ad\", \"#ffe5ad\", \"#ffe5ad\", \"#ffe5ad\", \"#ffe5ad\", \"#ffe5ad\", \"#ffe5ad\", \"#ffe5ad\", \"#ffe5ad\", \"#ffe5ad\", \"#ffe5ad\", \"#ffe5ad\", \"#ffe5ad\", \"#ffe5ad\", \"#ffe5ad\", \"#ffe5ad\", \"#ffe5ad\", \"#ffe5ad\", \"#ffe5ad\", \"#ffe5ad\", \"#ffe5ad\", \"#ffe5ad\", \"#ffe5ad\", \"#ffe5ad\", \"#ffe5ad\", \"#ffe5ad\", \"#ffe5ad\", \"#ffe5ad\", \"#ffe5ad\", \"#ffe5ad\", \"#ffe5ad\", \"#ffe5ad\", \"#ffe5ad\", \"#ffe5ad\", \"#ffe5ad\", \"#ffe5ad\", \"#ffe5ad\", \"#ffe5ad\", \"#ffe5ad\", \"#ffe5ad\", \"#ffe5ad\", \"#ffe5ad\", \"#ffe5ad\", \"#ffe5ad\", \"#ffe5ad\", \"#ffe5ad\", \"#ffe5ad\", \"#ffe5ad\", \"#ffe5ad\", \"#ffe5ad\", \"#ffe5ad\", \"#ffe5ad\", \"#21c36f\", \"#c69f59\", \"#c69f59\", \"#c69f59\", \"#c69f59\", \"#c69f59\", \"#c69f59\", \"#c69f59\", \"#c69f59\", \"#c69f59\", \"#c69f59\", \"#c69f59\", \"#c69f59\", \"#c69f59\", \"#c69f59\", \"#c69f59\", \"#c69f59\", \"#c69f59\", \"#c69f59\", \"#758da3\", \"#c69f59\", \"#c69f59\", \"#c69f59\", \"#c69f59\", \"#c69f59\", \"#c69f59\", \"#c69f59\", \"#c69f59\", \"#c69f59\", \"#758da3\", \"#758da3\", \"#c69f59\", \"#c69f59\", \"#c69f59\", \"#c69f59\", \"#c69f59\", \"#c69f59\", \"#c69f59\", \"#c69f59\", \"#c69f59\", \"#c69f59\", \"#c69f59\", \"#c69f59\", \"#c69f59\", \"#c69f59\", \"#c69f59\", \"#c69f59\", \"#c69f59\", \"#c69f59\", \"#c69f59\", \"#c69f59\", \"#c69f59\", \"#c69f59\", \"#c69f59\", \"#c69f59\", \"#c69f59\", \"#c69f59\", \"#c69f59\", \"#c69f59\", \"#c69f59\", \"#c69f59\", \"#c69f59\", \"#c69f59\", \"#c69f59\", \"#c69f59\", \"#c69f59\", \"#c69f59\", \"#c69f59\", \"#c69f59\", \"#c69f59\", \"#c69f59\", \"#c69f59\", \"#c69f59\", \"#c69f59\", \"#c69f59\", \"#c69f59\", \"#c69f59\", \"#c69f59\", \"#c69f59\", \"#c69f59\", \"#c69f59\", \"#c69f59\", \"#c69f59\", \"#c69f59\", \"#c69f59\", \"#c69f59\", \"#c69f59\", \"#c69f59\", \"#c69f59\", \"#c69f59\", \"#c69f59\", \"#c69f59\", \"#c69f59\", \"#c69f59\", \"#c69f59\", \"#c69f59\", \"#c69f59\", \"#c69f59\", \"#c69f59\", \"#c69f59\", \"#c69f59\", \"#c69f59\", \"#04d8b2\", \"#7b0323\", \"#04d8b2\", \"#04d8b2\", \"#04d8b2\", \"#04d8b2\", \"#04d8b2\", \"#04d8b2\", \"#04d8b2\", \"#04d8b2\", \"#04d8b2\", \"#04d8b2\", \"#04d8b2\", \"#7b0323\", \"#A9A9A9\", \"#cf524e\", \"#FF00FF\", \"#FF00FF\", \"#FF00FF\", \"#FF00FF\", \"#FF00FF\", \"#FF00FF\", \"#FF00FF\", \"#FF00FF\", \"#FF00FF\", \"#FF00FF\", \"#FF00FF\", \"#FF00FF\", \"#419c03\", \"#419c03\", \"#419c03\", \"#419c03\", \"#419c03\", \"#419c03\", \"#419c03\", \"#419c03\", \"#419c03\", \"#419c03\", \"#419c03\", \"#419c03\", \"#419c03\", \"#419c03\", \"#419c03\", \"#419c03\", \"#419c03\", \"#419c03\", \"#419c03\", \"#419c03\", \"#419c03\", \"#419c03\", \"#419c03\", \"#419c03\", \"#419c03\", \"#419c03\", \"#419c03\", \"#419c03\", \"#419c03\", \"#419c03\", \"#419c03\", \"#419c03\", \"#419c03\", \"#419c03\", \"#419c03\", \"#419c03\", \"#419c03\", \"#419c03\", \"#419c03\", \"#419c03\", \"#419c03\", \"#419c03\", \"#419c03\", \"#419c03\", \"#419c03\", \"#419c03\", \"#419c03\", \"#419c03\", \"#419c03\", \"#04d8b2\", \"#419c03\", \"#419c03\", \"#419c03\", \"#419c03\", \"#419c03\", \"#419c03\", \"#419c03\", \"#419c03\", \"#419c03\", \"#419c03\", \"#419c03\", \"#419c03\", \"#419c03\", \"#419c03\", \"#419c03\", \"#419c03\", \"#419c03\", \"#419c03\", \"#419c03\", \"#419c03\", \"#419c03\", \"#419c03\", \"#419c03\", \"#419c03\", \"#419c03\", \"#419c03\", \"#419c03\", \"#c69f59\", \"#419c03\", \"#419c03\", \"#c69f59\", \"#419c03\", \"#419c03\", \"#419c03\", \"#419c03\", \"#808080\", \"#419c03\", \"#8c0034\", \"#419c03\", \"#419c03\", \"#758da3\", \"#758da3\", \"#758da3\", \"#758da3\", \"#758da3\", \"#758da3\", \"#758da3\", \"#758da3\", \"#758da3\", \"#758da3\", \"#758da3\", \"#758da3\", \"#758da3\", \"#758da3\", \"#758da3\", \"#758da3\", \"#758da3\", \"#758da3\", \"#758da3\", \"#758da3\", \"#758da3\", \"#758da3\", \"#758da3\", \"#758da3\", \"#758da3\", \"#758da3\", \"#758da3\", \"#758da3\", \"#758da3\", \"#758da3\", \"#758da3\", \"#758da3\", \"#758da3\", \"#758da3\", \"#758da3\", \"#758da3\", \"#758da3\", \"#758da3\", \"#758da3\", \"#758da3\", \"#758da3\", \"#758da3\", \"#758da3\", \"#758da3\", \"#758da3\", \"#758da3\", \"#758da3\", \"#758da3\", \"#758da3\", \"#758da3\", \"#758da3\", \"#758da3\", \"#758da3\", \"#758da3\", \"#758da3\", \"#758da3\", \"#758da3\", \"#758da3\", \"#758da3\", \"#758da3\", \"#758da3\", \"#758da3\", \"#758da3\", \"#758da3\", \"#758da3\", \"#758da3\", \"#758da3\", \"#c69f59\", \"#758da3\", \"#758da3\", \"#758da3\", \"#758da3\", \"#758da3\", \"#758da3\", \"#758da3\", \"#758da3\", \"#758da3\", \"#758da3\", \"#758da3\", \"#758da3\", \"#758da3\", \"#758da3\", \"#758da3\", \"#758da3\", \"#758da3\", \"#758da3\", \"#758da3\", \"#758da3\", \"#758da3\", \"#758da3\", \"#758da3\", \"#758da3\", \"#758da3\", \"#758da3\", \"#758da3\", \"#758da3\", \"#758da3\", \"#A9A9A9\", \"#A9A9A9\", \"#758da3\", \"#758da3\", \"#758da3\", \"#758da3\", \"#A9A9A9\", \"#758da3\", \"#758da3\", \"#758da3\", \"#9ACD32\", \"#9ACD32\", \"#9ACD32\", \"#ADD8E6\", \"#9ACD32\", \"#9ACD32\", \"#9ACD32\"], \"size\": [13.940249999999999, 12.516011672237045, 8.339516053481244, 7.042969313140788, 7.042969313140788, 8.339516053481244, 9.09902809411748, 9.09902809411748, 8.30870712010732, 6.984311325548292, 5.922952625012351, 5.492090067665382, 5.855857999833478, 6.003119775266415, 6.003119775266415, 6.003119775266427, 5.849125895131989, 5.47180837825388, 5.020725548477238, 4.5894870816983415, 4.652707623604469, 4.70676215826258, 4.70676215826258, 5.033063865360483, 4.650205843790555, 4.496598408848754, 4.282566149780505, 4.0445220178262, 3.9341422118199536, 3.9605820163906196, 3.9605820163906196, 4.515908903679973, 4.13207645607516, 3.8547052720980695, 3.737976413305979, 3.83672878029994, 3.9279865577979916, 3.137485492805735, 3.9390419019346896, 4.20517249870516, 4.453305837682898, 4.637496647787968, 4.70676215826258, 3.9893336008069977, 4.380278532036827, 4.842952520430066, 5.353475642955934, 5.808330647663728, 25.79764957264957, 23.23375, 1.735109995780299, 2.338953017731818, 2.2630587102910775, 2.0858367780759246, 1.8869252715999836, 1.7066568841796512, 2.5771761041366696, 3.5451898372656037, 3.1558057592354385, 2.577176104136671, 2.154055768783435, 3.915441176470588, 7.983603882473354, 7.236568119213354, 6.029043175552917, 4.765784822760371, 14.295208333333333, 25.79764957264957, 20.63811965811966, 4.968701600898387, 3.4506892278017305, 3.4506892278017305, 3.4506892278017305, 25.79764957264957, 20.63811965811966, 4.890701203598724, 3.226710133050094, 4.890701203598724, 5.159529914529915, 4.890701203598721, 23.23375, 9.2935, 4.81674091115232, 3.1779125884104573, 3.4506892278017305, 4.81674091115232, 10.31905982905983, 1.4629120879120878, 2.8640909090909092, 4.68808000137605, 5.321952011012807, 5.321952011012807, 5.321952011012807, 5.321952011012807, 4.68808000137605, 3.788600305005129, 3.151527178634046, 3.93614584105748, 3.51117888964255, 3.51117888964255, 3.51117888964255, 3.51117888964255, 3.381481984321466, 3.087802840084798, 2.7704741417544065, 3.1016921972579414, 3.7391154479260247, 4.656504611022764, 5.321952011012787, 4.6721526232401205, 2.752949224293383, 2.752949224293383, 2.7049773999433806, 2.6476751821456883, 3.078149718986955, 3.7155314041594414, 4.641146682600629, 6.300927171695228, 1.4320454545454546, 2.6991434060150823, 2.752949224293383, 2.752949224293383, 2.718344221729521, 3.2304135412440114, 4.120083741680472, 6.244820228566602, 2.3679491677196425, 3.36245489113611, 3.51117888964255, 3.51117888964255, 3.362454891136111, 3.055485972438738, 3.692703506971295, 4.626088752814696, 3.6492672162472886, 4.596908791740445, 5.321952011012787, 5.321952011012787, 4.596908791740445, 3.64926721624729, 3.0472773977197005, 4.582802959627194, 6.0906407254663515, 4.296136363636363, 2.8640909090909092, 6.090640725466355, 4.018357562631473, 2.8640909090909092, 4.296136363636363, 4.296136363636363, 4.296136363636363, 2.8640909090909092, 1.4320454545454546, 5.321952011012787, 4.641146682600629, 3.7155314041594414, 3.6927035069712946, 7.601194684056552, 14.065749999999998, 14.065749999999998, 9.377166666666668, 9.909307348448708, 6.537792374493126, 5.126088203605365, 4.874948895337095, 9.377166666666668, 9.788541573891193, 7.601194684056552, 7.601194684056552, 7.601194684056552, 6.83970649839785, 5.650808909295017, 4.749456268820646, 4.1129889338322005, 3.741882320888404, 3.551364674978723, 3.3426099115965324, 4.688583333333334, 9.67335542932151, 7.601194684056552, 6.7904878820481125, 5.566202332683115, 5.014918258468756, 4.863569768322171, 4.50450878316254, 4.09325259666464, 3.7142802531410273, 3.390277721804618, 3.118974846214168, 3.061333687457426, 9.563428754100324, 6.766321427660774, 5.525689230157181, 4.618482510224828, 3.9888986887692446, 3.534328001484377, 3.3086121569644713, 3.3086121569644713, 3.278258072230517, 9.458468099305685, 6.2403355179795055, 4.892848220509597, 4.11728079361898, 3.867688129894285, 3.931960108974047, 3.931960108974047, 3.867688129894285, 6.7424800270723475, 5.486352737711287, 4.57794222877554, 4.4253627395434005, 4.835259591441541, 5.014918258468756, 5.014918258468756, 4.835259591441541, 4.8408783144984575, 4.440750033434178, 4.501237814118143, 5.411151479537613, 6.695853083821778, 7.601194684056584, 7.601194684056584, 6.695853083821775, 5.411151479537613, 4.395339518613906, 4.824133369105994, 6.050531606763009, 9.170793531797855, 9.170793531797848, 4.688583333333334, 4.688583333333334, 9.377166666666668, 9.377166666666668, 2.370862068965517, 7.601194684056552, 1.5680769230769227, 0.706310372763849, 0.46376074911228293, 0.5059972374967887, 0.46376074911228293, 0.46376074911228293, 0.32589064607424895, 0.3852171622921435, 0.46034332109200743, 0.6862343297466561, 4.704230769230769, 0.3501778657752209, 0.4466148677015722, 0.6769319497206644, 3.136153846153846, 6.272307692307692, 3.8001462579232066, 3.0812817642138066, 3.786756292607724, 5.31212750347995, 4.741724137931034, 2.48540153382021, 2.715610518795038, 2.816511609366341, 3.4675853504212517, 5.255816518128386, 7.112586206896552, 9.483448275862068, 3.7605693598989585, 3.7605693598989585, 5.202004038921022, 7.112586206896552, 9.483448275862068, 5.150561807421596, 3.760569359898957, 4.2690333060854355, 4.2690333060854355, 4.2690333060854355, 2.999352183083099, 2.816511609366341, 2.816511609366341, 2.7124745178318492, 2.9993521830830994, 2.6145785044962575, 2.2082934803153056, 2.6145785044962575, 3.334642818665504, 5.054323657846474, 2.46915485977335, 2.980434111645518, 4.269033306085418, 2.4522805886880805, 2.7032198050549807, 4.269033306085418, 3.6874358687128135, 2.927279925998542, 2.4166446549244673, 4.885641219351772, 3.223347793278847, 3.6874358687128135, 2.370862068965517, 4.885641219351772, 3.7229215380841847, 2.370862068965517, 4.741724137931034, 5.054323657846471, 5.009317162405867, 4.9662582129787305, 4.269033306085418, 4.741724137931034, 4.741724137931034, 4.741724137931034, 4.741724137931034, 3.1066666666666665, 1.4629120879120878, 0.9752747252747255, 0.5523747625151009, 0.36443887811594516, 0.28574900746558785, 0.3644388781159455, 0.552374762515102, 0.48763736263736274, 1.4629120879120878, 0.9752747252747255, 0.5362754689641736, 0.35381699979308745, 0.28171892443642504, 0.28171892443642504, 0.28171892443642504, 0.272935668868651, 0.2522440195658217, 0.22875808896416128, 1.291437073613965, 0.272935668868651, 0.28171892443642504, 0.272935668868651, 0.9752747252747255, 0.9752747252747255, 0.5214604885111905, 0.34404247066066945, 0.28171892443642504, 0.27211450735066084, 1.2796464708559454, 1.1540358829673372, 0.20342590383956655, 0.18586517470414704, 0.18426864278264576, 1.4629120879120878, 0.9752747252747255, 0.5077776889272503, 0.33501491866203237, 0.2712709486999017, 1.4629120879120878, 0.4950989634384353, 0.32664982298914563, 0.25611893367990884, 0.9752747252747255, 0.48331558752202947, 0.31887545064083583, 0.48763736263736274, 0.47233462444128305, 0.3116304849061936, 0.24434236015210498, 0.48763736263736274, 0.46207611114328084, 0.3048621687073381, 0.2677138988835007, 0.9752747252747255, 0.9752747252747255, 0.45247083228253265, 0.29852483596929086, 0.2667889472757145, 0.23633124705129735, 0.20705811852207295, 0.28171892443642504, 0.28171892443642504, 0.28171892443642504, 0.26585357778622737, 0.23414630726147942, 0.20431094450077456, 0.18051217777125037, 0.16581309387108006, 0.9752747252747255, 0.43498653560896033, 0.28698910315797166, 0.22502113092870546, 0.18935543499080598, 0.1656359281142044, 0.15379073567450904, 0.14848194340882864, 1.4629120879120878, 0.4270084797756822, 0.2817253609919198, 0.2208938337347169, 0.1858821633986143, 0.18586517470414776, 0.18586517470414776, 0.1823224093209518, 1.4629120879120878, 0.41948346825758687, 0.28171892443642504, 0.28171892443642504, 0.28171892443642504, 0.28171892443642504, 1.950549450549451, 1.950549450549451, 1.4629120879120878, 0.9752747252747255, 0.9752747252747255, 1.4629120879120878, 2.4381868131868125, 1.950549450549451, 1.950549450549451, 2.4381868131868125, 2.4381868131868125, 6.525735294117647, 23.23375, 6.525735294117647, 5.220588235294117, 5.220588235294117, 6.525735294117647, 3.915441176470588, 4.462720296203175, 3.2906021219214012, 3.2906021219214012, 4.402225042110722, 2.9937054927247857, 2.5051449251185143, 5.799842530228508, 25.79764957264957, 3.381481984321466, 2.108621126156862, 2.1460167813984996, 2.1460167813984996, 1.7875358255938798, 1.859611976195111, 1.9965716233660096, 1.8823972691766342, 2.1057512095272757, 2.09585239430981, 2.360608245966974, 2.332758045265314, 2.828642887258816, 0.47451926062266436, 0.7158492260580247, 1.3297042089775064, 0.8772926441260732, 1.3062713265825898, 0.1281203007518797, 0.1281203007518797, 1.3062713265825905, 0.1281203007518797, 0.1281203007518797, 1.2841362901873663, 0.84722791789107, 0.8772726006952325, 1.2841362901873663, 0.1281203007518797, 0.19218045112781953, 0.19218045112781953, 1.2631985924375881, 0.8334136608473292, 0.8130114927992034, 0.8772726006952325, 1.2631985924375881, 0.19218045112781953, 0.19218045112781953, 1.2433684637656037, 0.820330143701124, 0.820330143701124, 1.2433684637656042, 0.2562406015037594, 1.224565455491234, 0.1281203007518797, 1.2245654554912333, 0.8772726006952325, 0.8079242890826756, 1.224565455491234, 0.19218045112781953, 0.2562406015037594, 0.32030075187969925, 0.32030075187969925, 0.32030075187969925, 1.2067172445740453, 0.19218045112781953, 0.1281203007518797, 1.2067172445740464, 0.8040450981250343, 0.8772726006952325, 1.2067172445740462, 0.19218045112781953, 0.32030075187969925, 6.525735294117647, 0.2562406015037594, 1.1897586202672097, 0.8010746893268613, 0.6733845524216058, 0.6733845524216058, 0.8010746893268613, 1.1897586202672097, 0.2562406015037594, 0.2562406015037594, 1.1736306209160094, 0.7743184299503253, 0.6071207987899021, 0.6071207987899021, 0.7743184299503253, 1.1736306209160094, 0.19218045112781953, 0.19218045112781953, 1.1582797953651587, 0.8772726006952325, 0.8772726006952325, 0.8772726006952325, 0.8772726006952325, 0.7951851103218478, 0.1281203007518797, 0.2562406015037594, 0.2562406015037594, 0.32030075187969925, 2.4381868131868125, 0.32030075187969925, 0.32030075187969925, 1.4629120879120878, 0.32030075187969925, 0.2562406015037594, 0.32030075187969925, 0.2562406015037594, 14.065749999999998, 0.2562406015037594, 4.704230769230769, 0.2562406015037594, 0.06406015037593984, 1.2678531136088749, 1.1372763213252008, 1.0225550848607905, 0.9276557901176776, 0.8819572429776324, 0.8405221011854018, 1.1209402941229212, 1.0043759724102845, 0.9091248159229525, 0.9089413958249658, 0.9401104529153673, 0.9515911525665992, 0.9515911525665992, 1.280066415828951, 1.1050453174762302, 0.986942376718772, 0.9702319091914666, 1.0896026670184304, 1.2327955455603297, 1.3753121766770102, 1.4423424744899176, 1.4423424744899176, 1.3753121766770096, 1.0896026670184304, 0.9702319091914666, 0.9542197790260252, 1.0746184666027252, 1.2509822159427744, 1.5954834614865399, 2.4182553315038215, 14.295208333333333, 1.2213115022855303, 1.0746184666027252, 0.9542197790260252, 1.060094630241103, 1.2099669780905324, 1.3659040873807238, 1.5608310860598027, 2.3657338706739193, 9.53013888888889, 0.9388797587706913, 0.9241849182939935, 1.0460296689195994, 1.198780539446548, 1.5283852565815501, 2.3165568347048517, 14.295208333333333, 0.8645403937697567, 0.9883438940493825, 1.1745006808110787, 1.4979424724515769, 2.2704157809093912, 14.295208333333333, 0.848021604862362, 0.9694605614767187, 1.1520615288642813, 1.4693246966940032, 2.2270408613660937, 14.295208333333333, 19.06027777777778, 0.8867963355460097, 0.8966227048607319, 1.0192574034559188, 1.1769428832679543, 1.4423754283193346, 2.1861948698686815, 14.295208333333333, 0.28171892443642504, 1.3416099704970397, 1.1558972899540232, 0.9942451495995986, 1.155897289954023, 1.3416099704970397, 1.4423424744899176, 2.1476683713195075, 19.06027777777778, 9.53013888888889, 2.111275688883158, 1.3929453747666631, 1.092172468809098, 1.392945374766662, 2.111275688883158, 14.295208333333333, 19.06027777777778, 1.3366894251381318, 1.1456934477710696, 1.0743636843648372, 1.3702330620010317, 2.0768515762885054, 19.06027777777778, 23.825347222222227, 14.295208333333333, 1.4423424744899176, 1.4423424744899176, 1.4423424744899176, 2.0442484414869218, 14.295208333333333, 15.478589743589742, 15.478589743589742, 9.53013888888889, 14.295208333333333, 9.53013888888889, 19.06027777777778, 10.31905982905983, 9.53013888888889, 14.295208333333333, 19.06027777777778, 7.0133280908570415, 7.708534360383907, 8.535822402926984, 2.154055768783434, 7.8486732710008695, 8.383096325771753, 9.71387888239278]}, \"mode\": \"markers\", \"text\": [\"Allemagne\", \"Allemagne\", \"Allemagne\", \"Allemagne\", \"Allemagne\", \"Allemagne\", \"Allemagne\", \"Allemagne\", \"Allemagne\", \"Allemagne\", \"Allemagne\", \"Allemagne\", \"Allemagne\", \"Allemagne\", \"Allemagne\", \"Allemagne\", \"Allemagne\", \"Allemagne\", \"Allemagne\", \"Allemagne\", \"Allemagne\", \"Allemagne\", \"Allemagne\", \"Allemagne\", \"Allemagne\", \"Allemagne\", \"Allemagne\", \"Allemagne\", \"Allemagne\", \"Allemagne\", \"Allemagne\", \"Allemagne\", \"Allemagne\", \"Allemagne\", \"Allemagne\", \"Allemagne\", \"Allemagne\", \"France\", \"Allemagne\", \"Allemagne\", \"Allemagne\", \"Allemagne\", \"Allemagne\", \"Allemagne\", \"Allemagne\", \"Allemagne\", \"Allemagne\", \"Allemagne\", \"Danemark\", \"Allemagne\", \"Autriche\", \"Autriche\", \"Autriche\", \"Autriche\", \"Autriche\", \"Autriche\", \"Autriche\", \"Autriche\", \"Autriche\", \"Autriche\", \"Autriche\", \"Pays-Bas\", \"Belgique\", \"Belgique\", \"Belgique\", \"Belgique\", \"Su\\u00e8de\", \"Danemark\", \"Danemark\", \"Danemark\", \"Danemark\", \"Danemark\", \"Danemark\", \"Danemark\", \"Danemark\", \"Danemark\", \"Danemark\", \"Danemark\", \"Danemark\", \"Danemark\", \"Allemagne\", \"Allemagne\", \"Danemark\", \"Danemark\", \"Danemark\", \"Danemark\", \"Danemark\", \"Norv\\u00e8ge\", \"Espagne\", \"Espagne\", \"Espagne\", \"Espagne\", \"Espagne\", \"Espagne\", \"Espagne\", \"Espagne\", \"Espagne\", \"France\", \"Espagne\", \"Espagne\", \"Espagne\", \"Espagne\", \"Espagne\", \"Espagne\", \"Espagne\", \"Espagne\", \"Espagne\", \"Espagne\", \"Espagne\", \"Espagne\", \"Espagne\", \"Espagne\", \"Espagne\", \"Espagne\", \"Espagne\", \"Espagne\", \"Espagne\", \"Espagne\", \"Espagne\", \"Espagne\", \"Espagne\", \"Espagne\", \"Espagne\", \"Espagne\", \"Espagne\", \"Espagne\", \"Portugal\", \"Espagne\", \"Espagne\", \"Espagne\", \"Espagne\", \"Espagne\", \"Espagne\", \"Espagne\", \"Espagne\", \"Espagne\", \"Espagne\", \"Espagne\", \"Espagne\", \"Espagne\", \"Espagne\", \"Espagne\", \"Espagne\", \"Espagne\", \"Espagne\", \"Espagne\", \"Espagne\", \"Espagne\", \"Espagne\", \"Espagne\", \"Espagne\", \"Espagne\", \"Espagne\", \"Espagne\", \"Espagne\", \"Espagne\", \"Espagne\", \"France\", \"France\", \"France\", \"France\", \"France\", \"France\", \"France\", \"France\", \"France\", \"France\", \"France\", \"France\", \"France\", \"France\", \"France\", \"France\", \"France\", \"France\", \"France\", \"France\", \"France\", \"France\", \"France\", \"France\", \"France\", \"France\", \"France\", \"France\", \"France\", \"France\", \"France\", \"France\", \"France\", \"France\", \"France\", \"France\", \"France\", \"France\", \"France\", \"France\", \"France\", \"France\", \"France\", \"France\", \"France\", \"France\", \"France\", \"France\", \"France\", \"France\", \"France\", \"France\", \"France\", \"France\", \"France\", \"France\", \"France\", \"France\", \"France\", \"France\", \"France\", \"France\", \"France\", \"France\", \"France\", \"France\", \"France\", \"France\", \"France\", \"France\", \"France\", \"France\", \"France\", \"France\", \"France\", \"France\", \"Italie\", \"France\", \"Irlande\", \"Irlande\", \"Irlande\", \"Irlande\", \"Irlande\", \"Irlande\", \"Irlande\", \"Irlande\", \"Irlande\", \"Irlande\", \"Irlande\", \"Irlande\", \"Irlande\", \"Irlande\", \"Irlande\", \"Irlande\", \"Italie\", \"Italie\", \"Italie\", \"Italie\", \"Italie\", \"Italie\", \"Italie\", \"Italie\", \"Italie\", \"Italie\", \"Italie\", \"Italie\", \"Italie\", \"Italie\", \"Italie\", \"Italie\", \"Italie\", \"Italie\", \"Italie\", \"Italie\", \"Italie\", \"Italie\", \"Italie\", \"Italie\", \"Italie\", \"Italie\", \"Italie\", \"Italie\", \"Italie\", \"Italie\", \"Italie\", \"Italie\", \"Italie\", \"Italie\", \"Italie\", \"Italie\", \"Italie\", \"Italie\", \"Italie\", \"Italie\", \"Italie\", \"Italie\", \"Italie\", \"Italie\", \"Italie\", \"Italie\", \"Italie\", \"Italie\", \"Italie\", \"Italie\", \"Italie\", \"Italie\", \"Italie\", \"Italie\", \"Italie\", \"Italie\", \"Italie\", \"Luxembourg\", \"Norv\\u00e8ge\", \"Norv\\u00e8ge\", \"Norv\\u00e8ge\", \"Norv\\u00e8ge\", \"Norv\\u00e8ge\", \"Norv\\u00e8ge\", \"Norv\\u00e8ge\", \"Norv\\u00e8ge\", \"Norv\\u00e8ge\", \"Norv\\u00e8ge\", \"Norv\\u00e8ge\", \"Norv\\u00e8ge\", \"Norv\\u00e8ge\", \"Norv\\u00e8ge\", \"Norv\\u00e8ge\", \"Norv\\u00e8ge\", \"Norv\\u00e8ge\", \"Norv\\u00e8ge\", \"Su\\u00e8de\", \"Norv\\u00e8ge\", \"Norv\\u00e8ge\", \"Norv\\u00e8ge\", \"Norv\\u00e8ge\", \"Norv\\u00e8ge\", \"Norv\\u00e8ge\", \"Norv\\u00e8ge\", \"Norv\\u00e8ge\", \"Norv\\u00e8ge\", \"Su\\u00e8de\", \"Su\\u00e8de\", \"Norv\\u00e8ge\", \"Norv\\u00e8ge\", \"Norv\\u00e8ge\", \"Norv\\u00e8ge\", \"Norv\\u00e8ge\", \"Norv\\u00e8ge\", \"Norv\\u00e8ge\", \"Norv\\u00e8ge\", \"Norv\\u00e8ge\", \"Norv\\u00e8ge\", \"Norv\\u00e8ge\", \"Norv\\u00e8ge\", \"Norv\\u00e8ge\", \"Norv\\u00e8ge\", \"Norv\\u00e8ge\", \"Norv\\u00e8ge\", \"Norv\\u00e8ge\", \"Norv\\u00e8ge\", \"Norv\\u00e8ge\", \"Norv\\u00e8ge\", \"Norv\\u00e8ge\", \"Norv\\u00e8ge\", \"Norv\\u00e8ge\", \"Norv\\u00e8ge\", \"Norv\\u00e8ge\", \"Norv\\u00e8ge\", \"Norv\\u00e8ge\", \"Norv\\u00e8ge\", \"Norv\\u00e8ge\", \"Norv\\u00e8ge\", \"Norv\\u00e8ge\", \"Norv\\u00e8ge\", \"Norv\\u00e8ge\", \"Norv\\u00e8ge\", \"Norv\\u00e8ge\", \"Norv\\u00e8ge\", \"Norv\\u00e8ge\", \"Norv\\u00e8ge\", \"Norv\\u00e8ge\", \"Norv\\u00e8ge\", \"Norv\\u00e8ge\", \"Norv\\u00e8ge\", \"Norv\\u00e8ge\", \"Norv\\u00e8ge\", \"Norv\\u00e8ge\", \"Norv\\u00e8ge\", \"Norv\\u00e8ge\", \"Norv\\u00e8ge\", \"Norv\\u00e8ge\", \"Norv\\u00e8ge\", \"Norv\\u00e8ge\", \"Norv\\u00e8ge\", \"Norv\\u00e8ge\", \"Norv\\u00e8ge\", \"Norv\\u00e8ge\", \"Norv\\u00e8ge\", \"Norv\\u00e8ge\", \"Norv\\u00e8ge\", \"Norv\\u00e8ge\", \"Norv\\u00e8ge\", \"Norv\\u00e8ge\", \"Norv\\u00e8ge\", \"Norv\\u00e8ge\", \"Norv\\u00e8ge\", \"Norv\\u00e8ge\", \"Norv\\u00e8ge\", \"Norv\\u00e8ge\", \"Norv\\u00e8ge\", \"Norv\\u00e8ge\", \"Norv\\u00e8ge\", \"Norv\\u00e8ge\", \"Pays-Bas\", \"Allemagne\", \"Pays-Bas\", \"Pays-Bas\", \"Pays-Bas\", \"Pays-Bas\", \"Pays-Bas\", \"Pays-Bas\", \"Pays-Bas\", \"Pays-Bas\", \"Pays-Bas\", \"Pays-Bas\", \"Pays-Bas\", \"Allemagne\", \"Danemark\", \"Espagne\", \"Portugal\", \"Portugal\", \"Portugal\", \"Portugal\", \"Portugal\", \"Portugal\", \"Portugal\", \"Portugal\", \"Portugal\", \"Portugal\", \"Portugal\", \"Portugal\", \"Royaume-Uni\", \"Royaume-Uni\", \"Royaume-Uni\", \"Royaume-Uni\", \"Royaume-Uni\", \"Royaume-Uni\", \"Royaume-Uni\", \"Royaume-Uni\", \"Royaume-Uni\", \"Royaume-Uni\", \"Royaume-Uni\", \"Royaume-Uni\", \"Royaume-Uni\", \"Royaume-Uni\", \"Royaume-Uni\", \"Royaume-Uni\", \"Royaume-Uni\", \"Royaume-Uni\", \"Royaume-Uni\", \"Royaume-Uni\", \"Royaume-Uni\", \"Royaume-Uni\", \"Royaume-Uni\", \"Royaume-Uni\", \"Royaume-Uni\", \"Royaume-Uni\", \"Royaume-Uni\", \"Royaume-Uni\", \"Royaume-Uni\", \"Royaume-Uni\", \"Royaume-Uni\", \"Royaume-Uni\", \"Royaume-Uni\", \"Royaume-Uni\", \"Royaume-Uni\", \"Royaume-Uni\", \"Royaume-Uni\", \"Royaume-Uni\", \"Royaume-Uni\", \"Royaume-Uni\", \"Royaume-Uni\", \"Royaume-Uni\", \"Royaume-Uni\", \"Royaume-Uni\", \"Royaume-Uni\", \"Royaume-Uni\", \"Royaume-Uni\", \"Royaume-Uni\", \"Royaume-Uni\", \"Pays-Bas\", \"Royaume-Uni\", \"Royaume-Uni\", \"Royaume-Uni\", \"Royaume-Uni\", \"Royaume-Uni\", \"Royaume-Uni\", \"Royaume-Uni\", \"Royaume-Uni\", \"Royaume-Uni\", \"Royaume-Uni\", \"Royaume-Uni\", \"Royaume-Uni\", \"Royaume-Uni\", \"Royaume-Uni\", \"Royaume-Uni\", \"Royaume-Uni\", \"Royaume-Uni\", \"Royaume-Uni\", \"Royaume-Uni\", \"Royaume-Uni\", \"Royaume-Uni\", \"Royaume-Uni\", \"Royaume-Uni\", \"Royaume-Uni\", \"Royaume-Uni\", \"Royaume-Uni\", \"Royaume-Uni\", \"Norv\\u00e8ge\", \"Royaume-Uni\", \"Royaume-Uni\", \"Norv\\u00e8ge\", \"Royaume-Uni\", \"Royaume-Uni\", \"Royaume-Uni\", \"Royaume-Uni\", \"France\", \"Royaume-Uni\", \"Irlande\", \"Royaume-Uni\", \"Royaume-Uni\", \"Su\\u00e8de\", \"Su\\u00e8de\", \"Su\\u00e8de\", \"Su\\u00e8de\", \"Su\\u00e8de\", \"Su\\u00e8de\", \"Su\\u00e8de\", \"Su\\u00e8de\", \"Su\\u00e8de\", \"Su\\u00e8de\", \"Su\\u00e8de\", \"Su\\u00e8de\", \"Su\\u00e8de\", \"Su\\u00e8de\", \"Su\\u00e8de\", \"Su\\u00e8de\", \"Su\\u00e8de\", \"Su\\u00e8de\", \"Su\\u00e8de\", \"Su\\u00e8de\", \"Su\\u00e8de\", \"Su\\u00e8de\", \"Su\\u00e8de\", \"Su\\u00e8de\", \"Su\\u00e8de\", \"Su\\u00e8de\", \"Su\\u00e8de\", \"Su\\u00e8de\", \"Su\\u00e8de\", \"Su\\u00e8de\", \"Su\\u00e8de\", \"Su\\u00e8de\", \"Su\\u00e8de\", \"Su\\u00e8de\", \"Su\\u00e8de\", \"Su\\u00e8de\", \"Su\\u00e8de\", \"Su\\u00e8de\", \"Su\\u00e8de\", \"Su\\u00e8de\", \"Su\\u00e8de\", \"Su\\u00e8de\", \"Su\\u00e8de\", \"Su\\u00e8de\", \"Su\\u00e8de\", \"Su\\u00e8de\", \"Su\\u00e8de\", \"Su\\u00e8de\", \"Su\\u00e8de\", \"Su\\u00e8de\", \"Su\\u00e8de\", \"Su\\u00e8de\", \"Su\\u00e8de\", \"Su\\u00e8de\", \"Su\\u00e8de\", \"Su\\u00e8de\", \"Su\\u00e8de\", \"Su\\u00e8de\", \"Su\\u00e8de\", \"Su\\u00e8de\", \"Su\\u00e8de\", \"Su\\u00e8de\", \"Su\\u00e8de\", \"Su\\u00e8de\", \"Su\\u00e8de\", \"Su\\u00e8de\", \"Su\\u00e8de\", \"Norv\\u00e8ge\", \"Su\\u00e8de\", \"Su\\u00e8de\", \"Su\\u00e8de\", \"Su\\u00e8de\", \"Su\\u00e8de\", \"Su\\u00e8de\", \"Su\\u00e8de\", \"Su\\u00e8de\", \"Su\\u00e8de\", \"Su\\u00e8de\", \"Su\\u00e8de\", \"Su\\u00e8de\", \"Su\\u00e8de\", \"Su\\u00e8de\", \"Su\\u00e8de\", \"Su\\u00e8de\", \"Su\\u00e8de\", \"Su\\u00e8de\", \"Su\\u00e8de\", \"Su\\u00e8de\", \"Su\\u00e8de\", \"Su\\u00e8de\", \"Su\\u00e8de\", \"Su\\u00e8de\", \"Su\\u00e8de\", \"Su\\u00e8de\", \"Su\\u00e8de\", \"Su\\u00e8de\", \"Su\\u00e8de\", \"Danemark\", \"Danemark\", \"Su\\u00e8de\", \"Su\\u00e8de\", \"Su\\u00e8de\", \"Su\\u00e8de\", \"Danemark\", \"Su\\u00e8de\", \"Su\\u00e8de\", \"Su\\u00e8de\", \"Suisse\", \"Suisse\", \"Suisse\", \"Autriche\", \"Suisse\", \"Suisse\", \"Suisse\"], \"type\": \"scattergeo\"}],\n",
       "                        {\"geo\": {\"scope\": \"europe\"}, \"template\": {\"data\": {\"bar\": [{\"error_x\": {\"color\": \"#2a3f5f\"}, \"error_y\": {\"color\": \"#2a3f5f\"}, \"marker\": {\"line\": {\"color\": \"#E5ECF6\", \"width\": 0.5}}, \"type\": \"bar\"}], \"barpolar\": [{\"marker\": {\"line\": {\"color\": \"#E5ECF6\", \"width\": 0.5}}, \"type\": \"barpolar\"}], \"carpet\": [{\"aaxis\": {\"endlinecolor\": \"#2a3f5f\", \"gridcolor\": \"white\", \"linecolor\": \"white\", \"minorgridcolor\": \"white\", \"startlinecolor\": \"#2a3f5f\"}, \"baxis\": {\"endlinecolor\": \"#2a3f5f\", \"gridcolor\": \"white\", \"linecolor\": \"white\", \"minorgridcolor\": \"white\", \"startlinecolor\": \"#2a3f5f\"}, \"type\": \"carpet\"}], \"choropleth\": [{\"colorbar\": {\"outlinewidth\": 0, \"ticks\": \"\"}, \"type\": \"choropleth\"}], \"contour\": [{\"colorbar\": {\"outlinewidth\": 0, \"ticks\": \"\"}, \"colorscale\": [[0.0, \"#0d0887\"], [0.1111111111111111, \"#46039f\"], [0.2222222222222222, \"#7201a8\"], [0.3333333333333333, \"#9c179e\"], [0.4444444444444444, \"#bd3786\"], [0.5555555555555556, \"#d8576b\"], [0.6666666666666666, \"#ed7953\"], [0.7777777777777778, \"#fb9f3a\"], [0.8888888888888888, \"#fdca26\"], [1.0, \"#f0f921\"]], \"type\": \"contour\"}], \"contourcarpet\": [{\"colorbar\": {\"outlinewidth\": 0, \"ticks\": \"\"}, \"type\": \"contourcarpet\"}], \"heatmap\": [{\"colorbar\": {\"outlinewidth\": 0, \"ticks\": \"\"}, \"colorscale\": [[0.0, \"#0d0887\"], [0.1111111111111111, \"#46039f\"], [0.2222222222222222, \"#7201a8\"], [0.3333333333333333, \"#9c179e\"], [0.4444444444444444, \"#bd3786\"], [0.5555555555555556, \"#d8576b\"], [0.6666666666666666, \"#ed7953\"], [0.7777777777777778, \"#fb9f3a\"], [0.8888888888888888, \"#fdca26\"], [1.0, \"#f0f921\"]], \"type\": \"heatmap\"}], \"heatmapgl\": [{\"colorbar\": {\"outlinewidth\": 0, \"ticks\": \"\"}, \"colorscale\": [[0.0, \"#0d0887\"], [0.1111111111111111, \"#46039f\"], [0.2222222222222222, \"#7201a8\"], [0.3333333333333333, \"#9c179e\"], [0.4444444444444444, \"#bd3786\"], [0.5555555555555556, \"#d8576b\"], [0.6666666666666666, \"#ed7953\"], [0.7777777777777778, \"#fb9f3a\"], [0.8888888888888888, \"#fdca26\"], [1.0, \"#f0f921\"]], \"type\": \"heatmapgl\"}], \"histogram\": [{\"marker\": {\"colorbar\": {\"outlinewidth\": 0, \"ticks\": \"\"}}, \"type\": \"histogram\"}], \"histogram2d\": [{\"colorbar\": {\"outlinewidth\": 0, \"ticks\": \"\"}, \"colorscale\": [[0.0, \"#0d0887\"], [0.1111111111111111, \"#46039f\"], [0.2222222222222222, \"#7201a8\"], [0.3333333333333333, \"#9c179e\"], [0.4444444444444444, \"#bd3786\"], [0.5555555555555556, \"#d8576b\"], [0.6666666666666666, \"#ed7953\"], [0.7777777777777778, \"#fb9f3a\"], [0.8888888888888888, \"#fdca26\"], [1.0, \"#f0f921\"]], \"type\": \"histogram2d\"}], \"histogram2dcontour\": [{\"colorbar\": {\"outlinewidth\": 0, \"ticks\": \"\"}, \"colorscale\": [[0.0, \"#0d0887\"], [0.1111111111111111, \"#46039f\"], [0.2222222222222222, \"#7201a8\"], [0.3333333333333333, \"#9c179e\"], [0.4444444444444444, \"#bd3786\"], [0.5555555555555556, \"#d8576b\"], [0.6666666666666666, \"#ed7953\"], [0.7777777777777778, \"#fb9f3a\"], [0.8888888888888888, \"#fdca26\"], [1.0, \"#f0f921\"]], \"type\": \"histogram2dcontour\"}], \"mesh3d\": [{\"colorbar\": {\"outlinewidth\": 0, \"ticks\": \"\"}, \"type\": \"mesh3d\"}], \"parcoords\": [{\"line\": {\"colorbar\": {\"outlinewidth\": 0, \"ticks\": \"\"}}, \"type\": \"parcoords\"}], \"pie\": [{\"automargin\": true, \"type\": \"pie\"}], \"scatter\": [{\"marker\": {\"colorbar\": {\"outlinewidth\": 0, \"ticks\": \"\"}}, \"type\": \"scatter\"}], \"scatter3d\": [{\"line\": {\"colorbar\": {\"outlinewidth\": 0, \"ticks\": \"\"}}, \"marker\": {\"colorbar\": {\"outlinewidth\": 0, \"ticks\": \"\"}}, \"type\": \"scatter3d\"}], \"scattercarpet\": [{\"marker\": {\"colorbar\": {\"outlinewidth\": 0, \"ticks\": \"\"}}, \"type\": \"scattercarpet\"}], \"scattergeo\": [{\"marker\": {\"colorbar\": {\"outlinewidth\": 0, \"ticks\": \"\"}}, \"type\": \"scattergeo\"}], \"scattergl\": [{\"marker\": {\"colorbar\": {\"outlinewidth\": 0, \"ticks\": \"\"}}, \"type\": \"scattergl\"}], \"scattermapbox\": [{\"marker\": {\"colorbar\": {\"outlinewidth\": 0, \"ticks\": \"\"}}, \"type\": \"scattermapbox\"}], \"scatterpolar\": [{\"marker\": {\"colorbar\": {\"outlinewidth\": 0, \"ticks\": \"\"}}, \"type\": \"scatterpolar\"}], \"scatterpolargl\": [{\"marker\": {\"colorbar\": {\"outlinewidth\": 0, \"ticks\": \"\"}}, \"type\": \"scatterpolargl\"}], \"scatterternary\": [{\"marker\": {\"colorbar\": {\"outlinewidth\": 0, \"ticks\": \"\"}}, \"type\": \"scatterternary\"}], \"surface\": [{\"colorbar\": {\"outlinewidth\": 0, \"ticks\": \"\"}, \"colorscale\": [[0.0, \"#0d0887\"], [0.1111111111111111, \"#46039f\"], [0.2222222222222222, \"#7201a8\"], [0.3333333333333333, \"#9c179e\"], [0.4444444444444444, \"#bd3786\"], [0.5555555555555556, \"#d8576b\"], [0.6666666666666666, \"#ed7953\"], [0.7777777777777778, \"#fb9f3a\"], [0.8888888888888888, \"#fdca26\"], [1.0, \"#f0f921\"]], \"type\": \"surface\"}], \"table\": [{\"cells\": {\"fill\": {\"color\": \"#EBF0F8\"}, \"line\": {\"color\": \"white\"}}, \"header\": {\"fill\": {\"color\": \"#C8D4E3\"}, \"line\": {\"color\": \"white\"}}, \"type\": \"table\"}]}, \"layout\": {\"annotationdefaults\": {\"arrowcolor\": \"#2a3f5f\", \"arrowhead\": 0, \"arrowwidth\": 1}, \"coloraxis\": {\"colorbar\": {\"outlinewidth\": 0, \"ticks\": \"\"}}, \"colorscale\": {\"diverging\": [[0, \"#8e0152\"], [0.1, \"#c51b7d\"], [0.2, \"#de77ae\"], [0.3, \"#f1b6da\"], [0.4, \"#fde0ef\"], [0.5, \"#f7f7f7\"], [0.6, \"#e6f5d0\"], [0.7, \"#b8e186\"], [0.8, \"#7fbc41\"], [0.9, \"#4d9221\"], [1, \"#276419\"]], \"sequential\": [[0.0, \"#0d0887\"], [0.1111111111111111, \"#46039f\"], [0.2222222222222222, \"#7201a8\"], [0.3333333333333333, \"#9c179e\"], [0.4444444444444444, \"#bd3786\"], [0.5555555555555556, \"#d8576b\"], [0.6666666666666666, \"#ed7953\"], [0.7777777777777778, \"#fb9f3a\"], [0.8888888888888888, \"#fdca26\"], [1.0, \"#f0f921\"]], \"sequentialminus\": [[0.0, \"#0d0887\"], [0.1111111111111111, \"#46039f\"], [0.2222222222222222, \"#7201a8\"], [0.3333333333333333, \"#9c179e\"], [0.4444444444444444, \"#bd3786\"], [0.5555555555555556, \"#d8576b\"], [0.6666666666666666, \"#ed7953\"], [0.7777777777777778, \"#fb9f3a\"], [0.8888888888888888, \"#fdca26\"], [1.0, \"#f0f921\"]]}, \"colorway\": [\"#636efa\", \"#EF553B\", \"#00cc96\", \"#ab63fa\", \"#FFA15A\", \"#19d3f3\", \"#FF6692\", \"#B6E880\", \"#FF97FF\", \"#FECB52\"], \"font\": {\"color\": \"#2a3f5f\"}, \"geo\": {\"bgcolor\": \"white\", \"lakecolor\": \"white\", \"landcolor\": \"#E5ECF6\", \"showlakes\": true, \"showland\": true, \"subunitcolor\": \"white\"}, \"hoverlabel\": {\"align\": \"left\"}, \"hovermode\": \"closest\", \"mapbox\": {\"style\": \"light\"}, \"paper_bgcolor\": \"white\", \"plot_bgcolor\": \"#E5ECF6\", \"polar\": {\"angularaxis\": {\"gridcolor\": \"white\", \"linecolor\": \"white\", \"ticks\": \"\"}, \"bgcolor\": \"#E5ECF6\", \"radialaxis\": {\"gridcolor\": \"white\", \"linecolor\": \"white\", \"ticks\": \"\"}}, \"scene\": {\"xaxis\": {\"backgroundcolor\": \"#E5ECF6\", \"gridcolor\": \"white\", \"gridwidth\": 2, \"linecolor\": \"white\", \"showbackground\": true, \"ticks\": \"\", \"zerolinecolor\": \"white\"}, \"yaxis\": {\"backgroundcolor\": \"#E5ECF6\", \"gridcolor\": \"white\", \"gridwidth\": 2, \"linecolor\": \"white\", \"showbackground\": true, \"ticks\": \"\", \"zerolinecolor\": \"white\"}, \"zaxis\": {\"backgroundcolor\": \"#E5ECF6\", \"gridcolor\": \"white\", \"gridwidth\": 2, \"linecolor\": \"white\", \"showbackground\": true, \"ticks\": \"\", \"zerolinecolor\": \"white\"}}, \"shapedefaults\": {\"line\": {\"color\": \"#2a3f5f\"}}, \"ternary\": {\"aaxis\": {\"gridcolor\": \"white\", \"linecolor\": \"white\", \"ticks\": \"\"}, \"baxis\": {\"gridcolor\": \"white\", \"linecolor\": \"white\", \"ticks\": \"\"}, \"bgcolor\": \"#E5ECF6\", \"caxis\": {\"gridcolor\": \"white\", \"linecolor\": \"white\", \"ticks\": \"\"}}, \"title\": {\"x\": 0.05}, \"xaxis\": {\"automargin\": true, \"gridcolor\": \"white\", \"linecolor\": \"white\", \"ticks\": \"\", \"title\": {\"standoff\": 15}, \"zerolinecolor\": \"white\", \"zerolinewidth\": 2}, \"yaxis\": {\"automargin\": true, \"gridcolor\": \"white\", \"linecolor\": \"white\", \"ticks\": \"\", \"title\": {\"standoff\": 15}, \"zerolinecolor\": \"white\", \"zerolinewidth\": 2}}}, \"title\": {\"text\": \"Sites \\u00e9oliens selon leur capacit\\u00e9 maximale installable\"}},\n",
       "                        {\"responsive\": true}\n",
       "                    ).then(function(){\n",
       "                            \n",
       "var gd = document.getElementById('9b0cf76b-fdac-4c7d-b657-4c76d228ad11');\n",
       "var x = new MutationObserver(function (mutations, observer) {{\n",
       "        var display = window.getComputedStyle(gd).display;\n",
       "        if (!display || display === 'none') {{\n",
       "            console.log([gd, 'removed!']);\n",
       "            Plotly.purge(gd);\n",
       "            observer.disconnect();\n",
       "        }}\n",
       "}});\n",
       "\n",
       "// Listen for the removal of the full notebook cells\n",
       "var notebookContainer = gd.closest('#notebook-container');\n",
       "if (notebookContainer) {{\n",
       "    x.observe(notebookContainer, {childList: true});\n",
       "}}\n",
       "\n",
       "// Listen for the clearing of the current output cell\n",
       "var outputEl = gd.closest('.output');\n",
       "if (outputEl) {{\n",
       "    x.observe(outputEl, {childList: true});\n",
       "}}\n",
       "\n",
       "                        })\n",
       "                };\n",
       "                });\n",
       "            </script>\n",
       "        </div>"
      ]
     },
     "metadata": {},
     "output_type": "display_data"
    }
   ],
   "source": [
    "fig = go.Figure(data=go.Scattergeo(lon = sites['longitude'],lat = sites['latitude'], text = sites['pays'],mode = 'markers',\n",
    "        marker_color = sites['couleur'], marker = dict(color = sites['couleur'], size = sites['capacites']/600)))\n",
    "fig.update_layout(title = 'Sites éoliens selon leur capacité maximale installable', geo_scope = 'europe')\n",
    "fig.show();"
   ]
  },
  {
   "cell_type": "markdown",
   "metadata": {},
   "source": [
    "<h2> Question I.1. : Modélisation du problème d'optimisation </h2>\n",
    "\n",
    "Attaquons nous, dès à présent, à la modélisation du problème posé précédemment. Procédons de manière succincte et structurée."
   ]
  },
  {
   "cell_type": "markdown",
   "metadata": {},
   "source": [
    "<h3> Données </h3> \n",
    "\n",
    "Dans un souci de clarté, posons les notations suivantes.\n",
    "    \n",
    " - $ N_{s}\\hspace{6px} $ : Nombre de sites sur lesquels se porte notre étude.\n",
    " - $ N_{h}\\hspace{5px}$ : Période sur laquelle se porte notre étude en heure. \n",
    " - $ \\eta \\hspace{20px}$ : Matrice des rendements ($ N_{s}$ X $ N_{h}$).\n",
    " - $ P \\hspace{15px}$ : Puissance totale à installer en MW.\n",
    " - $ T \\hspace{15px}$ : Pas de temps pour l'étude de la variabilité.\n",
    " - $ \\delta \\hspace{20px}$ : Ratio toléré entre deux périodes de temps T consécutives\n",
    " - $ \\kappa \\hspace{18px}$ : Proportion de production se faisant en site offshore.\n",
    " \n",
    "<h3> Variables </h3>\n",
    "\n",
    "Voici ensuite les variables posées.\n",
    "\n",
    " - $p^{i} \\hspace{14px}$ : Vecteur des puissances intsallées sur chaque site.\n",
    " - $v \\hspace{18px}$ : Vecteur des variables intermédiaires permettant la linéarisation des contraintes en valeur absolue.\n",
    " \n",
    "<h3> Objectifs </h3>\n",
    "\n",
    "Notre objectif est celui de la maximisation de l'énergie totale produite. La solution associée à cet objectif est équivalent à la solution qui découle d'un objectif de minimisation. \n",
    "\n",
    "> $\\text{max } \\sum_{i=1}^{N}p_{i}^{i}\\sum_{j=1}^{N_{h}}\\eta_{ij} \\Leftrightarrow -\\text{min } \\sum_{i=1}^{N}p_{i}^{i}(-\\sum_{j=1}^{N_{h}}\\eta_{ij})$\n",
    "\n",
    "Etant donné notre outil de résolution (la librairie CyLP), nous privilégiront la deuxième formulation.\n",
    "\n",
    "<h3> Contraintes </h3>\n",
    "\n",
    "<i> Contrainte 1 </i> : Capacité des sites de production.\n",
    "> $ 0 \\leq p^{i} \\leq C_{max}^{i}  \\hspace{0.8cm}\n",
    "\\text{ avec : } C_{max}^{i} \\text{ la puissance installable maximale pour le site d'index $i$}$ \n",
    "\n",
    "<i> Contrainte 2 </i> : Puissance totale à installer.\n",
    "> $ \\sum_{j=1}^{N} p_{j}^{i} = P $\n",
    "\n",
    "<i> Contrainte 3 </i>: Puissance à installer sur les sites offshore.\n",
    ">$\\sum_{j=1}^{N} \\alpha_{j} p_{j}^{i} = \\kappa P \n",
    "\\hspace{0.8cm}\n",
    "\\text{ avec : }\n",
    "\\begin{align}\n",
    "\\begin{cases}\n",
    "\\alpha_{j} = 1 & \\text{ si $j$ est l'indice d'un site offshore}\\\\\n",
    "\\alpha_{j} = 0 & \\text{ si $j$ est l'indice d'un site onshore}\n",
    "\\end{cases}\n",
    "\\end{align}$\n",
    "\n",
    "<i>Contrainte 4 </i>: Variabilité moyenne (non-cyclique) de la puissance produites sur intervalles de temps.\n",
    "> $ \\sum_{i=1}^{\\frac{N_{h}}{T}-1} \\frac{\\sum_{j=1}^{N}p_{j}^{i} \\big|\\sum_{k=Ti+1}^{Ti+T} \\eta_{jk}-\\sum_{k=Ti+T+1}^{Ti+2T}\\eta_{jk}\\big|}{\\frac{N_{h}}{T}-1} \\leq \\delta P \n",
    "\\begin{align} \\hspace{1cm}\n",
    "\\Leftrightarrow \\hspace{0.8cm}\n",
    "\\begin{cases}\n",
    "    \\sum_{j=1}^{N}p_{j}^{i}\\sum_{k=Ti+1}^{Ti+T} \\eta_{jk}-\\sum_{k=Ti+T+1}^{Ti+2T}\\eta_{jk} - l & \\leq 0\\\\\n",
    "    \\sum_{j=1}^{N}p_{j}^{i}\\big(-\\sum_{k=Ti+1}^{Ti+T} \\eta_{jk}+\\sum_{k=Ti+T+1}^{Ti+2T}\\eta_{jk}\\big) - l & \\leq 0\\\\\n",
    "    \\sum_{i=1}^{\\frac{N_{h}}{T}-1} l_{i} & \\leq \\delta P T\\big(\\frac{N_h}{T}-1\\big)\\\\\n",
    "\\end{cases}\n",
    "\\end{align}$ "
   ]
  },
  {
   "cell_type": "markdown",
   "metadata": {},
   "source": [
    "<h3> Taille du modèle </h3>\n",
    "\n",
    "Veillons maintenant à nous familiariser avec ce modèle en étudiant sa taille. En effet, la taille du modèle est un facteur non-négligeable pour l'évaluer.\n",
    "\n",
    "<b><i>Nombre de variables</i></b> : $\\mathcal{O}( N_{sites} + N_{heures}/ T )$\n",
    "> Puissance installée : $N_{sites}$\n",
    ">\n",
    ">Variables de linéarisation : $N_{heures} / T$\n",
    "\n",
    "\n",
    "<b><i>Nombre de contraintes</i></b> : $\\mathcal{O}( N_{sites} + N_{heures}/ T )$\n",
    "> contrainte 1 : $\\hspace{0.5cm}2* N_{sites}$\n",
    ">\n",
    "> contrainte 2 : $\\hspace{0.5cm}1$\n",
    ">\n",
    "> contrainte 3 : $\\hspace{0.5cm}1$\n",
    ">\n",
    ">contrainte 4 : $\\hspace{0.5cm}(2*N_{heures})/T $\n",
    "\n",
    "On constate que le nombre de variables et de contraines évoluent conjointement. On en conclue que la taille de notre modèle varie en  $\\mathcal{O}( N_{sites} + N_{heures}/ T )$."
   ]
  },
  {
   "cell_type": "markdown",
   "metadata": {},
   "source": [
    "<h2> Question I.2. Résolution numérique par la méthode du simplexe </h2>\n",
    "\n",
    "C'est au moyen de l'alogritme du simplexe et plus spécifiquement de son implémentation pour le language python dans la librairie CyLP que nous allons résoudre le problème d'optimisation exposé plus haut.\n",
    "\n",
    "Vous trouverez ici la fonction qui attribue la puissance à installer suivie d'une analyse et visualisation des résultats obtenus et d'une étude de la performance de notre résolution."
   ]
  },
  {
   "cell_type": "code",
   "execution_count": 12,
   "metadata": {},
   "outputs": [],
   "source": [
    "def attribution_puissance(P = 500000, κ = 0.17, δ = 0.02, T = 3):\n",
    "    \"\"\" attribution_puissance est une fonction qui, à l'aide d'un algorithme du simplex \n",
    "        et de données sur des sites de production éoliens d'énergie, répartit, de manière \n",
    "        à obtenir une production d'énergie maximale, un capital de puissance à installer \n",
    "        parmi les sites disponibles.\n",
    "        \n",
    "        (input)\n",
    "         - P [int] : Puissance à répartir parmi les sites (en [MW])\n",
    "         - κ [float] : Proportion de la contribution des sites offshore \n",
    "         - δ [float] : Coefficient borne la variabilité de la production d'énergie\n",
    "         - T [int] : Pas de temps considéré pour la contrainte de variabilité (en [heure])\n",
    "         \n",
    "        (output)\n",
    "         - p_inst [numpy array] : Vecteur de dimension (N_sites, 1) reprenant les attributions\n",
    "           de puissance à installer par site (en [MW])\n",
    "         - E_tot [float] : Valeur maximisée de l'énergie totale produite (en [MWh])\n",
    "         - status [string] : Contient l'état de la solution\n",
    "         - l_sol [numpy array] : Vecteur de longueur N_heures//T-1 comprenant les bornes associées \n",
    "           à chaque valeur absolue de la variabilité\n",
    "         - dual_sol [dict] : Dictionnaire ayant pour valeurs les solutions du probleme dual et\n",
    "           pour clés le nom des contraintes du primal associées à celles-ci\n",
    "         - dual_coutsreduits [numpy array] : Vecteur de taille N_sites reprenant les coûts réduits \n",
    "           du problème dual\n",
    "    \"\"\"\n",
    "    \n",
    "    ## Création object CyClpSimplex ##\n",
    "    s = CyClpSimplex()\n",
    "    \n",
    "    ## Ajout des variables ##\n",
    "    puiss = s.addVariable('Puissance installee', N_sites) \n",
    "    L = s.addVariable('l', N_heures//T -1) \n",
    "    \n",
    "    ## Fonction objectif ##\n",
    "    rend_somme = rend_sites_matrix.sum(axis = 1)\n",
    "    s.objective = CyLPArray(-rend_somme)*puiss\n",
    "    \n",
    "    ## Ajout des contraintes ##\n",
    "    \n",
    "    #~ Contrainte 1 : Capacité des sites de production ~#\n",
    "    sites_capacite_max = CyLPArray(sites[\"capacites\"])\n",
    "    s.addConstraint(0 <= puiss <= sites_capacite_max, \"Contrainte capacite max\")\n",
    "    \n",
    "    #~ Contrainte 2 : Puissance totale à installer ~#\n",
    "    s.addConstraint(puiss.sum() == P,\"Puissance à installer\")\n",
    "    \n",
    "    #~ Contrainte 3 : Puissance à installer sur les sites offshore ~#\n",
    "    s.addConstraint(puiss[indice_offshore].sum() - κ*puiss.sum() == 0,\"Puissance offshore à installer\")\n",
    "     \n",
    "    #~ Contrainte 4 : Variabilité moyenne (non-cyclique) de la puissance produites sur intervalles de temps ~#\n",
    "    rend_sites_par_intervalle = np.sum(rend_sites_matrix.reshape(N_sites, N_heures//T, T), axis = 2)\n",
    "    diff_rend = np.asmatrix(rend_sites_par_intervalle[:,1:] - rend_sites_par_intervalle[:,:-1]).T\n",
    "    \n",
    "    s.addConstraint(L.sum() <= δ*P*(N_heures//T-1)*T,\"Variabilité\")\n",
    "    s.addConstraint(diff_rend*puiss - L <= 0, \"Abs contrainte 1\")\n",
    "    s.addConstraint(-diff_rend*puiss - L <= 0, \"Abs contrainte 2\")\n",
    "    \n",
    "    ## Résolution problème d'optimisation via l'algorithme du simplexe ##\n",
    "    s.primal()    \n",
    "    \n",
    "    ## Valeur à retourner ##\n",
    "    p_inst = s.primalVariableSolution['Puissance installee']\n",
    "    E_tot = -s.objectiveValue\n",
    "    status_sol = s.getStatusString()\n",
    "    l_sol = s.primalVariableSolution['l']\n",
    "    dual_sol = s.dualConstraintSolution\n",
    "    dual_coutsreduits = s.dualVariableSolution['Puissance installee']\n",
    "    \n",
    "    return p_inst, E_tot, status_sol, l_sol, dual_sol, dual_coutsreduits"
   ]
  },
  {
   "cell_type": "code",
   "execution_count": 16,
   "metadata": {
    "scrolled": true
   },
   "outputs": [
    {
     "data": {
      "text/html": [
       "<div>\n",
       "<style scoped>\n",
       "    .dataframe tbody tr th:only-of-type {\n",
       "        vertical-align: middle;\n",
       "    }\n",
       "\n",
       "    .dataframe tbody tr th {\n",
       "        vertical-align: top;\n",
       "    }\n",
       "\n",
       "    .dataframe thead th {\n",
       "        text-align: right;\n",
       "    }\n",
       "</style>\n",
       "<table border=\"1\" class=\"dataframe\">\n",
       "  <thead>\n",
       "    <tr style=\"text-align: right;\">\n",
       "      <th></th>\n",
       "      <th>Résultat obtenu (arrondi)</th>\n",
       "    </tr>\n",
       "    <tr>\n",
       "      <th>Résultat</th>\n",
       "      <th></th>\n",
       "    </tr>\n",
       "  </thead>\n",
       "  <tbody>\n",
       "    <tr>\n",
       "      <th>Etat de la solution</th>\n",
       "      <td>optimal</td>\n",
       "    </tr>\n",
       "    <tr>\n",
       "      <th>Energie totale [MWh]</th>\n",
       "      <td>192644544.0</td>\n",
       "    </tr>\n",
       "    <tr>\n",
       "      <th>Somme puissances installées [MW]</th>\n",
       "      <td>500000.0</td>\n",
       "    </tr>\n",
       "    <tr>\n",
       "      <th>Somme puissances installées (offshore) [MW]</th>\n",
       "      <td>85000.0</td>\n",
       "    </tr>\n",
       "    <tr>\n",
       "      <th>Variabilité moyenne [MWh]</th>\n",
       "      <td>29877.0</td>\n",
       "    </tr>\n",
       "    <tr>\n",
       "      <th>Rendement moyen de sites [-]</th>\n",
       "      <td>0.5264</td>\n",
       "    </tr>\n",
       "  </tbody>\n",
       "</table>\n",
       "</div>"
      ],
      "text/plain": [
       "                                            Résultat obtenu (arrondi)\n",
       "Résultat                                                             \n",
       "Etat de la solution                                           optimal\n",
       "Energie totale [MWh]                                      192644544.0\n",
       "Somme puissances installées [MW]                             500000.0\n",
       "Somme puissances installées (offshore) [MW]                   85000.0\n",
       "Variabilité moyenne [MWh]                                     29877.0\n",
       "Rendement moyen de sites [-]                                   0.5264"
      ]
     },
     "execution_count": 16,
     "metadata": {},
     "output_type": "execute_result"
    }
   ],
   "source": [
    "P = 500000\n",
    "κ = 0.17\n",
    "δ = 0.02\n",
    "T = 3\n",
    "\n",
    "p_inst, E_tot, status_sol, l_sol, dual_sol, dual_coutsreduits = attribution_puissance(P,κ,δ,T)\n",
    "\n",
    "var = np.sum(l_sol)*T//(N_heures)\n",
    "rend_moyen = E_tot/(N_heures*P)\n",
    "resultat = np.array([[status_sol], [np.round(E_tot)], [np.round(p_inst.sum())], [np.round(p_inst[indice_offshore].sum())],\n",
    "                     [round(var)], [np.round(rend_moyen,4)]])\n",
    "result_df = pd.DataFrame(resultat,index = [\"Etat de la solution\",\"Energie totale [MWh]\",\"Somme puissances installées [MW]\",\n",
    "                                           \"Somme puissances installées (offshore) [MW]\",\"Variabilité moyenne [MWh]\",\n",
    "                                           \"Rendement moyen de sites [-]\"], columns=[\"Résultat obtenu (arrondi)\"])\n",
    "result_df.index.name = \"Résultat\"\n",
    "result_df.head(6)"
   ]
  },
  {
   "cell_type": "code",
   "execution_count": 14,
   "metadata": {},
   "outputs": [
    {
     "data": {
      "application/vnd.plotly.v1+json": {
       "config": {
        "plotlyServerURL": "https://plot.ly"
       },
       "data": [
        {
         "lat": [
          54,
          54,
          54,
          54,
          54,
          54,
          54,
          54,
          53,
          53,
          52,
          52,
          49,
          49,
          48,
          51,
          51,
          51,
          50,
          57,
          57,
          57,
          57,
          56,
          56,
          56,
          56,
          56,
          56,
          55,
          55,
          43,
          43,
          43,
          43,
          43,
          42,
          42,
          41,
          39,
          37,
          37,
          39,
          40,
          40,
          39,
          51,
          50,
          50,
          50,
          50,
          49,
          49,
          49,
          49,
          49,
          49,
          48,
          48,
          48,
          48,
          48,
          48,
          47,
          47,
          47,
          46,
          46,
          46,
          45,
          45,
          45,
          45,
          44,
          43,
          43,
          55,
          54,
          54,
          54,
          54,
          53,
          53,
          53,
          53,
          52,
          52,
          52,
          44,
          44,
          43,
          43,
          43,
          43,
          43,
          42,
          42,
          42,
          42,
          41,
          41,
          41,
          41,
          40,
          40,
          40,
          39,
          39,
          38,
          38,
          38,
          38,
          37,
          37,
          38,
          37,
          40,
          41,
          40,
          39,
          41,
          50,
          71,
          70,
          70,
          70,
          70,
          70,
          70,
          70,
          70,
          70,
          70,
          69,
          69,
          69,
          69,
          69,
          69,
          69,
          68,
          68,
          68,
          67,
          67,
          66,
          66,
          65,
          65,
          65,
          64,
          63,
          63,
          63,
          63,
          62,
          62,
          62,
          62,
          62,
          61,
          61,
          61,
          60,
          60,
          60,
          59,
          59,
          58,
          58,
          57,
          57,
          53,
          53,
          52,
          42,
          41,
          40,
          39,
          39,
          38,
          37,
          37,
          61,
          60,
          60,
          59,
          59,
          59,
          58,
          58,
          58,
          57,
          57,
          57,
          57,
          57,
          56,
          56,
          56,
          55,
          55,
          54,
          54,
          54,
          53,
          53,
          52,
          52,
          52,
          52,
          52,
          51,
          51,
          51,
          51,
          51,
          68,
          68,
          68,
          68,
          68,
          67,
          67,
          67,
          67,
          66,
          66,
          66,
          66,
          66,
          65,
          65,
          65,
          65,
          64,
          64,
          64,
          63,
          63,
          63,
          63,
          63,
          62,
          62,
          62,
          62,
          61,
          60,
          59,
          59,
          59,
          59,
          59,
          58,
          58,
          58,
          57,
          57,
          56,
          56,
          56,
          55,
          55
         ],
         "lon": [
          7,
          8,
          9,
          10,
          11,
          12,
          13,
          14,
          8,
          9,
          7,
          8,
          13,
          15,
          17,
          3,
          4,
          5,
          5,
          6,
          7,
          8,
          11,
          6,
          7,
          8,
          9,
          10,
          12,
          9,
          11,
          -9,
          -5,
          -4,
          -3,
          -2,
          -2,
          -1,
          1,
          0,
          -7,
          -2,
          1,
          3,
          4,
          3,
          2,
          1,
          2,
          3,
          4,
          -3,
          -2,
          -1,
          0,
          1,
          6,
          -4,
          -3,
          -2,
          -1,
          0,
          1,
          -2,
          -1,
          0,
          -1,
          0,
          1,
          -1,
          3,
          4,
          6,
          3,
          3,
          6,
          -8,
          -10,
          -9,
          -8,
          -7,
          -10,
          -9,
          -8,
          -7,
          -10,
          -9,
          -8,
          8,
          10,
          10,
          11,
          12,
          13,
          14,
          12,
          13,
          15,
          16,
          13,
          14,
          15,
          17,
          15,
          16,
          18,
          16,
          17,
          13,
          14,
          15,
          16,
          14,
          15,
          12,
          12,
          17,
          9,
          9,
          9,
          8,
          6,
          29,
          20,
          21,
          22,
          25,
          26,
          27,
          28,
          29,
          30,
          31,
          17,
          18,
          19,
          22,
          23,
          24,
          25,
          15,
          16,
          17,
          14,
          15,
          13,
          14,
          12,
          13,
          14,
          10,
          8,
          9,
          11,
          12,
          5,
          6,
          7,
          8,
          9,
          6,
          7,
          8,
          6,
          7,
          8,
          6,
          10,
          6,
          5,
          5,
          4,
          5,
          6,
          4,
          -9,
          -9,
          -9,
          -9,
          -8,
          -9,
          -9,
          -8,
          -1,
          -2,
          -1,
          -6,
          -4,
          -3,
          -6,
          -5,
          -4,
          -6,
          -5,
          -4,
          -3,
          -2,
          -5,
          -3,
          -2,
          -7,
          -5,
          -6,
          -3,
          0,
          -1,
          1,
          -4,
          -3,
          -2,
          -1,
          1,
          -4,
          -3,
          -1,
          0,
          1,
          19,
          20,
          21,
          22,
          23,
          18,
          19,
          20,
          21,
          15,
          16,
          17,
          18,
          19,
          15,
          16,
          17,
          18,
          13,
          15,
          16,
          13,
          14,
          15,
          16,
          18,
          13,
          14,
          15,
          17,
          17,
          18,
          11,
          13,
          14,
          17,
          18,
          12,
          14,
          15,
          12,
          13,
          13,
          15,
          16,
          15,
          16
         ],
         "marker": {
          "color": "#7b0323",
          "size": [
           16.7283,
           15.019214006684455,
           10.007419264177493,
           8.451563175768946,
           8.451563175768946,
           10.007419264177493,
           10.918833712940978,
           10.91883371294098,
           9.970448544128782,
           8.381173590657951,
           7.203743730319712,
           7.0189510741583865,
           5.648114589915096,
           2.082131994936359,
           2.0479882610155813,
           9.580324658968026,
           8.683881743056025,
           7.234851810663501,
           5.718941787312445,
           30.95717948717948,
           24.765743589743593,
           5.962441921078064,
           4.140827073362077,
           30.95717948717948,
           24.765743589743593,
           5.86884144431847,
           3.8720521596601123,
           5.868841444318469,
           5.868841444318465,
           5.780089093382784,
           4.140827073362077,
           5.625696001651259,
           6.386342413215369,
           5.625696001651259,
           4.546320366006155,
           3.781832614360855,
           3.3245689701052874,
           3.72203063670953,
           7.561112606034274,
           5.551306503377636,
           5.499363551552633,
           4.822029075157768,
           6.3863424132153455,
           5.569376019120756,
           4.45863768499133,
           4.431244208365554,
           9.121433620867863,
           11.89116881813845,
           7.845350849391751,
           6.151305844326439,
           5.849938674404514,
           11.74624988866943,
           9.121433620867863,
           9.121433620867863,
           9.121433620867862,
           8.20764779807742,
           4.261637609974467,
           11.608026515185813,
           9.121433620867863,
           8.148585458457735,
           6.679442799219739,
           6.017901910162508,
           5.8362837219866055,
           11.476114504920387,
           8.11958571319293,
           6.630827076188618,
           11.350161719166824,
           7.488402621575406,
           5.871417864611516,
           8.090976032486816,
           5.802311509729849,
           6.017901910162508,
           3.4699843870326115,
           8.035023700586132,
           11.004952238157426,
           11.004952238157419,
           0.8475724473166187,
           0.5565128989347395,
           0.6071966849961465,
           0.5565128989347395,
           0.5565128989347395,
           0.39106877528909884,
           0.4622605947505722,
           0.5524119853104089,
           0.8234811956959874,
           0.4202134389302652,
           0.5359378412418867,
           0.8123183396647974,
           4.51268323187875,
           4.51268323187875,
           6.180674168905916,
           4.512683231878749,
           5.122839967302522,
           5.122839967302522,
           5.1228399673025224,
           3.599222619699719,
           3.3798139312396094,
           3.254969421398219,
           3.5992226196997197,
           3.1374942053955093,
           2.649952176378367,
           3.137494205395509,
           6.065188389415768,
           2.96298583172802,
           3.5765209339746216,
           5.1228399673025,
           2.942736706425697,
           3.243863766065977,
           5.122839967302501,
           4.424923042455376,
           3.5127359111982495,
           2.8999735859093607,
           5.8627694632221266,
           3.868017351934616,
           4.424923042455376,
           5.8627694632221266,
           4.467505845701021,
           6.065188389415765,
           6.01118059488704,
           5.9595098555744785,
           5.122839967302501,
           3.7280000000000006,
           0.6628497150181223,
           0.6435305627570083,
           0.424580399751705,
           0.3380627093237101,
           0.3275228026423813,
           0.302692823478986,
           0.27450970675699354,
           1.549724488336758,
           0.32752280264238126,
           0.3380627093237101,
           0.32752280264238115,
           0.6257525862134287,
           0.4128509647928033,
           0.3380627093237101,
           1.384843059560805,
           0.24411108460747985,
           0.22303820964497648,
           0.2211223713391749,
           0.6093332267127004,
           0.40201790239443885,
           0.325525138439882,
           0.5941187561261223,
           0.39197978758697477,
           0.5799787050264353,
           0.382650540769003,
           0.5668015493295396,
           0.37395658188743225,
           0.29321083218252597,
           0.554491333371937,
           0.5429649987390391,
           0.3582298031631491,
           0.28359749646155685,
           0.24846974222648757,
           0.3380627093237101,
           0.3380627093237101,
           0.3380627093237101,
           0.3190242933434728,
           0.2809755687137753,
           0.5219838427307524,
           0.344386923789566,
           0.27002535711444653,
           0.5124101757308188,
           0.3380704331903038,
           0.2650726004816603,
           0.5033801619091043,
           0.3380627093237101,
           2.3406593406593412,
           2.925824175824175,
           2.925824175824175,
           2.925824175824175,
           5.35526435544381,
           3.9487225463056816,
           5.282670050532866,
           4.057778381185759,
           2.5303453513882346,
           2.145042990712656,
           2.2588767230119613,
           2.526901451432731,
           2.5150228731717723,
           2.799309654318376,
           3.3943714647105794,
           0.8590190712696296,
           1.5956450507730076,
           1.0527511729512877,
           1.5675255918991082,
           0.15374436090225563,
           1.5675255918991087,
           1.016673501469284,
           1.052727120834279,
           1.5409635482248398,
           1.5158383109251061,
           1.000096393016795,
           0.975613791359044,
           1.052727120834279,
           1.5158383109251057,
           1.4920421565187245,
           0.9843961724413488,
           1.4920421565187252,
           1.4694785465894806,
           1.46947854658948,
           1.4480606934888545,
           1.4480606934888556,
           1.4480606934888554,
           0.14621419771411176,
           1.4277103443206518,
           1.4083567450992114,
           0.9291821159403906,
           0.7285449585478824,
           0.7285449585478825,
           1.4083567450992114,
           1.3899357544381903,
           1.052727120834279,
           1.052727120834279,
           1.052727120834279,
           0.9542221323862174,
           1.364731585590241,
           1.2270661018329483,
           1.113186948141213,
           1.058348691573159,
           1.008626521422482,
           1.2052511668923414,
           1.090949779107543,
           1.0907296749899589,
           1.1281325434984408,
           1.5360796989947412,
           1.3260543809714767,
           1.1843308520625262,
           1.1642782910297598,
           1.3075232004221167,
           1.3075232004221167,
           1.1642782910297602,
           1.1450637348312303,
           1.28954215992327,
           1.4655738027426364,
           1.1450637348312303,
           1.2721135562893235,
           1.1266557105248296,
           1.1090219019527923,
           1.2552356027035194,
           1.4385366473358578,
           2.779868201645822,
           1.037448472523708,
           1.186012672859259,
           1.4094008169732946,
           2.7244989370912696,
           2.6724490336393125,
           2.623433843842418,
           0.33806270932371,
           1.387076747944828,
           1.1930941795195182,
           1.7308109693879012,
           2.577202045583409,
           2.5335308266597893,
           1.3106069625709176,
           1.6715344497199944,
           1.6040273101657585,
           1.3748321373252839,
           1.730810969387901,
           1.7308109693879012,
           2.4530981297843057,
           18.57430769230769,
           11.979669924811951
          ]
         },
         "mode": "markers",
         "text": [
          "Allemagne",
          "Allemagne",
          "Allemagne",
          "Allemagne",
          "Allemagne",
          "Allemagne",
          "Allemagne",
          "Allemagne",
          "Allemagne",
          "Allemagne",
          "Allemagne",
          "Allemagne",
          "Allemagne",
          "Autriche",
          "Autriche",
          "Belgique",
          "Belgique",
          "Belgique",
          "Belgique",
          "Danemark",
          "Danemark",
          "Danemark",
          "Danemark",
          "Danemark",
          "Danemark",
          "Danemark",
          "Danemark",
          "Danemark",
          "Danemark",
          "Danemark",
          "Danemark",
          "Espagne",
          "Espagne",
          "Espagne",
          "Espagne",
          "Espagne",
          "Espagne",
          "Espagne",
          "Espagne",
          "Espagne",
          "Espagne",
          "Espagne",
          "Espagne",
          "Espagne",
          "Espagne",
          "Espagne",
          "France",
          "France",
          "France",
          "France",
          "France",
          "France",
          "France",
          "France",
          "France",
          "France",
          "France",
          "France",
          "France",
          "France",
          "France",
          "France",
          "France",
          "France",
          "France",
          "France",
          "France",
          "France",
          "France",
          "France",
          "France",
          "France",
          "France",
          "France",
          "France",
          "France",
          "Irlande",
          "Irlande",
          "Irlande",
          "Irlande",
          "Irlande",
          "Irlande",
          "Irlande",
          "Irlande",
          "Irlande",
          "Irlande",
          "Irlande",
          "Irlande",
          "Italie",
          "Italie",
          "Italie",
          "Italie",
          "Italie",
          "Italie",
          "Italie",
          "Italie",
          "Italie",
          "Italie",
          "Italie",
          "Italie",
          "Italie",
          "Italie",
          "Italie",
          "Italie",
          "Italie",
          "Italie",
          "Italie",
          "Italie",
          "Italie",
          "Italie",
          "Italie",
          "Italie",
          "Italie",
          "Italie",
          "Italie",
          "Italie",
          "Italie",
          "Italie",
          "Italie",
          "Italie",
          "Italie",
          "Luxembourg",
          "Norvège",
          "Norvège",
          "Norvège",
          "Norvège",
          "Norvège",
          "Norvège",
          "Norvège",
          "Suède",
          "Norvège",
          "Norvège",
          "Norvège",
          "Norvège",
          "Norvège",
          "Norvège",
          "Suède",
          "Norvège",
          "Norvège",
          "Norvège",
          "Norvège",
          "Norvège",
          "Norvège",
          "Norvège",
          "Norvège",
          "Norvège",
          "Norvège",
          "Norvège",
          "Norvège",
          "Norvège",
          "Norvège",
          "Norvège",
          "Norvège",
          "Norvège",
          "Norvège",
          "Norvège",
          "Norvège",
          "Norvège",
          "Norvège",
          "Norvège",
          "Norvège",
          "Norvège",
          "Norvège",
          "Norvège",
          "Norvège",
          "Norvège",
          "Norvège",
          "Norvège",
          "Norvège",
          "Norvège",
          "Norvège",
          "Norvège",
          "Pays-Bas",
          "Pays-Bas",
          "Pays-Bas",
          "Espagne",
          "Portugal",
          "Portugal",
          "Portugal",
          "Portugal",
          "Portugal",
          "Portugal",
          "Portugal",
          "Royaume-Uni",
          "Royaume-Uni",
          "Royaume-Uni",
          "Royaume-Uni",
          "Royaume-Uni",
          "Royaume-Uni",
          "Royaume-Uni",
          "Royaume-Uni",
          "Royaume-Uni",
          "Royaume-Uni",
          "Royaume-Uni",
          "Royaume-Uni",
          "Royaume-Uni",
          "Royaume-Uni",
          "Royaume-Uni",
          "Royaume-Uni",
          "Royaume-Uni",
          "Royaume-Uni",
          "Royaume-Uni",
          "Royaume-Uni",
          "Royaume-Uni",
          "Royaume-Uni",
          "Royaume-Uni",
          "Royaume-Uni",
          "Royaume-Uni",
          "Royaume-Uni",
          "Royaume-Uni",
          "Royaume-Uni",
          "Royaume-Uni",
          "Royaume-Uni",
          "Royaume-Uni",
          "Royaume-Uni",
          "Royaume-Uni",
          "Royaume-Uni",
          "Suède",
          "Suède",
          "Suède",
          "Suède",
          "Suède",
          "Suède",
          "Suède",
          "Suède",
          "Suède",
          "Suède",
          "Suède",
          "Suède",
          "Suède",
          "Suède",
          "Suède",
          "Suède",
          "Suède",
          "Suède",
          "Suède",
          "Suède",
          "Suède",
          "Suède",
          "Suède",
          "Suède",
          "Suède",
          "Suède",
          "Suède",
          "Suède",
          "Suède",
          "Suède",
          "Suède",
          "Suède",
          "Norvège",
          "Suède",
          "Suède",
          "Suède",
          "Suède",
          "Suède",
          "Suède",
          "Suède",
          "Suède",
          "Suède",
          "Suède",
          "Suède",
          "Suède",
          "Danemark",
          "Danemark"
         ],
         "type": "scattergeo"
        }
       ],
       "layout": {
        "geo": {
         "scope": "europe"
        },
        "template": {
         "data": {
          "bar": [
           {
            "error_x": {
             "color": "#2a3f5f"
            },
            "error_y": {
             "color": "#2a3f5f"
            },
            "marker": {
             "line": {
              "color": "#E5ECF6",
              "width": 0.5
             }
            },
            "type": "bar"
           }
          ],
          "barpolar": [
           {
            "marker": {
             "line": {
              "color": "#E5ECF6",
              "width": 0.5
             }
            },
            "type": "barpolar"
           }
          ],
          "carpet": [
           {
            "aaxis": {
             "endlinecolor": "#2a3f5f",
             "gridcolor": "white",
             "linecolor": "white",
             "minorgridcolor": "white",
             "startlinecolor": "#2a3f5f"
            },
            "baxis": {
             "endlinecolor": "#2a3f5f",
             "gridcolor": "white",
             "linecolor": "white",
             "minorgridcolor": "white",
             "startlinecolor": "#2a3f5f"
            },
            "type": "carpet"
           }
          ],
          "choropleth": [
           {
            "colorbar": {
             "outlinewidth": 0,
             "ticks": ""
            },
            "type": "choropleth"
           }
          ],
          "contour": [
           {
            "colorbar": {
             "outlinewidth": 0,
             "ticks": ""
            },
            "colorscale": [
             [
              0,
              "#0d0887"
             ],
             [
              0.1111111111111111,
              "#46039f"
             ],
             [
              0.2222222222222222,
              "#7201a8"
             ],
             [
              0.3333333333333333,
              "#9c179e"
             ],
             [
              0.4444444444444444,
              "#bd3786"
             ],
             [
              0.5555555555555556,
              "#d8576b"
             ],
             [
              0.6666666666666666,
              "#ed7953"
             ],
             [
              0.7777777777777778,
              "#fb9f3a"
             ],
             [
              0.8888888888888888,
              "#fdca26"
             ],
             [
              1,
              "#f0f921"
             ]
            ],
            "type": "contour"
           }
          ],
          "contourcarpet": [
           {
            "colorbar": {
             "outlinewidth": 0,
             "ticks": ""
            },
            "type": "contourcarpet"
           }
          ],
          "heatmap": [
           {
            "colorbar": {
             "outlinewidth": 0,
             "ticks": ""
            },
            "colorscale": [
             [
              0,
              "#0d0887"
             ],
             [
              0.1111111111111111,
              "#46039f"
             ],
             [
              0.2222222222222222,
              "#7201a8"
             ],
             [
              0.3333333333333333,
              "#9c179e"
             ],
             [
              0.4444444444444444,
              "#bd3786"
             ],
             [
              0.5555555555555556,
              "#d8576b"
             ],
             [
              0.6666666666666666,
              "#ed7953"
             ],
             [
              0.7777777777777778,
              "#fb9f3a"
             ],
             [
              0.8888888888888888,
              "#fdca26"
             ],
             [
              1,
              "#f0f921"
             ]
            ],
            "type": "heatmap"
           }
          ],
          "heatmapgl": [
           {
            "colorbar": {
             "outlinewidth": 0,
             "ticks": ""
            },
            "colorscale": [
             [
              0,
              "#0d0887"
             ],
             [
              0.1111111111111111,
              "#46039f"
             ],
             [
              0.2222222222222222,
              "#7201a8"
             ],
             [
              0.3333333333333333,
              "#9c179e"
             ],
             [
              0.4444444444444444,
              "#bd3786"
             ],
             [
              0.5555555555555556,
              "#d8576b"
             ],
             [
              0.6666666666666666,
              "#ed7953"
             ],
             [
              0.7777777777777778,
              "#fb9f3a"
             ],
             [
              0.8888888888888888,
              "#fdca26"
             ],
             [
              1,
              "#f0f921"
             ]
            ],
            "type": "heatmapgl"
           }
          ],
          "histogram": [
           {
            "marker": {
             "colorbar": {
              "outlinewidth": 0,
              "ticks": ""
             }
            },
            "type": "histogram"
           }
          ],
          "histogram2d": [
           {
            "colorbar": {
             "outlinewidth": 0,
             "ticks": ""
            },
            "colorscale": [
             [
              0,
              "#0d0887"
             ],
             [
              0.1111111111111111,
              "#46039f"
             ],
             [
              0.2222222222222222,
              "#7201a8"
             ],
             [
              0.3333333333333333,
              "#9c179e"
             ],
             [
              0.4444444444444444,
              "#bd3786"
             ],
             [
              0.5555555555555556,
              "#d8576b"
             ],
             [
              0.6666666666666666,
              "#ed7953"
             ],
             [
              0.7777777777777778,
              "#fb9f3a"
             ],
             [
              0.8888888888888888,
              "#fdca26"
             ],
             [
              1,
              "#f0f921"
             ]
            ],
            "type": "histogram2d"
           }
          ],
          "histogram2dcontour": [
           {
            "colorbar": {
             "outlinewidth": 0,
             "ticks": ""
            },
            "colorscale": [
             [
              0,
              "#0d0887"
             ],
             [
              0.1111111111111111,
              "#46039f"
             ],
             [
              0.2222222222222222,
              "#7201a8"
             ],
             [
              0.3333333333333333,
              "#9c179e"
             ],
             [
              0.4444444444444444,
              "#bd3786"
             ],
             [
              0.5555555555555556,
              "#d8576b"
             ],
             [
              0.6666666666666666,
              "#ed7953"
             ],
             [
              0.7777777777777778,
              "#fb9f3a"
             ],
             [
              0.8888888888888888,
              "#fdca26"
             ],
             [
              1,
              "#f0f921"
             ]
            ],
            "type": "histogram2dcontour"
           }
          ],
          "mesh3d": [
           {
            "colorbar": {
             "outlinewidth": 0,
             "ticks": ""
            },
            "type": "mesh3d"
           }
          ],
          "parcoords": [
           {
            "line": {
             "colorbar": {
              "outlinewidth": 0,
              "ticks": ""
             }
            },
            "type": "parcoords"
           }
          ],
          "pie": [
           {
            "automargin": true,
            "type": "pie"
           }
          ],
          "scatter": [
           {
            "marker": {
             "colorbar": {
              "outlinewidth": 0,
              "ticks": ""
             }
            },
            "type": "scatter"
           }
          ],
          "scatter3d": [
           {
            "line": {
             "colorbar": {
              "outlinewidth": 0,
              "ticks": ""
             }
            },
            "marker": {
             "colorbar": {
              "outlinewidth": 0,
              "ticks": ""
             }
            },
            "type": "scatter3d"
           }
          ],
          "scattercarpet": [
           {
            "marker": {
             "colorbar": {
              "outlinewidth": 0,
              "ticks": ""
             }
            },
            "type": "scattercarpet"
           }
          ],
          "scattergeo": [
           {
            "marker": {
             "colorbar": {
              "outlinewidth": 0,
              "ticks": ""
             }
            },
            "type": "scattergeo"
           }
          ],
          "scattergl": [
           {
            "marker": {
             "colorbar": {
              "outlinewidth": 0,
              "ticks": ""
             }
            },
            "type": "scattergl"
           }
          ],
          "scattermapbox": [
           {
            "marker": {
             "colorbar": {
              "outlinewidth": 0,
              "ticks": ""
             }
            },
            "type": "scattermapbox"
           }
          ],
          "scatterpolar": [
           {
            "marker": {
             "colorbar": {
              "outlinewidth": 0,
              "ticks": ""
             }
            },
            "type": "scatterpolar"
           }
          ],
          "scatterpolargl": [
           {
            "marker": {
             "colorbar": {
              "outlinewidth": 0,
              "ticks": ""
             }
            },
            "type": "scatterpolargl"
           }
          ],
          "scatterternary": [
           {
            "marker": {
             "colorbar": {
              "outlinewidth": 0,
              "ticks": ""
             }
            },
            "type": "scatterternary"
           }
          ],
          "surface": [
           {
            "colorbar": {
             "outlinewidth": 0,
             "ticks": ""
            },
            "colorscale": [
             [
              0,
              "#0d0887"
             ],
             [
              0.1111111111111111,
              "#46039f"
             ],
             [
              0.2222222222222222,
              "#7201a8"
             ],
             [
              0.3333333333333333,
              "#9c179e"
             ],
             [
              0.4444444444444444,
              "#bd3786"
             ],
             [
              0.5555555555555556,
              "#d8576b"
             ],
             [
              0.6666666666666666,
              "#ed7953"
             ],
             [
              0.7777777777777778,
              "#fb9f3a"
             ],
             [
              0.8888888888888888,
              "#fdca26"
             ],
             [
              1,
              "#f0f921"
             ]
            ],
            "type": "surface"
           }
          ],
          "table": [
           {
            "cells": {
             "fill": {
              "color": "#EBF0F8"
             },
             "line": {
              "color": "white"
             }
            },
            "header": {
             "fill": {
              "color": "#C8D4E3"
             },
             "line": {
              "color": "white"
             }
            },
            "type": "table"
           }
          ]
         },
         "layout": {
          "annotationdefaults": {
           "arrowcolor": "#2a3f5f",
           "arrowhead": 0,
           "arrowwidth": 1
          },
          "coloraxis": {
           "colorbar": {
            "outlinewidth": 0,
            "ticks": ""
           }
          },
          "colorscale": {
           "diverging": [
            [
             0,
             "#8e0152"
            ],
            [
             0.1,
             "#c51b7d"
            ],
            [
             0.2,
             "#de77ae"
            ],
            [
             0.3,
             "#f1b6da"
            ],
            [
             0.4,
             "#fde0ef"
            ],
            [
             0.5,
             "#f7f7f7"
            ],
            [
             0.6,
             "#e6f5d0"
            ],
            [
             0.7,
             "#b8e186"
            ],
            [
             0.8,
             "#7fbc41"
            ],
            [
             0.9,
             "#4d9221"
            ],
            [
             1,
             "#276419"
            ]
           ],
           "sequential": [
            [
             0,
             "#0d0887"
            ],
            [
             0.1111111111111111,
             "#46039f"
            ],
            [
             0.2222222222222222,
             "#7201a8"
            ],
            [
             0.3333333333333333,
             "#9c179e"
            ],
            [
             0.4444444444444444,
             "#bd3786"
            ],
            [
             0.5555555555555556,
             "#d8576b"
            ],
            [
             0.6666666666666666,
             "#ed7953"
            ],
            [
             0.7777777777777778,
             "#fb9f3a"
            ],
            [
             0.8888888888888888,
             "#fdca26"
            ],
            [
             1,
             "#f0f921"
            ]
           ],
           "sequentialminus": [
            [
             0,
             "#0d0887"
            ],
            [
             0.1111111111111111,
             "#46039f"
            ],
            [
             0.2222222222222222,
             "#7201a8"
            ],
            [
             0.3333333333333333,
             "#9c179e"
            ],
            [
             0.4444444444444444,
             "#bd3786"
            ],
            [
             0.5555555555555556,
             "#d8576b"
            ],
            [
             0.6666666666666666,
             "#ed7953"
            ],
            [
             0.7777777777777778,
             "#fb9f3a"
            ],
            [
             0.8888888888888888,
             "#fdca26"
            ],
            [
             1,
             "#f0f921"
            ]
           ]
          },
          "colorway": [
           "#636efa",
           "#EF553B",
           "#00cc96",
           "#ab63fa",
           "#FFA15A",
           "#19d3f3",
           "#FF6692",
           "#B6E880",
           "#FF97FF",
           "#FECB52"
          ],
          "font": {
           "color": "#2a3f5f"
          },
          "geo": {
           "bgcolor": "white",
           "lakecolor": "white",
           "landcolor": "#E5ECF6",
           "showlakes": true,
           "showland": true,
           "subunitcolor": "white"
          },
          "hoverlabel": {
           "align": "left"
          },
          "hovermode": "closest",
          "mapbox": {
           "style": "light"
          },
          "paper_bgcolor": "white",
          "plot_bgcolor": "#E5ECF6",
          "polar": {
           "angularaxis": {
            "gridcolor": "white",
            "linecolor": "white",
            "ticks": ""
           },
           "bgcolor": "#E5ECF6",
           "radialaxis": {
            "gridcolor": "white",
            "linecolor": "white",
            "ticks": ""
           }
          },
          "scene": {
           "xaxis": {
            "backgroundcolor": "#E5ECF6",
            "gridcolor": "white",
            "gridwidth": 2,
            "linecolor": "white",
            "showbackground": true,
            "ticks": "",
            "zerolinecolor": "white"
           },
           "yaxis": {
            "backgroundcolor": "#E5ECF6",
            "gridcolor": "white",
            "gridwidth": 2,
            "linecolor": "white",
            "showbackground": true,
            "ticks": "",
            "zerolinecolor": "white"
           },
           "zaxis": {
            "backgroundcolor": "#E5ECF6",
            "gridcolor": "white",
            "gridwidth": 2,
            "linecolor": "white",
            "showbackground": true,
            "ticks": "",
            "zerolinecolor": "white"
           }
          },
          "shapedefaults": {
           "line": {
            "color": "#2a3f5f"
           }
          },
          "ternary": {
           "aaxis": {
            "gridcolor": "white",
            "linecolor": "white",
            "ticks": ""
           },
           "baxis": {
            "gridcolor": "white",
            "linecolor": "white",
            "ticks": ""
           },
           "bgcolor": "#E5ECF6",
           "caxis": {
            "gridcolor": "white",
            "linecolor": "white",
            "ticks": ""
           }
          },
          "title": {
           "x": 0.05
          },
          "xaxis": {
           "automargin": true,
           "gridcolor": "white",
           "linecolor": "white",
           "ticks": "",
           "title": {
            "standoff": 15
           },
           "zerolinecolor": "white",
           "zerolinewidth": 2
          },
          "yaxis": {
           "automargin": true,
           "gridcolor": "white",
           "linecolor": "white",
           "ticks": "",
           "title": {
            "standoff": 15
           },
           "zerolinecolor": "white",
           "zerolinewidth": 2
          }
         }
        },
        "title": {
         "text": "Puissance installée et leurs importances"
        }
       }
      },
      "text/html": [
       "<div>\n",
       "        \n",
       "        \n",
       "            <div id=\"42e1771c-4a0c-4e08-b563-d393fcb9c5d3\" class=\"plotly-graph-div\" style=\"height:525px; width:100%;\"></div>\n",
       "            <script type=\"text/javascript\">\n",
       "                require([\"plotly\"], function(Plotly) {\n",
       "                    window.PLOTLYENV=window.PLOTLYENV || {};\n",
       "                    \n",
       "                if (document.getElementById(\"42e1771c-4a0c-4e08-b563-d393fcb9c5d3\")) {\n",
       "                    Plotly.newPlot(\n",
       "                        '42e1771c-4a0c-4e08-b563-d393fcb9c5d3',\n",
       "                        [{\"lat\": [54.0, 54.0, 54.0, 54.0, 54.0, 54.0, 54.0, 54.0, 53.0, 53.0, 52.0, 52.0, 49.0, 49.0, 48.0, 51.0, 51.0, 51.0, 50.0, 57.0, 57.0, 57.0, 57.0, 56.0, 56.0, 56.0, 56.0, 56.0, 56.0, 55.0, 55.0, 43.0, 43.0, 43.0, 43.0, 43.0, 42.0, 42.0, 41.0, 39.0, 37.0, 37.0, 39.0, 40.0, 40.0, 39.0, 51.0, 50.0, 50.0, 50.0, 50.0, 49.0, 49.0, 49.0, 49.0, 49.0, 49.0, 48.0, 48.0, 48.0, 48.0, 48.0, 48.0, 47.0, 47.0, 47.0, 46.0, 46.0, 46.0, 45.0, 45.0, 45.0, 45.0, 44.0, 43.0, 43.0, 55.0, 54.0, 54.0, 54.0, 54.0, 53.0, 53.0, 53.0, 53.0, 52.0, 52.0, 52.0, 44.0, 44.0, 43.0, 43.0, 43.0, 43.0, 43.0, 42.0, 42.0, 42.0, 42.0, 41.0, 41.0, 41.0, 41.0, 40.0, 40.0, 40.0, 39.0, 39.0, 38.0, 38.0, 38.0, 38.0, 37.0, 37.0, 38.0, 37.0, 40.0, 41.0, 40.0, 39.0, 41.0, 50.0, 71.0, 70.0, 70.0, 70.0, 70.0, 70.0, 70.0, 70.0, 70.0, 70.0, 70.0, 69.0, 69.0, 69.0, 69.0, 69.0, 69.0, 69.0, 68.0, 68.0, 68.0, 67.0, 67.0, 66.0, 66.0, 65.0, 65.0, 65.0, 64.0, 63.0, 63.0, 63.0, 63.0, 62.0, 62.0, 62.0, 62.0, 62.0, 61.0, 61.0, 61.0, 60.0, 60.0, 60.0, 59.0, 59.0, 58.0, 58.0, 57.0, 57.0, 53.0, 53.0, 52.0, 42.0, 41.0, 40.0, 39.0, 39.0, 38.0, 37.0, 37.0, 61.0, 60.0, 60.0, 59.0, 59.0, 59.0, 58.0, 58.0, 58.0, 57.0, 57.0, 57.0, 57.0, 57.0, 56.0, 56.0, 56.0, 55.0, 55.0, 54.0, 54.0, 54.0, 53.0, 53.0, 52.0, 52.0, 52.0, 52.0, 52.0, 51.0, 51.0, 51.0, 51.0, 51.0, 68.0, 68.0, 68.0, 68.0, 68.0, 67.0, 67.0, 67.0, 67.0, 66.0, 66.0, 66.0, 66.0, 66.0, 65.0, 65.0, 65.0, 65.0, 64.0, 64.0, 64.0, 63.0, 63.0, 63.0, 63.0, 63.0, 62.0, 62.0, 62.0, 62.0, 61.0, 60.0, 59.0, 59.0, 59.0, 59.0, 59.0, 58.0, 58.0, 58.0, 57.0, 57.0, 56.0, 56.0, 56.0, 55.0, 55.0], \"lon\": [7.0, 8.0, 9.0, 10.0, 11.0, 12.0, 13.0, 14.0, 8.0, 9.0, 7.0, 8.0, 13.0, 15.0, 17.0, 3.0, 4.0, 5.0, 5.0, 6.0, 7.0, 8.0, 11.0, 6.0, 7.0, 8.0, 9.0, 10.0, 12.0, 9.0, 11.0, -9.0, -5.0, -4.0, -3.0, -2.0, -2.0, -1.0, 1.0, 0.0, -7.0, -2.0, 1.0, 3.0, 4.0, 3.0, 2.0, 1.0, 2.0, 3.0, 4.0, -3.0, -2.0, -1.0, 0.0, 1.0, 6.0, -4.0, -3.0, -2.0, -1.0, 0.0, 1.0, -2.0, -1.0, 0.0, -1.0, 0.0, 1.0, -1.0, 3.0, 4.0, 6.0, 3.0, 3.0, 6.0, -8.0, -10.0, -9.0, -8.0, -7.0, -10.0, -9.0, -8.0, -7.0, -10.0, -9.0, -8.0, 8.0, 10.0, 10.0, 11.0, 12.0, 13.0, 14.0, 12.0, 13.0, 15.0, 16.0, 13.0, 14.0, 15.0, 17.0, 15.0, 16.0, 18.0, 16.0, 17.0, 13.0, 14.0, 15.0, 16.0, 14.0, 15.0, 12.0, 12.0, 17.0, 9.0, 9.0, 9.0, 8.0, 6.0, 29.0, 20.0, 21.0, 22.0, 25.0, 26.0, 27.0, 28.0, 29.0, 30.0, 31.0, 17.0, 18.0, 19.0, 22.0, 23.0, 24.0, 25.0, 15.0, 16.0, 17.0, 14.0, 15.0, 13.0, 14.0, 12.0, 13.0, 14.0, 10.0, 8.0, 9.0, 11.0, 12.0, 5.0, 6.0, 7.0, 8.0, 9.0, 6.0, 7.0, 8.0, 6.0, 7.0, 8.0, 6.0, 10.0, 6.0, 5.0, 5.0, 4.0, 5.0, 6.0, 4.0, -9.0, -9.0, -9.0, -9.0, -8.0, -9.0, -9.0, -8.0, -1.0, -2.0, -1.0, -6.0, -4.0, -3.0, -6.0, -5.0, -4.0, -6.0, -5.0, -4.0, -3.0, -2.0, -5.0, -3.0, -2.0, -7.0, -5.0, -6.0, -3.0, 0.0, -1.0, 1.0, -4.0, -3.0, -2.0, -1.0, 1.0, -4.0, -3.0, -1.0, 0.0, 1.0, 19.0, 20.0, 21.0, 22.0, 23.0, 18.0, 19.0, 20.0, 21.0, 15.0, 16.0, 17.0, 18.0, 19.0, 15.0, 16.0, 17.0, 18.0, 13.0, 15.0, 16.0, 13.0, 14.0, 15.0, 16.0, 18.0, 13.0, 14.0, 15.0, 17.0, 17.0, 18.0, 11.0, 13.0, 14.0, 17.0, 18.0, 12.0, 14.0, 15.0, 12.0, 13.0, 13.0, 15.0, 16.0, 15.0, 16.0], \"marker\": {\"color\": \"#7b0323\", \"size\": [16.7283, 15.019214006684455, 10.007419264177493, 8.451563175768946, 8.451563175768946, 10.007419264177493, 10.918833712940978, 10.91883371294098, 9.970448544128782, 8.381173590657951, 7.203743730319712, 7.0189510741583865, 5.648114589915096, 2.082131994936359, 2.0479882610155813, 9.580324658968026, 8.683881743056025, 7.234851810663501, 5.718941787312445, 30.95717948717948, 24.765743589743593, 5.962441921078064, 4.140827073362077, 30.95717948717948, 24.765743589743593, 5.86884144431847, 3.8720521596601123, 5.868841444318469, 5.868841444318465, 5.780089093382784, 4.140827073362077, 5.625696001651259, 6.386342413215369, 5.625696001651259, 4.546320366006155, 3.781832614360855, 3.3245689701052874, 3.72203063670953, 7.561112606034274, 5.551306503377636, 5.499363551552633, 4.822029075157768, 6.3863424132153455, 5.569376019120756, 4.45863768499133, 4.431244208365554, 9.121433620867863, 11.89116881813845, 7.845350849391751, 6.151305844326439, 5.849938674404514, 11.74624988866943, 9.121433620867863, 9.121433620867863, 9.121433620867862, 8.20764779807742, 4.261637609974467, 11.608026515185813, 9.121433620867863, 8.148585458457735, 6.679442799219739, 6.017901910162508, 5.8362837219866055, 11.476114504920387, 8.11958571319293, 6.630827076188618, 11.350161719166824, 7.488402621575406, 5.871417864611516, 8.090976032486816, 5.802311509729849, 6.017901910162508, 3.4699843870326115, 8.035023700586132, 11.004952238157426, 11.004952238157419, 0.8475724473166187, 0.5565128989347395, 0.6071966849961465, 0.5565128989347395, 0.5565128989347395, 0.39106877528909884, 0.4622605947505722, 0.5524119853104089, 0.8234811956959874, 0.4202134389302652, 0.5359378412418867, 0.8123183396647974, 4.51268323187875, 4.51268323187875, 6.180674168905916, 4.512683231878749, 5.122839967302522, 5.122839967302522, 5.1228399673025224, 3.599222619699719, 3.3798139312396094, 3.254969421398219, 3.5992226196997197, 3.1374942053955093, 2.649952176378367, 3.137494205395509, 6.065188389415768, 2.96298583172802, 3.5765209339746216, 5.1228399673025, 2.942736706425697, 3.243863766065977, 5.122839967302501, 4.424923042455376, 3.5127359111982495, 2.8999735859093607, 5.8627694632221266, 3.868017351934616, 4.424923042455376, 5.8627694632221266, 4.467505845701021, 6.065188389415765, 6.01118059488704, 5.9595098555744785, 5.122839967302501, 3.7280000000000006, 0.6628497150181223, 0.6435305627570083, 0.424580399751705, 0.3380627093237101, 0.3275228026423813, 0.302692823478986, 0.27450970675699354, 1.549724488336758, 0.32752280264238126, 0.3380627093237101, 0.32752280264238115, 0.6257525862134287, 0.4128509647928033, 0.3380627093237101, 1.384843059560805, 0.24411108460747985, 0.22303820964497648, 0.2211223713391749, 0.6093332267127004, 0.40201790239443885, 0.325525138439882, 0.5941187561261223, 0.39197978758697477, 0.5799787050264353, 0.382650540769003, 0.5668015493295396, 0.37395658188743225, 0.29321083218252597, 0.554491333371937, 0.5429649987390391, 0.3582298031631491, 0.28359749646155685, 0.24846974222648757, 0.3380627093237101, 0.3380627093237101, 0.3380627093237101, 0.3190242933434728, 0.2809755687137753, 0.5219838427307524, 0.344386923789566, 0.27002535711444653, 0.5124101757308188, 0.3380704331903038, 0.2650726004816603, 0.5033801619091043, 0.3380627093237101, 2.3406593406593412, 2.925824175824175, 2.925824175824175, 2.925824175824175, 5.35526435544381, 3.9487225463056816, 5.282670050532866, 4.057778381185759, 2.5303453513882346, 2.145042990712656, 2.2588767230119613, 2.526901451432731, 2.5150228731717723, 2.799309654318376, 3.3943714647105794, 0.8590190712696296, 1.5956450507730076, 1.0527511729512877, 1.5675255918991082, 0.15374436090225563, 1.5675255918991087, 1.016673501469284, 1.052727120834279, 1.5409635482248398, 1.5158383109251061, 1.000096393016795, 0.975613791359044, 1.052727120834279, 1.5158383109251057, 1.4920421565187245, 0.9843961724413488, 1.4920421565187252, 1.4694785465894806, 1.46947854658948, 1.4480606934888545, 1.4480606934888556, 1.4480606934888554, 0.14621419771411176, 1.4277103443206518, 1.4083567450992114, 0.9291821159403906, 0.7285449585478824, 0.7285449585478825, 1.4083567450992114, 1.3899357544381903, 1.052727120834279, 1.052727120834279, 1.052727120834279, 0.9542221323862174, 1.364731585590241, 1.2270661018329483, 1.113186948141213, 1.058348691573159, 1.008626521422482, 1.2052511668923414, 1.090949779107543, 1.0907296749899589, 1.1281325434984408, 1.5360796989947412, 1.3260543809714767, 1.1843308520625262, 1.1642782910297598, 1.3075232004221167, 1.3075232004221167, 1.1642782910297602, 1.1450637348312303, 1.28954215992327, 1.4655738027426364, 1.1450637348312303, 1.2721135562893235, 1.1266557105248296, 1.1090219019527923, 1.2552356027035194, 1.4385366473358578, 2.779868201645822, 1.037448472523708, 1.186012672859259, 1.4094008169732946, 2.7244989370912696, 2.6724490336393125, 2.623433843842418, 0.33806270932371, 1.387076747944828, 1.1930941795195182, 1.7308109693879012, 2.577202045583409, 2.5335308266597893, 1.3106069625709176, 1.6715344497199944, 1.6040273101657585, 1.3748321373252839, 1.730810969387901, 1.7308109693879012, 2.4530981297843057, 18.57430769230769, 11.979669924811951]}, \"mode\": \"markers\", \"text\": [\"Allemagne\", \"Allemagne\", \"Allemagne\", \"Allemagne\", \"Allemagne\", \"Allemagne\", \"Allemagne\", \"Allemagne\", \"Allemagne\", \"Allemagne\", \"Allemagne\", \"Allemagne\", \"Allemagne\", \"Autriche\", \"Autriche\", \"Belgique\", \"Belgique\", \"Belgique\", \"Belgique\", \"Danemark\", \"Danemark\", \"Danemark\", \"Danemark\", \"Danemark\", \"Danemark\", \"Danemark\", \"Danemark\", \"Danemark\", \"Danemark\", \"Danemark\", \"Danemark\", \"Espagne\", \"Espagne\", \"Espagne\", \"Espagne\", \"Espagne\", \"Espagne\", \"Espagne\", \"Espagne\", \"Espagne\", \"Espagne\", \"Espagne\", \"Espagne\", \"Espagne\", \"Espagne\", \"Espagne\", \"France\", \"France\", \"France\", \"France\", \"France\", \"France\", \"France\", \"France\", \"France\", \"France\", \"France\", \"France\", \"France\", \"France\", \"France\", \"France\", \"France\", \"France\", \"France\", \"France\", \"France\", \"France\", \"France\", \"France\", \"France\", \"France\", \"France\", \"France\", \"France\", \"France\", \"Irlande\", \"Irlande\", \"Irlande\", \"Irlande\", \"Irlande\", \"Irlande\", \"Irlande\", \"Irlande\", \"Irlande\", \"Irlande\", \"Irlande\", \"Irlande\", \"Italie\", \"Italie\", \"Italie\", \"Italie\", \"Italie\", \"Italie\", \"Italie\", \"Italie\", \"Italie\", \"Italie\", \"Italie\", \"Italie\", \"Italie\", \"Italie\", \"Italie\", \"Italie\", \"Italie\", \"Italie\", \"Italie\", \"Italie\", \"Italie\", \"Italie\", \"Italie\", \"Italie\", \"Italie\", \"Italie\", \"Italie\", \"Italie\", \"Italie\", \"Italie\", \"Italie\", \"Italie\", \"Italie\", \"Luxembourg\", \"Norv\\u00e8ge\", \"Norv\\u00e8ge\", \"Norv\\u00e8ge\", \"Norv\\u00e8ge\", \"Norv\\u00e8ge\", \"Norv\\u00e8ge\", \"Norv\\u00e8ge\", \"Su\\u00e8de\", \"Norv\\u00e8ge\", \"Norv\\u00e8ge\", \"Norv\\u00e8ge\", \"Norv\\u00e8ge\", \"Norv\\u00e8ge\", \"Norv\\u00e8ge\", \"Su\\u00e8de\", \"Norv\\u00e8ge\", \"Norv\\u00e8ge\", \"Norv\\u00e8ge\", \"Norv\\u00e8ge\", \"Norv\\u00e8ge\", \"Norv\\u00e8ge\", \"Norv\\u00e8ge\", \"Norv\\u00e8ge\", \"Norv\\u00e8ge\", \"Norv\\u00e8ge\", \"Norv\\u00e8ge\", \"Norv\\u00e8ge\", \"Norv\\u00e8ge\", \"Norv\\u00e8ge\", \"Norv\\u00e8ge\", \"Norv\\u00e8ge\", \"Norv\\u00e8ge\", \"Norv\\u00e8ge\", \"Norv\\u00e8ge\", \"Norv\\u00e8ge\", \"Norv\\u00e8ge\", \"Norv\\u00e8ge\", \"Norv\\u00e8ge\", \"Norv\\u00e8ge\", \"Norv\\u00e8ge\", \"Norv\\u00e8ge\", \"Norv\\u00e8ge\", \"Norv\\u00e8ge\", \"Norv\\u00e8ge\", \"Norv\\u00e8ge\", \"Norv\\u00e8ge\", \"Norv\\u00e8ge\", \"Norv\\u00e8ge\", \"Norv\\u00e8ge\", \"Norv\\u00e8ge\", \"Pays-Bas\", \"Pays-Bas\", \"Pays-Bas\", \"Espagne\", \"Portugal\", \"Portugal\", \"Portugal\", \"Portugal\", \"Portugal\", \"Portugal\", \"Portugal\", \"Royaume-Uni\", \"Royaume-Uni\", \"Royaume-Uni\", \"Royaume-Uni\", \"Royaume-Uni\", \"Royaume-Uni\", \"Royaume-Uni\", \"Royaume-Uni\", \"Royaume-Uni\", \"Royaume-Uni\", \"Royaume-Uni\", \"Royaume-Uni\", \"Royaume-Uni\", \"Royaume-Uni\", \"Royaume-Uni\", \"Royaume-Uni\", \"Royaume-Uni\", \"Royaume-Uni\", \"Royaume-Uni\", \"Royaume-Uni\", \"Royaume-Uni\", \"Royaume-Uni\", \"Royaume-Uni\", \"Royaume-Uni\", \"Royaume-Uni\", \"Royaume-Uni\", \"Royaume-Uni\", \"Royaume-Uni\", \"Royaume-Uni\", \"Royaume-Uni\", \"Royaume-Uni\", \"Royaume-Uni\", \"Royaume-Uni\", \"Royaume-Uni\", \"Su\\u00e8de\", \"Su\\u00e8de\", \"Su\\u00e8de\", \"Su\\u00e8de\", \"Su\\u00e8de\", \"Su\\u00e8de\", \"Su\\u00e8de\", \"Su\\u00e8de\", \"Su\\u00e8de\", \"Su\\u00e8de\", \"Su\\u00e8de\", \"Su\\u00e8de\", \"Su\\u00e8de\", \"Su\\u00e8de\", \"Su\\u00e8de\", \"Su\\u00e8de\", \"Su\\u00e8de\", \"Su\\u00e8de\", \"Su\\u00e8de\", \"Su\\u00e8de\", \"Su\\u00e8de\", \"Su\\u00e8de\", \"Su\\u00e8de\", \"Su\\u00e8de\", \"Su\\u00e8de\", \"Su\\u00e8de\", \"Su\\u00e8de\", \"Su\\u00e8de\", \"Su\\u00e8de\", \"Su\\u00e8de\", \"Su\\u00e8de\", \"Su\\u00e8de\", \"Norv\\u00e8ge\", \"Su\\u00e8de\", \"Su\\u00e8de\", \"Su\\u00e8de\", \"Su\\u00e8de\", \"Su\\u00e8de\", \"Su\\u00e8de\", \"Su\\u00e8de\", \"Su\\u00e8de\", \"Su\\u00e8de\", \"Su\\u00e8de\", \"Su\\u00e8de\", \"Su\\u00e8de\", \"Danemark\", \"Danemark\"], \"type\": \"scattergeo\"}],\n",
       "                        {\"geo\": {\"scope\": \"europe\"}, \"template\": {\"data\": {\"bar\": [{\"error_x\": {\"color\": \"#2a3f5f\"}, \"error_y\": {\"color\": \"#2a3f5f\"}, \"marker\": {\"line\": {\"color\": \"#E5ECF6\", \"width\": 0.5}}, \"type\": \"bar\"}], \"barpolar\": [{\"marker\": {\"line\": {\"color\": \"#E5ECF6\", \"width\": 0.5}}, \"type\": \"barpolar\"}], \"carpet\": [{\"aaxis\": {\"endlinecolor\": \"#2a3f5f\", \"gridcolor\": \"white\", \"linecolor\": \"white\", \"minorgridcolor\": \"white\", \"startlinecolor\": \"#2a3f5f\"}, \"baxis\": {\"endlinecolor\": \"#2a3f5f\", \"gridcolor\": \"white\", \"linecolor\": \"white\", \"minorgridcolor\": \"white\", \"startlinecolor\": \"#2a3f5f\"}, \"type\": \"carpet\"}], \"choropleth\": [{\"colorbar\": {\"outlinewidth\": 0, \"ticks\": \"\"}, \"type\": \"choropleth\"}], \"contour\": [{\"colorbar\": {\"outlinewidth\": 0, \"ticks\": \"\"}, \"colorscale\": [[0.0, \"#0d0887\"], [0.1111111111111111, \"#46039f\"], [0.2222222222222222, \"#7201a8\"], [0.3333333333333333, \"#9c179e\"], [0.4444444444444444, \"#bd3786\"], [0.5555555555555556, \"#d8576b\"], [0.6666666666666666, \"#ed7953\"], [0.7777777777777778, \"#fb9f3a\"], [0.8888888888888888, \"#fdca26\"], [1.0, \"#f0f921\"]], \"type\": \"contour\"}], \"contourcarpet\": [{\"colorbar\": {\"outlinewidth\": 0, \"ticks\": \"\"}, \"type\": \"contourcarpet\"}], \"heatmap\": [{\"colorbar\": {\"outlinewidth\": 0, \"ticks\": \"\"}, \"colorscale\": [[0.0, \"#0d0887\"], [0.1111111111111111, \"#46039f\"], [0.2222222222222222, \"#7201a8\"], [0.3333333333333333, \"#9c179e\"], [0.4444444444444444, \"#bd3786\"], [0.5555555555555556, \"#d8576b\"], [0.6666666666666666, \"#ed7953\"], [0.7777777777777778, \"#fb9f3a\"], [0.8888888888888888, \"#fdca26\"], [1.0, \"#f0f921\"]], \"type\": \"heatmap\"}], \"heatmapgl\": [{\"colorbar\": {\"outlinewidth\": 0, \"ticks\": \"\"}, \"colorscale\": [[0.0, \"#0d0887\"], [0.1111111111111111, \"#46039f\"], [0.2222222222222222, \"#7201a8\"], [0.3333333333333333, \"#9c179e\"], [0.4444444444444444, \"#bd3786\"], [0.5555555555555556, \"#d8576b\"], [0.6666666666666666, \"#ed7953\"], [0.7777777777777778, \"#fb9f3a\"], [0.8888888888888888, \"#fdca26\"], [1.0, \"#f0f921\"]], \"type\": \"heatmapgl\"}], \"histogram\": [{\"marker\": {\"colorbar\": {\"outlinewidth\": 0, \"ticks\": \"\"}}, \"type\": \"histogram\"}], \"histogram2d\": [{\"colorbar\": {\"outlinewidth\": 0, \"ticks\": \"\"}, \"colorscale\": [[0.0, \"#0d0887\"], [0.1111111111111111, \"#46039f\"], [0.2222222222222222, \"#7201a8\"], [0.3333333333333333, \"#9c179e\"], [0.4444444444444444, \"#bd3786\"], [0.5555555555555556, \"#d8576b\"], [0.6666666666666666, \"#ed7953\"], [0.7777777777777778, \"#fb9f3a\"], [0.8888888888888888, \"#fdca26\"], [1.0, \"#f0f921\"]], \"type\": \"histogram2d\"}], \"histogram2dcontour\": [{\"colorbar\": {\"outlinewidth\": 0, \"ticks\": \"\"}, \"colorscale\": [[0.0, \"#0d0887\"], [0.1111111111111111, \"#46039f\"], [0.2222222222222222, \"#7201a8\"], [0.3333333333333333, \"#9c179e\"], [0.4444444444444444, \"#bd3786\"], [0.5555555555555556, \"#d8576b\"], [0.6666666666666666, \"#ed7953\"], [0.7777777777777778, \"#fb9f3a\"], [0.8888888888888888, \"#fdca26\"], [1.0, \"#f0f921\"]], \"type\": \"histogram2dcontour\"}], \"mesh3d\": [{\"colorbar\": {\"outlinewidth\": 0, \"ticks\": \"\"}, \"type\": \"mesh3d\"}], \"parcoords\": [{\"line\": {\"colorbar\": {\"outlinewidth\": 0, \"ticks\": \"\"}}, \"type\": \"parcoords\"}], \"pie\": [{\"automargin\": true, \"type\": \"pie\"}], \"scatter\": [{\"marker\": {\"colorbar\": {\"outlinewidth\": 0, \"ticks\": \"\"}}, \"type\": \"scatter\"}], \"scatter3d\": [{\"line\": {\"colorbar\": {\"outlinewidth\": 0, \"ticks\": \"\"}}, \"marker\": {\"colorbar\": {\"outlinewidth\": 0, \"ticks\": \"\"}}, \"type\": \"scatter3d\"}], \"scattercarpet\": [{\"marker\": {\"colorbar\": {\"outlinewidth\": 0, \"ticks\": \"\"}}, \"type\": \"scattercarpet\"}], \"scattergeo\": [{\"marker\": {\"colorbar\": {\"outlinewidth\": 0, \"ticks\": \"\"}}, \"type\": \"scattergeo\"}], \"scattergl\": [{\"marker\": {\"colorbar\": {\"outlinewidth\": 0, \"ticks\": \"\"}}, \"type\": \"scattergl\"}], \"scattermapbox\": [{\"marker\": {\"colorbar\": {\"outlinewidth\": 0, \"ticks\": \"\"}}, \"type\": \"scattermapbox\"}], \"scatterpolar\": [{\"marker\": {\"colorbar\": {\"outlinewidth\": 0, \"ticks\": \"\"}}, \"type\": \"scatterpolar\"}], \"scatterpolargl\": [{\"marker\": {\"colorbar\": {\"outlinewidth\": 0, \"ticks\": \"\"}}, \"type\": \"scatterpolargl\"}], \"scatterternary\": [{\"marker\": {\"colorbar\": {\"outlinewidth\": 0, \"ticks\": \"\"}}, \"type\": \"scatterternary\"}], \"surface\": [{\"colorbar\": {\"outlinewidth\": 0, \"ticks\": \"\"}, \"colorscale\": [[0.0, \"#0d0887\"], [0.1111111111111111, \"#46039f\"], [0.2222222222222222, \"#7201a8\"], [0.3333333333333333, \"#9c179e\"], [0.4444444444444444, \"#bd3786\"], [0.5555555555555556, \"#d8576b\"], [0.6666666666666666, \"#ed7953\"], [0.7777777777777778, \"#fb9f3a\"], [0.8888888888888888, \"#fdca26\"], [1.0, \"#f0f921\"]], \"type\": \"surface\"}], \"table\": [{\"cells\": {\"fill\": {\"color\": \"#EBF0F8\"}, \"line\": {\"color\": \"white\"}}, \"header\": {\"fill\": {\"color\": \"#C8D4E3\"}, \"line\": {\"color\": \"white\"}}, \"type\": \"table\"}]}, \"layout\": {\"annotationdefaults\": {\"arrowcolor\": \"#2a3f5f\", \"arrowhead\": 0, \"arrowwidth\": 1}, \"coloraxis\": {\"colorbar\": {\"outlinewidth\": 0, \"ticks\": \"\"}}, \"colorscale\": {\"diverging\": [[0, \"#8e0152\"], [0.1, \"#c51b7d\"], [0.2, \"#de77ae\"], [0.3, \"#f1b6da\"], [0.4, \"#fde0ef\"], [0.5, \"#f7f7f7\"], [0.6, \"#e6f5d0\"], [0.7, \"#b8e186\"], [0.8, \"#7fbc41\"], [0.9, \"#4d9221\"], [1, \"#276419\"]], \"sequential\": [[0.0, \"#0d0887\"], [0.1111111111111111, \"#46039f\"], [0.2222222222222222, \"#7201a8\"], [0.3333333333333333, \"#9c179e\"], [0.4444444444444444, \"#bd3786\"], [0.5555555555555556, \"#d8576b\"], [0.6666666666666666, \"#ed7953\"], [0.7777777777777778, \"#fb9f3a\"], [0.8888888888888888, \"#fdca26\"], [1.0, \"#f0f921\"]], \"sequentialminus\": [[0.0, \"#0d0887\"], [0.1111111111111111, \"#46039f\"], [0.2222222222222222, \"#7201a8\"], [0.3333333333333333, \"#9c179e\"], [0.4444444444444444, \"#bd3786\"], [0.5555555555555556, \"#d8576b\"], [0.6666666666666666, \"#ed7953\"], [0.7777777777777778, \"#fb9f3a\"], [0.8888888888888888, \"#fdca26\"], [1.0, \"#f0f921\"]]}, \"colorway\": [\"#636efa\", \"#EF553B\", \"#00cc96\", \"#ab63fa\", \"#FFA15A\", \"#19d3f3\", \"#FF6692\", \"#B6E880\", \"#FF97FF\", \"#FECB52\"], \"font\": {\"color\": \"#2a3f5f\"}, \"geo\": {\"bgcolor\": \"white\", \"lakecolor\": \"white\", \"landcolor\": \"#E5ECF6\", \"showlakes\": true, \"showland\": true, \"subunitcolor\": \"white\"}, \"hoverlabel\": {\"align\": \"left\"}, \"hovermode\": \"closest\", \"mapbox\": {\"style\": \"light\"}, \"paper_bgcolor\": \"white\", \"plot_bgcolor\": \"#E5ECF6\", \"polar\": {\"angularaxis\": {\"gridcolor\": \"white\", \"linecolor\": \"white\", \"ticks\": \"\"}, \"bgcolor\": \"#E5ECF6\", \"radialaxis\": {\"gridcolor\": \"white\", \"linecolor\": \"white\", \"ticks\": \"\"}}, \"scene\": {\"xaxis\": {\"backgroundcolor\": \"#E5ECF6\", \"gridcolor\": \"white\", \"gridwidth\": 2, \"linecolor\": \"white\", \"showbackground\": true, \"ticks\": \"\", \"zerolinecolor\": \"white\"}, \"yaxis\": {\"backgroundcolor\": \"#E5ECF6\", \"gridcolor\": \"white\", \"gridwidth\": 2, \"linecolor\": \"white\", \"showbackground\": true, \"ticks\": \"\", \"zerolinecolor\": \"white\"}, \"zaxis\": {\"backgroundcolor\": \"#E5ECF6\", \"gridcolor\": \"white\", \"gridwidth\": 2, \"linecolor\": \"white\", \"showbackground\": true, \"ticks\": \"\", \"zerolinecolor\": \"white\"}}, \"shapedefaults\": {\"line\": {\"color\": \"#2a3f5f\"}}, \"ternary\": {\"aaxis\": {\"gridcolor\": \"white\", \"linecolor\": \"white\", \"ticks\": \"\"}, \"baxis\": {\"gridcolor\": \"white\", \"linecolor\": \"white\", \"ticks\": \"\"}, \"bgcolor\": \"#E5ECF6\", \"caxis\": {\"gridcolor\": \"white\", \"linecolor\": \"white\", \"ticks\": \"\"}}, \"title\": {\"x\": 0.05}, \"xaxis\": {\"automargin\": true, \"gridcolor\": \"white\", \"linecolor\": \"white\", \"ticks\": \"\", \"title\": {\"standoff\": 15}, \"zerolinecolor\": \"white\", \"zerolinewidth\": 2}, \"yaxis\": {\"automargin\": true, \"gridcolor\": \"white\", \"linecolor\": \"white\", \"ticks\": \"\", \"title\": {\"standoff\": 15}, \"zerolinecolor\": \"white\", \"zerolinewidth\": 2}}}, \"title\": {\"text\": \"Puissance install\\u00e9e et leurs importances\"}},\n",
       "                        {\"responsive\": true}\n",
       "                    ).then(function(){\n",
       "                            \n",
       "var gd = document.getElementById('42e1771c-4a0c-4e08-b563-d393fcb9c5d3');\n",
       "var x = new MutationObserver(function (mutations, observer) {{\n",
       "        var display = window.getComputedStyle(gd).display;\n",
       "        if (!display || display === 'none') {{\n",
       "            console.log([gd, 'removed!']);\n",
       "            Plotly.purge(gd);\n",
       "            observer.disconnect();\n",
       "        }}\n",
       "}});\n",
       "\n",
       "// Listen for the removal of the full notebook cells\n",
       "var notebookContainer = gd.closest('#notebook-container');\n",
       "if (notebookContainer) {{\n",
       "    x.observe(notebookContainer, {childList: true});\n",
       "}}\n",
       "\n",
       "// Listen for the clearing of the current output cell\n",
       "var outputEl = gd.closest('.output');\n",
       "if (outputEl) {{\n",
       "    x.observe(outputEl, {childList: true});\n",
       "}}\n",
       "\n",
       "                        })\n",
       "                };\n",
       "                });\n",
       "            </script>\n",
       "        </div>"
      ]
     },
     "metadata": {},
     "output_type": "display_data"
    }
   ],
   "source": [
    "carte_p_inst_w_zero = sites.copy()\n",
    "\n",
    "carte_p_inst_w_zero['puissance installee'] = p_inst\n",
    "carte_p_inst = carte_p_inst_w_zero[carte_p_inst_w_zero['puissance installee']!=0]\n",
    "\n",
    "fig = go.Figure(data=go.Scattergeo(\n",
    "        lon = carte_p_inst['longitude'],\n",
    "        lat = carte_p_inst['latitude'],\n",
    "        text = carte_p_inst['pays'],\n",
    "        mode = 'markers',\n",
    "        marker=dict(\n",
    "        color = \"#7b0323\",\n",
    "        size = carte_p_inst[\"puissance installee\"]*0.002)\n",
    "        ))\n",
    "\n",
    "fig.update_layout(\n",
    "        title = 'Puissance installée et leurs importances',\n",
    "        geo_scope = 'europe'\n",
    "    )\n",
    "fig.show();"
   ]
  },
  {
   "cell_type": "code",
   "execution_count": 9,
   "metadata": {},
   "outputs": [
    {
     "data": {
      "text/html": [
       "<div>\n",
       "<style scoped>\n",
       "    .dataframe tbody tr th:only-of-type {\n",
       "        vertical-align: middle;\n",
       "    }\n",
       "\n",
       "    .dataframe tbody tr th {\n",
       "        vertical-align: top;\n",
       "    }\n",
       "\n",
       "    .dataframe thead th {\n",
       "        text-align: right;\n",
       "    }\n",
       "</style>\n",
       "<table border=\"1\" class=\"dataframe\">\n",
       "  <thead>\n",
       "    <tr style=\"text-align: right;\">\n",
       "      <th></th>\n",
       "      <th>latitude</th>\n",
       "      <th>longitude</th>\n",
       "      <th>scores</th>\n",
       "      <th>capacites</th>\n",
       "      <th>puissance installee</th>\n",
       "    </tr>\n",
       "  </thead>\n",
       "  <tbody>\n",
       "    <tr>\n",
       "      <td>count</td>\n",
       "      <td>264.000000</td>\n",
       "      <td>264.000000</td>\n",
       "      <td>264.000000</td>\n",
       "      <td>264.000000</td>\n",
       "      <td>264.000000</td>\n",
       "    </tr>\n",
       "    <tr>\n",
       "      <td>mean</td>\n",
       "      <td>54.022727</td>\n",
       "      <td>7.481061</td>\n",
       "      <td>0.002576</td>\n",
       "      <td>1900.373819</td>\n",
       "      <td>1893.939394</td>\n",
       "    </tr>\n",
       "    <tr>\n",
       "      <td>std</td>\n",
       "      <td>9.545143</td>\n",
       "      <td>9.486413</td>\n",
       "      <td>0.001536</td>\n",
       "      <td>2250.347731</td>\n",
       "      <td>2249.016911</td>\n",
       "    </tr>\n",
       "    <tr>\n",
       "      <td>min</td>\n",
       "      <td>37.000000</td>\n",
       "      <td>-10.000000</td>\n",
       "      <td>0.001031</td>\n",
       "      <td>76.872180</td>\n",
       "      <td>73.107099</td>\n",
       "    </tr>\n",
       "    <tr>\n",
       "      <td>25%</td>\n",
       "      <td>46.750000</td>\n",
       "      <td>-1.000000</td>\n",
       "      <td>0.001701</td>\n",
       "      <td>498.085669</td>\n",
       "      <td>498.085669</td>\n",
       "    </tr>\n",
       "    <tr>\n",
       "      <td>50%</td>\n",
       "      <td>54.000000</td>\n",
       "      <td>8.000000</td>\n",
       "      <td>0.002205</td>\n",
       "      <td>1056.793746</td>\n",
       "      <td>1056.793746</td>\n",
       "    </tr>\n",
       "    <tr>\n",
       "      <td>75%</td>\n",
       "      <td>62.000000</td>\n",
       "      <td>15.000000</td>\n",
       "      <td>0.002895</td>\n",
       "      <td>2832.910695</td>\n",
       "      <td>2815.650324</td>\n",
       "    </tr>\n",
       "    <tr>\n",
       "      <td>max</td>\n",
       "      <td>71.000000</td>\n",
       "      <td>31.000000</td>\n",
       "      <td>0.010571</td>\n",
       "      <td>15478.589744</td>\n",
       "      <td>15478.589744</td>\n",
       "    </tr>\n",
       "  </tbody>\n",
       "</table>\n",
       "</div>"
      ],
      "text/plain": [
       "         latitude   longitude      scores     capacites  puissance installee\n",
       "count  264.000000  264.000000  264.000000    264.000000           264.000000\n",
       "mean    54.022727    7.481061    0.002576   1900.373819          1893.939394\n",
       "std      9.545143    9.486413    0.001536   2250.347731          2249.016911\n",
       "min     37.000000  -10.000000    0.001031     76.872180            73.107099\n",
       "25%     46.750000   -1.000000    0.001701    498.085669           498.085669\n",
       "50%     54.000000    8.000000    0.002205   1056.793746          1056.793746\n",
       "75%     62.000000   15.000000    0.002895   2832.910695          2815.650324\n",
       "max     71.000000   31.000000    0.010571  15478.589744         15478.589744"
      ]
     },
     "execution_count": 9,
     "metadata": {},
     "output_type": "execute_result"
    }
   ],
   "source": [
    "carte_p_inst.describe()"
   ]
  },
  {
   "cell_type": "code",
   "execution_count": 10,
   "metadata": {
    "scrolled": false
   },
   "outputs": [],
   "source": [
    "#TODO variabilité des best sites (Est -ce que les best sites sont compatible savec la notion de variabilité \n",
    "#     ou alor est-ce qu'ils sont tres tres bons sur toutes l'année mais produisent beaucoup de maniere tres instable )\n",
    "\n",
    "dico = {}\n",
    "for i in range(len(rend_sites_matrix)):\n",
    "    dico[i] = rend_sites_matrix[i].sum()\n",
    "\n",
    "dict_sorted = sorted(dico.items(), key=lambda x: x[1],reverse=True)\n",
    "dict_best = dict_sorted[:10]\n",
    "\n",
    "index_best = np.zeros(10)\n",
    "rendement_best = np.zeros(10)\n",
    "for i in range(10):\n",
    "    index_best[i] = dict_best[i][0]\n",
    "    rendement_best[i]=(dict_best[i][1])/N_heures\n",
    "\n",
    "classement = pd.DataFrame([],columns = sites.columns)\n",
    "\n",
    "for i in range(10):\n",
    "    ligne = sites[sites.index==index_best[i]]\n",
    "    classement= classement.append(ligne)\n",
    "del classement[\"couleur\"]\n",
    "del classement[\"scores\"]\n",
    "del classement[\"capacites\"]\n",
    "classement.index.name = \"index site\"\n",
    "classement[\"η\"] = rendement_best\n",
    "classement[\"η - η_moy\"] = rendement_best - rend_moyen\n"
   ]
  },
  {
   "cell_type": "code",
   "execution_count": 11,
   "metadata": {},
   "outputs": [
    {
     "name": "stdout",
     "output_type": "stream",
     "text": [
      "Classement des meilleurs sites suivant leur rendement moyen\n"
     ]
    },
    {
     "data": {
      "text/html": [
       "<div>\n",
       "<style scoped>\n",
       "    .dataframe tbody tr th:only-of-type {\n",
       "        vertical-align: middle;\n",
       "    }\n",
       "\n",
       "    .dataframe tbody tr th {\n",
       "        vertical-align: top;\n",
       "    }\n",
       "\n",
       "    .dataframe thead th {\n",
       "        text-align: right;\n",
       "    }\n",
       "</style>\n",
       "<table border=\"1\" class=\"dataframe\">\n",
       "  <thead>\n",
       "    <tr style=\"text-align: right;\">\n",
       "      <th></th>\n",
       "      <th>latitude</th>\n",
       "      <th>longitude</th>\n",
       "      <th>pays</th>\n",
       "      <th>capacite offshore</th>\n",
       "      <th>η</th>\n",
       "      <th>η - η_moy</th>\n",
       "    </tr>\n",
       "    <tr>\n",
       "      <th>index site</th>\n",
       "      <th></th>\n",
       "      <th></th>\n",
       "      <th></th>\n",
       "      <th></th>\n",
       "      <th></th>\n",
       "      <th></th>\n",
       "    </tr>\n",
       "  </thead>\n",
       "  <tbody>\n",
       "    <tr>\n",
       "      <td>67</td>\n",
       "      <td>57.0</td>\n",
       "      <td>6.0</td>\n",
       "      <td>Danemark</td>\n",
       "      <td>Oui</td>\n",
       "      <td>0.705639</td>\n",
       "      <td>0.179287</td>\n",
       "    </tr>\n",
       "    <tr>\n",
       "      <td>68</td>\n",
       "      <td>57.0</td>\n",
       "      <td>7.0</td>\n",
       "      <td>Danemark</td>\n",
       "      <td>Oui</td>\n",
       "      <td>0.693775</td>\n",
       "      <td>0.167424</td>\n",
       "    </tr>\n",
       "    <tr>\n",
       "      <td>69</td>\n",
       "      <td>57.0</td>\n",
       "      <td>8.0</td>\n",
       "      <td>Danemark</td>\n",
       "      <td>Non</td>\n",
       "      <td>0.685381</td>\n",
       "      <td>0.159030</td>\n",
       "    </tr>\n",
       "    <tr>\n",
       "      <td>2</td>\n",
       "      <td>54.0</td>\n",
       "      <td>9.0</td>\n",
       "      <td>Allemagne</td>\n",
       "      <td>Non</td>\n",
       "      <td>0.671455</td>\n",
       "      <td>0.145104</td>\n",
       "    </tr>\n",
       "    <tr>\n",
       "      <td>408</td>\n",
       "      <td>57.0</td>\n",
       "      <td>5.0</td>\n",
       "      <td>Norvège</td>\n",
       "      <td>Oui</td>\n",
       "      <td>0.662672</td>\n",
       "      <td>0.136321</td>\n",
       "    </tr>\n",
       "    <tr>\n",
       "      <td>75</td>\n",
       "      <td>56.0</td>\n",
       "      <td>8.0</td>\n",
       "      <td>Danemark</td>\n",
       "      <td>Non</td>\n",
       "      <td>0.661150</td>\n",
       "      <td>0.134799</td>\n",
       "    </tr>\n",
       "    <tr>\n",
       "      <td>399</td>\n",
       "      <td>58.0</td>\n",
       "      <td>6.0</td>\n",
       "      <td>Norvège</td>\n",
       "      <td>Oui</td>\n",
       "      <td>0.657555</td>\n",
       "      <td>0.131203</td>\n",
       "    </tr>\n",
       "    <tr>\n",
       "      <td>73</td>\n",
       "      <td>56.0</td>\n",
       "      <td>6.0</td>\n",
       "      <td>Danemark</td>\n",
       "      <td>Oui</td>\n",
       "      <td>0.655823</td>\n",
       "      <td>0.129472</td>\n",
       "    </tr>\n",
       "    <tr>\n",
       "      <td>74</td>\n",
       "      <td>56.0</td>\n",
       "      <td>7.0</td>\n",
       "      <td>Danemark</td>\n",
       "      <td>Oui</td>\n",
       "      <td>0.655724</td>\n",
       "      <td>0.129373</td>\n",
       "    </tr>\n",
       "    <tr>\n",
       "      <td>0</td>\n",
       "      <td>54.0</td>\n",
       "      <td>7.0</td>\n",
       "      <td>Allemagne</td>\n",
       "      <td>Oui</td>\n",
       "      <td>0.653835</td>\n",
       "      <td>0.127484</td>\n",
       "    </tr>\n",
       "  </tbody>\n",
       "</table>\n",
       "</div>"
      ],
      "text/plain": [
       "            latitude  longitude       pays capacite offshore         η  \\\n",
       "index site                                                               \n",
       "67              57.0        6.0   Danemark               Oui  0.705639   \n",
       "68              57.0        7.0   Danemark               Oui  0.693775   \n",
       "69              57.0        8.0   Danemark               Non  0.685381   \n",
       "2               54.0        9.0  Allemagne               Non  0.671455   \n",
       "408             57.0        5.0    Norvège               Oui  0.662672   \n",
       "75              56.0        8.0   Danemark               Non  0.661150   \n",
       "399             58.0        6.0    Norvège               Oui  0.657555   \n",
       "73              56.0        6.0   Danemark               Oui  0.655823   \n",
       "74              56.0        7.0   Danemark               Oui  0.655724   \n",
       "0               54.0        7.0  Allemagne               Oui  0.653835   \n",
       "\n",
       "            η - η_moy  \n",
       "index site             \n",
       "67           0.179287  \n",
       "68           0.167424  \n",
       "69           0.159030  \n",
       "2            0.145104  \n",
       "408          0.136321  \n",
       "75           0.134799  \n",
       "399          0.131203  \n",
       "73           0.129472  \n",
       "74           0.129373  \n",
       "0            0.127484  "
      ]
     },
     "execution_count": 11,
     "metadata": {},
     "output_type": "execute_result"
    }
   ],
   "source": [
    "# Classement des meilleurs sites suivant leur rendement moyen\n",
    "print(\"Classement des meilleurs sites suivant leur rendement moyen\")\n",
    "classement.head(10)"
   ]
  },
  {
   "cell_type": "code",
   "execution_count": 12,
   "metadata": {},
   "outputs": [
    {
     "data": {
      "application/vnd.plotly.v1+json": {
       "config": {
        "plotlyServerURL": "https://plot.ly"
       },
       "data": [
        {
         "lat": [
          57,
          57,
          57,
          54,
          57,
          56,
          58,
          56,
          56,
          54
         ],
         "lon": [
          6,
          7,
          8,
          9,
          5,
          8,
          6,
          6,
          7,
          7
         ],
         "marker": {
          "color": "#7b0323",
          "size": [
           42.338313442622955,
           38.54304005768063,
           35.03059991742562,
           31.334553438069218,
           27.97950497874924,
           24.97679233099575,
           21.918483638433518,
           18.94601143685489,
           16.028810813387977,
           13.076702658469944
          ]
         },
         "mode": "markers",
         "text": [
          "Danemark",
          "Danemark",
          "Danemark",
          "Allemagne",
          "Norvège",
          "Danemark",
          "Norvège",
          "Danemark",
          "Danemark",
          "Allemagne"
         ],
         "type": "scattergeo"
        }
       ],
       "layout": {
        "geo": {
         "scope": "europe"
        },
        "template": {
         "data": {
          "bar": [
           {
            "error_x": {
             "color": "#2a3f5f"
            },
            "error_y": {
             "color": "#2a3f5f"
            },
            "marker": {
             "line": {
              "color": "#E5ECF6",
              "width": 0.5
             }
            },
            "type": "bar"
           }
          ],
          "barpolar": [
           {
            "marker": {
             "line": {
              "color": "#E5ECF6",
              "width": 0.5
             }
            },
            "type": "barpolar"
           }
          ],
          "carpet": [
           {
            "aaxis": {
             "endlinecolor": "#2a3f5f",
             "gridcolor": "white",
             "linecolor": "white",
             "minorgridcolor": "white",
             "startlinecolor": "#2a3f5f"
            },
            "baxis": {
             "endlinecolor": "#2a3f5f",
             "gridcolor": "white",
             "linecolor": "white",
             "minorgridcolor": "white",
             "startlinecolor": "#2a3f5f"
            },
            "type": "carpet"
           }
          ],
          "choropleth": [
           {
            "colorbar": {
             "outlinewidth": 0,
             "ticks": ""
            },
            "type": "choropleth"
           }
          ],
          "contour": [
           {
            "colorbar": {
             "outlinewidth": 0,
             "ticks": ""
            },
            "colorscale": [
             [
              0,
              "#0d0887"
             ],
             [
              0.1111111111111111,
              "#46039f"
             ],
             [
              0.2222222222222222,
              "#7201a8"
             ],
             [
              0.3333333333333333,
              "#9c179e"
             ],
             [
              0.4444444444444444,
              "#bd3786"
             ],
             [
              0.5555555555555556,
              "#d8576b"
             ],
             [
              0.6666666666666666,
              "#ed7953"
             ],
             [
              0.7777777777777778,
              "#fb9f3a"
             ],
             [
              0.8888888888888888,
              "#fdca26"
             ],
             [
              1,
              "#f0f921"
             ]
            ],
            "type": "contour"
           }
          ],
          "contourcarpet": [
           {
            "colorbar": {
             "outlinewidth": 0,
             "ticks": ""
            },
            "type": "contourcarpet"
           }
          ],
          "heatmap": [
           {
            "colorbar": {
             "outlinewidth": 0,
             "ticks": ""
            },
            "colorscale": [
             [
              0,
              "#0d0887"
             ],
             [
              0.1111111111111111,
              "#46039f"
             ],
             [
              0.2222222222222222,
              "#7201a8"
             ],
             [
              0.3333333333333333,
              "#9c179e"
             ],
             [
              0.4444444444444444,
              "#bd3786"
             ],
             [
              0.5555555555555556,
              "#d8576b"
             ],
             [
              0.6666666666666666,
              "#ed7953"
             ],
             [
              0.7777777777777778,
              "#fb9f3a"
             ],
             [
              0.8888888888888888,
              "#fdca26"
             ],
             [
              1,
              "#f0f921"
             ]
            ],
            "type": "heatmap"
           }
          ],
          "heatmapgl": [
           {
            "colorbar": {
             "outlinewidth": 0,
             "ticks": ""
            },
            "colorscale": [
             [
              0,
              "#0d0887"
             ],
             [
              0.1111111111111111,
              "#46039f"
             ],
             [
              0.2222222222222222,
              "#7201a8"
             ],
             [
              0.3333333333333333,
              "#9c179e"
             ],
             [
              0.4444444444444444,
              "#bd3786"
             ],
             [
              0.5555555555555556,
              "#d8576b"
             ],
             [
              0.6666666666666666,
              "#ed7953"
             ],
             [
              0.7777777777777778,
              "#fb9f3a"
             ],
             [
              0.8888888888888888,
              "#fdca26"
             ],
             [
              1,
              "#f0f921"
             ]
            ],
            "type": "heatmapgl"
           }
          ],
          "histogram": [
           {
            "marker": {
             "colorbar": {
              "outlinewidth": 0,
              "ticks": ""
             }
            },
            "type": "histogram"
           }
          ],
          "histogram2d": [
           {
            "colorbar": {
             "outlinewidth": 0,
             "ticks": ""
            },
            "colorscale": [
             [
              0,
              "#0d0887"
             ],
             [
              0.1111111111111111,
              "#46039f"
             ],
             [
              0.2222222222222222,
              "#7201a8"
             ],
             [
              0.3333333333333333,
              "#9c179e"
             ],
             [
              0.4444444444444444,
              "#bd3786"
             ],
             [
              0.5555555555555556,
              "#d8576b"
             ],
             [
              0.6666666666666666,
              "#ed7953"
             ],
             [
              0.7777777777777778,
              "#fb9f3a"
             ],
             [
              0.8888888888888888,
              "#fdca26"
             ],
             [
              1,
              "#f0f921"
             ]
            ],
            "type": "histogram2d"
           }
          ],
          "histogram2dcontour": [
           {
            "colorbar": {
             "outlinewidth": 0,
             "ticks": ""
            },
            "colorscale": [
             [
              0,
              "#0d0887"
             ],
             [
              0.1111111111111111,
              "#46039f"
             ],
             [
              0.2222222222222222,
              "#7201a8"
             ],
             [
              0.3333333333333333,
              "#9c179e"
             ],
             [
              0.4444444444444444,
              "#bd3786"
             ],
             [
              0.5555555555555556,
              "#d8576b"
             ],
             [
              0.6666666666666666,
              "#ed7953"
             ],
             [
              0.7777777777777778,
              "#fb9f3a"
             ],
             [
              0.8888888888888888,
              "#fdca26"
             ],
             [
              1,
              "#f0f921"
             ]
            ],
            "type": "histogram2dcontour"
           }
          ],
          "mesh3d": [
           {
            "colorbar": {
             "outlinewidth": 0,
             "ticks": ""
            },
            "type": "mesh3d"
           }
          ],
          "parcoords": [
           {
            "line": {
             "colorbar": {
              "outlinewidth": 0,
              "ticks": ""
             }
            },
            "type": "parcoords"
           }
          ],
          "pie": [
           {
            "automargin": true,
            "type": "pie"
           }
          ],
          "scatter": [
           {
            "marker": {
             "colorbar": {
              "outlinewidth": 0,
              "ticks": ""
             }
            },
            "type": "scatter"
           }
          ],
          "scatter3d": [
           {
            "line": {
             "colorbar": {
              "outlinewidth": 0,
              "ticks": ""
             }
            },
            "marker": {
             "colorbar": {
              "outlinewidth": 0,
              "ticks": ""
             }
            },
            "type": "scatter3d"
           }
          ],
          "scattercarpet": [
           {
            "marker": {
             "colorbar": {
              "outlinewidth": 0,
              "ticks": ""
             }
            },
            "type": "scattercarpet"
           }
          ],
          "scattergeo": [
           {
            "marker": {
             "colorbar": {
              "outlinewidth": 0,
              "ticks": ""
             }
            },
            "type": "scattergeo"
           }
          ],
          "scattergl": [
           {
            "marker": {
             "colorbar": {
              "outlinewidth": 0,
              "ticks": ""
             }
            },
            "type": "scattergl"
           }
          ],
          "scattermapbox": [
           {
            "marker": {
             "colorbar": {
              "outlinewidth": 0,
              "ticks": ""
             }
            },
            "type": "scattermapbox"
           }
          ],
          "scatterpolar": [
           {
            "marker": {
             "colorbar": {
              "outlinewidth": 0,
              "ticks": ""
             }
            },
            "type": "scatterpolar"
           }
          ],
          "scatterpolargl": [
           {
            "marker": {
             "colorbar": {
              "outlinewidth": 0,
              "ticks": ""
             }
            },
            "type": "scatterpolargl"
           }
          ],
          "scatterternary": [
           {
            "marker": {
             "colorbar": {
              "outlinewidth": 0,
              "ticks": ""
             }
            },
            "type": "scatterternary"
           }
          ],
          "surface": [
           {
            "colorbar": {
             "outlinewidth": 0,
             "ticks": ""
            },
            "colorscale": [
             [
              0,
              "#0d0887"
             ],
             [
              0.1111111111111111,
              "#46039f"
             ],
             [
              0.2222222222222222,
              "#7201a8"
             ],
             [
              0.3333333333333333,
              "#9c179e"
             ],
             [
              0.4444444444444444,
              "#bd3786"
             ],
             [
              0.5555555555555556,
              "#d8576b"
             ],
             [
              0.6666666666666666,
              "#ed7953"
             ],
             [
              0.7777777777777778,
              "#fb9f3a"
             ],
             [
              0.8888888888888888,
              "#fdca26"
             ],
             [
              1,
              "#f0f921"
             ]
            ],
            "type": "surface"
           }
          ],
          "table": [
           {
            "cells": {
             "fill": {
              "color": "#EBF0F8"
             },
             "line": {
              "color": "white"
             }
            },
            "header": {
             "fill": {
              "color": "#C8D4E3"
             },
             "line": {
              "color": "white"
             }
            },
            "type": "table"
           }
          ]
         },
         "layout": {
          "annotationdefaults": {
           "arrowcolor": "#2a3f5f",
           "arrowhead": 0,
           "arrowwidth": 1
          },
          "coloraxis": {
           "colorbar": {
            "outlinewidth": 0,
            "ticks": ""
           }
          },
          "colorscale": {
           "diverging": [
            [
             0,
             "#8e0152"
            ],
            [
             0.1,
             "#c51b7d"
            ],
            [
             0.2,
             "#de77ae"
            ],
            [
             0.3,
             "#f1b6da"
            ],
            [
             0.4,
             "#fde0ef"
            ],
            [
             0.5,
             "#f7f7f7"
            ],
            [
             0.6,
             "#e6f5d0"
            ],
            [
             0.7,
             "#b8e186"
            ],
            [
             0.8,
             "#7fbc41"
            ],
            [
             0.9,
             "#4d9221"
            ],
            [
             1,
             "#276419"
            ]
           ],
           "sequential": [
            [
             0,
             "#0d0887"
            ],
            [
             0.1111111111111111,
             "#46039f"
            ],
            [
             0.2222222222222222,
             "#7201a8"
            ],
            [
             0.3333333333333333,
             "#9c179e"
            ],
            [
             0.4444444444444444,
             "#bd3786"
            ],
            [
             0.5555555555555556,
             "#d8576b"
            ],
            [
             0.6666666666666666,
             "#ed7953"
            ],
            [
             0.7777777777777778,
             "#fb9f3a"
            ],
            [
             0.8888888888888888,
             "#fdca26"
            ],
            [
             1,
             "#f0f921"
            ]
           ],
           "sequentialminus": [
            [
             0,
             "#0d0887"
            ],
            [
             0.1111111111111111,
             "#46039f"
            ],
            [
             0.2222222222222222,
             "#7201a8"
            ],
            [
             0.3333333333333333,
             "#9c179e"
            ],
            [
             0.4444444444444444,
             "#bd3786"
            ],
            [
             0.5555555555555556,
             "#d8576b"
            ],
            [
             0.6666666666666666,
             "#ed7953"
            ],
            [
             0.7777777777777778,
             "#fb9f3a"
            ],
            [
             0.8888888888888888,
             "#fdca26"
            ],
            [
             1,
             "#f0f921"
            ]
           ]
          },
          "colorway": [
           "#636efa",
           "#EF553B",
           "#00cc96",
           "#ab63fa",
           "#FFA15A",
           "#19d3f3",
           "#FF6692",
           "#B6E880",
           "#FF97FF",
           "#FECB52"
          ],
          "font": {
           "color": "#2a3f5f"
          },
          "geo": {
           "bgcolor": "white",
           "lakecolor": "white",
           "landcolor": "#E5ECF6",
           "showlakes": true,
           "showland": true,
           "subunitcolor": "white"
          },
          "hoverlabel": {
           "align": "left"
          },
          "hovermode": "closest",
          "mapbox": {
           "style": "light"
          },
          "paper_bgcolor": "white",
          "plot_bgcolor": "#E5ECF6",
          "polar": {
           "angularaxis": {
            "gridcolor": "white",
            "linecolor": "white",
            "ticks": ""
           },
           "bgcolor": "#E5ECF6",
           "radialaxis": {
            "gridcolor": "white",
            "linecolor": "white",
            "ticks": ""
           }
          },
          "scene": {
           "xaxis": {
            "backgroundcolor": "#E5ECF6",
            "gridcolor": "white",
            "gridwidth": 2,
            "linecolor": "white",
            "showbackground": true,
            "ticks": "",
            "zerolinecolor": "white"
           },
           "yaxis": {
            "backgroundcolor": "#E5ECF6",
            "gridcolor": "white",
            "gridwidth": 2,
            "linecolor": "white",
            "showbackground": true,
            "ticks": "",
            "zerolinecolor": "white"
           },
           "zaxis": {
            "backgroundcolor": "#E5ECF6",
            "gridcolor": "white",
            "gridwidth": 2,
            "linecolor": "white",
            "showbackground": true,
            "ticks": "",
            "zerolinecolor": "white"
           }
          },
          "shapedefaults": {
           "line": {
            "color": "#2a3f5f"
           }
          },
          "ternary": {
           "aaxis": {
            "gridcolor": "white",
            "linecolor": "white",
            "ticks": ""
           },
           "baxis": {
            "gridcolor": "white",
            "linecolor": "white",
            "ticks": ""
           },
           "bgcolor": "#E5ECF6",
           "caxis": {
            "gridcolor": "white",
            "linecolor": "white",
            "ticks": ""
           }
          },
          "title": {
           "x": 0.05
          },
          "xaxis": {
           "automargin": true,
           "gridcolor": "white",
           "linecolor": "white",
           "ticks": "",
           "title": {
            "standoff": 15
           },
           "zerolinecolor": "white",
           "zerolinewidth": 2
          },
          "yaxis": {
           "automargin": true,
           "gridcolor": "white",
           "linecolor": "white",
           "ticks": "",
           "title": {
            "standoff": 15
           },
           "zerolinecolor": "white",
           "zerolinewidth": 2
          }
         }
        },
        "title": {
         "text": "Les dix sites avec les meilleurs rendements moyens"
        }
       }
      },
      "text/html": [
       "<div>\n",
       "        \n",
       "        \n",
       "            <div id=\"d6be8af5-119a-42c3-b673-226f6ebe2427\" class=\"plotly-graph-div\" style=\"height:525px; width:100%;\"></div>\n",
       "            <script type=\"text/javascript\">\n",
       "                require([\"plotly\"], function(Plotly) {\n",
       "                    window.PLOTLYENV=window.PLOTLYENV || {};\n",
       "                    \n",
       "                if (document.getElementById(\"d6be8af5-119a-42c3-b673-226f6ebe2427\")) {\n",
       "                    Plotly.newPlot(\n",
       "                        'd6be8af5-119a-42c3-b673-226f6ebe2427',\n",
       "                        [{\"lat\": [57.0, 57.0, 57.0, 54.0, 57.0, 56.0, 58.0, 56.0, 56.0, 54.0], \"lon\": [6.0, 7.0, 8.0, 9.0, 5.0, 8.0, 6.0, 6.0, 7.0, 7.0], \"marker\": {\"color\": \"#7b0323\", \"size\": [42.338313442622955, 38.54304005768063, 35.03059991742562, 31.334553438069218, 27.97950497874924, 24.97679233099575, 21.918483638433518, 18.94601143685489, 16.028810813387977, 13.076702658469944]}, \"mode\": \"markers\", \"text\": [\"Danemark\", \"Danemark\", \"Danemark\", \"Allemagne\", \"Norv\\u00e8ge\", \"Danemark\", \"Norv\\u00e8ge\", \"Danemark\", \"Danemark\", \"Allemagne\"], \"type\": \"scattergeo\"}],\n",
       "                        {\"geo\": {\"scope\": \"europe\"}, \"template\": {\"data\": {\"bar\": [{\"error_x\": {\"color\": \"#2a3f5f\"}, \"error_y\": {\"color\": \"#2a3f5f\"}, \"marker\": {\"line\": {\"color\": \"#E5ECF6\", \"width\": 0.5}}, \"type\": \"bar\"}], \"barpolar\": [{\"marker\": {\"line\": {\"color\": \"#E5ECF6\", \"width\": 0.5}}, \"type\": \"barpolar\"}], \"carpet\": [{\"aaxis\": {\"endlinecolor\": \"#2a3f5f\", \"gridcolor\": \"white\", \"linecolor\": \"white\", \"minorgridcolor\": \"white\", \"startlinecolor\": \"#2a3f5f\"}, \"baxis\": {\"endlinecolor\": \"#2a3f5f\", \"gridcolor\": \"white\", \"linecolor\": \"white\", \"minorgridcolor\": \"white\", \"startlinecolor\": \"#2a3f5f\"}, \"type\": \"carpet\"}], \"choropleth\": [{\"colorbar\": {\"outlinewidth\": 0, \"ticks\": \"\"}, \"type\": \"choropleth\"}], \"contour\": [{\"colorbar\": {\"outlinewidth\": 0, \"ticks\": \"\"}, \"colorscale\": [[0.0, \"#0d0887\"], [0.1111111111111111, \"#46039f\"], [0.2222222222222222, \"#7201a8\"], [0.3333333333333333, \"#9c179e\"], [0.4444444444444444, \"#bd3786\"], [0.5555555555555556, \"#d8576b\"], [0.6666666666666666, \"#ed7953\"], [0.7777777777777778, \"#fb9f3a\"], [0.8888888888888888, \"#fdca26\"], [1.0, \"#f0f921\"]], \"type\": \"contour\"}], \"contourcarpet\": [{\"colorbar\": {\"outlinewidth\": 0, \"ticks\": \"\"}, \"type\": \"contourcarpet\"}], \"heatmap\": [{\"colorbar\": {\"outlinewidth\": 0, \"ticks\": \"\"}, \"colorscale\": [[0.0, \"#0d0887\"], [0.1111111111111111, \"#46039f\"], [0.2222222222222222, \"#7201a8\"], [0.3333333333333333, \"#9c179e\"], [0.4444444444444444, \"#bd3786\"], [0.5555555555555556, \"#d8576b\"], [0.6666666666666666, \"#ed7953\"], [0.7777777777777778, \"#fb9f3a\"], [0.8888888888888888, \"#fdca26\"], [1.0, \"#f0f921\"]], \"type\": \"heatmap\"}], \"heatmapgl\": [{\"colorbar\": {\"outlinewidth\": 0, \"ticks\": \"\"}, \"colorscale\": [[0.0, \"#0d0887\"], [0.1111111111111111, \"#46039f\"], [0.2222222222222222, \"#7201a8\"], [0.3333333333333333, \"#9c179e\"], [0.4444444444444444, \"#bd3786\"], [0.5555555555555556, \"#d8576b\"], [0.6666666666666666, \"#ed7953\"], [0.7777777777777778, \"#fb9f3a\"], [0.8888888888888888, \"#fdca26\"], [1.0, \"#f0f921\"]], \"type\": \"heatmapgl\"}], \"histogram\": [{\"marker\": {\"colorbar\": {\"outlinewidth\": 0, \"ticks\": \"\"}}, \"type\": \"histogram\"}], \"histogram2d\": [{\"colorbar\": {\"outlinewidth\": 0, \"ticks\": \"\"}, \"colorscale\": [[0.0, \"#0d0887\"], [0.1111111111111111, \"#46039f\"], [0.2222222222222222, \"#7201a8\"], [0.3333333333333333, \"#9c179e\"], [0.4444444444444444, \"#bd3786\"], [0.5555555555555556, \"#d8576b\"], [0.6666666666666666, \"#ed7953\"], [0.7777777777777778, \"#fb9f3a\"], [0.8888888888888888, \"#fdca26\"], [1.0, \"#f0f921\"]], \"type\": \"histogram2d\"}], \"histogram2dcontour\": [{\"colorbar\": {\"outlinewidth\": 0, \"ticks\": \"\"}, \"colorscale\": [[0.0, \"#0d0887\"], [0.1111111111111111, \"#46039f\"], [0.2222222222222222, \"#7201a8\"], [0.3333333333333333, \"#9c179e\"], [0.4444444444444444, \"#bd3786\"], [0.5555555555555556, \"#d8576b\"], [0.6666666666666666, \"#ed7953\"], [0.7777777777777778, \"#fb9f3a\"], [0.8888888888888888, \"#fdca26\"], [1.0, \"#f0f921\"]], \"type\": \"histogram2dcontour\"}], \"mesh3d\": [{\"colorbar\": {\"outlinewidth\": 0, \"ticks\": \"\"}, \"type\": \"mesh3d\"}], \"parcoords\": [{\"line\": {\"colorbar\": {\"outlinewidth\": 0, \"ticks\": \"\"}}, \"type\": \"parcoords\"}], \"pie\": [{\"automargin\": true, \"type\": \"pie\"}], \"scatter\": [{\"marker\": {\"colorbar\": {\"outlinewidth\": 0, \"ticks\": \"\"}}, \"type\": \"scatter\"}], \"scatter3d\": [{\"line\": {\"colorbar\": {\"outlinewidth\": 0, \"ticks\": \"\"}}, \"marker\": {\"colorbar\": {\"outlinewidth\": 0, \"ticks\": \"\"}}, \"type\": \"scatter3d\"}], \"scattercarpet\": [{\"marker\": {\"colorbar\": {\"outlinewidth\": 0, \"ticks\": \"\"}}, \"type\": \"scattercarpet\"}], \"scattergeo\": [{\"marker\": {\"colorbar\": {\"outlinewidth\": 0, \"ticks\": \"\"}}, \"type\": \"scattergeo\"}], \"scattergl\": [{\"marker\": {\"colorbar\": {\"outlinewidth\": 0, \"ticks\": \"\"}}, \"type\": \"scattergl\"}], \"scattermapbox\": [{\"marker\": {\"colorbar\": {\"outlinewidth\": 0, \"ticks\": \"\"}}, \"type\": \"scattermapbox\"}], \"scatterpolar\": [{\"marker\": {\"colorbar\": {\"outlinewidth\": 0, \"ticks\": \"\"}}, \"type\": \"scatterpolar\"}], \"scatterpolargl\": [{\"marker\": {\"colorbar\": {\"outlinewidth\": 0, \"ticks\": \"\"}}, \"type\": \"scatterpolargl\"}], \"scatterternary\": [{\"marker\": {\"colorbar\": {\"outlinewidth\": 0, \"ticks\": \"\"}}, \"type\": \"scatterternary\"}], \"surface\": [{\"colorbar\": {\"outlinewidth\": 0, \"ticks\": \"\"}, \"colorscale\": [[0.0, \"#0d0887\"], [0.1111111111111111, \"#46039f\"], [0.2222222222222222, \"#7201a8\"], [0.3333333333333333, \"#9c179e\"], [0.4444444444444444, \"#bd3786\"], [0.5555555555555556, \"#d8576b\"], [0.6666666666666666, \"#ed7953\"], [0.7777777777777778, \"#fb9f3a\"], [0.8888888888888888, \"#fdca26\"], [1.0, \"#f0f921\"]], \"type\": \"surface\"}], \"table\": [{\"cells\": {\"fill\": {\"color\": \"#EBF0F8\"}, \"line\": {\"color\": \"white\"}}, \"header\": {\"fill\": {\"color\": \"#C8D4E3\"}, \"line\": {\"color\": \"white\"}}, \"type\": \"table\"}]}, \"layout\": {\"annotationdefaults\": {\"arrowcolor\": \"#2a3f5f\", \"arrowhead\": 0, \"arrowwidth\": 1}, \"coloraxis\": {\"colorbar\": {\"outlinewidth\": 0, \"ticks\": \"\"}}, \"colorscale\": {\"diverging\": [[0, \"#8e0152\"], [0.1, \"#c51b7d\"], [0.2, \"#de77ae\"], [0.3, \"#f1b6da\"], [0.4, \"#fde0ef\"], [0.5, \"#f7f7f7\"], [0.6, \"#e6f5d0\"], [0.7, \"#b8e186\"], [0.8, \"#7fbc41\"], [0.9, \"#4d9221\"], [1, \"#276419\"]], \"sequential\": [[0.0, \"#0d0887\"], [0.1111111111111111, \"#46039f\"], [0.2222222222222222, \"#7201a8\"], [0.3333333333333333, \"#9c179e\"], [0.4444444444444444, \"#bd3786\"], [0.5555555555555556, \"#d8576b\"], [0.6666666666666666, \"#ed7953\"], [0.7777777777777778, \"#fb9f3a\"], [0.8888888888888888, \"#fdca26\"], [1.0, \"#f0f921\"]], \"sequentialminus\": [[0.0, \"#0d0887\"], [0.1111111111111111, \"#46039f\"], [0.2222222222222222, \"#7201a8\"], [0.3333333333333333, \"#9c179e\"], [0.4444444444444444, \"#bd3786\"], [0.5555555555555556, \"#d8576b\"], [0.6666666666666666, \"#ed7953\"], [0.7777777777777778, \"#fb9f3a\"], [0.8888888888888888, \"#fdca26\"], [1.0, \"#f0f921\"]]}, \"colorway\": [\"#636efa\", \"#EF553B\", \"#00cc96\", \"#ab63fa\", \"#FFA15A\", \"#19d3f3\", \"#FF6692\", \"#B6E880\", \"#FF97FF\", \"#FECB52\"], \"font\": {\"color\": \"#2a3f5f\"}, \"geo\": {\"bgcolor\": \"white\", \"lakecolor\": \"white\", \"landcolor\": \"#E5ECF6\", \"showlakes\": true, \"showland\": true, \"subunitcolor\": \"white\"}, \"hoverlabel\": {\"align\": \"left\"}, \"hovermode\": \"closest\", \"mapbox\": {\"style\": \"light\"}, \"paper_bgcolor\": \"white\", \"plot_bgcolor\": \"#E5ECF6\", \"polar\": {\"angularaxis\": {\"gridcolor\": \"white\", \"linecolor\": \"white\", \"ticks\": \"\"}, \"bgcolor\": \"#E5ECF6\", \"radialaxis\": {\"gridcolor\": \"white\", \"linecolor\": \"white\", \"ticks\": \"\"}}, \"scene\": {\"xaxis\": {\"backgroundcolor\": \"#E5ECF6\", \"gridcolor\": \"white\", \"gridwidth\": 2, \"linecolor\": \"white\", \"showbackground\": true, \"ticks\": \"\", \"zerolinecolor\": \"white\"}, \"yaxis\": {\"backgroundcolor\": \"#E5ECF6\", \"gridcolor\": \"white\", \"gridwidth\": 2, \"linecolor\": \"white\", \"showbackground\": true, \"ticks\": \"\", \"zerolinecolor\": \"white\"}, \"zaxis\": {\"backgroundcolor\": \"#E5ECF6\", \"gridcolor\": \"white\", \"gridwidth\": 2, \"linecolor\": \"white\", \"showbackground\": true, \"ticks\": \"\", \"zerolinecolor\": \"white\"}}, \"shapedefaults\": {\"line\": {\"color\": \"#2a3f5f\"}}, \"ternary\": {\"aaxis\": {\"gridcolor\": \"white\", \"linecolor\": \"white\", \"ticks\": \"\"}, \"baxis\": {\"gridcolor\": \"white\", \"linecolor\": \"white\", \"ticks\": \"\"}, \"bgcolor\": \"#E5ECF6\", \"caxis\": {\"gridcolor\": \"white\", \"linecolor\": \"white\", \"ticks\": \"\"}}, \"title\": {\"x\": 0.05}, \"xaxis\": {\"automargin\": true, \"gridcolor\": \"white\", \"linecolor\": \"white\", \"ticks\": \"\", \"title\": {\"standoff\": 15}, \"zerolinecolor\": \"white\", \"zerolinewidth\": 2}, \"yaxis\": {\"automargin\": true, \"gridcolor\": \"white\", \"linecolor\": \"white\", \"ticks\": \"\", \"title\": {\"standoff\": 15}, \"zerolinecolor\": \"white\", \"zerolinewidth\": 2}}}, \"title\": {\"text\": \"Les dix sites avec les meilleurs rendements moyens\"}},\n",
       "                        {\"responsive\": true}\n",
       "                    ).then(function(){\n",
       "                            \n",
       "var gd = document.getElementById('d6be8af5-119a-42c3-b673-226f6ebe2427');\n",
       "var x = new MutationObserver(function (mutations, observer) {{\n",
       "        var display = window.getComputedStyle(gd).display;\n",
       "        if (!display || display === 'none') {{\n",
       "            console.log([gd, 'removed!']);\n",
       "            Plotly.purge(gd);\n",
       "            observer.disconnect();\n",
       "        }}\n",
       "}});\n",
       "\n",
       "// Listen for the removal of the full notebook cells\n",
       "var notebookContainer = gd.closest('#notebook-container');\n",
       "if (notebookContainer) {{\n",
       "    x.observe(notebookContainer, {childList: true});\n",
       "}}\n",
       "\n",
       "// Listen for the clearing of the current output cell\n",
       "var outputEl = gd.closest('.output');\n",
       "if (outputEl) {{\n",
       "    x.observe(outputEl, {childList: true});\n",
       "}}\n",
       "\n",
       "                        })\n",
       "                };\n",
       "                });\n",
       "            </script>\n",
       "        </div>"
      ]
     },
     "metadata": {},
     "output_type": "display_data"
    }
   ],
   "source": [
    "# Visualisations des données pour les sites \n",
    "\n",
    "fig = go.Figure(data=go.Scattergeo(\n",
    "        lon = classement['longitude'],\n",
    "        lat = classement['latitude'],\n",
    "        text = classement['pays'],\n",
    "        mode = 'markers',\n",
    "        marker=dict(\n",
    "        color = \"#7b0323\",\n",
    "        size = classement['η']*np.linspace(3,1,10)*20)\n",
    "        ))\n",
    "\n",
    "fig.update_layout(\n",
    "        title = 'Les dix sites avec les meilleurs rendements moyens',\n",
    "        geo_scope = 'europe'\n",
    "    )\n",
    "fig.show();"
   ]
  },
  {
   "cell_type": "markdown",
   "metadata": {},
   "source": [
    "# Question I.3. "
   ]
  },
  {
   "cell_type": "markdown",
   "metadata": {},
   "source": [
    "### a)\n",
    "\n",
    "Dans ce point, nous allons étudier l'impact d'une faible variation $\\Delta P$ de la contrainte :\n",
    "$$ \\sum_{i=1}^{N_{sites}}p_{i}^{installée} = P$$\n",
    "qui deviendra : \n",
    "$$ \\sum_{i=1}^{N_{sites}}p_{i}^{installée} = P + \\Delta P$$\n",
    "sur le résultat $z$ de notre maximisation : \n",
    "$$ \\text{max } \\sum_{j=1}^{N_{heures}}\\sum_{i=1}^{N_{sites}} \\eta_{ij}p_{i}^{installée}$$\n",
    "\n",
    "Notre modélisation pouvant se rapporter à un modèle du type:\n",
    "$$\n",
    "\\text{min } c^{T}x \\\\\n",
    "Ax \\geq b \\\\\n",
    "x \\geq 0\n",
    "$$\n",
    "\n",
    "Nous pouvons facilement conclure que cette variation $\\Delta P$ correspond en fait à une variation $\\Delta b$ de notre vecteur contrainte.\n",
    "\n",
    "Nous pouvons observer que sous la condition $\\Delta b << b$ il est possible de réécrire le résultat de notre maximisation comme étant :\n",
    "$$ z + \\Delta z\\\\\n",
    "\\text{Avec}\\\\\n",
    "\\Delta z = y_{*}^{T} \\Delta b\\\\\n",
    "\\text{Où $y_{*}$ est la solution de notre problème dual.}\n",
    "$$\n",
    "\\\n",
    "notre vecteur $b$ étant de la forme :\n",
    "$$ b =\n",
    "\\begin{pmatrix}\n",
    "0\\\\\n",
    ".\\\\\n",
    ".\\\\\n",
    "0\\\\\n",
    "\\Delta P \\\\\n",
    "0\\\\\n",
    ".\\\\\n",
    ".\\\\\n",
    "0\n",
    "\\end{pmatrix}\n",
    "$$\n",
    "Il suffit que notre programme aille chercher la composante appropriée de $y_{*}$ et la multiplie par $\\Delta P$ pour obtenir notre variation $\\Delta z$"
   ]
  },
  {
   "cell_type": "markdown",
   "metadata": {},
   "source": [
    "### b) \n",
    "TODO : A rédiger, mais les dix meilleurs sites sont bien ceux avec les meilleurs rendements moyen sur l'année\n",
    "\n",
    "Notre modélisation pouvant se rapporter à un modèle du type:\n",
    "$$\n",
    "\\text{min } c^{T}x \\\\\n",
    "Ax \\geq b \\\\\n",
    "x \\geq 0\n",
    "$$\n",
    "\n",
    "Le problème dual associé peut s'écrire sous la forme :\n",
    "$$\n",
    "\\text{max } b^{T}y \\\\\n",
    "A^{T}y \\leq c\\\\\n",
    "y \\geq 0\\\\\n",
    "$$\n",
    "\n",
    "Ainsi, nous pouvons déduire que les plus grandes composantes de notre vecteur contrainte $b$ auront un impact plus marqué sur le résultat du dual. Nous cherchons donc dans notre programme les dix plus grandes composantes de $b$ qui s'avèrent également être les dix meilleurs sites du point de vue de la rentabilité.\n",
    "\n",
    "$\\it{\\text{( Voir \"Analyse du dual\" pour les résultats du a) et b) )}}$"
   ]
  },
  {
   "cell_type": "markdown",
   "metadata": {},
   "source": [
    "### Analyse du dual"
   ]
  },
  {
   "cell_type": "code",
   "execution_count": 13,
   "metadata": {},
   "outputs": [
    {
     "name": "stdout",
     "output_type": "stream",
     "text": [
      "I.3.a) Solution du problème dual associée à la contrainte de la puissance P:  -313.35845762715627\n",
      "I.3.b) Classement des dix sites pour lesquels une augmentation de leur capacité maximale serait la plus rentable \n",
      "       en termes d'énergie produite\n"
     ]
    },
    {
     "data": {
      "text/html": [
       "<div>\n",
       "<style scoped>\n",
       "    .dataframe tbody tr th:only-of-type {\n",
       "        vertical-align: middle;\n",
       "    }\n",
       "\n",
       "    .dataframe tbody tr th {\n",
       "        vertical-align: top;\n",
       "    }\n",
       "\n",
       "    .dataframe thead th {\n",
       "        text-align: right;\n",
       "    }\n",
       "</style>\n",
       "<table border=\"1\" class=\"dataframe\">\n",
       "  <thead>\n",
       "    <tr style=\"text-align: right;\">\n",
       "      <th></th>\n",
       "      <th>index site</th>\n",
       "      <th>coûts réduits du dual</th>\n",
       "    </tr>\n",
       "  </thead>\n",
       "  <tbody>\n",
       "    <tr>\n",
       "      <td>0</td>\n",
       "      <td>143.0</td>\n",
       "      <td>340.151948</td>\n",
       "    </tr>\n",
       "    <tr>\n",
       "      <td>1</td>\n",
       "      <td>261.0</td>\n",
       "      <td>332.258664</td>\n",
       "    </tr>\n",
       "    <tr>\n",
       "      <td>2</td>\n",
       "      <td>266.0</td>\n",
       "      <td>323.015672</td>\n",
       "    </tr>\n",
       "    <tr>\n",
       "      <td>3</td>\n",
       "      <td>255.0</td>\n",
       "      <td>308.223188</td>\n",
       "    </tr>\n",
       "    <tr>\n",
       "      <td>4</td>\n",
       "      <td>144.0</td>\n",
       "      <td>302.514003</td>\n",
       "    </tr>\n",
       "    <tr>\n",
       "      <td>5</td>\n",
       "      <td>257.0</td>\n",
       "      <td>235.369744</td>\n",
       "    </tr>\n",
       "    <tr>\n",
       "      <td>6</td>\n",
       "      <td>59.0</td>\n",
       "      <td>233.350180</td>\n",
       "    </tr>\n",
       "    <tr>\n",
       "      <td>7</td>\n",
       "      <td>258.0</td>\n",
       "      <td>222.714262</td>\n",
       "    </tr>\n",
       "    <tr>\n",
       "      <td>8</td>\n",
       "      <td>60.0</td>\n",
       "      <td>212.928889</td>\n",
       "    </tr>\n",
       "    <tr>\n",
       "      <td>9</td>\n",
       "      <td>377.0</td>\n",
       "      <td>211.199035</td>\n",
       "    </tr>\n",
       "  </tbody>\n",
       "</table>\n",
       "</div>"
      ],
      "text/plain": [
       "   index site  coûts réduits du dual\n",
       "0       143.0             340.151948\n",
       "1       261.0             332.258664\n",
       "2       266.0             323.015672\n",
       "3       255.0             308.223188\n",
       "4       144.0             302.514003\n",
       "5       257.0             235.369744\n",
       "6        59.0             233.350180\n",
       "7       258.0             222.714262\n",
       "8        60.0             212.928889\n",
       "9       377.0             211.199035"
      ]
     },
     "execution_count": 13,
     "metadata": {},
     "output_type": "execute_result"
    }
   ],
   "source": [
    "result = {}\n",
    "for i in range(len(dual_coutsreduits)):\n",
    "    result[i]=dual_coutsreduits[i]\n",
    "result_sorted = sorted(result.items(), key=lambda x: x[1],reverse=True)\n",
    "\n",
    "array_capacite = np.zeros((10,2))\n",
    "                          \n",
    "for i in range(10):\n",
    "    array_capacite[i][0] = int(result_sorted[i][0])\n",
    "    array_capacite[i][1] = result_sorted[i][1]\n",
    "array_capacite_df = pd.DataFrame (array_capacite,columns = [\"index site\",\"coûts réduits du dual\"])\n",
    "\n",
    "print(\"I.3.a) Solution du problème dual associée à la contrainte de la puissance P: \", dual_sol[\"Puissance à installer\"][0])\n",
    "\n",
    "print(\"I.3.b) Classement des dix sites pour lesquels une augmentation de leur capacité maximale serait la plus rentable \\n       en termes d'énergie produite\")\n",
    "array_capacite_df.head(10)"
   ]
  },
  {
   "cell_type": "markdown",
   "metadata": {},
   "source": [
    "# Question I.4."
   ]
  },
  {
   "cell_type": "code",
   "execution_count": 14,
   "metadata": {
    "scrolled": true
   },
   "outputs": [
    {
     "data": {
      "image/png": "[encoded data removed]",
      "text/plain": [
       "<Figure size 432x288 with 1 Axes>"
      ]
     },
     "metadata": {
      "needs_background": "light"
     },
     "output_type": "display_data"
    }
   ],
   "source": [
    "steps = 7\n",
    "coef = np.linspace(0.5,2,steps)\n",
    "puiss = np.zeros(steps)\n",
    "for i in range (steps):\n",
    "    puiss[i] = attribution_puissance(500000*coef[i])[1]\n",
    "\n",
    "plt.plot(coef, puiss)\n",
    "plt.title(\"Variation de l'énergie totale produite en fonction \\n de la puissance maximale installable (coef * 500000)\", fontsize=11)\n",
    "plt.xlabel(\"coef [-]\", fontsize=11)\n",
    "plt.ylabel(\"Energie totale [MWh]\", fontsize=11)\n",
    "\n",
    "plt.show()"
   ]
  },
  {
   "cell_type": "markdown",
   "metadata": {},
   "source": [
    "# Question I.5. a)"
   ]
  },
  {
   "cell_type": "markdown",
   "metadata": {},
   "source": [
    "Admettons que nous n'imposions plus la contrainte :\n",
    "\n",
    "$ \\sum_{i=1}^{N_{sites}} p_{i}^{installées} = P $\n",
    "\n",
    "Mais que nous la remplacions par :\n",
    "\n",
    "$ \\sum_{i=1}^{N_{sites}} p_{i}^{installées} \\leq P $\n",
    "\n",
    "Nous pourrions nous attendre à obtenir une solution au moins aussi bonne que dans notre cas d'origine. En effet, la contrainte d'égalité stricte étant plus forte, nous procéderions en fait à une relaxation de notre problème, or, la solution d'un problème relaxé est toujours au moins aussi bonne que celle de son problème d'origine.\n",
    "\n",
    "Aussi, c'est ce que vérifie notre bout de code ci-dessous."
   ]
  },
  {
   "cell_type": "code",
   "execution_count": 17,
   "metadata": {},
   "outputs": [],
   "source": [
    "#TODO contraince active, variable =0\n",
    "\n",
    "def attribution_puissance_variante1(P = 500000, κ = 0.17, δ = 0.02, T = 3):\n",
    "    \"\"\" attribution_puissance est une fonction qui, à l'aide d'un algorithme du simplex \n",
    "        et de données sur des sites de production éoliens d'énergie, répartit, de manière \n",
    "        à obtenir une production d'énergie maximale, un capital de puissance à installer \n",
    "        parmi les sites disponibles.\n",
    "        \n",
    "        (input)\n",
    "         - P [int] : Puissance à répartir parmi les sites (en [MW])\n",
    "         - κ [float] : Proportion de la contribution des sites offshore \n",
    "         - δ [float] : Coefficient borne la variabilité de la production d'énergie\n",
    "         - T [int] : Pas de temps considéré pour la contrainte de variabilité (en [heure])\n",
    "         \n",
    "        (output)\n",
    "         - p_inst [numpy array] : Vecteur de dimension (N_sites, 1) reprenant les attributions\n",
    "           de puissance à installer par site (en [MW])\n",
    "         - E_tot [float] : Valeur maximisée de l'énergie totale produite (en [MWh])\n",
    "         - status [string] : Contient l'état de la solution\n",
    "         - l_sol [numpy array] : Vecteur de longueur N_heures//T-1 comprenant les bornes associées \n",
    "           à chaque valeur absolue de la variabilité\n",
    "         - dual_sol [dict] : Dictionnaire ayant pour valeurs les solutions du probleme dual et\n",
    "           pour clés le nom des contraintes du primal associées à celles-ci\n",
    "         - dual_coutsreduits [numpy array] : Vecteur de taille N_sites reprenant les coûts réduits \n",
    "           du problème dual\n",
    "    \"\"\"\n",
    "    \n",
    "    ## Création object CyClpSimplex ##\n",
    "    s = CyClpSimplex()\n",
    "    \n",
    "    ## Ajout des variables ##\n",
    "    puiss = s.addVariable('Puissance installee', N_sites) \n",
    "    L = s.addVariable('l', N_heures//T -1) \n",
    "    \n",
    "    ## Fonction objectif ##\n",
    "    rend_somme = rend_sites_matrix.sum(axis = 1)\n",
    "    s.objective = CyLPArray(-rend_somme)*puiss\n",
    "    \n",
    "    ## Ajout des contraintes##\n",
    "    \n",
    "    #~ Contrainte 1 : Capacité des sites de production ~#\n",
    "    sites_capacite_max = CyLPArray(sites[\"capacites\"])\n",
    "    s.addConstraint(0 <= puiss <= sites_capacite_max, \"Contrainte capacite max\")\n",
    "    \n",
    "    #~ Contrainte 2 : Puissance à installer ~#\n",
    "    s.addConstraint(puiss.sum() <= P,\"Puissance à installer\")\n",
    "    \n",
    "    #~ Contrainte 3 : Puissance à installer sur les sites offshore ~#\n",
    "    s.addConstraint(puiss[indice_offshore].sum() - κ*puiss.sum() == 0,\"Puissance offshore à installer\")\n",
    "     \n",
    "    #~ Contrainte 4 : Variabilité moyenne (non-cyclique) de la puissance produites sur intervalles de temps ~#\n",
    "    s.addConstraint(L.sum() <= δ*P*(N_heures//T-1)*T,\"Variabilité\")\n",
    "    \n",
    "    rend_sites_par_intervalle = np.sum(rend_sites_matrix.reshape(N_sites, N_heures//T, T), axis = 2)\n",
    "    diff_rend = np.asmatrix(rend_sites_par_intervalle[:,1:] - rend_sites_par_intervalle[:,:-1]).T\n",
    "    \n",
    "    s.addConstraint(diff_rend*puiss - L <= 0, \"Abs contrainte 1\")\n",
    "    s.addConstraint(-diff_rend*puiss - L <= 0, \"Abs contrainte 2\")\n",
    "    \n",
    "    ## Résolution problème d'optimisation via l'algorithme du simplexe ##\n",
    "    s.primal()    \n",
    "    \n",
    "    ## Valeur à retourner ##\n",
    "    p_inst = s.primalVariableSolution['Puissance installee']\n",
    "    E_tot = -s.objectiveValue\n",
    "    status_sol = s.getStatusString()\n",
    "    l_sol = s.primalVariableSolution['l']\n",
    "    dual_sol = s.dualConstraintSolution\n",
    "    dual_coutsreduits = s.dualVariableSolution['Puissance installee']\n",
    "    \n",
    "    return p_inst, E_tot, status_sol, l_sol, dual_sol, dual_coutsreduits\n"
   ]
  },
  {
   "cell_type": "code",
   "execution_count": 28,
   "metadata": {},
   "outputs": [
    {
     "name": "stdout",
     "output_type": "stream",
     "text": [
      "\n",
      "Changement de:  2.842170943040401e-14 % par rapport au problème initial\n"
     ]
    },
    {
     "data": {
      "text/html": [
       "<div>\n",
       "<style scoped>\n",
       "    .dataframe tbody tr th:only-of-type {\n",
       "        vertical-align: middle;\n",
       "    }\n",
       "\n",
       "    .dataframe tbody tr th {\n",
       "        vertical-align: top;\n",
       "    }\n",
       "\n",
       "    .dataframe thead th {\n",
       "        text-align: right;\n",
       "    }\n",
       "</style>\n",
       "<table border=\"1\" class=\"dataframe\">\n",
       "  <thead>\n",
       "    <tr style=\"text-align: right;\">\n",
       "      <th></th>\n",
       "      <th>Résultat de la variante 1 (arrondi)</th>\n",
       "      <th>Résultat initial (arrondi)</th>\n",
       "    </tr>\n",
       "    <tr>\n",
       "      <th>Résultat</th>\n",
       "      <th></th>\n",
       "      <th></th>\n",
       "    </tr>\n",
       "  </thead>\n",
       "  <tbody>\n",
       "    <tr>\n",
       "      <td>Etat de la solution</td>\n",
       "      <td>optimal</td>\n",
       "      <td>-</td>\n",
       "    </tr>\n",
       "    <tr>\n",
       "      <td>Energie totale [MWh]</td>\n",
       "      <td>192644544.0</td>\n",
       "      <td>192644543</td>\n",
       "    </tr>\n",
       "    <tr>\n",
       "      <td>Somme des puissances installées [MW]</td>\n",
       "      <td>500000.0</td>\n",
       "      <td>500000</td>\n",
       "    </tr>\n",
       "    <tr>\n",
       "      <td>Somme des puissances installées (offshore) [MW]</td>\n",
       "      <td>85000.0</td>\n",
       "      <td>85000</td>\n",
       "    </tr>\n",
       "    <tr>\n",
       "      <td>Variabilité moyenne [MWh]</td>\n",
       "      <td>29877.0</td>\n",
       "      <td>30000.0</td>\n",
       "    </tr>\n",
       "  </tbody>\n",
       "</table>\n",
       "</div>"
      ],
      "text/plain": [
       "                                                Résultat de la variante 1 (arrondi)  \\\n",
       "Résultat                                                                              \n",
       "Etat de la solution                                                         optimal   \n",
       "Energie totale [MWh]                                                    192644544.0   \n",
       "Somme des puissances installées [MW]                                       500000.0   \n",
       "Somme des puissances installées (offshore) [MW]                             85000.0   \n",
       "Variabilité moyenne [MWh]                                                   29877.0   \n",
       "\n",
       "                                                Résultat initial (arrondi)  \n",
       "Résultat                                                                    \n",
       "Etat de la solution                                                      -  \n",
       "Energie totale [MWh]                                             192644543  \n",
       "Somme des puissances installées [MW]                                500000  \n",
       "Somme des puissances installées (offshore) [MW]                      85000  \n",
       "Variabilité moyenne [MWh]                                          30000.0  "
      ]
     },
     "execution_count": 28,
     "metadata": {},
     "output_type": "execute_result"
    }
   ],
   "source": [
    "P = 500000\n",
    "κ = 0.17\n",
    "δ = 0.02\n",
    "T =3\n",
    "\n",
    "p_inst_1, E_tot_1, status_sol_1, l_sol_1, dual_sol_1, dual_coutsreduits_1 = attribution_puissance_variante1(P,κ,δ,T)\n",
    "p_inst, E_tot, status_sol, l_sol, dual_sol, dual_coutsreduits = attribution_puissance(P,κ,δ,T)\n",
    "\n",
    "var_1 = np.sum(l_sol_1)*T//(N_heures)\n",
    "var = np.sum(l_sol)*T//(N_heures)\n",
    "\n",
    "resultat_1 = np.array([[status_sol_1,status_sol],\n",
    "                        [E_tot_1, E_tot],\n",
    "                        [np.round(p_inst_1.sum()),np.round(p_inst.sum())],\n",
    "                        [np.round(p_inst_1[indice_offshore].sum()),np.round(p_inst[indice_offshore].sum())],\n",
    "                        [round(var_1),round(var)],\n",
    "                        [\" \",\" \"]])\n",
    "result_1_df = pd.DataFrame(resultat,\n",
    "                           index = [\"Etat de la solution\",\n",
    "                                    \"Energie totale [MWh]\",\n",
    "                                    \"Somme des puissances installées [MW]\",\n",
    "                                    \"Somme des puissances installées (offshore) [MW]\",\n",
    "                                    \"Variabilité moyenne [MWh]\",\n",
    "                                    \" \"],\n",
    "                           columns=[\"Résultat de la variante 1 (arrondi)\",\n",
    "                                    \"Résultat initial (arrondi)\"])\n",
    "result_1_df.index.name = \"Résultat\"\n",
    "\n",
    "\n",
    "print(\"\\nChangement de: \", (E_tot_1/E_tot)*100 -100 ,\"% par rapport au problème initial\")\n",
    "result_1_df.head(5)"
   ]
  },
  {
   "cell_type": "markdown",
   "metadata": {},
   "source": [
    "# Question I.5. b)"
   ]
  },
  {
   "cell_type": "markdown",
   "metadata": {},
   "source": [
    "Considérons maintenant que nous n'imposons plus sur notre problème initial la contrainte :\n",
    "\n",
    "$\n",
    "\\sum_{i=1}^{\\frac{N_{heures}}{T}-1} \\frac{\\sum_{j=1}^{N}p_{j}^{installée}|\\sum_{k=Ti+1}^{Ti+T} \\eta_{jk}-\\sum_{k=Ti+T+1}^{Ti+2T}\\eta_{jk}|}{\\frac{N_{heures}}{T}-1} \\leq \\delta P\n",
    "$\n",
    "\n",
    "Mais que nous la remplaçons par la nouvelle contrainte :\n",
    "\n",
    "$\n",
    "\\text{max } ( \\sum_{j=1}^{N}p_{j}^{installée}|\\sum_{k=Ti+1}^{Ti+T} \\eta_{jk}-\\sum_{k=Ti+T+1}^{Ti+2T}\\eta_{jk}| , i \\in [1,\\frac{N_{heures}}{T}-1] ) \\leq \\delta P\n",
    "$\n",
    "\n",
    "A l'inverse du point précédent, cette nouvelle contrainte est plus forte que celle d'origine, le problème est donc plus contraint que précédemment et nous nous attendons à ce que notre solution s'en trouve diminuée.\n",
    "\n",
    "Aussi, c'est ce que confirme notre bout de code ci-dessous."
   ]
  },
  {
   "cell_type": "code",
   "execution_count": 34,
   "metadata": {},
   "outputs": [],
   "source": [
    "#TODO contraince active, variable =0\n",
    "\n",
    "def attribution_puissance_variante2(P = 500000, κ = 0.17, δ = 0.02, T = 3):\n",
    "    \"\"\" attribution_puissance est une fonction qui, à l'aide d'un algorithme du simplex \n",
    "        et de données sur des sites de production éoliens d'énergie, répartit, de manière \n",
    "        à obtenir une production d'énergie maximale, un capital de puissance à installer \n",
    "        parmi les sites disponibles.\n",
    "        \n",
    "        (input)\n",
    "         - P [int] : Puissance à répartir parmi les sites (en [MW])\n",
    "         - κ [float] : Proportion de la contribution des sites offshore \n",
    "         - δ [float] : Coefficient borne la variabilité de la production d'énergie\n",
    "         - T [int] : Pas de temps considéré pour la contrainte de variabilité (en [heure])\n",
    "         \n",
    "        (output)\n",
    "         - p_inst [numpy array] : Vecteur de dimension (N_sites, 1) reprenant les attributions\n",
    "           de puissance à installer par site (en [MW])\n",
    "         - E_tot [float] : Valeur maximisée de l'énergie totale produite (en [MWh])\n",
    "         - status [string] : Contient l'état de la solution\n",
    "         - l_sol [numpy array] : Vecteur de longueur N_heures//T-1 comprenant les bornes associées \n",
    "           à chaque valeur absolue de la variabilité\n",
    "         - dual_sol [dict] : Dictionnaire ayant pour valeurs les solutions du probleme dual et\n",
    "           pour clés le nom des contraintes du primal associées à celles-ci\n",
    "         - dual_coutsreduits [numpy array] : Vecteur de taille N_sites reprenant les coûts réduits \n",
    "           du problème dual\n",
    "    \"\"\"\n",
    "    \n",
    "    ## Création object CyClpSimplex ##\n",
    "    s = CyClpSimplex()\n",
    "    \n",
    "    ## Ajout des variables ##\n",
    "    puiss = s.addVariable('Puissance installee', N_sites) \n",
    "    L = s.addVariable('l', N_heures//T -1) \n",
    "    \n",
    "    ## Fonction objectif ##\n",
    "    rend_somme = rend_sites_matrix.sum(axis = 1)\n",
    "    s.objective = CyLPArray(-rend_somme)*puiss\n",
    "    \n",
    "    ## Ajout des contraintes##\n",
    "    \n",
    "    #~ Contrainte 1 : Capacité des sites de production ~#\n",
    "    sites_capacite_max = CyLPArray(sites[\"capacites\"])\n",
    "    s.addConstraint(0 <= puiss <= sites_capacite_max, \"Contrainte capacite max\")\n",
    "    \n",
    "    #~ Contrainte 2 : Puissance à installer ~#\n",
    "    s.addConstraint(puiss.sum() == P,\"Puissance à installer\")\n",
    "    \n",
    "    #~ Contrainte 3 : Puissance à installer sur les sites offshore ~#\n",
    "    s.addConstraint(puiss[indice_offshore].sum() - κ*puiss.sum() == 0,\"Puissance offshore à installer\")\n",
    "     \n",
    "    #~ Contrainte 4 : Variabilité moyenne (non-cyclique) de la puissance produites sur intervalles de temps ~#\n",
    "    s.addConstraint(np.array(L).max() <= δ*P*(N_heures//T-1)*T,\"Variabilité\")\n",
    "    \n",
    "    rend_sites_par_intervalle = np.sum(rend_sites_matrix.reshape(N_sites, N_heures//T, T), axis = 2)\n",
    "    diff_rend = np.asmatrix(rend_sites_par_intervalle[:,1:] - rend_sites_par_intervalle[:,:-1]).T\n",
    "    \n",
    "    s.addConstraint(diff_rend*puiss - L <= 0, \"Abs contrainte 1\")\n",
    "    s.addConstraint(-diff_rend*puiss - L <= 0, \"Abs contrainte 2\")\n",
    "    \n",
    "    ## Résolution problème d'optimisation via l'algorithme du simplexe ##\n",
    "    s.primal()    \n",
    "    \n",
    "    ## Valeur à retourner ##\n",
    "    p_inst = s.primalVariableSolution['Puissance installee']\n",
    "    E_tot = -s.objectiveValue\n",
    "    status_sol = s.getStatusString()\n",
    "    l_sol = s.primalVariableSolution['l']\n",
    "    dual_sol = s.dualConstraintSolution\n",
    "    dual_coutsreduits = s.dualVariableSolution['Puissance installee']\n",
    "    \n",
    "    return p_inst, E_tot, status_sol, l_sol, dual_sol, dual_coutsreduits\n"
   ]
  },
  {
   "cell_type": "code",
   "execution_count": 36,
   "metadata": {},
   "outputs": [
    {
     "name": "stdout",
     "output_type": "stream",
     "text": [
      "\n",
      "Energie totale2 =  84229021.81038766 MWh\n",
      "\n",
      "Energie totale =  192644543.84691712 MWh\n",
      "\n",
      "Diminution de:  -56.27749422411915 % par rapport au problème initial\n"
     ]
    }
   ],
   "source": [
    "def attribution_puissance_variante2(P = 500000, kappa = 0.17, delta = 0.02, T = 3):\n",
    "    s = CyClpSimplex()\n",
    "    \n",
    "    # Add variables\n",
    "    x = s.addVariable('x', N_sites)\n",
    "    \n",
    "    # Add constraints\n",
    "    p_max = CyLPArray(sites[\"capacites\"])\n",
    "    s += 0 <= x <= p_max\n",
    "    \n",
    "    s.addConstraint(x.sum() == P,\"contrainte puissance max\")\n",
    "    \n",
    "    offshorearray = np.zeros(N_sites)\n",
    "    offshorearray[indice_offshore] = 1             # set à 1 les sites offshore\n",
    "    s.addConstraint((CyLPArray(offshorearray)*x) == kappa*P,\"contrainte offshore\")\n",
    "    \n",
    "    n_interval = N_heures//T  # nombre d'intervalle sur les heures imparties\n",
    "    L = s.addVariable('l', n_interval-1) # vecteur L de longeur n_interval pour gérer valeurs absolues \n",
    "    \n",
    "    sum = np.sum(rend_sites_matrix.copy().reshape(N_sites, n_interval, T), axis = 2)\n",
    "    sum_shifted = sum.copy()\n",
    "    sum_shifted = np.roll(sum, 1, axis = 1)\n",
    "    sum = np.delete(sum, np.s_[0],  1)\n",
    "    sum_shifted = np.delete(sum_shifted, np.s_[0],  1)\n",
    "    diff = CyLPArray((sum_shifted - sum).transpose())\n",
    "    s += diff*x - L <= 0\n",
    "    s += -diff*x - L <= 0\n",
    "    s.addConstraint(np.array(L).max() <= delta*P,\"variabilité\")  # contrainte de variabilité\n",
    "    \n",
    "    #print (\"\\nConstraints :\\n\", s.constraints)\n",
    "    #print (\"\\nConstraintMatrix :\\n\", s.coefMatrix)\n",
    "    \n",
    "    # Set the objective function\n",
    "    c = -CyLPArray(np.sum(rend_sites_matrix, axis = 1))\n",
    "    \n",
    "    s.objective = c * x\n",
    "    #print(\"\\nc = \",s.objective)\n",
    "    \n",
    "    # Solve using primal Simplex\n",
    "    s.primal()\n",
    "    \n",
    "    dual_variable = s.dualVariableSolution[\"x\"]\n",
    "\n",
    "    dual_constraint = s.dualConstraintSolution\n",
    "    \n",
    "    \n",
    "    # Return values\n",
    "    return s.primalVariableSolution['x'], -s.objectiveValue, s.getStatusString(), s.primalVariableSolution['l'],dual_constraint,dual_variable\n",
    "    \n",
    "## Solutions ##\n",
    "\n",
    "PUISSANCE_INSTALLEE2, ENERGIE_TOTALE2, type_sol2, l_sol2,dual_constraint2,dual_variable2 = attribution_puissance_variante2(500000,0.17,0.02,3)\n",
    "\n",
    "#print (\"\\nlsol = \",l_sol2) \n",
    "#print (\"\\nPuissance installée2 = \",PUISSANCE_INSTALLEE2) \n",
    "print(\"\\nEnergie totale2 = \", ENERGIE_TOTALE2, \"MWh\") #192644543.2528026\n",
    "#print(\"\\nEtat de la solution2 ? = \", type_sol2)\n",
    "\n",
    "print(\"\\nEnergie totale = \", E_tot, \"MWh\")\n",
    "\n",
    "print(\"\\nDiminution de: \", (ENERGIE_TOTALE2/E_tot)*100 -100 ,\"% par rapport au problème initial\")"
   ]
  },
  {
   "cell_type": "markdown",
   "metadata": {},
   "source": [
    "# Question I.5. c)"
   ]
  },
  {
   "cell_type": "code",
   "execution_count": null,
   "metadata": {},
   "outputs": [],
   "source": [
    "#TODO contraince active, variable =0\n",
    "\n",
    "def attribution_puissance_variante3(P = 500000, κ = 0.17, δ = 0.02, T = 3):\n",
    "    \"\"\" attribution_puissance est une fonction qui, à l'aide d'un algorithme du simplex \n",
    "        et de données sur des sites de production éoliens d'énergie, répartit, de manière \n",
    "        à obtenir une production d'énergie maximale, un capital de puissance à installer \n",
    "        parmi les sites disponibles.\n",
    "        \n",
    "        (input)\n",
    "         - P [int] : Puissance à répartir parmi les sites (en [MWh])\n",
    "         - kappa [float] : Proportion de la contribution des sites offshore \n",
    "         - delta [float] : Coefficient borne la variabilité de la production d'énergie\n",
    "         - T [int] : Pas de temps considéré pour la contrainte de variabilité (en [heure])\n",
    "         \n",
    "        (output)\n",
    "         - p_inst [numpy array] : Vecteur de dimension (N_sites, 1) reprenant les attributions\n",
    "           de puissance à installer par site\n",
    "         - E_tot [float] : Valeur maximisée de l'énergie totale produite (en [MWh])\n",
    "         - status [string] : Contient l'état de la solution\n",
    "         - l_sol [numpy array] : Vecteur de longueur N_heures//T-1 comprenant les bornes associées \n",
    "           à chaque valeur absolue de la variabilité\n",
    "         - dual_sol [dict] : Dictionnaire ayant pour valeurs les solutions du probleme dual et\n",
    "           pour clés le nom des contraintes du primal associées à celles-ci\n",
    "         - dual_coutsreduits [numpy array] : Vecteur de taille N_sites reprenant les coûts réduits \n",
    "           du problème dual\n",
    "    \"\"\"\n",
    "    \n",
    "    ## Création object CyClpSimplex ##\n",
    "    s = CyClpSimplex()\n",
    "    \n",
    "    ## Ajout des variables ##\n",
    "    puiss = s.addVariable('Puissance installee', N_sites)\n",
    "    prod_heure = s.addVariable('Production par heure', N_heures)\n",
    "    L = s.addVariable('l', N_heures-1) \n",
    "    \n",
    "    ## Fonction objectif ##\n",
    "    s.objective = CyLPArray(-1*np.ones(N_heures))*prod_heure\n",
    "    \n",
    "    ## Ajout des contraintes##\n",
    "    \n",
    "    #~ Contrainte 1 : Capacité des sites de production ~#\n",
    "    sites_capacite_max = CyLPArray(sites[\"capacites\"])\n",
    "    s.addConstraint(0 <= puiss <= sites_capacite_max, \"Contrainte capacite max\")\n",
    "    \n",
    "    #~ Contrainte 2 : Puissance à installer ~#\n",
    "    s.addConstraint(puiss.sum() == P,\"Puissance à installer\")\n",
    "    \n",
    "    #~ Contrainte 3 : Puissance à installer sur les sites offshore ~#\n",
    "    s.addConstraint(puiss[indice_offshore].sum() - κ*puiss.sum() == 0,\"Puissance offshore à installer\")\n",
    "    \n",
    "    #~ Contrainte 4 : Borne sur la production horaire ~#\n",
    "    s.addConstraint(prod_heure >= 0, \"Positivité prod_heure\")\n",
    "    s.addConstraint(prod_heure - CyLPArray(rend_sites_matrix.T)*puiss <= 0, \"Borne sur la production horaire\")\n",
    "    \n",
    "     \n",
    "    #~ Contrainte 5 : Variabilité moyenne (non-cyclique) de la puissance produites sur intervalles de temps ~#\n",
    "    s.addConstraint(L.sum() <= δ*P*(N_heures-1),\"Variabilité\")\n",
    "    \n",
    "    \n",
    "    \"\"\"rend_sites_par_intervalle = np.sum(rend_sites_matrix.reshape(N_sites, N_heures//T, T), axis = 2)\n",
    "    diff_rend = np.asmatrix(rend_sites_par_intervalle[:,1:] - rend_sites_par_intervalle[:,:-1]).T\n",
    "    \n",
    "    s.addConstraint(diff_rend*puiss - L <= 0, \"Abs contrainte 1\")\n",
    "    s.addConstraint(-diff_rend*puiss - L <= 0, \"Abs contrainte 2\")\"\"\"\n",
    "    \"\"\"\n",
    "    for i in range(N_heures//T-1):\n",
    "        s.addConstraint(prod_heure[T*(i+1):T*(i+2)].sum() - prod_heure[T*i:T*(i+1)].sum() - L[i] <= 0, \"Abs contrainte \" +str(i))\n",
    "        s.addConstraint(-prod_heure[T*(i+1):T*(i+2)].sum() + prod_heure[T*i:T*(i+1)].sum() - L[i] <= 0, \"Abs contrainte \"+str(i)+\"bis\")\n",
    "    \"\"\"\n",
    "    \n",
    "    s.addConstraint(prod_heure[0:N_heures-1] - prod_heure[1:N_heures] - L <= 0, \"Abs contrainte \")\n",
    "    s.addConstraint(-prod_heure[0:N_heures-1] + prod_heure[1:N_heures] - L <= 0, \"Abs contrainte bis \")\n",
    "    \n",
    "    \"\"\"#~ Contrainte 4bis : Variabilité moyenne (cyclique) de la puissance produites sur intervalles de temps ~#\n",
    "    s.addConstraint( L.sum() <= δ*P*(N_heures//T)*T,\"Variabilité\")\n",
    "    \n",
    "    rend_sites_par_intervalle = rend_sites_matrix.reshape(N_sites, N_heures//T, T).sum(axis = 2).T\n",
    "    rend_sites_par_intervalle_decalle = np.roll(rend_sites_par_intervalle.copy(), 1, axis = 1)\n",
    "    diff_puiss = np.asmatrix(rend_sites_par_intervalle_decalle - rend_sites_par_intervalle)*puiss\n",
    "\n",
    "    s.addConstraint(0 <= L - diff_puiss, \"Abs contrainte 1\")\n",
    "    s.addConstraint(0 <= L + diff_puiss, \"Abs contrainte 2\")\"\"\"\n",
    "    \n",
    "    ## Résolution problème d'optimisation via l'algorithme du simplexe ##\n",
    "    s.primal()\n",
    "    \n",
    "    ## Valeur à retourner ##\n",
    "    p_inst = s.primalVariableSolution['Puissance installee']\n",
    "    prod_horaire = s.primalVariableSolution['Production par heure']\n",
    "    E_tot = -s.objectiveValue\n",
    "    status_sol = s.getStatusString()\n",
    "    l_sol = s.primalVariableSolution['l']\n",
    "    dual_sol = s.dualConstraintSolution\n",
    "    dual_coutsreduits = s.dualVariableSolution['Puissance installee']\n",
    "    \n",
    "    return p_inst, prod_horaire, E_tot, status_sol, l_sol, dual_sol, dual_coutsreduits"
   ]
  },
  {
   "cell_type": "code",
   "execution_count": null,
   "metadata": {},
   "outputs": [],
   "source": [
    "\n",
    "P = 500000\n",
    "κ = 0.17\n",
    "δ = 0.02 #La contrainte de variabilité n'est plus prise en compte à partir d'une valeur comprise entre 0.009 et 0.0095\n",
    "T=3\n",
    "\n",
    "p_inst, prod_horaire, E_tot, status_sol, l_sol, dual_sol, dual_coutsreduits = attribution_puissance_variante3(P,κ,δ,T)\n",
    "\n",
    "\n",
    "#print (\"\\nPuissance installée = \",p_inst) \n",
    "print(\"\\nEnergie totale = \",  E_tot, \"MWh\")\n",
    "print(\"\\nEtat de la solution ? = \", status_sol)\n",
    "\n",
    "print(\"\\n production horaire : \", prod_horaire, \"\\n\")\n",
    "\n",
    "print(\"Vérifications : \")\n",
    "print(\"Somme des puissances installées = \", p_inst.sum())\n",
    "print(\"Somme des puissances installées (offshore) = \", p_inst[indice_offshore].sum())\n",
    "\n",
    "var = np.sum(l_sol)\n",
    "print(\"Variabilité obtenue : \", var,\" ?= \", δ*P*(N_heures-1), \" : Variabilité théorique\")\n",
    "\n",
    "rend_moyen = E_tot/(N_heures*P)\n",
    "print(\"Rendement moyen de l'ensemble des sites sur la période considérée :\", rend_moyen )\n"
   ]
  },
  {
   "cell_type": "code",
   "execution_count": null,
   "metadata": {},
   "outputs": [],
   "source": []
  }
 ],
 "metadata": {
  "kernelspec": {
   "display_name": "Python 3",
   "language": "python",
   "name": "python3"
  },
  "language_info": {
   "codemirror_mode": {
    "name": "ipython",
    "version": 3
   },
   "file_extension": ".py",
   "mimetype": "text/x-python",
   "name": "python",
   "nbconvert_exporter": "python",
   "pygments_lexer": "ipython3",
   "version": "3.7.6"
  },
  "pycharm": {
   "stem_cell": {
    "cell_type": "raw",
    "metadata": {
     "collapsed": false
    },
    "source": []
   }
  }
 },
 "nbformat": 4,
 "nbformat_minor": 4
}
