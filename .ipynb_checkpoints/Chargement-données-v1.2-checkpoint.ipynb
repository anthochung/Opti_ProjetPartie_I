{
 "cells": [
  {
   "cell_type": "markdown",
   "metadata": {},
   "source": [
    "### *Localisation optimale des capacités de production éoliennes en Europe*"
   ]
  },
  {
   "cell_type": "markdown",
   "metadata": {},
   "source": [
    "Notebook pour le  chargement des données du projet (partie I) -- version 1.2 (màj le 31/3/2020)"
   ]
  },
  {
   "cell_type": "code",
   "execution_count": 1,
   "metadata": {
    "pycharm": {
     "is_executing": false
    }
   },
   "outputs": [],
   "source": [
    "## imports classiques\n",
    "import numpy as np\n",
    "from cylp.cy import CyClpSimplex\n",
    "from cylp.py.modeling.CyLPModel import CyLPArray\n",
    "import matplotlib.pyplot as plt\n",
    "import math \n",
    "import pandas as pd\n",
    "import plotly.graph_objects as go\n",
    "import matplotlib.colors as colors\n",
    "import random\n",
    "\n",
    "\n",
    "colors_list = list(colors._colors_full_map.values())\n",
    "random.shuffle(colors_list)\n",
    "\n",
    "%matplotlib notebook"
   ]
  },
  {
   "cell_type": "code",
   "execution_count": 2,
   "metadata": {
    "pycharm": {
     "is_executing": false
    }
   },
   "outputs": [],
   "source": [
    "## paramètres\n",
    "\n",
    "liste_pays = ['Allemagne','Autriche','Belgique','Danemark','Espagne','France','Irlande','Italie','Luxembourg',\\\n",
    "             'Norvège','Pays-Bas','Portugal','Royaume-Uni','Suède','Suisse']\n",
    "\n",
    "liste_pays_index_dic = {'Allemagne':0,'Autriche':1,'Belgique':2,'Danemark':3,'Espagne':4,'France':5,'Irlande':6,'Italie':7,'Luxembourg':8,\\\n",
    "             'Norvège':9,'Pays-Bas':10,'Portugal':11,'Royaume-Uni':12,'Suède':13,'Suisse':14}\n",
    "\n",
    "list_colors_dic = {'Allemagne':colors_list[0],'Autriche':colors_list[1],'Belgique':colors_list[2],'Danemark':colors_list[3],'Espagne':colors_list[4],\\\n",
    "                         'France':colors_list[5],'Irlande':colors_list[6],'Italie':colors_list[7],'Luxembourg':colors_list[8],\\\n",
    "             'Norvège':colors_list[9],'Pays-Bas':colors_list[10],'Portugal':colors_list[11],'Royaume-Uni':colors_list[12],'Suède':colors_list[13],'Suisse':colors_list[14]} \n",
    "\n",
    "TURB = np.array([8587 , 12009 , 1417 , 9 , 18372 , 25132 , 527 , 21117 , 1140 , 28941 , 37 , 5052 , 4269 , 16637 , 15101])\n",
    "POMP = np.array([5223 , 3580 , 1307 , 0 , 5347 , 4303 , 292 , 7544 , 1100 , 1396 , 0 , 1029 , 2744 , 45 , 1636 ])\n",
    "RES = np.array([0.3*1e6 , 3.2*1e6 , 0.01*1e6 , 0 , 18.4*1e6 , 9.8*1e6 , 0.24*1e6 , 7.9*1e6 , 0.005*1e6 , 84.147*1e6 , 0 , 2.6*1e6 , 1.2*1e6 , 33.756*1e6 , 8.4*1e6])\n",
    "\n",
    "N_pays = 15                  # plus petit ou égal à N_pays_max = 15\n",
    "N_sites = 642                # plus petit ou égal à sites_max = 642\n",
    "N_heures_par_annee = 24*365  # nombre d'heures par année\n",
    "N_annees = 1/12                # fraction de l'annee à utiliser ; prendre par exemple 1/12 pour tester sur un mois (calculs \n",
    "                             # plus rapides) ; dans le rapport il faut utiliser l'année complète N_annees = 1\n",
    "N_heures = int(np.ceil(N_heures_par_annee*N_annees)) # nombre d'heures à extraire des fichiers de rendements\n",
    "\n",
    "vecteur_temps = np.arange(1,N_heures+1) / N_heures_par_annee"
   ]
  },
  {
   "cell_type": "code",
   "execution_count": 3,
   "metadata": {
    "pycharm": {
     "is_executing": false
    },
    "scrolled": false
   },
   "outputs": [
    {
     "ename": "FileNotFoundError",
     "evalue": "[Errno 2] File Sites.csv does not exist: 'Sites.csv'",
     "output_type": "error",
     "traceback": [
      "\u001b[1;31m---------------------------------------------------------------------------\u001b[0m",
      "\u001b[1;31mFileNotFoundError\u001b[0m                         Traceback (most recent call last)",
      "\u001b[1;32m<ipython-input-3-027b69275a4f>\u001b[0m in \u001b[0;36m<module>\u001b[1;34m\u001b[0m\n\u001b[0;32m      1\u001b[0m \u001b[1;31m## chargement et traitement des données brutes (I)\u001b[0m\u001b[1;33m\u001b[0m\u001b[1;33m\u001b[0m\u001b[1;33m\u001b[0m\u001b[0m\n\u001b[0;32m      2\u001b[0m \u001b[1;33m\u001b[0m\u001b[0m\n\u001b[1;32m----> 3\u001b[1;33m \u001b[0msites\u001b[0m \u001b[1;33m=\u001b[0m \u001b[0mpd\u001b[0m\u001b[1;33m.\u001b[0m\u001b[0mread_csv\u001b[0m\u001b[1;33m(\u001b[0m\u001b[1;34m'Sites.csv'\u001b[0m\u001b[1;33m)\u001b[0m\u001b[1;33m\u001b[0m\u001b[1;33m\u001b[0m\u001b[0m\n\u001b[0m\u001b[0;32m      4\u001b[0m \u001b[1;33m\u001b[0m\u001b[0m\n\u001b[0;32m      5\u001b[0m \u001b[0monshore\u001b[0m \u001b[1;33m=\u001b[0m \u001b[0msites\u001b[0m\u001b[1;33m[\u001b[0m\u001b[0msites\u001b[0m\u001b[1;33m[\u001b[0m\u001b[1;34m'capacite offshore'\u001b[0m\u001b[1;33m]\u001b[0m\u001b[1;33m==\u001b[0m\u001b[1;34m'Non'\u001b[0m\u001b[1;33m]\u001b[0m\u001b[1;33m.\u001b[0m\u001b[0mcopy\u001b[0m\u001b[1;33m(\u001b[0m\u001b[1;33m)\u001b[0m\u001b[1;33m\u001b[0m\u001b[1;33m\u001b[0m\u001b[0m\n",
      "\u001b[1;32mC:\\Users\\Matth\\anaconda3\\lib\\site-packages\\pandas\\io\\parsers.py\u001b[0m in \u001b[0;36mparser_f\u001b[1;34m(filepath_or_buffer, sep, delimiter, header, names, index_col, usecols, squeeze, prefix, mangle_dupe_cols, dtype, engine, converters, true_values, false_values, skipinitialspace, skiprows, skipfooter, nrows, na_values, keep_default_na, na_filter, verbose, skip_blank_lines, parse_dates, infer_datetime_format, keep_date_col, date_parser, dayfirst, cache_dates, iterator, chunksize, compression, thousands, decimal, lineterminator, quotechar, quoting, doublequote, escapechar, comment, encoding, dialect, error_bad_lines, warn_bad_lines, delim_whitespace, low_memory, memory_map, float_precision)\u001b[0m\n\u001b[0;32m    674\u001b[0m         )\n\u001b[0;32m    675\u001b[0m \u001b[1;33m\u001b[0m\u001b[0m\n\u001b[1;32m--> 676\u001b[1;33m         \u001b[1;32mreturn\u001b[0m \u001b[0m_read\u001b[0m\u001b[1;33m(\u001b[0m\u001b[0mfilepath_or_buffer\u001b[0m\u001b[1;33m,\u001b[0m \u001b[0mkwds\u001b[0m\u001b[1;33m)\u001b[0m\u001b[1;33m\u001b[0m\u001b[1;33m\u001b[0m\u001b[0m\n\u001b[0m\u001b[0;32m    677\u001b[0m \u001b[1;33m\u001b[0m\u001b[0m\n\u001b[0;32m    678\u001b[0m     \u001b[0mparser_f\u001b[0m\u001b[1;33m.\u001b[0m\u001b[0m__name__\u001b[0m \u001b[1;33m=\u001b[0m \u001b[0mname\u001b[0m\u001b[1;33m\u001b[0m\u001b[1;33m\u001b[0m\u001b[0m\n",
      "\u001b[1;32mC:\\Users\\Matth\\anaconda3\\lib\\site-packages\\pandas\\io\\parsers.py\u001b[0m in \u001b[0;36m_read\u001b[1;34m(filepath_or_buffer, kwds)\u001b[0m\n\u001b[0;32m    446\u001b[0m \u001b[1;33m\u001b[0m\u001b[0m\n\u001b[0;32m    447\u001b[0m     \u001b[1;31m# Create the parser.\u001b[0m\u001b[1;33m\u001b[0m\u001b[1;33m\u001b[0m\u001b[1;33m\u001b[0m\u001b[0m\n\u001b[1;32m--> 448\u001b[1;33m     \u001b[0mparser\u001b[0m \u001b[1;33m=\u001b[0m \u001b[0mTextFileReader\u001b[0m\u001b[1;33m(\u001b[0m\u001b[0mfp_or_buf\u001b[0m\u001b[1;33m,\u001b[0m \u001b[1;33m**\u001b[0m\u001b[0mkwds\u001b[0m\u001b[1;33m)\u001b[0m\u001b[1;33m\u001b[0m\u001b[1;33m\u001b[0m\u001b[0m\n\u001b[0m\u001b[0;32m    449\u001b[0m \u001b[1;33m\u001b[0m\u001b[0m\n\u001b[0;32m    450\u001b[0m     \u001b[1;32mif\u001b[0m \u001b[0mchunksize\u001b[0m \u001b[1;32mor\u001b[0m \u001b[0miterator\u001b[0m\u001b[1;33m:\u001b[0m\u001b[1;33m\u001b[0m\u001b[1;33m\u001b[0m\u001b[0m\n",
      "\u001b[1;32mC:\\Users\\Matth\\anaconda3\\lib\\site-packages\\pandas\\io\\parsers.py\u001b[0m in \u001b[0;36m__init__\u001b[1;34m(self, f, engine, **kwds)\u001b[0m\n\u001b[0;32m    878\u001b[0m             \u001b[0mself\u001b[0m\u001b[1;33m.\u001b[0m\u001b[0moptions\u001b[0m\u001b[1;33m[\u001b[0m\u001b[1;34m\"has_index_names\"\u001b[0m\u001b[1;33m]\u001b[0m \u001b[1;33m=\u001b[0m \u001b[0mkwds\u001b[0m\u001b[1;33m[\u001b[0m\u001b[1;34m\"has_index_names\"\u001b[0m\u001b[1;33m]\u001b[0m\u001b[1;33m\u001b[0m\u001b[1;33m\u001b[0m\u001b[0m\n\u001b[0;32m    879\u001b[0m \u001b[1;33m\u001b[0m\u001b[0m\n\u001b[1;32m--> 880\u001b[1;33m         \u001b[0mself\u001b[0m\u001b[1;33m.\u001b[0m\u001b[0m_make_engine\u001b[0m\u001b[1;33m(\u001b[0m\u001b[0mself\u001b[0m\u001b[1;33m.\u001b[0m\u001b[0mengine\u001b[0m\u001b[1;33m)\u001b[0m\u001b[1;33m\u001b[0m\u001b[1;33m\u001b[0m\u001b[0m\n\u001b[0m\u001b[0;32m    881\u001b[0m \u001b[1;33m\u001b[0m\u001b[0m\n\u001b[0;32m    882\u001b[0m     \u001b[1;32mdef\u001b[0m \u001b[0mclose\u001b[0m\u001b[1;33m(\u001b[0m\u001b[0mself\u001b[0m\u001b[1;33m)\u001b[0m\u001b[1;33m:\u001b[0m\u001b[1;33m\u001b[0m\u001b[1;33m\u001b[0m\u001b[0m\n",
      "\u001b[1;32mC:\\Users\\Matth\\anaconda3\\lib\\site-packages\\pandas\\io\\parsers.py\u001b[0m in \u001b[0;36m_make_engine\u001b[1;34m(self, engine)\u001b[0m\n\u001b[0;32m   1112\u001b[0m     \u001b[1;32mdef\u001b[0m \u001b[0m_make_engine\u001b[0m\u001b[1;33m(\u001b[0m\u001b[0mself\u001b[0m\u001b[1;33m,\u001b[0m \u001b[0mengine\u001b[0m\u001b[1;33m=\u001b[0m\u001b[1;34m\"c\"\u001b[0m\u001b[1;33m)\u001b[0m\u001b[1;33m:\u001b[0m\u001b[1;33m\u001b[0m\u001b[1;33m\u001b[0m\u001b[0m\n\u001b[0;32m   1113\u001b[0m         \u001b[1;32mif\u001b[0m \u001b[0mengine\u001b[0m \u001b[1;33m==\u001b[0m \u001b[1;34m\"c\"\u001b[0m\u001b[1;33m:\u001b[0m\u001b[1;33m\u001b[0m\u001b[1;33m\u001b[0m\u001b[0m\n\u001b[1;32m-> 1114\u001b[1;33m             \u001b[0mself\u001b[0m\u001b[1;33m.\u001b[0m\u001b[0m_engine\u001b[0m \u001b[1;33m=\u001b[0m \u001b[0mCParserWrapper\u001b[0m\u001b[1;33m(\u001b[0m\u001b[0mself\u001b[0m\u001b[1;33m.\u001b[0m\u001b[0mf\u001b[0m\u001b[1;33m,\u001b[0m \u001b[1;33m**\u001b[0m\u001b[0mself\u001b[0m\u001b[1;33m.\u001b[0m\u001b[0moptions\u001b[0m\u001b[1;33m)\u001b[0m\u001b[1;33m\u001b[0m\u001b[1;33m\u001b[0m\u001b[0m\n\u001b[0m\u001b[0;32m   1115\u001b[0m         \u001b[1;32melse\u001b[0m\u001b[1;33m:\u001b[0m\u001b[1;33m\u001b[0m\u001b[1;33m\u001b[0m\u001b[0m\n\u001b[0;32m   1116\u001b[0m             \u001b[1;32mif\u001b[0m \u001b[0mengine\u001b[0m \u001b[1;33m==\u001b[0m \u001b[1;34m\"python\"\u001b[0m\u001b[1;33m:\u001b[0m\u001b[1;33m\u001b[0m\u001b[1;33m\u001b[0m\u001b[0m\n",
      "\u001b[1;32mC:\\Users\\Matth\\anaconda3\\lib\\site-packages\\pandas\\io\\parsers.py\u001b[0m in \u001b[0;36m__init__\u001b[1;34m(self, src, **kwds)\u001b[0m\n\u001b[0;32m   1889\u001b[0m         \u001b[0mkwds\u001b[0m\u001b[1;33m[\u001b[0m\u001b[1;34m\"usecols\"\u001b[0m\u001b[1;33m]\u001b[0m \u001b[1;33m=\u001b[0m \u001b[0mself\u001b[0m\u001b[1;33m.\u001b[0m\u001b[0musecols\u001b[0m\u001b[1;33m\u001b[0m\u001b[1;33m\u001b[0m\u001b[0m\n\u001b[0;32m   1890\u001b[0m \u001b[1;33m\u001b[0m\u001b[0m\n\u001b[1;32m-> 1891\u001b[1;33m         \u001b[0mself\u001b[0m\u001b[1;33m.\u001b[0m\u001b[0m_reader\u001b[0m \u001b[1;33m=\u001b[0m \u001b[0mparsers\u001b[0m\u001b[1;33m.\u001b[0m\u001b[0mTextReader\u001b[0m\u001b[1;33m(\u001b[0m\u001b[0msrc\u001b[0m\u001b[1;33m,\u001b[0m \u001b[1;33m**\u001b[0m\u001b[0mkwds\u001b[0m\u001b[1;33m)\u001b[0m\u001b[1;33m\u001b[0m\u001b[1;33m\u001b[0m\u001b[0m\n\u001b[0m\u001b[0;32m   1892\u001b[0m         \u001b[0mself\u001b[0m\u001b[1;33m.\u001b[0m\u001b[0munnamed_cols\u001b[0m \u001b[1;33m=\u001b[0m \u001b[0mself\u001b[0m\u001b[1;33m.\u001b[0m\u001b[0m_reader\u001b[0m\u001b[1;33m.\u001b[0m\u001b[0munnamed_cols\u001b[0m\u001b[1;33m\u001b[0m\u001b[1;33m\u001b[0m\u001b[0m\n\u001b[0;32m   1893\u001b[0m \u001b[1;33m\u001b[0m\u001b[0m\n",
      "\u001b[1;32mpandas\\_libs\\parsers.pyx\u001b[0m in \u001b[0;36mpandas._libs.parsers.TextReader.__cinit__\u001b[1;34m()\u001b[0m\n",
      "\u001b[1;32mpandas\\_libs\\parsers.pyx\u001b[0m in \u001b[0;36mpandas._libs.parsers.TextReader._setup_parser_source\u001b[1;34m()\u001b[0m\n",
      "\u001b[1;31mFileNotFoundError\u001b[0m: [Errno 2] File Sites.csv does not exist: 'Sites.csv'"
     ]
    }
   ],
   "source": [
    "## chargement et traitement des données brutes (I)\n",
    " \n",
    "sites = pd.read_csv('Sites.csv')\n",
    "\n",
    "onshore = sites[sites['capacite offshore']=='Non'].copy()\n",
    "offshore = sites[sites['capacite offshore']=='Oui'].copy()"
   ]
  },
  {
   "cell_type": "code",
   "execution_count": null,
   "metadata": {
    "pycharm": {
     "is_executing": false
    }
   },
   "outputs": [],
   "source": [
    "sites.head()\n"
   ]
  },
  {
   "cell_type": "code",
   "execution_count": null,
   "metadata": {},
   "outputs": [],
   "source": [
    "onshore.head()"
   ]
  },
  {
   "cell_type": "code",
   "execution_count": null,
   "metadata": {},
   "outputs": [],
   "source": [
    "offshore.head()"
   ]
  },
  {
   "cell_type": "code",
   "execution_count": null,
   "metadata": {},
   "outputs": [],
   "source": [
    "s = CyClpSimplex()\n",
    "\n",
    "# Add variables\n",
    "x = s.addVariable('x', 3)\n",
    "p = s.addVariable('p',642)\n",
    "y = s.addVariable('y', 2)\n",
    "\n",
    "# Create coefficients and bounds\n",
    "A = np.matrix([[1., 2., 0],[1., 0, 1.]])\n",
    "B = np.matrix([[1., 0, 0], [0, 0, 1.]])\n",
    "D = np.matrix([[1., 2.],[0, 1]])\n",
    "a = CyLPArray([5, 2.5])\n",
    "b = CyLPArray([4.2, 3])\n",
    "x_u= CyLPArray([2., 3.5])\n",
    "\n",
    "# Add constraints\n",
    "s += p[:].sum() >= P\n",
    "s += p[:].sum() <= P\n",
    "\n",
    "s += p[488:].sum() <= delta*P\n",
    "s += p[488:].sum() >= delta*P\n",
    "\n",
    "s += A * x <= a\n",
    "s += 2 <= B * x + D * y <= b\n",
    "s += y >= 0\n",
    "s += 1.1 <= x[1:3] <= x_u\n",
    "\n",
    "# Set the objective function\n",
    "c = CyLPArray([1., -2., 3.])\n",
    "s.objective = c * x + 2 * y.sum()\n",
    "\n",
    "# Solve using primal Simplex\n",
    "s.primal()\n",
    "print( s.primalVariableSolution['x'])"
   ]
  },
  {
   "cell_type": "code",
   "execution_count": null,
   "metadata": {},
   "outputs": [],
   "source": [
    "s = CyClpSimplex()\n",
    "\n",
    "# Add variables\n",
    "x = s.addVariable('x', 3)\n",
    "y = s.addVariable('y', 2)\n",
    "\n",
    "# Create coefficients and bounds\n",
    "A = np.matrix([[1., 2., 0],[1., 0, 1.]])\n",
    "B = np.matrix([[1., 0, 0], [0, 0, 1.]])\n",
    "D = np.matrix([[1., 2.],[0, 1]])\n",
    "a = CyLPArray([5, 2.5])\n",
    "b = CyLPArray([4.2, 3])\n",
    "x_u= CyLPArray([2., 3.5])\n",
    "\n",
    "# Add constraints\n",
    "s += A * x <= a\n",
    "s += 2 <= B * x + D * y <= b\n",
    "s += y >= 0\n",
    "s += 1.1 <= x[1:3] <= x_u\n",
    "\n",
    "# Set the objective function\n",
    "c = CyLPArray([1., -2., 3.])\n",
    "s.objective = c * x + 2 * y.sum()\n",
    "\n",
    "# Solve using primal Simplex\n",
    "s.primal()\n",
    "print (s.primalVariableSolution['x'])"
   ]
  },
  {
   "cell_type": "code",
   "execution_count": null,
   "metadata": {},
   "outputs": [],
   "source": [
    "#Données \n",
    "P= 500000\n",
    "k = 0.17\n",
    "delta = 0.02\n",
    "\n",
    "s = CyClpSimplex()\n",
    "p = s.addVariable('p', (642,8760))\n",
    "\n",
    "s += p[:,:].sum() >= P\n",
    "s += p[:,:].sum() <= P\n",
    "\n",
    "s += p[488:,]\n"
   ]
  },
  {
   "cell_type": "code",
   "execution_count": null,
   "metadata": {},
   "outputs": [],
   "source": [
    "array = np.array([[1,1,1],[2,2,2],[3,3,3]])\n",
    "print(array[1:,:].sum())"
   ]
  },
  {
   "cell_type": "code",
   "execution_count": null,
   "metadata": {
    "pycharm": {
     "is_executing": false
    }
   },
   "outputs": [],
   "source": [
    "# Visualisations des données pour les sites \n",
    "\n",
    "fig = go.Figure(data=go.Scattergeo(\n",
    "        lon = offshore['longitude'],\n",
    "        lat = offshore['latitude'],\n",
    "        text = offshore['pays'],\n",
    "        mode = 'markers',\n",
    "        marker=dict(\n",
    "        color = offshore['couleur'],\n",
    "        size = offshore['scores']*1000)\n",
    "        ))\n",
    "\n",
    "fig.update_layout(\n",
    "        title = 'Sites offshore, et leur importance',\n",
    "        geo_scope = 'europe'\n",
    "    )\n",
    "fig.show();"
   ]
  },
  {
   "cell_type": "code",
   "execution_count": null,
   "metadata": {
    "pycharm": {
     "is_executing": false
    }
   },
   "outputs": [],
   "source": [
    "fig = go.Figure(data=go.Scattergeo(\n",
    "        lon = onshore['longitude'],\n",
    "        lat = onshore['latitude'],\n",
    "        text = onshore['pays'],\n",
    "        mode = 'markers',\n",
    "        marker=dict(\n",
    "        color = onshore['couleur'],\n",
    "        size = onshore['scores']*3000)\n",
    "        ))\n",
    "\n",
    "fig.update_layout(\n",
    "        title = 'Sites onshore, et leur importance',\n",
    "        geo_scope = 'europe'\n",
    "    )\n",
    "fig.show();"
   ]
  },
  {
   "cell_type": "code",
   "execution_count": null,
   "metadata": {
    "pycharm": {
     "is_executing": false
    }
   },
   "outputs": [],
   "source": [
    "fig = go.Figure(data=go.Scattergeo(\n",
    "        lon = sites['longitude'],\n",
    "        lat = sites['latitude'],\n",
    "        text = sites['pays'],\n",
    "        mode = 'markers',\n",
    "        marker_color = sites['couleur'],\n",
    "        marker = dict(size = 2),\n",
    "        ))\n",
    "\n",
    "fig.update_layout(\n",
    "        title = 'Affectation par pays des sites éoliens',\n",
    "        geo_scope = 'europe'\n",
    "    )\n",
    "fig.show();"
   ]
  },
  {
   "cell_type": "code",
   "execution_count": null,
   "metadata": {
    "pycharm": {
     "is_executing": false
    }
   },
   "outputs": [],
   "source": [
    "fig = go.Figure(data=go.Scattergeo(\n",
    "        lon = sites['longitude'],\n",
    "        lat = sites['latitude'],\n",
    "        text = 'pays: '+sites['pays']+', offshore: '+sites['capacite offshore']+' | capacite [MW] = '+\\\n",
    "        sites['capacites'].astype(str),\n",
    "        mode = 'markers',\n",
    "        marker = dict(\n",
    "            color = sites['couleur'],\n",
    "            size = sites['capacites']/sites['capacites'].max() * 30)\n",
    "        ))\n",
    "\n",
    "fig.update_layout(\n",
    "        title = 'Capacites des sites éoliens',\n",
    "        geo_scope = 'europe'\n",
    "    )\n",
    "fig.show();"
   ]
  },
  {
   "cell_type": "code",
   "execution_count": null,
   "metadata": {
    "pycharm": {
     "is_executing": false
    }
   },
   "outputs": [],
   "source": [
    "## chargement et traitement des données brutes (II)\n",
    "matrice_rendements_offshore = np.genfromtxt('Rendements_offshore.csv', delimiter=',')[:,:N_heures]\n",
    "matrice_rendements_onshore = np.genfromtxt('Rendements_onshore.csv', delimiter=',')[:,:N_heures]"
   ]
  },
  {
   "cell_type": "code",
   "execution_count": null,
   "metadata": {
    "scrolled": false
   },
   "outputs": [],
   "source": [
    "## Visualisation des rendements pour un pays\n",
    "\n",
    "pays_test = 'France'\n",
    "index_test = liste_pays_index_dic[pays_test]\n",
    "\n",
    "# nombre de sites éoliens\n",
    "index_sites_eoliens = sites[sites.pays==pays_test]['index site']\n",
    "n_eoliens = len(index_sites_eoliens)\n",
    "print('il y a '+str(n_eoliens)+' sites éoliens en '+str(pays_test))\n",
    "\n",
    "# rendements eolien au hasard\n",
    "random_site = np.random.choice(index_sites_eoliens)\n",
    "plt.figure(figsize=(9,6))\n",
    "plt.grid()\n",
    "plt.title('rendement éolien: '+str(pays_test))\n",
    "if sites.loc[random_site]['capacite offshore']=='Oui':\n",
    "    plt.plot(vecteur_temps,matrice_rendements_offshore[random_site])\n",
    "    plt.legend(['offshore'])\n",
    "else:\n",
    "    plt.plot(vecteur_temps,matrice_rendements_onshore[random_site])\n",
    "    plt.legend(['onshore'])\n",
    "plt.xlabel('temps : [années]')\n",
    "plt.ylabel('rendement éolien: [/]')\n",
    "\n",
    "print('rendement moyen offshore pour le pays: '+str(np.mean(matrice_rendements_offshore[index_sites_eoliens])))\n",
    "print('rendement moyen onshore pour le pays: '+str(np.mean(matrice_rendements_onshore[index_sites_eoliens])))\n",
    "\n",
    "# capacité éoliennes maximales tolérables\n",
    "buf_ok_offshore = (sites.pays==pays_test) & (sites['capacite offshore']=='Oui')\n",
    "buf_ok_onshore = (sites.pays==pays_test) & (sites['capacite offshore']=='Non')\n",
    "\n",
    "print(' => capacité éolienne totale offshore : [MW] '+str(sites[buf_ok_offshore]['capacites'].sum()))\n",
    "print(' => capacité éolienne totale offshore : [MW] '+str(sites[buf_ok_onshore]['capacites'].sum()))\n",
    "\n",
    "# latitude/longitude\n",
    "print('le pays '+str(pays_test)+' se trouve  à une latitude de '+str(sites.loc[random_site]['latitude'])+' et une longitude de '+\\\n",
    "      str(sites.loc[random_site]['longitude']))"
   ]
  }
 ],
 "metadata": {
  "kernelspec": {
   "display_name": "Python 3",
   "language": "python",
   "name": "python3"
  },
  "language_info": {
   "codemirror_mode": {
    "name": "ipython",
    "version": 3
   },
   "file_extension": ".py",
   "mimetype": "text/x-python",
   "name": "python",
   "nbconvert_exporter": "python",
   "pygments_lexer": "ipython3",
   "version": "3.7.6"
  },
  "pycharm": {
   "stem_cell": {
    "cell_type": "raw",
    "metadata": {
     "collapsed": false
    },
    "source": []
   }
  }
 },
 "nbformat": 4,
 "nbformat_minor": 4
}
