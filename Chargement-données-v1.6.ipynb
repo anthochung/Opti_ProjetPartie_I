{
 "cells": [
  {
   "cell_type": "markdown",
   "metadata": {},
   "source": [
    "### *Localisation optimale des capacités de production éoliennes en Europe*"
   ]
  },
  {
   "cell_type": "markdown",
   "metadata": {
    "pycharm": {
     "name": "#%% md\n"
    }
   },
   "source": [
    "Notebook pour le  chargement des données du projet (partie I) -- version 1.2 (màj le 31/3/2020)"
   ]
  },
  {
   "cell_type": "code",
   "execution_count": 72,
   "metadata": {
    "pycharm": {
     "is_executing": false
    }
   },
   "outputs": [],
   "source": [
    "## imports classiques\n",
    "import numpy as np\n",
    "\n",
    "from cylp.cy import CyClpSimplex\n",
    "from cylp.py.modeling.CyLPModel import CyLPArray, CyLPModel\n",
    "\n",
    "import matplotlib.pyplot as plt\n",
    "import math \n",
    "import pandas as pd\n",
    "import plotly.graph_objects as go\n",
    "import matplotlib.colors as colors\n",
    "import random\n",
    "\n",
    "\n",
    "colors_list = list(colors._colors_full_map.values())\n",
    "random.shuffle(colors_list)\n",
    "\n",
    "%matplotlib notebook"
   ]
  },
  {
   "cell_type": "code",
   "execution_count": 73,
   "metadata": {
    "pycharm": {
     "is_executing": false
    }
   },
   "outputs": [],
   "source": [
    "## paramètres\n",
    "\n",
    "liste_pays = ['Allemagne','Autriche','Belgique','Danemark','Espagne','France','Irlande','Italie','Luxembourg',\\\n",
    "             'Norvège','Pays-Bas','Portugal','Royaume-Uni','Suède','Suisse']\n",
    "\n",
    "liste_pays_index_dic = {'Allemagne':0,'Autriche':1,'Belgique':2,'Danemark':3,'Espagne':4,'France':5,'Irlande':6,'Italie':7,'Luxembourg':8,\\\n",
    "             'Norvège':9,'Pays-Bas':10,'Portugal':11,'Royaume-Uni':12,'Suède':13,'Suisse':14}\n",
    "\n",
    "list_colors_dic = {'Allemagne':colors_list[0],'Autriche':colors_list[1],'Belgique':colors_list[2],'Danemark':colors_list[3],'Espagne':colors_list[4],\\\n",
    "                         'France':colors_list[5],'Irlande':colors_list[6],'Italie':colors_list[7],'Luxembourg':colors_list[8],\\\n",
    "             'Norvège':colors_list[9],'Pays-Bas':colors_list[10],'Portugal':colors_list[11],'Royaume-Uni':colors_list[12],'Suède':colors_list[13],'Suisse':colors_list[14]} \n",
    "\n",
    "TURB = np.array([8587 , 12009 , 1417 , 9 , 18372 , 25132 , 527 , 21117 , 1140 , 28941 , 37 , 5052 , 4269 , 16637 , 15101])\n",
    "POMP = np.array([5223 , 3580 , 1307 , 0 , 5347 , 4303 , 292 , 7544 , 1100 , 1396 , 0 , 1029 , 2744 , 45 , 1636 ])\n",
    "RES = np.array([0.3*1e6 , 3.2*1e6 , 0.01*1e6 , 0 , 18.4*1e6 , 9.8*1e6 , 0.24*1e6 , 7.9*1e6 , 0.005*1e6 , 84.147*1e6 , 0 , 2.6*1e6 , 1.2*1e6 , 33.756*1e6 , 8.4*1e6])\n",
    "\n",
    "N_pays = 15                  # plus petit ou égal à N_pays_max = 15\n",
    "N_sites = 642                # plus petit ou égal à sites_max = 642\n",
    "N_heures_par_annee = 24*365  # nombre d'heures par année\n",
    "N_annees = 1/12              # fraction de l'annee à utiliser ; prendre par exemple 1/12 pour tester sur un mois (calculs \n",
    "                             # plus rapides) ; dans le rapport il faut utiliser l'année complète N_annees = 1\n",
    "N_heures = int(np.ceil(N_heures_par_annee*N_annees)) # nombre d'heures à extraire des fichiers de rendements\n",
    "\n",
    "vecteur_temps = np.arange(1,N_heures+1) / N_heures_par_annee"
   ]
  },
  {
   "cell_type": "code",
   "execution_count": 74,
   "metadata": {
    "pycharm": {
     "is_executing": false
    },
    "scrolled": false
   },
   "outputs": [],
   "source": [
    "## chargement et traitement des données brutes (I)\n",
    " \n",
    "sites = pd.read_csv('Sites.csv')\n",
    "\n",
    "onshore = sites[sites['capacite offshore']=='Non'].copy()\n",
    "offshore = sites[sites['capacite offshore']=='Oui'].copy()"
   ]
  },
  {
   "cell_type": "code",
   "execution_count": 75,
   "metadata": {
    "pycharm": {
     "is_executing": false
    }
   },
   "outputs": [
    {
     "data": {
      "text/html": [
       "<div>\n",
       "<style scoped>\n",
       "    .dataframe tbody tr th:only-of-type {\n",
       "        vertical-align: middle;\n",
       "    }\n",
       "\n",
       "    .dataframe tbody tr th {\n",
       "        vertical-align: top;\n",
       "    }\n",
       "\n",
       "    .dataframe thead th {\n",
       "        text-align: right;\n",
       "    }\n",
       "</style>\n",
       "<table border=\"1\" class=\"dataframe\">\n",
       "  <thead>\n",
       "    <tr style=\"text-align: right;\">\n",
       "      <th></th>\n",
       "      <th>index site</th>\n",
       "      <th>latitude</th>\n",
       "      <th>longitude</th>\n",
       "      <th>pays</th>\n",
       "      <th>couleur</th>\n",
       "      <th>capacite offshore</th>\n",
       "      <th>scores</th>\n",
       "      <th>capacites</th>\n",
       "    </tr>\n",
       "  </thead>\n",
       "  <tbody>\n",
       "    <tr>\n",
       "      <td>0</td>\n",
       "      <td>1</td>\n",
       "      <td>54.0</td>\n",
       "      <td>8.0</td>\n",
       "      <td>Allemagne</td>\n",
       "      <td>#7b0323</td>\n",
       "      <td>Non</td>\n",
       "      <td>0.003291</td>\n",
       "      <td>7509.607003</td>\n",
       "    </tr>\n",
       "    <tr>\n",
       "      <td>1</td>\n",
       "      <td>2</td>\n",
       "      <td>54.0</td>\n",
       "      <td>9.0</td>\n",
       "      <td>Allemagne</td>\n",
       "      <td>#7b0323</td>\n",
       "      <td>Non</td>\n",
       "      <td>0.002193</td>\n",
       "      <td>5003.709632</td>\n",
       "    </tr>\n",
       "    <tr>\n",
       "      <td>2</td>\n",
       "      <td>3</td>\n",
       "      <td>54.0</td>\n",
       "      <td>10.0</td>\n",
       "      <td>Allemagne</td>\n",
       "      <td>#7b0323</td>\n",
       "      <td>Non</td>\n",
       "      <td>0.001852</td>\n",
       "      <td>4225.781588</td>\n",
       "    </tr>\n",
       "    <tr>\n",
       "      <td>3</td>\n",
       "      <td>4</td>\n",
       "      <td>54.0</td>\n",
       "      <td>11.0</td>\n",
       "      <td>Allemagne</td>\n",
       "      <td>#7b0323</td>\n",
       "      <td>Non</td>\n",
       "      <td>0.001852</td>\n",
       "      <td>4225.781588</td>\n",
       "    </tr>\n",
       "    <tr>\n",
       "      <td>4</td>\n",
       "      <td>5</td>\n",
       "      <td>54.0</td>\n",
       "      <td>12.0</td>\n",
       "      <td>Allemagne</td>\n",
       "      <td>#7b0323</td>\n",
       "      <td>Non</td>\n",
       "      <td>0.002193</td>\n",
       "      <td>5003.709632</td>\n",
       "    </tr>\n",
       "  </tbody>\n",
       "</table>\n",
       "</div>"
      ],
      "text/plain": [
       "   index site  latitude  longitude       pays  couleur capacite offshore  \\\n",
       "0           1      54.0        8.0  Allemagne  #7b0323               Non   \n",
       "1           2      54.0        9.0  Allemagne  #7b0323               Non   \n",
       "2           3      54.0       10.0  Allemagne  #7b0323               Non   \n",
       "3           4      54.0       11.0  Allemagne  #7b0323               Non   \n",
       "4           5      54.0       12.0  Allemagne  #7b0323               Non   \n",
       "\n",
       "     scores    capacites  \n",
       "0  0.003291  7509.607003  \n",
       "1  0.002193  5003.709632  \n",
       "2  0.001852  4225.781588  \n",
       "3  0.001852  4225.781588  \n",
       "4  0.002193  5003.709632  "
      ]
     },
     "execution_count": 75,
     "metadata": {},
     "output_type": "execute_result"
    }
   ],
   "source": [
    "sites.head()"
   ]
  },
  {
   "cell_type": "code",
   "execution_count": 76,
   "metadata": {},
   "outputs": [
    {
     "data": {
      "text/html": [
       "<div>\n",
       "<style scoped>\n",
       "    .dataframe tbody tr th:only-of-type {\n",
       "        vertical-align: middle;\n",
       "    }\n",
       "\n",
       "    .dataframe tbody tr th {\n",
       "        vertical-align: top;\n",
       "    }\n",
       "\n",
       "    .dataframe thead th {\n",
       "        text-align: right;\n",
       "    }\n",
       "</style>\n",
       "<table border=\"1\" class=\"dataframe\">\n",
       "  <thead>\n",
       "    <tr style=\"text-align: right;\">\n",
       "      <th></th>\n",
       "      <th>index site</th>\n",
       "      <th>latitude</th>\n",
       "      <th>longitude</th>\n",
       "      <th>pays</th>\n",
       "      <th>couleur</th>\n",
       "      <th>capacite offshore</th>\n",
       "      <th>scores</th>\n",
       "      <th>capacites</th>\n",
       "    </tr>\n",
       "  </thead>\n",
       "  <tbody>\n",
       "    <tr>\n",
       "      <td>0</td>\n",
       "      <td>1</td>\n",
       "      <td>54.0</td>\n",
       "      <td>8.0</td>\n",
       "      <td>Allemagne</td>\n",
       "      <td>#7b0323</td>\n",
       "      <td>Non</td>\n",
       "      <td>0.003291</td>\n",
       "      <td>7509.607003</td>\n",
       "    </tr>\n",
       "    <tr>\n",
       "      <td>1</td>\n",
       "      <td>2</td>\n",
       "      <td>54.0</td>\n",
       "      <td>9.0</td>\n",
       "      <td>Allemagne</td>\n",
       "      <td>#7b0323</td>\n",
       "      <td>Non</td>\n",
       "      <td>0.002193</td>\n",
       "      <td>5003.709632</td>\n",
       "    </tr>\n",
       "    <tr>\n",
       "      <td>2</td>\n",
       "      <td>3</td>\n",
       "      <td>54.0</td>\n",
       "      <td>10.0</td>\n",
       "      <td>Allemagne</td>\n",
       "      <td>#7b0323</td>\n",
       "      <td>Non</td>\n",
       "      <td>0.001852</td>\n",
       "      <td>4225.781588</td>\n",
       "    </tr>\n",
       "    <tr>\n",
       "      <td>3</td>\n",
       "      <td>4</td>\n",
       "      <td>54.0</td>\n",
       "      <td>11.0</td>\n",
       "      <td>Allemagne</td>\n",
       "      <td>#7b0323</td>\n",
       "      <td>Non</td>\n",
       "      <td>0.001852</td>\n",
       "      <td>4225.781588</td>\n",
       "    </tr>\n",
       "    <tr>\n",
       "      <td>4</td>\n",
       "      <td>5</td>\n",
       "      <td>54.0</td>\n",
       "      <td>12.0</td>\n",
       "      <td>Allemagne</td>\n",
       "      <td>#7b0323</td>\n",
       "      <td>Non</td>\n",
       "      <td>0.002193</td>\n",
       "      <td>5003.709632</td>\n",
       "    </tr>\n",
       "  </tbody>\n",
       "</table>\n",
       "</div>"
      ],
      "text/plain": [
       "   index site  latitude  longitude       pays  couleur capacite offshore  \\\n",
       "0           1      54.0        8.0  Allemagne  #7b0323               Non   \n",
       "1           2      54.0        9.0  Allemagne  #7b0323               Non   \n",
       "2           3      54.0       10.0  Allemagne  #7b0323               Non   \n",
       "3           4      54.0       11.0  Allemagne  #7b0323               Non   \n",
       "4           5      54.0       12.0  Allemagne  #7b0323               Non   \n",
       "\n",
       "     scores    capacites  \n",
       "0  0.003291  7509.607003  \n",
       "1  0.002193  5003.709632  \n",
       "2  0.001852  4225.781588  \n",
       "3  0.001852  4225.781588  \n",
       "4  0.002193  5003.709632  "
      ]
     },
     "execution_count": 76,
     "metadata": {},
     "output_type": "execute_result"
    }
   ],
   "source": [
    "onshore.head()"
   ]
  },
  {
   "cell_type": "code",
   "execution_count": 77,
   "metadata": {},
   "outputs": [
    {
     "data": {
      "text/html": [
       "<div>\n",
       "<style scoped>\n",
       "    .dataframe tbody tr th:only-of-type {\n",
       "        vertical-align: middle;\n",
       "    }\n",
       "\n",
       "    .dataframe tbody tr th {\n",
       "        vertical-align: top;\n",
       "    }\n",
       "\n",
       "    .dataframe thead th {\n",
       "        text-align: right;\n",
       "    }\n",
       "</style>\n",
       "<table border=\"1\" class=\"dataframe\">\n",
       "  <thead>\n",
       "    <tr style=\"text-align: right;\">\n",
       "      <th></th>\n",
       "      <th>index site</th>\n",
       "      <th>latitude</th>\n",
       "      <th>longitude</th>\n",
       "      <th>pays</th>\n",
       "      <th>couleur</th>\n",
       "      <th>capacite offshore</th>\n",
       "      <th>scores</th>\n",
       "      <th>capacites</th>\n",
       "    </tr>\n",
       "  </thead>\n",
       "  <tbody>\n",
       "    <tr>\n",
       "      <td>487</td>\n",
       "      <td>0</td>\n",
       "      <td>54.0</td>\n",
       "      <td>7.0</td>\n",
       "      <td>Allemagne</td>\n",
       "      <td>#7b0323</td>\n",
       "      <td>Oui</td>\n",
       "      <td>0.006342</td>\n",
       "      <td>8364.150000</td>\n",
       "    </tr>\n",
       "    <tr>\n",
       "      <td>488</td>\n",
       "      <td>48</td>\n",
       "      <td>56.0</td>\n",
       "      <td>5.0</td>\n",
       "      <td>Danemark</td>\n",
       "      <td>#A9A9A9</td>\n",
       "      <td>Oui</td>\n",
       "      <td>0.010571</td>\n",
       "      <td>15478.589744</td>\n",
       "    </tr>\n",
       "    <tr>\n",
       "      <td>489</td>\n",
       "      <td>49</td>\n",
       "      <td>55.0</td>\n",
       "      <td>6.0</td>\n",
       "      <td>Allemagne</td>\n",
       "      <td>#7b0323</td>\n",
       "      <td>Oui</td>\n",
       "      <td>0.010571</td>\n",
       "      <td>13940.250000</td>\n",
       "    </tr>\n",
       "    <tr>\n",
       "      <td>490</td>\n",
       "      <td>61</td>\n",
       "      <td>52.0</td>\n",
       "      <td>3.0</td>\n",
       "      <td>Pays-Bas</td>\n",
       "      <td>#04d8b2</td>\n",
       "      <td>Oui</td>\n",
       "      <td>0.006342</td>\n",
       "      <td>2349.264706</td>\n",
       "    </tr>\n",
       "    <tr>\n",
       "      <td>491</td>\n",
       "      <td>66</td>\n",
       "      <td>58.0</td>\n",
       "      <td>10.0</td>\n",
       "      <td>Suède</td>\n",
       "      <td>#758da3</td>\n",
       "      <td>Oui</td>\n",
       "      <td>0.006342</td>\n",
       "      <td>8577.125000</td>\n",
       "    </tr>\n",
       "  </tbody>\n",
       "</table>\n",
       "</div>"
      ],
      "text/plain": [
       "     index site  latitude  longitude       pays  couleur capacite offshore  \\\n",
       "487           0      54.0        7.0  Allemagne  #7b0323               Oui   \n",
       "488          48      56.0        5.0   Danemark  #A9A9A9               Oui   \n",
       "489          49      55.0        6.0  Allemagne  #7b0323               Oui   \n",
       "490          61      52.0        3.0   Pays-Bas  #04d8b2               Oui   \n",
       "491          66      58.0       10.0      Suède  #758da3               Oui   \n",
       "\n",
       "       scores     capacites  \n",
       "487  0.006342   8364.150000  \n",
       "488  0.010571  15478.589744  \n",
       "489  0.010571  13940.250000  \n",
       "490  0.006342   2349.264706  \n",
       "491  0.006342   8577.125000  "
      ]
     },
     "execution_count": 77,
     "metadata": {},
     "output_type": "execute_result"
    }
   ],
   "source": [
    "offshore.head()"
   ]
  },
  {
   "cell_type": "code",
   "execution_count": 78,
   "metadata": {
    "pycharm": {
     "is_executing": false
    }
   },
   "outputs": [
    {
     "data": {
      "text/plain": [
       "\"# Visualisations des données pour les sites \\n\\nfig = go.Figure(data=go.Scattergeo(\\n        lon = offshore['longitude'],\\n        lat = offshore['latitude'],\\n        text = offshore['pays'],\\n        mode = 'markers',\\n        marker=dict(\\n        color = offshore['couleur'],\\n        size = offshore['scores']*1000)\\n        ))\\n\\nfig.update_layout(\\n        title = 'Sites offshore, et leur importance',\\n        geo_scope = 'europe'\\n    )\\nfig.show();\""
      ]
     },
     "execution_count": 78,
     "metadata": {},
     "output_type": "execute_result"
    }
   ],
   "source": [
    "\"\"\"# Visualisations des données pour les sites \n",
    "\n",
    "fig = go.Figure(data=go.Scattergeo(\n",
    "        lon = offshore['longitude'],\n",
    "        lat = offshore['latitude'],\n",
    "        text = offshore['pays'],\n",
    "        mode = 'markers',\n",
    "        marker=dict(\n",
    "        color = offshore['couleur'],\n",
    "        size = offshore['scores']*1000)\n",
    "        ))\n",
    "\n",
    "fig.update_layout(\n",
    "        title = 'Sites offshore, et leur importance',\n",
    "        geo_scope = 'europe'\n",
    "    )\n",
    "fig.show();\"\"\""
   ]
  },
  {
   "cell_type": "code",
   "execution_count": 79,
   "metadata": {
    "pycharm": {
     "is_executing": false
    }
   },
   "outputs": [
    {
     "data": {
      "text/plain": [
       "\"fig = go.Figure(data=go.Scattergeo(\\n        lon = onshore['longitude'],\\n        lat = onshore['latitude'],\\n        text = onshore['pays'],\\n        mode = 'markers',\\n        marker=dict(\\n        color = onshore['couleur'],\\n        size = onshore['scores']*3000)\\n        ))\\n\\nfig.update_layout(\\n        title = 'Sites onshore, et leur importance',\\n        geo_scope = 'europe'\\n    )\\nfig.show();\""
      ]
     },
     "execution_count": 79,
     "metadata": {},
     "output_type": "execute_result"
    }
   ],
   "source": [
    "\"\"\"fig = go.Figure(data=go.Scattergeo(\n",
    "        lon = onshore['longitude'],\n",
    "        lat = onshore['latitude'],\n",
    "        text = onshore['pays'],\n",
    "        mode = 'markers',\n",
    "        marker=dict(\n",
    "        color = onshore['couleur'],\n",
    "        size = onshore['scores']*3000)\n",
    "        ))\n",
    "\n",
    "fig.update_layout(\n",
    "        title = 'Sites onshore, et leur importance',\n",
    "        geo_scope = 'europe'\n",
    "    )\n",
    "fig.show();\"\"\""
   ]
  },
  {
   "cell_type": "code",
   "execution_count": 80,
   "metadata": {
    "pycharm": {
     "is_executing": false
    }
   },
   "outputs": [
    {
     "data": {
      "text/plain": [
       "\"fig = go.Figure(data=go.Scattergeo(\\n        lon = sites['longitude'],\\n        lat = sites['latitude'],\\n        text = sites['pays'],\\n        mode = 'markers',\\n        marker_color = sites['couleur'],\\n        marker = dict(size = 2),\\n        ))\\n\\nfig.update_layout(\\n        title = 'Affectation par pays des sites éoliens',\\n        geo_scope = 'europe'\\n    )\\nfig.show();\""
      ]
     },
     "execution_count": 80,
     "metadata": {},
     "output_type": "execute_result"
    }
   ],
   "source": [
    "\"\"\"fig = go.Figure(data=go.Scattergeo(\n",
    "        lon = sites['longitude'],\n",
    "        lat = sites['latitude'],\n",
    "        text = sites['pays'],\n",
    "        mode = 'markers',\n",
    "        marker_color = sites['couleur'],\n",
    "        marker = dict(size = 2),\n",
    "        ))\n",
    "\n",
    "fig.update_layout(\n",
    "        title = 'Affectation par pays des sites éoliens',\n",
    "        geo_scope = 'europe'\n",
    "    )\n",
    "fig.show();\"\"\""
   ]
  },
  {
   "cell_type": "code",
   "execution_count": 81,
   "metadata": {
    "pycharm": {
     "is_executing": false
    }
   },
   "outputs": [
    {
     "data": {
      "text/plain": [
       "\"fig = go.Figure(data=go.Scattergeo(\\n        lon = sites['longitude'],\\n        lat = sites['latitude'],\\n        text = 'pays: '+sites['pays']+', offshore: '+sites['capacite offshore']+' | capacite [MW] = '+        sites['capacites'].astype(str),\\n        mode = 'markers',\\n        marker = dict(\\n            color = sites['couleur'],\\n            size = sites['capacites']/sites['capacites'].max() * 30)\\n        ))\\n\\nfig.update_layout(\\n        title = 'Capacites des sites éoliens',\\n        geo_scope = 'europe'\\n    )\\nfig.show();\""
      ]
     },
     "execution_count": 81,
     "metadata": {},
     "output_type": "execute_result"
    }
   ],
   "source": [
    "\"\"\"fig = go.Figure(data=go.Scattergeo(\n",
    "        lon = sites['longitude'],\n",
    "        lat = sites['latitude'],\n",
    "        text = 'pays: '+sites['pays']+', offshore: '+sites['capacite offshore']+' | capacite [MW] = '+\\\n",
    "        sites['capacites'].astype(str),\n",
    "        mode = 'markers',\n",
    "        marker = dict(\n",
    "            color = sites['couleur'],\n",
    "            size = sites['capacites']/sites['capacites'].max() * 30)\n",
    "        ))\n",
    "\n",
    "fig.update_layout(\n",
    "        title = 'Capacites des sites éoliens',\n",
    "        geo_scope = 'europe'\n",
    "    )\n",
    "fig.show();\"\"\""
   ]
  },
  {
   "cell_type": "code",
   "execution_count": 82,
   "metadata": {
    "pycharm": {
     "is_executing": false
    }
   },
   "outputs": [
    {
     "name": "stdout",
     "output_type": "stream",
     "text": [
      "(642, 730)\n",
      "(642, 730)\n"
     ]
    }
   ],
   "source": [
    "# chargement et traitement des données brutes (II)\n",
    "rend_offshore_brut = np.genfromtxt('Rendements_offshore.csv', delimiter=',')[:,:N_heures]\n",
    "rend_onshore_brut = np.genfromtxt('Rendements_onshore.csv', delimiter=',')[:,:N_heures]\n",
    "\n",
    "print(rend_offshore_brut.shape)\n",
    "print(rend_onshore_brut.shape)"
   ]
  },
  {
   "cell_type": "code",
   "execution_count": 83,
   "metadata": {},
   "outputs": [
    {
     "name": "stdout",
     "output_type": "stream",
     "text": [
      "Max offshore = 515.386574  at  index = 5 in offshore submatrix\n",
      "Max onshore = 499.81911360000004  at  index = 62 in onshore submatrix\n",
      "\n",
      "Max offshore = 515.386574  at  index = 67 in total matrix\n",
      "Max onshore = 499.81911360000004  at  index = 69 in total matrix\n"
     ]
    }
   ],
   "source": [
    "indice_offshore= offshore[\"index site\"]\n",
    "rend_offshore_matrix = rend_offshore_brut[indice_offshore]\n",
    "rend_offshore_array = np.array([np.sum(rend_offshore_matrix[i]) for i in range(len(indice_offshore))])\n",
    "\n",
    "\n",
    "indice_onshore= onshore[\"index site\"]\n",
    "rend_onshore_matrix = rend_onshore_brut[indice_onshore]\n",
    "rend_onshore_array = np.array([np.sum(rend_onshore_matrix[i]) for i in range(len(indice_onshore))])\n",
    "\n",
    "maxoff= max(rend_offshore_array)\n",
    "maxon = max(rend_onshore_array)\n",
    "\n",
    "for i in range(len(rend_offshore_array)):\n",
    "    if (rend_offshore_array[i] == max(rend_offshore_array) ) :\n",
    "        print(\"Max offshore = {}  at  index = {} in offshore submatrix\".format(maxoff,i))\n",
    "\n",
    "for i in range(len(rend_onshore_array)):\n",
    "    if (rend_onshore_array[i] == max(rend_onshore_array) ) : \n",
    "        print(\"Max onshore = {}  at  index = {} in onshore submatrix\\n\".format(maxon,i))\n",
    "        \n",
    "for i in range(642):\n",
    "    if (rend_offshore_brut[i].sum() == maxoff):\n",
    "        print(\"Max offshore = {}  at  index = {} in total matrix\".format(maxoff,i))\n",
    "    elif (rend_onshore_brut[i].sum() == maxon):\n",
    "        print(\"Max onshore = {}  at  index = {} in total matrix\".format(maxon,i))"
   ]
  },
  {
   "cell_type": "code",
   "execution_count": 84,
   "metadata": {},
   "outputs": [
    {
     "name": "stdout",
     "output_type": "stream",
     "text": [
      "True\n"
     ]
    }
   ],
   "source": [
    "rend_sites_matrix = rend_onshore_brut.copy()   # matrix combinant les valeurs réelles onshore/offshore -> souci de visibilité ci-dessous\n",
    "for i in np.array(indice_offshore):\n",
    "    rend_sites_matrix[i] = rend_offshore_brut[i]\n",
    "\n",
    "print(rend_sites_matrix[443][0] == rend_offshore_brut[443][0])"
   ]
  },
  {
   "cell_type": "code",
   "execution_count": 85,
   "metadata": {},
   "outputs": [
    {
     "name": "stdout",
     "output_type": "stream",
     "text": [
      "\n",
      "xsol =  [0.00000000e+00 5.68031485e+02 1.85896075e+04 0.00000000e+00\n",
      " 0.00000000e+00 0.00000000e+00 0.00000000e+00 2.15918380e+03\n",
      " 2.49957114e+04 0.00000000e+00 0.00000000e+00 0.00000000e+00\n",
      " 0.00000000e+00 0.00000000e+00 0.00000000e+00 0.00000000e+00\n",
      " 0.00000000e+00 0.00000000e+00 0.00000000e+00 0.00000000e+00\n",
      " 0.00000000e+00 0.00000000e+00 0.00000000e+00 0.00000000e+00\n",
      " 0.00000000e+00 0.00000000e+00 0.00000000e+00 0.00000000e+00\n",
      " 0.00000000e+00 0.00000000e+00 0.00000000e+00 0.00000000e+00\n",
      " 0.00000000e+00 0.00000000e+00 0.00000000e+00 0.00000000e+00\n",
      " 0.00000000e+00 0.00000000e+00 0.00000000e+00 0.00000000e+00\n",
      " 0.00000000e+00 0.00000000e+00 0.00000000e+00 0.00000000e+00\n",
      " 0.00000000e+00 0.00000000e+00 0.00000000e+00 0.00000000e+00\n",
      " 3.12146258e+03 0.00000000e+00 1.42275346e+04 0.00000000e+00\n",
      " 0.00000000e+00 0.00000000e+00 1.29207611e+04 3.32531751e+03\n",
      " 0.00000000e+00 0.00000000e+00 0.00000000e+00 0.00000000e+00\n",
      " 0.00000000e+00 1.06302527e+03 0.00000000e+00 0.00000000e+00\n",
      " 3.88027114e+02 1.18808097e+04 0.00000000e+00 8.88017174e+03\n",
      " 0.00000000e+00 0.00000000e+00 0.00000000e+00 0.00000000e+00\n",
      " 0.00000000e+00 0.00000000e+00 0.00000000e+00 2.65950019e+02\n",
      " 0.00000000e+00 3.85567134e+03 0.00000000e+00 0.00000000e+00\n",
      " 0.00000000e+00 0.00000000e+00 0.00000000e+00 0.00000000e+00\n",
      " 0.00000000e+00 0.00000000e+00 0.00000000e+00 0.00000000e+00\n",
      " 0.00000000e+00 4.10230617e+03 0.00000000e+00 0.00000000e+00\n",
      " 0.00000000e+00 0.00000000e+00 0.00000000e+00 0.00000000e+00\n",
      " 0.00000000e+00 1.29274345e+04 0.00000000e+00 0.00000000e+00\n",
      " 0.00000000e+00 0.00000000e+00 4.22762757e+02 1.58309198e+02\n",
      " 0.00000000e+00 0.00000000e+00 0.00000000e+00 0.00000000e+00\n",
      " 0.00000000e+00 0.00000000e+00 0.00000000e+00 0.00000000e+00\n",
      " 0.00000000e+00 0.00000000e+00 0.00000000e+00 0.00000000e+00\n",
      " 0.00000000e+00 7.03491412e+02 0.00000000e+00 0.00000000e+00\n",
      " 0.00000000e+00 0.00000000e+00 0.00000000e+00 0.00000000e+00\n",
      " 0.00000000e+00 2.11040052e+03 0.00000000e+00 0.00000000e+00\n",
      " 0.00000000e+00 0.00000000e+00 0.00000000e+00 0.00000000e+00\n",
      " 0.00000000e+00 0.00000000e+00 0.00000000e+00 0.00000000e+00\n",
      " 0.00000000e+00 0.00000000e+00 0.00000000e+00 6.96138840e+03\n",
      " 1.06463102e+02 6.53548642e+03 0.00000000e+00 0.00000000e+00\n",
      " 0.00000000e+00 0.00000000e+00 4.73353647e+03 0.00000000e+00\n",
      " 0.00000000e+00 0.00000000e+00 0.00000000e+00 0.00000000e+00\n",
      " 0.00000000e+00 0.00000000e+00 0.00000000e+00 0.00000000e+00\n",
      " 0.00000000e+00 0.00000000e+00 8.32358393e+02 0.00000000e+00\n",
      " 0.00000000e+00 7.25155660e+03 5.07515029e+03 0.00000000e+00\n",
      " 1.13741505e+03 0.00000000e+00 2.79844174e+02 0.00000000e+00\n",
      " 0.00000000e+00 5.85941166e+03 0.00000000e+00 0.00000000e+00\n",
      " 0.00000000e+00 0.00000000e+00 0.00000000e+00 0.00000000e+00\n",
      " 0.00000000e+00 0.00000000e+00 0.00000000e+00 0.00000000e+00\n",
      " 0.00000000e+00 0.00000000e+00 0.00000000e+00 0.00000000e+00\n",
      " 0.00000000e+00 0.00000000e+00 0.00000000e+00 0.00000000e+00\n",
      " 0.00000000e+00 0.00000000e+00 0.00000000e+00 0.00000000e+00\n",
      " 0.00000000e+00 0.00000000e+00 0.00000000e+00 0.00000000e+00\n",
      " 0.00000000e+00 0.00000000e+00 0.00000000e+00 0.00000000e+00\n",
      " 0.00000000e+00 0.00000000e+00 0.00000000e+00 0.00000000e+00\n",
      " 0.00000000e+00 0.00000000e+00 0.00000000e+00 0.00000000e+00\n",
      " 0.00000000e+00 0.00000000e+00 0.00000000e+00 0.00000000e+00\n",
      " 0.00000000e+00 0.00000000e+00 2.41405233e+03 0.00000000e+00\n",
      " 0.00000000e+00 0.00000000e+00 0.00000000e+00 0.00000000e+00\n",
      " 0.00000000e+00 0.00000000e+00 4.66438853e+03 0.00000000e+00\n",
      " 0.00000000e+00 0.00000000e+00 0.00000000e+00 0.00000000e+00\n",
      " 0.00000000e+00 0.00000000e+00 0.00000000e+00 0.00000000e+00\n",
      " 0.00000000e+00 0.00000000e+00 0.00000000e+00 2.04286785e+02\n",
      " 8.36191703e+03 0.00000000e+00 2.32997304e+03 0.00000000e+00\n",
      " 0.00000000e+00 0.00000000e+00 0.00000000e+00 0.00000000e+00\n",
      " 1.48503973e+03 0.00000000e+00 1.62898699e+03 0.00000000e+00\n",
      " 4.61851163e+03 0.00000000e+00 0.00000000e+00 0.00000000e+00\n",
      " 3.15433700e+03 0.00000000e+00 0.00000000e+00 0.00000000e+00\n",
      " 0.00000000e+00 0.00000000e+00 0.00000000e+00 0.00000000e+00\n",
      " 0.00000000e+00 0.00000000e+00 0.00000000e+00 1.51117025e+04\n",
      " 0.00000000e+00 0.00000000e+00 0.00000000e+00 2.44328965e+01\n",
      " 4.28864191e+03 9.54058276e+03 0.00000000e+00 0.00000000e+00\n",
      " 0.00000000e+00 6.11296193e+02 0.00000000e+00 0.00000000e+00\n",
      " 6.55807793e+03 0.00000000e+00 0.00000000e+00 0.00000000e+00\n",
      " 0.00000000e+00 0.00000000e+00 0.00000000e+00 1.24565870e+04\n",
      " 0.00000000e+00 3.74304861e+03 0.00000000e+00 0.00000000e+00\n",
      " 0.00000000e+00 5.95038035e+03 0.00000000e+00 4.77438626e+02\n",
      " 1.79179750e+02 0.00000000e+00 0.00000000e+00 0.00000000e+00\n",
      " 6.51618605e+03 1.11004414e+04 3.04595570e+03 0.00000000e+00\n",
      " 0.00000000e+00 7.51282955e+03 2.39942600e+02 0.00000000e+00\n",
      " 0.00000000e+00 3.56966693e+03 0.00000000e+00 0.00000000e+00\n",
      " 0.00000000e+00 0.00000000e+00 2.75513110e+02 0.00000000e+00\n",
      " 0.00000000e+00 0.00000000e+00 0.00000000e+00 0.00000000e+00\n",
      " 0.00000000e+00 0.00000000e+00 0.00000000e+00 0.00000000e+00\n",
      " 4.70945101e+02 0.00000000e+00 0.00000000e+00 0.00000000e+00\n",
      " 0.00000000e+00 0.00000000e+00 0.00000000e+00 0.00000000e+00\n",
      " 0.00000000e+00 0.00000000e+00 1.72320603e+03 0.00000000e+00\n",
      " 1.22422975e+04 1.21573189e+03 0.00000000e+00 0.00000000e+00\n",
      " 0.00000000e+00 0.00000000e+00 0.00000000e+00 0.00000000e+00\n",
      " 0.00000000e+00 0.00000000e+00 0.00000000e+00 0.00000000e+00\n",
      " 0.00000000e+00 0.00000000e+00 0.00000000e+00 0.00000000e+00\n",
      " 5.72291725e+03 0.00000000e+00 0.00000000e+00 0.00000000e+00\n",
      " 0.00000000e+00 0.00000000e+00 0.00000000e+00 1.96060693e+03\n",
      " 0.00000000e+00 0.00000000e+00 0.00000000e+00 0.00000000e+00\n",
      " 0.00000000e+00 0.00000000e+00 0.00000000e+00 0.00000000e+00\n",
      " 9.49180965e+03 1.89252078e+03 0.00000000e+00 0.00000000e+00\n",
      " 7.89820673e+03 0.00000000e+00 0.00000000e+00 0.00000000e+00\n",
      " 0.00000000e+00 0.00000000e+00 0.00000000e+00 0.00000000e+00\n",
      " 0.00000000e+00 0.00000000e+00 7.11543237e+03 0.00000000e+00\n",
      " 0.00000000e+00 0.00000000e+00 0.00000000e+00 0.00000000e+00\n",
      " 0.00000000e+00 0.00000000e+00 0.00000000e+00 0.00000000e+00\n",
      " 0.00000000e+00 0.00000000e+00 0.00000000e+00 0.00000000e+00\n",
      " 0.00000000e+00 0.00000000e+00 3.88724268e+03 0.00000000e+00\n",
      " 0.00000000e+00 0.00000000e+00 0.00000000e+00 7.63240740e+02\n",
      " 0.00000000e+00 0.00000000e+00 0.00000000e+00 0.00000000e+00\n",
      " 0.00000000e+00 3.97449420e+03 2.25020904e+02 0.00000000e+00\n",
      " 5.99757407e+03 1.56623705e+04 0.00000000e+00 0.00000000e+00\n",
      " 0.00000000e+00 0.00000000e+00 0.00000000e+00 0.00000000e+00\n",
      " 0.00000000e+00 0.00000000e+00 0.00000000e+00 0.00000000e+00\n",
      " 0.00000000e+00 0.00000000e+00 0.00000000e+00 0.00000000e+00\n",
      " 2.52214418e+03 8.74333442e+03 5.79558758e+03 0.00000000e+00\n",
      " 0.00000000e+00 0.00000000e+00 0.00000000e+00 0.00000000e+00\n",
      " 0.00000000e+00 0.00000000e+00 0.00000000e+00 0.00000000e+00\n",
      " 0.00000000e+00 0.00000000e+00 0.00000000e+00 0.00000000e+00\n",
      " 0.00000000e+00 0.00000000e+00 0.00000000e+00 0.00000000e+00\n",
      " 0.00000000e+00 0.00000000e+00 0.00000000e+00 0.00000000e+00\n",
      " 0.00000000e+00 0.00000000e+00 0.00000000e+00 0.00000000e+00\n",
      " 0.00000000e+00 9.08192982e+03 0.00000000e+00 0.00000000e+00\n",
      " 7.12920890e+02 0.00000000e+00 0.00000000e+00 5.96368697e+03\n",
      " 0.00000000e+00 0.00000000e+00 0.00000000e+00 0.00000000e+00\n",
      " 2.37807442e+03 0.00000000e+00 0.00000000e+00 0.00000000e+00\n",
      " 0.00000000e+00 0.00000000e+00 0.00000000e+00 0.00000000e+00\n",
      " 0.00000000e+00 0.00000000e+00 0.00000000e+00 0.00000000e+00\n",
      " 0.00000000e+00 0.00000000e+00 0.00000000e+00 0.00000000e+00\n",
      " 0.00000000e+00 0.00000000e+00 0.00000000e+00 0.00000000e+00\n",
      " 0.00000000e+00 0.00000000e+00 0.00000000e+00 0.00000000e+00\n",
      " 0.00000000e+00 0.00000000e+00 0.00000000e+00 0.00000000e+00\n",
      " 0.00000000e+00 0.00000000e+00 0.00000000e+00 0.00000000e+00\n",
      " 0.00000000e+00 0.00000000e+00 0.00000000e+00 0.00000000e+00\n",
      " 0.00000000e+00 0.00000000e+00 0.00000000e+00 0.00000000e+00\n",
      " 0.00000000e+00 4.30884640e+03 0.00000000e+00 0.00000000e+00\n",
      " 0.00000000e+00 0.00000000e+00 1.07808284e+04 0.00000000e+00\n",
      " 0.00000000e+00 0.00000000e+00 8.47896944e+03 0.00000000e+00\n",
      " 0.00000000e+00 0.00000000e+00 0.00000000e+00 0.00000000e+00\n",
      " 0.00000000e+00 0.00000000e+00 0.00000000e+00 0.00000000e+00\n",
      " 0.00000000e+00 0.00000000e+00 0.00000000e+00 0.00000000e+00\n",
      " 0.00000000e+00 0.00000000e+00 0.00000000e+00 1.55323171e-01\n",
      " 0.00000000e+00 0.00000000e+00 0.00000000e+00 0.00000000e+00\n",
      " 0.00000000e+00 0.00000000e+00 0.00000000e+00 0.00000000e+00\n",
      " 0.00000000e+00 0.00000000e+00 0.00000000e+00 0.00000000e+00\n",
      " 0.00000000e+00 0.00000000e+00 0.00000000e+00 0.00000000e+00\n",
      " 0.00000000e+00 0.00000000e+00 0.00000000e+00 0.00000000e+00\n",
      " 0.00000000e+00 0.00000000e+00 0.00000000e+00 0.00000000e+00\n",
      " 0.00000000e+00 0.00000000e+00 0.00000000e+00 0.00000000e+00\n",
      " 0.00000000e+00 2.08886572e+03 0.00000000e+00 0.00000000e+00\n",
      " 0.00000000e+00 0.00000000e+00 1.79031951e+04 0.00000000e+00\n",
      " 0.00000000e+00 0.00000000e+00 0.00000000e+00 0.00000000e+00\n",
      " 0.00000000e+00 0.00000000e+00 9.41277405e+02 0.00000000e+00\n",
      " 0.00000000e+00 0.00000000e+00 0.00000000e+00 0.00000000e+00\n",
      " 0.00000000e+00 0.00000000e+00 0.00000000e+00 0.00000000e+00\n",
      " 0.00000000e+00 0.00000000e+00 0.00000000e+00 3.62853866e+03\n",
      " 0.00000000e+00 0.00000000e+00 0.00000000e+00 0.00000000e+00\n",
      " 0.00000000e+00 1.96350571e+04 0.00000000e+00 0.00000000e+00\n",
      " 0.00000000e+00 0.00000000e+00 0.00000000e+00 0.00000000e+00\n",
      " 0.00000000e+00 0.00000000e+00 9.04478829e+03 0.00000000e+00\n",
      " 0.00000000e+00 0.00000000e+00 0.00000000e+00 0.00000000e+00\n",
      " 0.00000000e+00 0.00000000e+00 0.00000000e+00 4.65269166e+02\n",
      " 1.54067409e+04 0.00000000e+00 0.00000000e+00 0.00000000e+00\n",
      " 0.00000000e+00 0.00000000e+00 0.00000000e+00 0.00000000e+00\n",
      " 0.00000000e+00 0.00000000e+00 0.00000000e+00 6.37419517e+03\n",
      " 0.00000000e+00 0.00000000e+00 0.00000000e+00 0.00000000e+00\n",
      " 0.00000000e+00 0.00000000e+00 0.00000000e+00 0.00000000e+00\n",
      " 0.00000000e+00 0.00000000e+00 0.00000000e+00 0.00000000e+00\n",
      " 0.00000000e+00 0.00000000e+00 0.00000000e+00 0.00000000e+00\n",
      " 0.00000000e+00 0.00000000e+00]\n",
      "\n",
      "ObjVal =  193353939.4769332\n",
      "\n",
      "SOL OPTIMALE ? =  optimal\n",
      "500000.0000000001\n",
      "84999.99999999997\n"
     ]
    }
   ],
   "source": [
    "#version pour le projet\n",
    "#TODO contraince active, variable =0\n",
    "\n",
    "s = CyClpSimplex()\n",
    "\n",
    "T = 3 # pas de temps\n",
    "kappa = 0.17\n",
    "delta = 0.02\n",
    "\n",
    "\n",
    "# Add variables\n",
    "x = s.addVariable('x', N)\n",
    "\n",
    "# Create coefficients and bounds\n",
    "P=500000\n",
    "\n",
    "# Add constraints\n",
    "s += x >= 0\n",
    "\n",
    "s += x.sum() == P\n",
    "\n",
    "\n",
    "offshorearray = np.zeros(N_sites)\n",
    "offshorearray[indice_offshore] = 1      # set à 1 les sites offshore \n",
    "s += (CyLPArray(offshorearray)*x) == kappa*P\n",
    "\n",
    "n_interval = int(N_heures/T) - 1  # nombre d'intervalle sur les heures imparties\n",
    "L = s.addVariable('l', n_interval)  # vecteur T de longeur n_interval pour gérer valeurs absolues \n",
    "s += L.sum() <= delta*P*n_interval # contrainte de variabilité\n",
    "\n",
    "total = np.zeros(N_sites)\n",
    "#TODO sum 1) sum2\n",
    "for n in range (n_interval):\n",
    "    for k in range(N):\n",
    "        rend1_sum =0\n",
    "        rend2_sum = 0\n",
    "        for i in range (T*n, T*n+T):\n",
    "            rend1_sum += rend_sites_matrix[k][i]\n",
    "            rend2_sum += rend_sites_matrix[k][i+T]\n",
    "        total[k] = CyLPArray(rend1_sum) - CyLPArray(rend2_sum)\n",
    "    total= CyLPArray(total)\n",
    "    s += total*x - L[n] <= 0\n",
    "    s += -total*x - L[n] <= 0\n",
    "\n",
    "\n",
    "\n",
    "#print (\"\\nConstraints :\\n\", s.constraints)\n",
    "#print (\"\\nConstraintMatrix :\\n\", s.coefMatrix)\n",
    "\n",
    "# Set the objective function\n",
    "c_off= -CyLPArray(rend_offshore_array)   # rendements associés aux sites offshore\n",
    "c_on = -CyLPArray(rend_onshore_array)    # rendements associés aux sites onshore\n",
    "\n",
    "s.objective = c_off * x[np.array(indice_offshore)] + c_on * x[np.array(indice_onshore)]    #n'accepte pas les types : pandas.series\n",
    "#print(\"\\nc = \",s.objective)\n",
    "\n",
    "# Solve using primal Simplex\n",
    "s.primal()\n",
    "\n",
    "## Solutions ##\n",
    "\n",
    "PUISSANCE_INSTALLEE = s.primalVariableSolution['x']\n",
    "ENERGIE_TOTALE = -s.objectiveValue\n",
    "\n",
    "#print (\"\\nlsol = \",s.primalVariableSolution['l']) \n",
    "print (\"\\nxsol = \",PUISSANCE_INSTALLEE) \n",
    "print(\"\\nObjVal = \", ENERGIE_TOTALE)\n",
    "print(\"\\nSOL OPTIMALE ? = \", s.getStatusString())\n",
    "print(s.primalVariableSolution['x'].sum())\n",
    "print(s.primalVariableSolution['x'][indice_offshore].sum())"
   ]
  },
  {
   "cell_type": "code",
   "execution_count": 86,
   "metadata": {},
   "outputs": [
    {
     "name": "stdout",
     "output_type": "stream",
     "text": [
      "Rendement moyen sur une année : 0.5297368204847486\n"
     ]
    }
   ],
   "source": [
    "print(\"Rendement moyen sur une année :\", ENERGIE_TOTALE/(N_heures*500000))"
   ]
  },
  {
   "cell_type": "code",
   "execution_count": 96,
   "metadata": {},
   "outputs": [
    {
     "name": "stdout",
     "output_type": "stream",
     "text": [
      "[ 67.  68.  69.   2. 408.  75. 399.  73.  74.   0.]\n",
      "Empty DataFrame\n",
      "Columns: [index site, latitude, longitude, pays, couleur, capacite offshore, scores, capacites]\n",
      "Index: []\n"
     ]
    },
    {
     "data": {
      "text/plain": [
       "'print(rendement_best/N_heures)\\n\\n\\nsites_best = sites[sites[\\'index site\\'] == index_best].copy()\\n\\n\\n\\nmask = famille_panda_df[\"ventre\"]==80\\npandas_80 = famille_panda_df[mask]'"
      ]
     },
     "execution_count": 96,
     "metadata": {},
     "output_type": "execute_result"
    }
   ],
   "source": [
    "#TODO faire un dataframe panda pour classer les 10 meilleurs sites selon leurs rendements moyen sur l'année\n",
    "\n",
    "dict = {}\n",
    "for i in range(len(rend_sites_matrix)):\n",
    "    dict[i] = rend_sites_matrix[i].sum()\n",
    "\n",
    "dict_sorted = sorted(dict.items(), key=lambda x: x[1],reverse=True)\n",
    "dict_best = dict_sorted[:10]\n",
    "\n",
    "index_best = np.zeros(10)\n",
    "rendement_best = np.zeros(10)\n",
    "for i in range(10):\n",
    "    index_best[i] = dict_best[i][0]\n",
    "    rendement_best[i]=dict_best[i][1]\n",
    "print(index_best)\n",
    "\n",
    "classement = pd.DataFrame([],columns = sites.columns)\n",
    "\n",
    "for i in range(10):\n",
    "    ligne = sites[sites[\"index site\"]==index_best[i]]\n",
    "    classement.append(ligne)\n",
    "print(classement)\n",
    "        \n",
    "        \n",
    "        \n",
    "    \n",
    "\"\"\"print(rendement_best/N_heures)\n",
    "\n",
    "\n",
    "sites_best = sites[sites['index site'] == index_best].copy()\n",
    "\n",
    "\n",
    "\n",
    "mask = famille_panda_df[\"ventre\"]==80\n",
    "pandas_80 = famille_panda_df[mask]\"\"\"\n",
    "\n"
   ]
  },
  {
   "cell_type": "code",
   "execution_count": 60,
   "metadata": {},
   "outputs": [
    {
     "data": {
      "text/html": [
       "<div>\n",
       "<style scoped>\n",
       "    .dataframe tbody tr th:only-of-type {\n",
       "        vertical-align: middle;\n",
       "    }\n",
       "\n",
       "    .dataframe tbody tr th {\n",
       "        vertical-align: top;\n",
       "    }\n",
       "\n",
       "    .dataframe thead th {\n",
       "        text-align: right;\n",
       "    }\n",
       "</style>\n",
       "<table border=\"1\" class=\"dataframe\">\n",
       "  <thead>\n",
       "    <tr style=\"text-align: right;\">\n",
       "      <th></th>\n",
       "      <th>pattes</th>\n",
       "      <th>poils</th>\n",
       "      <th>queue</th>\n",
       "      <th>ventre</th>\n",
       "    </tr>\n",
       "  </thead>\n",
       "  <tbody>\n",
       "    <tr>\n",
       "      <td>maman</td>\n",
       "      <td>100</td>\n",
       "      <td>5.0</td>\n",
       "      <td>20</td>\n",
       "      <td>80</td>\n",
       "    </tr>\n",
       "    <tr>\n",
       "      <td>bebe</td>\n",
       "      <td>50</td>\n",
       "      <td>2.5</td>\n",
       "      <td>10</td>\n",
       "      <td>40</td>\n",
       "    </tr>\n",
       "    <tr>\n",
       "      <td>bapa</td>\n",
       "      <td>110</td>\n",
       "      <td>6.0</td>\n",
       "      <td>22</td>\n",
       "      <td>80</td>\n",
       "    </tr>\n",
       "  </tbody>\n",
       "</table>\n",
       "</div>"
      ],
      "text/plain": [
       "       pattes  poils  queue  ventre\n",
       "maman     100    5.0     20      80\n",
       "bebe       50    2.5     10      40\n",
       "bapa      110    6.0     22      80"
      ]
     },
     "execution_count": 60,
     "metadata": {},
     "output_type": "execute_result"
    }
   ],
   "source": [
    "famille_panda = [[100, 5  , 20, 80],\n",
    "                 [50 , 2.5, 10, 40],\n",
    "                 [110, 6  , 22, 80],]\n",
    "\n",
    "## Créons un DataFrame ##\n",
    "famille_panda_df = pd.DataFrame(famille_panda,\n",
    "                                index= [\"maman\",\"bebe\",\"bapa\"],\n",
    "                                columns=[\"pattes\", \"poils\",\"queue\",\"ventre\"])\n",
    "famille_panda_df"
   ]
  },
  {
   "cell_type": "code",
   "execution_count": 38,
   "metadata": {
    "scrolled": false
   },
   "outputs": [
    {
     "name": "stdout",
     "output_type": "stream",
     "text": [
      "il y a 80 sites éoliens en France\n"
     ]
    },
    {
     "ename": "NameError",
     "evalue": "name 'matrice_rendements_onshore' is not defined",
     "output_type": "error",
     "traceback": [
      "\u001b[1;31m---------------------------------------------------------------------------\u001b[0m",
      "\u001b[1;31mNameError\u001b[0m                                 Traceback (most recent call last)",
      "\u001b[1;32m<ipython-input-38-8f0b7db6c375>\u001b[0m in \u001b[0;36m<module>\u001b[1;34m\u001b[0m\n\u001b[0;32m     18\u001b[0m     \u001b[0mplt\u001b[0m\u001b[1;33m.\u001b[0m\u001b[0mlegend\u001b[0m\u001b[1;33m(\u001b[0m\u001b[1;33m[\u001b[0m\u001b[1;34m'offshore'\u001b[0m\u001b[1;33m]\u001b[0m\u001b[1;33m)\u001b[0m\u001b[1;33m\u001b[0m\u001b[1;33m\u001b[0m\u001b[0m\n\u001b[0;32m     19\u001b[0m \u001b[1;32melse\u001b[0m\u001b[1;33m:\u001b[0m\u001b[1;33m\u001b[0m\u001b[1;33m\u001b[0m\u001b[0m\n\u001b[1;32m---> 20\u001b[1;33m     \u001b[0mplt\u001b[0m\u001b[1;33m.\u001b[0m\u001b[0mplot\u001b[0m\u001b[1;33m(\u001b[0m\u001b[0mvecteur_temps\u001b[0m\u001b[1;33m,\u001b[0m\u001b[0mmatrice_rendements_onshore\u001b[0m\u001b[1;33m[\u001b[0m\u001b[0mrandom_site\u001b[0m\u001b[1;33m]\u001b[0m\u001b[1;33m)\u001b[0m\u001b[1;33m\u001b[0m\u001b[1;33m\u001b[0m\u001b[0m\n\u001b[0m\u001b[0;32m     21\u001b[0m     \u001b[0mplt\u001b[0m\u001b[1;33m.\u001b[0m\u001b[0mlegend\u001b[0m\u001b[1;33m(\u001b[0m\u001b[1;33m[\u001b[0m\u001b[1;34m'onshore'\u001b[0m\u001b[1;33m]\u001b[0m\u001b[1;33m)\u001b[0m\u001b[1;33m\u001b[0m\u001b[1;33m\u001b[0m\u001b[0m\n\u001b[0;32m     22\u001b[0m \u001b[0mplt\u001b[0m\u001b[1;33m.\u001b[0m\u001b[0mxlabel\u001b[0m\u001b[1;33m(\u001b[0m\u001b[1;34m'temps : [années]'\u001b[0m\u001b[1;33m)\u001b[0m\u001b[1;33m\u001b[0m\u001b[1;33m\u001b[0m\u001b[0m\n",
      "\u001b[1;31mNameError\u001b[0m: name 'matrice_rendements_onshore' is not defined"
     ]
    },
    {
     "data": {
      "image/png": "[encoded data removed]",
      "text/plain": [
       "<Figure size 648x432 with 1 Axes>"
      ]
     },
     "metadata": {
      "needs_background": "light"
     },
     "output_type": "display_data"
    }
   ],
   "source": [
    "## Visualisation des rendements pour un pays\n",
    "\n",
    "pays_test = 'France'\n",
    "index_test = liste_pays_index_dic[pays_test]\n",
    "\n",
    "# nombre de sites éoliens\n",
    "index_sites_eoliens = sites[sites.pays==pays_test]['index site']\n",
    "n_eoliens = len(index_sites_eoliens)\n",
    "print('il y a '+str(n_eoliens)+' sites éoliens en '+str(pays_test))\n",
    "\n",
    "# rendements eolien au hasard\n",
    "random_site = np.random.choice(index_sites_eoliens)\n",
    "plt.figure(figsize=(9,6))\n",
    "plt.grid()\n",
    "plt.title('rendement éolien: '+str(pays_test))\n",
    "if sites.loc[random_site]['capacite offshore']=='Oui':\n",
    "    plt.plot(vecteur_temps,matrice_rendements_offshore[random_site])\n",
    "    plt.legend(['offshore'])\n",
    "else:\n",
    "    plt.plot(vecteur_temps,matrice_rendements_onshore[random_site])\n",
    "    plt.legend(['onshore'])\n",
    "plt.xlabel('temps : [années]')\n",
    "plt.ylabel('rendement éolien: [/]')\n",
    "\n",
    "print('rendement moyen offshore pour le pays: '+str(np.mean(matrice_rendements_offshore[index_sites_eoliens])))\n",
    "print('rendement moyen onshore pour le pays: '+str(np.mean(matrice_rendements_onshore[index_sites_eoliens])))\n",
    "\n",
    "# capacité éoliennes maximales tolérables\n",
    "buf_ok_offshore = (sites.pays==pays_test) & (sites['capacite offshore']=='Oui')\n",
    "buf_ok_onshore = (sites.pays==pays_test) & (sites['capacite offshore']=='Non')\n",
    "\n",
    "print(' => capacité éolienne totale offshore : [MW] '+str(sites[buf_ok_offshore]['capacites'].sum()))\n",
    "print(' => capacité éolienne totale offshore : [MW] '+str(sites[buf_ok_onshore]['capacites'].sum()))\n",
    "\n",
    "# latitude/longitude\n",
    "print('le pays '+str(pays_test)+' se trouve  à une latitude de '+str(sites.loc[random_site]['latitude'])+' et une longitude de '+\\\n",
    "      str(sites.loc[random_site]['longitude']))"
   ]
  }
 ],
 "metadata": {
  "kernelspec": {
   "display_name": "Python 3",
   "language": "python",
   "name": "python3"
  },
  "language_info": {
   "codemirror_mode": {
    "name": "ipython",
    "version": 3
   },
   "file_extension": ".py",
   "mimetype": "text/x-python",
   "name": "python",
   "nbconvert_exporter": "python",
   "pygments_lexer": "ipython3",
   "version": "3.7.4"
  },
  "pycharm": {
   "stem_cell": {
    "cell_type": "raw",
    "metadata": {
     "collapsed": false
    },
    "source": []
   }
  }
 },
 "nbformat": 4,
 "nbformat_minor": 4
}
